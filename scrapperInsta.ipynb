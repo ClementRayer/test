{
 "cells": [
  {
   "cell_type": "markdown",
   "metadata": {},
   "source": [
    "## import des packages et modules nécessaires "
   ]
  },
  {
   "cell_type": "code",
   "execution_count": 1,
   "metadata": {},
   "outputs": [],
   "source": [
    "from selenium import webdriver # the webdriver\n",
    "from selenium.webdriver.common.by import By # to use a method like beautifulsoup.select( by quoi ? tagname, selecteur CSS )\n",
    "from selenium.webdriver.common.keys import Keys # keyboard interactions\n",
    "\n",
    "\n",
    "## conditions d'attentes \n",
    "from selenium.webdriver.support.ui import WebDriverWait  # permet d'attendre pour efffectuer des opérations sous-jacentes\n",
    "#fulfilled poiur effectuer les opérations sous-jacentes dans mon code\n",
    "from selenium.webdriver.support import expected_conditions as EC #respect de la condition pour arrêter le WebDriverWait\n",
    "\n",
    "\n",
    "## ou les exceptions\n",
    "from selenium.common.exceptions import TimeoutException # j'ai attendu trop longtemps plus longtemps que demandé\n",
    "from selenium.common.exceptions import NoSuchElementException # l'élément sur lequel interagir n'existe pas"
   ]
  },
  {
   "cell_type": "markdown",
   "metadata": {},
   "source": [
    "## options private mode"
   ]
  },
  {
   "cell_type": "code",
   "execution_count": 2,
   "metadata": {},
   "outputs": [],
   "source": [
    "options = webdriver.ChromeOptions()\n",
    "options.add_argument(\"--incognito\")"
   ]
  },
  {
   "cell_type": "markdown",
   "metadata": {},
   "source": [
    "## Where am I ? "
   ]
  },
  {
   "cell_type": "code",
   "execution_count": 3,
   "metadata": {},
   "outputs": [
    {
     "data": {
      "text/plain": [
       "'/Users/lucbertin/Desktop/test'"
      ]
     },
     "execution_count": 3,
     "metadata": {},
     "output_type": "execute_result"
    }
   ],
   "source": [
    "import os\n",
    "os.getcwd()"
   ]
  },
  {
   "cell_type": "code",
   "execution_count": 4,
   "metadata": {},
   "outputs": [
    {
     "data": {
      "text/plain": [
       "['fichiersutiles',\n",
       " '.DS_Store',\n",
       " 'a7e77e63-518e-4429-88ac-0e7255a77fc3',\n",
       " 'a7e77e63-518e-4429-88ac-0e7255a77fc3.2',\n",
       " 'test.csv',\n",
       " 'First_Notebook.ipynb',\n",
       " 'td2_pandas_introduction.ipynb',\n",
       " 'ind.csv',\n",
       " 'Scrapping_beautifulsoup.ipynb',\n",
       " 'raisins-secs.jpg',\n",
       " 'telethon.csv',\n",
       " 'covid19.mp4',\n",
       " 'incidentsss.csv',\n",
       " 'a7e77e63-518e-4429-88ac-0e7255a77fc3.1',\n",
       " '.ipynb_checkpoints',\n",
       " 'chromedriver',\n",
       " 'regularite.csv',\n",
       " '.git',\n",
       " 'scrapperInsta.ipynb',\n",
       " 'incidents.csv']"
      ]
     },
     "execution_count": 4,
     "metadata": {},
     "output_type": "execute_result"
    }
   ],
   "source": [
    "os.listdir()"
   ]
  },
  {
   "cell_type": "code",
   "execution_count": 5,
   "metadata": {},
   "outputs": [
    {
     "data": {
      "text/plain": [
       "True"
      ]
     },
     "execution_count": 5,
     "metadata": {},
     "output_type": "execute_result"
    }
   ],
   "source": [
    "\"chromedriver\"  in os.listdir()"
   ]
  },
  {
   "cell_type": "code",
   "execution_count": 6,
   "metadata": {},
   "outputs": [
    {
     "name": "stderr",
     "output_type": "stream",
     "text": [
      "/Users/lucbertin/anaconda3/lib/python3.6/site-packages/ipykernel_launcher.py:2: DeprecationWarning: use options instead of chrome_options\n",
      "  \n"
     ]
    }
   ],
   "source": [
    "driver = webdriver.Chrome(executable_path=\"./chromedriver\", \n",
    "                          chrome_options=options)"
   ]
  },
  {
   "cell_type": "code",
   "execution_count": 7,
   "metadata": {},
   "outputs": [],
   "source": [
    "url = \"https://www.instagram.com\"\n",
    "driver.get(url)"
   ]
  },
  {
   "cell_type": "code",
   "execution_count": 8,
   "metadata": {},
   "outputs": [],
   "source": [
    "from fichiersutiles.instagram_credentials import USER_ID, USER_PASSWORD"
   ]
  },
  {
   "cell_type": "code",
   "execution_count": 9,
   "metadata": {},
   "outputs": [
    {
     "data": {
      "text/plain": [
       "'alejjjjandroboteglia@gmail.com'"
      ]
     },
     "execution_count": 9,
     "metadata": {},
     "output_type": "execute_result"
    }
   ],
   "source": [
    "USER_ID"
   ]
  },
  {
   "cell_type": "markdown",
   "metadata": {},
   "source": [
    "## localiser les éléments sur la page d'accueil "
   ]
  },
  {
   "cell_type": "code",
   "execution_count": 10,
   "metadata": {},
   "outputs": [],
   "source": [
    "input_id = driver.find_element(By.CSS_SELECTOR, \n",
    "                               \"input[name='username']\")"
   ]
  },
  {
   "cell_type": "code",
   "execution_count": 11,
   "metadata": {},
   "outputs": [],
   "source": [
    "input_password = driver.find_element(By.CSS_SELECTOR, \n",
    "                                     \"input[name='password']\")"
   ]
  },
  {
   "cell_type": "code",
   "execution_count": 12,
   "metadata": {},
   "outputs": [],
   "source": [
    "input_id.send_keys(USER_ID)"
   ]
  },
  {
   "cell_type": "code",
   "execution_count": 13,
   "metadata": {},
   "outputs": [],
   "source": [
    "input_password.send_keys(USER_PASSWORD)"
   ]
  },
  {
   "cell_type": "code",
   "execution_count": 14,
   "metadata": {},
   "outputs": [],
   "source": [
    "input_password.submit()"
   ]
  },
  {
   "cell_type": "markdown",
   "metadata": {},
   "source": [
    "## attendre que le pop-up s'ouvre "
   ]
  },
  {
   "cell_type": "code",
   "execution_count": 20,
   "metadata": {},
   "outputs": [],
   "source": [
    "button_pop_up = WebDriverWait(driver, timeout=10).until(\n",
    "    EC.visibility_of_element_located(\n",
    "        (By.CSS_SELECTOR,  \"button[class='aOOlW   HoLwm ']\"    )\n",
    "    )\n",
    ")"
   ]
  },
  {
   "cell_type": "code",
   "execution_count": 22,
   "metadata": {},
   "outputs": [],
   "source": [
    "button_pop_up.click()"
   ]
  },
  {
   "cell_type": "markdown",
   "metadata": {},
   "source": [
    "## recherchons la barre "
   ]
  },
  {
   "cell_type": "code",
   "execution_count": 36,
   "metadata": {},
   "outputs": [],
   "source": [
    "hashtag = \"#akitainu\""
   ]
  },
  {
   "cell_type": "code",
   "execution_count": 26,
   "metadata": {},
   "outputs": [],
   "source": [
    "search_bar = driver.find_element(By.CSS_SELECTOR, \"input[placeholder='Search']\")"
   ]
  },
  {
   "cell_type": "code",
   "execution_count": 27,
   "metadata": {},
   "outputs": [],
   "source": [
    "search_bar.send_keys(hastag)"
   ]
  },
  {
   "cell_type": "code",
   "execution_count": 28,
   "metadata": {},
   "outputs": [],
   "source": [
    "import time\n",
    "time.sleep(4)"
   ]
  },
  {
   "cell_type": "code",
   "execution_count": 29,
   "metadata": {},
   "outputs": [],
   "source": [
    "search_bar.send_keys(Keys.ENTER)\n",
    "search_bar.send_keys(Keys.ENTER)\n",
    "search_bar.send_keys(Keys.ENTER)"
   ]
  },
  {
   "cell_type": "code",
   "execution_count": 32,
   "metadata": {},
   "outputs": [
    {
     "data": {
      "text/plain": [
       "[<selenium.webdriver.remote.webelement.WebElement (session=\"68eb6c76118b1a7021cea1d20262a2d1\", element=\"43ae7207-e099-4b53-9be9-d4a21fdc01e0\")>,\n",
       " <selenium.webdriver.remote.webelement.WebElement (session=\"68eb6c76118b1a7021cea1d20262a2d1\", element=\"132398d5-f5f1-421e-8c5b-989499d71c6d\")>,\n",
       " <selenium.webdriver.remote.webelement.WebElement (session=\"68eb6c76118b1a7021cea1d20262a2d1\", element=\"0d3b830c-8420-4bd0-9b4c-e39a87079cc4\")>,\n",
       " <selenium.webdriver.remote.webelement.WebElement (session=\"68eb6c76118b1a7021cea1d20262a2d1\", element=\"e0f3c809-560e-42da-88fb-aa34e119ae5a\")>,\n",
       " <selenium.webdriver.remote.webelement.WebElement (session=\"68eb6c76118b1a7021cea1d20262a2d1\", element=\"4d7ba793-9e52-4fd9-8b73-89625aca097d\")>,\n",
       " <selenium.webdriver.remote.webelement.WebElement (session=\"68eb6c76118b1a7021cea1d20262a2d1\", element=\"3ee57ee5-b50d-47d9-bdcb-1aa15835e03e\")>,\n",
       " <selenium.webdriver.remote.webelement.WebElement (session=\"68eb6c76118b1a7021cea1d20262a2d1\", element=\"0f7e8fb4-57a1-4e49-aff6-a822af4b4732\")>,\n",
       " <selenium.webdriver.remote.webelement.WebElement (session=\"68eb6c76118b1a7021cea1d20262a2d1\", element=\"0db32a3c-d37d-432c-9c97-dff185317152\")>,\n",
       " <selenium.webdriver.remote.webelement.WebElement (session=\"68eb6c76118b1a7021cea1d20262a2d1\", element=\"69b9babd-2a5c-4ad5-a60f-ac75bd6144f3\")>,\n",
       " <selenium.webdriver.remote.webelement.WebElement (session=\"68eb6c76118b1a7021cea1d20262a2d1\", element=\"b72cc033-8a55-4801-b97d-620a052f64c5\")>,\n",
       " <selenium.webdriver.remote.webelement.WebElement (session=\"68eb6c76118b1a7021cea1d20262a2d1\", element=\"21543948-b467-4a2e-97de-83b9c47acb19\")>,\n",
       " <selenium.webdriver.remote.webelement.WebElement (session=\"68eb6c76118b1a7021cea1d20262a2d1\", element=\"f72679a6-8ae2-42fe-afbf-e785fb29c77d\")>,\n",
       " <selenium.webdriver.remote.webelement.WebElement (session=\"68eb6c76118b1a7021cea1d20262a2d1\", element=\"54bd55e3-12a6-478f-a8f1-c0585eb5ba04\")>,\n",
       " <selenium.webdriver.remote.webelement.WebElement (session=\"68eb6c76118b1a7021cea1d20262a2d1\", element=\"8a5c778d-ffe7-40ba-8a96-4d2712bcfd52\")>,\n",
       " <selenium.webdriver.remote.webelement.WebElement (session=\"68eb6c76118b1a7021cea1d20262a2d1\", element=\"247edd7a-f82d-4e9d-be06-e28d7606b7d7\")>,\n",
       " <selenium.webdriver.remote.webelement.WebElement (session=\"68eb6c76118b1a7021cea1d20262a2d1\", element=\"0c2304cd-6798-49a4-ba3c-9659b75a941e\")>,\n",
       " <selenium.webdriver.remote.webelement.WebElement (session=\"68eb6c76118b1a7021cea1d20262a2d1\", element=\"1b4a965c-c875-406a-9eda-4952858e75ce\")>,\n",
       " <selenium.webdriver.remote.webelement.WebElement (session=\"68eb6c76118b1a7021cea1d20262a2d1\", element=\"7726d1a1-9de7-497b-aa01-574fd6403f37\")>,\n",
       " <selenium.webdriver.remote.webelement.WebElement (session=\"68eb6c76118b1a7021cea1d20262a2d1\", element=\"e9b73dc1-0583-48b0-9b7b-7b906be7e594\")>,\n",
       " <selenium.webdriver.remote.webelement.WebElement (session=\"68eb6c76118b1a7021cea1d20262a2d1\", element=\"ff71a6b7-78ad-4b4e-addb-fdf9ff5c253d\")>,\n",
       " <selenium.webdriver.remote.webelement.WebElement (session=\"68eb6c76118b1a7021cea1d20262a2d1\", element=\"d265a706-6125-45a9-82fd-857f10371fae\")>,\n",
       " <selenium.webdriver.remote.webelement.WebElement (session=\"68eb6c76118b1a7021cea1d20262a2d1\", element=\"0e6877d7-b749-4ac9-b53d-6a5cf418797b\")>,\n",
       " <selenium.webdriver.remote.webelement.WebElement (session=\"68eb6c76118b1a7021cea1d20262a2d1\", element=\"203a2221-3602-4c2b-bbb4-dd07b8ce01cb\")>,\n",
       " <selenium.webdriver.remote.webelement.WebElement (session=\"68eb6c76118b1a7021cea1d20262a2d1\", element=\"82548894-0b63-4c64-b258-133d9f9bab85\")>,\n",
       " <selenium.webdriver.remote.webelement.WebElement (session=\"68eb6c76118b1a7021cea1d20262a2d1\", element=\"64d2f6bc-7930-4970-b44e-785ed2d104be\")>,\n",
       " <selenium.webdriver.remote.webelement.WebElement (session=\"68eb6c76118b1a7021cea1d20262a2d1\", element=\"2794d7ad-4e78-47d8-b34c-c5fdbc847af5\")>,\n",
       " <selenium.webdriver.remote.webelement.WebElement (session=\"68eb6c76118b1a7021cea1d20262a2d1\", element=\"ef3ce58e-70b6-47a7-8747-62a14a597a7b\")>,\n",
       " <selenium.webdriver.remote.webelement.WebElement (session=\"68eb6c76118b1a7021cea1d20262a2d1\", element=\"38a77f03-a0c9-441e-a6e5-c8e9d4c8a509\")>,\n",
       " <selenium.webdriver.remote.webelement.WebElement (session=\"68eb6c76118b1a7021cea1d20262a2d1\", element=\"4c8f71df-91ce-4cac-8eb6-e66172815ebe\")>,\n",
       " <selenium.webdriver.remote.webelement.WebElement (session=\"68eb6c76118b1a7021cea1d20262a2d1\", element=\"f679edd8-5bae-467c-9646-0e9310c8a7b3\")>,\n",
       " <selenium.webdriver.remote.webelement.WebElement (session=\"68eb6c76118b1a7021cea1d20262a2d1\", element=\"08bc2dd1-3025-43f7-bd2b-e41edbf5907e\")>,\n",
       " <selenium.webdriver.remote.webelement.WebElement (session=\"68eb6c76118b1a7021cea1d20262a2d1\", element=\"20ef58ec-7253-44be-a756-cfd3b3b8da06\")>,\n",
       " <selenium.webdriver.remote.webelement.WebElement (session=\"68eb6c76118b1a7021cea1d20262a2d1\", element=\"50ad57b0-1827-4c74-b916-668eb1f8e94d\")>,\n",
       " <selenium.webdriver.remote.webelement.WebElement (session=\"68eb6c76118b1a7021cea1d20262a2d1\", element=\"82ee3f76-ae6b-489a-a58f-03505d4c5060\")>,\n",
       " <selenium.webdriver.remote.webelement.WebElement (session=\"68eb6c76118b1a7021cea1d20262a2d1\", element=\"95cdb0a7-a78d-4fd9-a31c-177337cb751a\")>,\n",
       " <selenium.webdriver.remote.webelement.WebElement (session=\"68eb6c76118b1a7021cea1d20262a2d1\", element=\"2cca0b72-9c99-416c-898f-6edb26bbcb67\")>,\n",
       " <selenium.webdriver.remote.webelement.WebElement (session=\"68eb6c76118b1a7021cea1d20262a2d1\", element=\"c53fb887-dd22-48d4-9d57-f57df9b1e025\")>,\n",
       " <selenium.webdriver.remote.webelement.WebElement (session=\"68eb6c76118b1a7021cea1d20262a2d1\", element=\"c789d3f0-aa37-48a0-a255-5643803fdbf3\")>,\n",
       " <selenium.webdriver.remote.webelement.WebElement (session=\"68eb6c76118b1a7021cea1d20262a2d1\", element=\"b73e8de6-4f87-4912-835a-6699f887ca44\")>,\n",
       " <selenium.webdriver.remote.webelement.WebElement (session=\"68eb6c76118b1a7021cea1d20262a2d1\", element=\"d54a2ea9-9081-495b-8c43-723f355082f8\")>,\n",
       " <selenium.webdriver.remote.webelement.WebElement (session=\"68eb6c76118b1a7021cea1d20262a2d1\", element=\"a60d800c-b6d1-45b3-9fe5-6db5e493f33a\")>,\n",
       " <selenium.webdriver.remote.webelement.WebElement (session=\"68eb6c76118b1a7021cea1d20262a2d1\", element=\"d4c633f7-6a7c-4624-bc4d-318708c9d095\")>]"
      ]
     },
     "execution_count": 32,
     "metadata": {},
     "output_type": "execute_result"
    }
   ],
   "source": [
    "WebDriverWait(driver, timeout=10).until(\n",
    "    EC.visibility_of_all_elements_located(\n",
    "        (  By.CSS_SELECTOR  ,     \"div[class='v1Nh3 kIKUG  _bz0w']\" )\n",
    "    ))"
   ]
  },
  {
   "cell_type": "markdown",
   "metadata": {},
   "source": [
    "## Page akita inu"
   ]
  },
  {
   "cell_type": "code",
   "execution_count": 188,
   "metadata": {},
   "outputs": [],
   "source": [
    "@ComptageFunction\n",
    "def telecharge(url, hashtag):\n",
    "    import os\n",
    "    import requests as req\n",
    "    # if not os.path.exists('data/'):\n",
    "    #   os.mkdir('data/')\n",
    "    if 'data' not in os.listdir():\n",
    "        os.mkdir('data/')\n",
    "    \n",
    "    nom_de_fichier = \"{}{}.jpg\".format(hashtag[1:], telecharge.execution_fonction_number)\n",
    "    reponse = req.get(url)\n",
    "    if reponse.status_code == 200:\n",
    "        ## besoin d'enregistrer l'image\n",
    "        with open( 'data/' + nom_de_fichier, mode= 'wb'  ) as file:\n",
    "            file.write(reponse.content)\n",
    "    else:\n",
    "        print(\"erreur de téléchargement de : {}\".format(nom_de_fichier))"
   ]
  },
  {
   "cell_type": "code",
   "execution_count": 150,
   "metadata": {},
   "outputs": [],
   "source": [
    "url = \"https://scontent-mad1-1.cdninstagram.com/v/t51.2885-15/e35/c0.129.1034.1034a/s320x320/90894481_1337303593138859_263749377864918535_n.jpg?_nc_ht=scontent-mad1-1.cdninstagram.com&_nc_cat=111&_nc_ohc=jG7WdaXT5soAX8m6TkT&oh=4b5fb523e79b4a062f05f05a650b59fb&oe=5EA3D91C\""
   ]
  },
  {
   "cell_type": "code",
   "execution_count": 157,
   "metadata": {},
   "outputs": [],
   "source": [
    "telecharge(url, \"#akita\")"
   ]
  },
  {
   "cell_type": "code",
   "execution_count": null,
   "metadata": {},
   "outputs": [],
   "source": []
  },
  {
   "cell_type": "code",
   "execution_count": null,
   "metadata": {},
   "outputs": [],
   "source": []
  },
  {
   "cell_type": "code",
   "execution_count": null,
   "metadata": {},
   "outputs": [],
   "source": []
  },
  {
   "cell_type": "code",
   "execution_count": null,
   "metadata": {},
   "outputs": [],
   "source": []
  },
  {
   "cell_type": "markdown",
   "metadata": {},
   "source": [
    "## decorateur "
   ]
  },
  {
   "cell_type": "code",
   "execution_count": 65,
   "metadata": {},
   "outputs": [
    {
     "data": {
      "text/plain": [
       "['__class__',\n",
       " '__delattr__',\n",
       " '__dict__',\n",
       " '__dir__',\n",
       " '__doc__',\n",
       " '__eq__',\n",
       " '__format__',\n",
       " '__ge__',\n",
       " '__getattribute__',\n",
       " '__gt__',\n",
       " '__hash__',\n",
       " '__init__',\n",
       " '__init_subclass__',\n",
       " '__le__',\n",
       " '__lt__',\n",
       " '__module__',\n",
       " '__ne__',\n",
       " '__new__',\n",
       " '__reduce__',\n",
       " '__reduce_ex__',\n",
       " '__repr__',\n",
       " '__setattr__',\n",
       " '__sizeof__',\n",
       " '__str__',\n",
       " '__subclasshook__',\n",
       " '__weakref__']"
      ]
     },
     "execution_count": 65,
     "metadata": {},
     "output_type": "execute_result"
    }
   ],
   "source": [
    "dir(test)"
   ]
  },
  {
   "cell_type": "code",
   "execution_count": 67,
   "metadata": {},
   "outputs": [],
   "source": [
    "class ComptageFunction:\n",
    "    def __init__(self, f):\n",
    "        self.function = f\n",
    "        self.execution_fonction_number = 0\n",
    "    def __call__(self, *args, **kwargs):\n",
    "        self.function(*args, **kwargs)\n",
    "        self.execution_fonction_number +=1"
   ]
  },
  {
   "cell_type": "markdown",
   "metadata": {},
   "source": [
    "## scroll "
   ]
  },
  {
   "cell_type": "code",
   "execution_count": 166,
   "metadata": {},
   "outputs": [],
   "source": [
    "limit = 2"
   ]
  },
  {
   "cell_type": "code",
   "execution_count": 173,
   "metadata": {},
   "outputs": [],
   "source": [
    "images_deja_download = set()"
   ]
  },
  {
   "cell_type": "code",
   "execution_count": 174,
   "metadata": {},
   "outputs": [
    {
     "data": {
      "text/plain": [
       "set()"
      ]
     },
     "execution_count": 174,
     "metadata": {},
     "output_type": "execute_result"
    }
   ],
   "source": [
    "images_deja_download"
   ]
  },
  {
   "cell_type": "code",
   "execution_count": 176,
   "metadata": {},
   "outputs": [],
   "source": [
    "nouveau = set([5,6,7,8])\n",
    "ancien = set([2,3,4,5])"
   ]
  },
  {
   "cell_type": "markdown",
   "metadata": {},
   "source": [
    "* ***& *** les éléments communs\n",
    "* ***| *** les éléments communs et non communs\n",
    "* ***^ *** les élements disjoints uniquement = pas communs des 2 côtés\n",
    "* ***\\-***  unilatéral (on supprime les éléments  communs d'un set à un autre suivant ordre de plaçage)"
   ]
  },
  {
   "cell_type": "code",
   "execution_count": 187,
   "metadata": {},
   "outputs": [
    {
     "data": {
      "text/plain": [
       "{2, 3, 4, 5, 6, 7, 8}"
      ]
     },
     "execution_count": 187,
     "metadata": {},
     "output_type": "execute_result"
    }
   ],
   "source": [
    " ancien ^ (nouveau - ancien)"
   ]
  },
  {
   "cell_type": "code",
   "execution_count": 186,
   "metadata": {},
   "outputs": [
    {
     "data": {
      "text/plain": [
       "{2, 3, 4, 5, 6, 7, 8}"
      ]
     },
     "execution_count": 186,
     "metadata": {},
     "output_type": "execute_result"
    }
   ],
   "source": [
    "ancien"
   ]
  },
  {
   "cell_type": "code",
   "execution_count": 184,
   "metadata": {},
   "outputs": [],
   "source": [
    "for i in range(1, limit):\n",
    "    try:\n",
    "        driver.execute_script(\"window.scrollTo(0, {});\".format(i*1000))\n",
    "        images_ = WebDriverWait(driver, timeout=10).until(\n",
    "                EC.visibility_of_all_elements_located(\n",
    "                    (  By.CSS_SELECTOR  ,     \"img[class='FFVAD']\" )\n",
    "                ))\n",
    "        \n",
    "        lien_des_images_ = set([img.get_attribute(\"src\") for img in images_ ])\n",
    "        images_to_download = lien_des_images_ - images_deja_download\n",
    "        \n",
    "        #######\n",
    "        for element in images_to_download:\n",
    "            telecharge(element, hashtag)\n",
    "        \n",
    "        images_deja_download = images_deja_download ^ images_to_download\n",
    "        \n",
    "    except:\n",
    "        print('error')"
   ]
  },
  {
   "cell_type": "code",
   "execution_count": null,
   "metadata": {},
   "outputs": [],
   "source": []
  }
 ],
 "metadata": {
  "kernelspec": {
   "display_name": "Python 3",
   "language": "python",
   "name": "python3"
  },
  "language_info": {
   "codemirror_mode": {
    "name": "ipython",
    "version": 3
   },
   "file_extension": ".py",
   "mimetype": "text/x-python",
   "name": "python",
   "nbconvert_exporter": "python",
   "pygments_lexer": "ipython3",
   "version": "3.6.8"
  }
 },
 "nbformat": 4,
 "nbformat_minor": 2
}
