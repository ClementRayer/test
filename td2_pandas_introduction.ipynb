{
 "cells": [
  {
   "cell_type": "code",
   "execution_count": 1,
   "metadata": {},
   "outputs": [],
   "source": [
    "url_incidents = \"https://www.data.gouv.fr/fr/datasets/r/a7e77e63-518e-4429-88ac-0e7255a77fc3\"\n",
    "url_regularites = \"https://www.data.gouv.fr/fr/datasets/r/2a4f7375-e090-4fbb-bea4-ea280a2d1028\""
   ]
  },
  {
   "cell_type": "markdown",
   "metadata": {},
   "source": [
    "# curl "
   ]
  },
  {
   "cell_type": "code",
   "execution_count": 67,
   "metadata": {},
   "outputs": [],
   "source": [
    "url_incidents = \"https://static.data.gouv.fr/resources/regularite-quotidienne-lignes-sncf/20200323-211549/incidents.csv\""
   ]
  },
  {
   "cell_type": "code",
   "execution_count": 131,
   "metadata": {
    "scrolled": false
   },
   "outputs": [
    {
     "name": "stdout",
     "output_type": "stream",
     "text": [
      "  % Total    % Received % Xferd  Average Speed   Time    Time     Time  Current\n",
      "                                 Dload  Upload   Total   Spent    Left  Speed\n",
      "100  297k  100  297k    0     0   624k      0 --:--:-- --:--:--  0:00:08 36936 --:--:--  624k\n"
     ]
    }
   ],
   "source": [
    "!curl $url_incidents --output incidents.csv"
   ]
  },
  {
   "cell_type": "code",
   "execution_count": 132,
   "metadata": {},
   "outputs": [
    {
     "name": "stdout",
     "output_type": "stream",
     "text": [
      "date,famille_transport,ligne,incidents\r",
      "\r\n",
      "2019-01-23,transilien,A,\"['Défaut de signalisation entre Nation et Auber', 'Malaise voyageur à Auber', \"\"Panne d'une rame à Cergy-le-Haut\"\"]\"\r",
      "\r\n"
     ]
    }
   ],
   "source": [
    "!head -n 2 incidents.csv"
   ]
  },
  {
   "cell_type": "markdown",
   "metadata": {},
   "source": [
    "## ouvrir depuis pandas"
   ]
  },
  {
   "cell_type": "markdown",
   "metadata": {},
   "source": [
    "set up un environnement python"
   ]
  },
  {
   "cell_type": "markdown",
   "metadata": {},
   "source": [
    "## Maj + Tab à l'intérieur des parenthèses ou quand on écrit la méthode pour plus d'infos sur celle-ci"
   ]
  },
  {
   "cell_type": "markdown",
   "metadata": {},
   "source": [
    "## Tab pour l'autocomplétion"
   ]
  },
  {
   "cell_type": "code",
   "execution_count": 264,
   "metadata": {},
   "outputs": [],
   "source": [
    "df = pd.read_csv(\"./incidents.csv\", sep=',')"
   ]
  },
  {
   "cell_type": "code",
   "execution_count": 265,
   "metadata": {},
   "outputs": [
    {
     "data": {
      "text/html": [
       "<div>\n",
       "<style scoped>\n",
       "    .dataframe tbody tr th:only-of-type {\n",
       "        vertical-align: middle;\n",
       "    }\n",
       "\n",
       "    .dataframe tbody tr th {\n",
       "        vertical-align: top;\n",
       "    }\n",
       "\n",
       "    .dataframe thead th {\n",
       "        text-align: right;\n",
       "    }\n",
       "</style>\n",
       "<table border=\"1\" class=\"dataframe\">\n",
       "  <thead>\n",
       "    <tr style=\"text-align: right;\">\n",
       "      <th></th>\n",
       "      <th>date</th>\n",
       "      <th>famille_transport</th>\n",
       "      <th>ligne</th>\n",
       "      <th>incidents</th>\n",
       "    </tr>\n",
       "  </thead>\n",
       "  <tbody>\n",
       "    <tr>\n",
       "      <td>0</td>\n",
       "      <td>2019-01-23</td>\n",
       "      <td>transilien</td>\n",
       "      <td>A</td>\n",
       "      <td>['Défaut de signalisation entre Nation et Aube...</td>\n",
       "    </tr>\n",
       "    <tr>\n",
       "      <td>1</td>\n",
       "      <td>2019-01-23</td>\n",
       "      <td>transilien</td>\n",
       "      <td>B</td>\n",
       "      <td>['Intervention de police à Gare-du-Nord pour u...</td>\n",
       "    </tr>\n",
       "    <tr>\n",
       "      <td>2</td>\n",
       "      <td>2019-01-23</td>\n",
       "      <td>transilien</td>\n",
       "      <td>C</td>\n",
       "      <td>[\"Signal d'alarme à Bibiliothèque-François-Mit...</td>\n",
       "    </tr>\n",
       "    <tr>\n",
       "      <td>3</td>\n",
       "      <td>2019-01-23</td>\n",
       "      <td>transilien</td>\n",
       "      <td>D</td>\n",
       "      <td>['Restitution tardive de travaux de nuit à Com...</td>\n",
       "    </tr>\n",
       "    <tr>\n",
       "      <td>4</td>\n",
       "      <td>2019-01-23</td>\n",
       "      <td>transilien</td>\n",
       "      <td>E</td>\n",
       "      <td>[\"Signaux d'alarme malveillants à Haussamann-S...</td>\n",
       "    </tr>\n",
       "    <tr>\n",
       "      <td>...</td>\n",
       "      <td>...</td>\n",
       "      <td>...</td>\n",
       "      <td>...</td>\n",
       "      <td>...</td>\n",
       "    </tr>\n",
       "    <tr>\n",
       "      <td>3740</td>\n",
       "      <td>2020-03-13</td>\n",
       "      <td>intercites</td>\n",
       "      <td>Nantes-Lyon</td>\n",
       "      <td>[\"Présence d'individus sur le pont-rail du Rhô...</td>\n",
       "    </tr>\n",
       "    <tr>\n",
       "      <td>3741</td>\n",
       "      <td>2020-03-13</td>\n",
       "      <td>intercites</td>\n",
       "      <td>Toulouse-Bayonne</td>\n",
       "      <td>NaN</td>\n",
       "    </tr>\n",
       "    <tr>\n",
       "      <td>3742</td>\n",
       "      <td>2020-03-13</td>\n",
       "      <td>intercites</td>\n",
       "      <td>Clermont-Béziers</td>\n",
       "      <td>NaN</td>\n",
       "    </tr>\n",
       "    <tr>\n",
       "      <td>3743</td>\n",
       "      <td>2020-03-13</td>\n",
       "      <td>intercites</td>\n",
       "      <td>Paris-Toulouse-Latour De Carol/Cerbere/Rodez</td>\n",
       "      <td>NaN</td>\n",
       "    </tr>\n",
       "    <tr>\n",
       "      <td>3744</td>\n",
       "      <td>2020-03-13</td>\n",
       "      <td>intercites</td>\n",
       "      <td>Paris-Briançon</td>\n",
       "      <td>NaN</td>\n",
       "    </tr>\n",
       "  </tbody>\n",
       "</table>\n",
       "<p>3745 rows × 4 columns</p>\n",
       "</div>"
      ],
      "text/plain": [
       "            date famille_transport  \\\n",
       "0     2019-01-23        transilien   \n",
       "1     2019-01-23        transilien   \n",
       "2     2019-01-23        transilien   \n",
       "3     2019-01-23        transilien   \n",
       "4     2019-01-23        transilien   \n",
       "...          ...               ...   \n",
       "3740  2020-03-13        intercites   \n",
       "3741  2020-03-13        intercites   \n",
       "3742  2020-03-13        intercites   \n",
       "3743  2020-03-13        intercites   \n",
       "3744  2020-03-13        intercites   \n",
       "\n",
       "                                             ligne  \\\n",
       "0                                                A   \n",
       "1                                                B   \n",
       "2                                                C   \n",
       "3                                                D   \n",
       "4                                                E   \n",
       "...                                            ...   \n",
       "3740                                   Nantes-Lyon   \n",
       "3741                              Toulouse-Bayonne   \n",
       "3742                              Clermont-Béziers   \n",
       "3743  Paris-Toulouse-Latour De Carol/Cerbere/Rodez   \n",
       "3744                                Paris-Briançon   \n",
       "\n",
       "                                              incidents  \n",
       "0     ['Défaut de signalisation entre Nation et Aube...  \n",
       "1     ['Intervention de police à Gare-du-Nord pour u...  \n",
       "2     [\"Signal d'alarme à Bibiliothèque-François-Mit...  \n",
       "3     ['Restitution tardive de travaux de nuit à Com...  \n",
       "4     [\"Signaux d'alarme malveillants à Haussamann-S...  \n",
       "...                                                 ...  \n",
       "3740  [\"Présence d'individus sur le pont-rail du Rhô...  \n",
       "3741                                                NaN  \n",
       "3742                                                NaN  \n",
       "3743                                                NaN  \n",
       "3744                                                NaN  \n",
       "\n",
       "[3745 rows x 4 columns]"
      ]
     },
     "execution_count": 265,
     "metadata": {},
     "output_type": "execute_result"
    }
   ],
   "source": [
    "df"
   ]
  },
  {
   "cell_type": "markdown",
   "metadata": {},
   "source": [
    "## Affichage des colonnes "
   ]
  },
  {
   "cell_type": "code",
   "execution_count": 143,
   "metadata": {},
   "outputs": [
    {
     "data": {
      "text/plain": [
       "Index(['date', 'famille_transport', 'ligne', 'incidents'], dtype='object')"
      ]
     },
     "execution_count": 143,
     "metadata": {},
     "output_type": "execute_result"
    }
   ],
   "source": [
    "df.columns"
   ]
  },
  {
   "cell_type": "code",
   "execution_count": 144,
   "metadata": {},
   "outputs": [],
   "source": [
    "df.columns = [\"date\", \"test\", \"test3\", \"test2\"]"
   ]
  },
  {
   "cell_type": "code",
   "execution_count": 145,
   "metadata": {
    "scrolled": false
   },
   "outputs": [
    {
     "data": {
      "text/html": [
       "<div>\n",
       "<style scoped>\n",
       "    .dataframe tbody tr th:only-of-type {\n",
       "        vertical-align: middle;\n",
       "    }\n",
       "\n",
       "    .dataframe tbody tr th {\n",
       "        vertical-align: top;\n",
       "    }\n",
       "\n",
       "    .dataframe thead th {\n",
       "        text-align: right;\n",
       "    }\n",
       "</style>\n",
       "<table border=\"1\" class=\"dataframe\">\n",
       "  <thead>\n",
       "    <tr style=\"text-align: right;\">\n",
       "      <th></th>\n",
       "      <th>date</th>\n",
       "      <th>test</th>\n",
       "      <th>test3</th>\n",
       "      <th>test2</th>\n",
       "    </tr>\n",
       "  </thead>\n",
       "  <tbody>\n",
       "    <tr>\n",
       "      <td>0</td>\n",
       "      <td>2019-01-23</td>\n",
       "      <td>transilien</td>\n",
       "      <td>A</td>\n",
       "      <td>['Défaut de signalisation entre Nation et Aube...</td>\n",
       "    </tr>\n",
       "    <tr>\n",
       "      <td>1</td>\n",
       "      <td>2019-01-23</td>\n",
       "      <td>transilien</td>\n",
       "      <td>B</td>\n",
       "      <td>['Intervention de police à Gare-du-Nord pour u...</td>\n",
       "    </tr>\n",
       "    <tr>\n",
       "      <td>2</td>\n",
       "      <td>2019-01-23</td>\n",
       "      <td>transilien</td>\n",
       "      <td>C</td>\n",
       "      <td>[\"Signal d'alarme à Bibiliothèque-François-Mit...</td>\n",
       "    </tr>\n",
       "    <tr>\n",
       "      <td>3</td>\n",
       "      <td>2019-01-23</td>\n",
       "      <td>transilien</td>\n",
       "      <td>D</td>\n",
       "      <td>['Restitution tardive de travaux de nuit à Com...</td>\n",
       "    </tr>\n",
       "    <tr>\n",
       "      <td>4</td>\n",
       "      <td>2019-01-23</td>\n",
       "      <td>transilien</td>\n",
       "      <td>E</td>\n",
       "      <td>[\"Signaux d'alarme malveillants à Haussamann-S...</td>\n",
       "    </tr>\n",
       "    <tr>\n",
       "      <td>...</td>\n",
       "      <td>...</td>\n",
       "      <td>...</td>\n",
       "      <td>...</td>\n",
       "      <td>...</td>\n",
       "    </tr>\n",
       "    <tr>\n",
       "      <td>3740</td>\n",
       "      <td>2020-03-13</td>\n",
       "      <td>intercites</td>\n",
       "      <td>Nantes-Lyon</td>\n",
       "      <td>[\"Présence d'individus sur le pont-rail du Rhô...</td>\n",
       "    </tr>\n",
       "    <tr>\n",
       "      <td>3741</td>\n",
       "      <td>2020-03-13</td>\n",
       "      <td>intercites</td>\n",
       "      <td>Toulouse-Bayonne</td>\n",
       "      <td>NaN</td>\n",
       "    </tr>\n",
       "    <tr>\n",
       "      <td>3742</td>\n",
       "      <td>2020-03-13</td>\n",
       "      <td>intercites</td>\n",
       "      <td>Clermont-Béziers</td>\n",
       "      <td>NaN</td>\n",
       "    </tr>\n",
       "    <tr>\n",
       "      <td>3743</td>\n",
       "      <td>2020-03-13</td>\n",
       "      <td>intercites</td>\n",
       "      <td>Paris-Toulouse-Latour De Carol/Cerbere/Rodez</td>\n",
       "      <td>NaN</td>\n",
       "    </tr>\n",
       "    <tr>\n",
       "      <td>3744</td>\n",
       "      <td>2020-03-13</td>\n",
       "      <td>intercites</td>\n",
       "      <td>Paris-Briançon</td>\n",
       "      <td>NaN</td>\n",
       "    </tr>\n",
       "  </tbody>\n",
       "</table>\n",
       "<p>3745 rows × 4 columns</p>\n",
       "</div>"
      ],
      "text/plain": [
       "            date        test                                         test3  \\\n",
       "0     2019-01-23  transilien                                             A   \n",
       "1     2019-01-23  transilien                                             B   \n",
       "2     2019-01-23  transilien                                             C   \n",
       "3     2019-01-23  transilien                                             D   \n",
       "4     2019-01-23  transilien                                             E   \n",
       "...          ...         ...                                           ...   \n",
       "3740  2020-03-13  intercites                                   Nantes-Lyon   \n",
       "3741  2020-03-13  intercites                              Toulouse-Bayonne   \n",
       "3742  2020-03-13  intercites                              Clermont-Béziers   \n",
       "3743  2020-03-13  intercites  Paris-Toulouse-Latour De Carol/Cerbere/Rodez   \n",
       "3744  2020-03-13  intercites                                Paris-Briançon   \n",
       "\n",
       "                                                  test2  \n",
       "0     ['Défaut de signalisation entre Nation et Aube...  \n",
       "1     ['Intervention de police à Gare-du-Nord pour u...  \n",
       "2     [\"Signal d'alarme à Bibiliothèque-François-Mit...  \n",
       "3     ['Restitution tardive de travaux de nuit à Com...  \n",
       "4     [\"Signaux d'alarme malveillants à Haussamann-S...  \n",
       "...                                                 ...  \n",
       "3740  [\"Présence d'individus sur le pont-rail du Rhô...  \n",
       "3741                                                NaN  \n",
       "3742                                                NaN  \n",
       "3743                                                NaN  \n",
       "3744                                                NaN  \n",
       "\n",
       "[3745 rows x 4 columns]"
      ]
     },
     "execution_count": 145,
     "metadata": {},
     "output_type": "execute_result"
    }
   ],
   "source": [
    "df"
   ]
  },
  {
   "cell_type": "markdown",
   "metadata": {},
   "source": [
    "## (colonne) index , qui répertorie les indexes des lignes "
   ]
  },
  {
   "cell_type": "code",
   "execution_count": 146,
   "metadata": {},
   "outputs": [
    {
     "data": {
      "text/plain": [
       "RangeIndex(start=0, stop=3745, step=1)"
      ]
     },
     "execution_count": 146,
     "metadata": {},
     "output_type": "execute_result"
    }
   ],
   "source": [
    "df.index"
   ]
  },
  {
   "cell_type": "code",
   "execution_count": 267,
   "metadata": {},
   "outputs": [],
   "source": [
    "df.index = range(1, 3745*2, 2)"
   ]
  },
  {
   "cell_type": "code",
   "execution_count": 268,
   "metadata": {},
   "outputs": [
    {
     "data": {
      "text/html": [
       "<div>\n",
       "<style scoped>\n",
       "    .dataframe tbody tr th:only-of-type {\n",
       "        vertical-align: middle;\n",
       "    }\n",
       "\n",
       "    .dataframe tbody tr th {\n",
       "        vertical-align: top;\n",
       "    }\n",
       "\n",
       "    .dataframe thead th {\n",
       "        text-align: right;\n",
       "    }\n",
       "</style>\n",
       "<table border=\"1\" class=\"dataframe\">\n",
       "  <thead>\n",
       "    <tr style=\"text-align: right;\">\n",
       "      <th></th>\n",
       "      <th>date</th>\n",
       "      <th>famille_transport</th>\n",
       "      <th>ligne</th>\n",
       "      <th>incidents</th>\n",
       "    </tr>\n",
       "  </thead>\n",
       "  <tbody>\n",
       "    <tr>\n",
       "      <td>1</td>\n",
       "      <td>2019-01-23</td>\n",
       "      <td>transilien</td>\n",
       "      <td>A</td>\n",
       "      <td>['Défaut de signalisation entre Nation et Aube...</td>\n",
       "    </tr>\n",
       "    <tr>\n",
       "      <td>3</td>\n",
       "      <td>2019-01-23</td>\n",
       "      <td>transilien</td>\n",
       "      <td>B</td>\n",
       "      <td>['Intervention de police à Gare-du-Nord pour u...</td>\n",
       "    </tr>\n",
       "    <tr>\n",
       "      <td>5</td>\n",
       "      <td>2019-01-23</td>\n",
       "      <td>transilien</td>\n",
       "      <td>C</td>\n",
       "      <td>[\"Signal d'alarme à Bibiliothèque-François-Mit...</td>\n",
       "    </tr>\n",
       "    <tr>\n",
       "      <td>7</td>\n",
       "      <td>2019-01-23</td>\n",
       "      <td>transilien</td>\n",
       "      <td>D</td>\n",
       "      <td>['Restitution tardive de travaux de nuit à Com...</td>\n",
       "    </tr>\n",
       "    <tr>\n",
       "      <td>9</td>\n",
       "      <td>2019-01-23</td>\n",
       "      <td>transilien</td>\n",
       "      <td>E</td>\n",
       "      <td>[\"Signaux d'alarme malveillants à Haussamann-S...</td>\n",
       "    </tr>\n",
       "    <tr>\n",
       "      <td>...</td>\n",
       "      <td>...</td>\n",
       "      <td>...</td>\n",
       "      <td>...</td>\n",
       "      <td>...</td>\n",
       "    </tr>\n",
       "    <tr>\n",
       "      <td>7481</td>\n",
       "      <td>2020-03-13</td>\n",
       "      <td>intercites</td>\n",
       "      <td>Nantes-Lyon</td>\n",
       "      <td>[\"Présence d'individus sur le pont-rail du Rhô...</td>\n",
       "    </tr>\n",
       "    <tr>\n",
       "      <td>7483</td>\n",
       "      <td>2020-03-13</td>\n",
       "      <td>intercites</td>\n",
       "      <td>Toulouse-Bayonne</td>\n",
       "      <td>NaN</td>\n",
       "    </tr>\n",
       "    <tr>\n",
       "      <td>7485</td>\n",
       "      <td>2020-03-13</td>\n",
       "      <td>intercites</td>\n",
       "      <td>Clermont-Béziers</td>\n",
       "      <td>NaN</td>\n",
       "    </tr>\n",
       "    <tr>\n",
       "      <td>7487</td>\n",
       "      <td>2020-03-13</td>\n",
       "      <td>intercites</td>\n",
       "      <td>Paris-Toulouse-Latour De Carol/Cerbere/Rodez</td>\n",
       "      <td>NaN</td>\n",
       "    </tr>\n",
       "    <tr>\n",
       "      <td>7489</td>\n",
       "      <td>2020-03-13</td>\n",
       "      <td>intercites</td>\n",
       "      <td>Paris-Briançon</td>\n",
       "      <td>NaN</td>\n",
       "    </tr>\n",
       "  </tbody>\n",
       "</table>\n",
       "<p>3745 rows × 4 columns</p>\n",
       "</div>"
      ],
      "text/plain": [
       "            date famille_transport  \\\n",
       "1     2019-01-23        transilien   \n",
       "3     2019-01-23        transilien   \n",
       "5     2019-01-23        transilien   \n",
       "7     2019-01-23        transilien   \n",
       "9     2019-01-23        transilien   \n",
       "...          ...               ...   \n",
       "7481  2020-03-13        intercites   \n",
       "7483  2020-03-13        intercites   \n",
       "7485  2020-03-13        intercites   \n",
       "7487  2020-03-13        intercites   \n",
       "7489  2020-03-13        intercites   \n",
       "\n",
       "                                             ligne  \\\n",
       "1                                                A   \n",
       "3                                                B   \n",
       "5                                                C   \n",
       "7                                                D   \n",
       "9                                                E   \n",
       "...                                            ...   \n",
       "7481                                   Nantes-Lyon   \n",
       "7483                              Toulouse-Bayonne   \n",
       "7485                              Clermont-Béziers   \n",
       "7487  Paris-Toulouse-Latour De Carol/Cerbere/Rodez   \n",
       "7489                                Paris-Briançon   \n",
       "\n",
       "                                              incidents  \n",
       "1     ['Défaut de signalisation entre Nation et Aube...  \n",
       "3     ['Intervention de police à Gare-du-Nord pour u...  \n",
       "5     [\"Signal d'alarme à Bibiliothèque-François-Mit...  \n",
       "7     ['Restitution tardive de travaux de nuit à Com...  \n",
       "9     [\"Signaux d'alarme malveillants à Haussamann-S...  \n",
       "...                                                 ...  \n",
       "7481  [\"Présence d'individus sur le pont-rail du Rhô...  \n",
       "7483                                                NaN  \n",
       "7485                                                NaN  \n",
       "7487                                                NaN  \n",
       "7489                                                NaN  \n",
       "\n",
       "[3745 rows x 4 columns]"
      ]
     },
     "execution_count": 268,
     "metadata": {},
     "output_type": "execute_result"
    }
   ],
   "source": [
    "df"
   ]
  },
  {
   "cell_type": "markdown",
   "metadata": {},
   "source": [
    "## REindex permet de réIndexer la dataframe, et donc la conformer avec les index que l'on soumet\n",
    "## on peut assigner directement un nouvel index avec l'attribut index\n",
    "## on peut aussi utiliser une autre méthode pour le même résultat "
   ]
  },
  {
   "cell_type": "markdown",
   "metadata": {},
   "source": [
    "## afficher les 10 premieres lignes "
   ]
  },
  {
   "cell_type": "code",
   "execution_count": 160,
   "metadata": {},
   "outputs": [
    {
     "data": {
      "text/html": [
       "<div>\n",
       "<style scoped>\n",
       "    .dataframe tbody tr th:only-of-type {\n",
       "        vertical-align: middle;\n",
       "    }\n",
       "\n",
       "    .dataframe tbody tr th {\n",
       "        vertical-align: top;\n",
       "    }\n",
       "\n",
       "    .dataframe thead th {\n",
       "        text-align: right;\n",
       "    }\n",
       "</style>\n",
       "<table border=\"1\" class=\"dataframe\">\n",
       "  <thead>\n",
       "    <tr style=\"text-align: right;\">\n",
       "      <th></th>\n",
       "      <th>date</th>\n",
       "      <th>test</th>\n",
       "      <th>test3</th>\n",
       "      <th>test2</th>\n",
       "    </tr>\n",
       "  </thead>\n",
       "  <tbody>\n",
       "    <tr>\n",
       "      <td>1</td>\n",
       "      <td>2019-01-23</td>\n",
       "      <td>transilien</td>\n",
       "      <td>A</td>\n",
       "      <td>['Défaut de signalisation entre Nation et Aube...</td>\n",
       "    </tr>\n",
       "    <tr>\n",
       "      <td>3</td>\n",
       "      <td>2019-01-23</td>\n",
       "      <td>transilien</td>\n",
       "      <td>B</td>\n",
       "      <td>['Intervention de police à Gare-du-Nord pour u...</td>\n",
       "    </tr>\n",
       "    <tr>\n",
       "      <td>5</td>\n",
       "      <td>2019-01-23</td>\n",
       "      <td>transilien</td>\n",
       "      <td>C</td>\n",
       "      <td>[\"Signal d'alarme à Bibiliothèque-François-Mit...</td>\n",
       "    </tr>\n",
       "    <tr>\n",
       "      <td>7</td>\n",
       "      <td>2019-01-23</td>\n",
       "      <td>transilien</td>\n",
       "      <td>D</td>\n",
       "      <td>['Restitution tardive de travaux de nuit à Com...</td>\n",
       "    </tr>\n",
       "    <tr>\n",
       "      <td>9</td>\n",
       "      <td>2019-01-23</td>\n",
       "      <td>transilien</td>\n",
       "      <td>E</td>\n",
       "      <td>[\"Signaux d'alarme malveillants à Haussamann-S...</td>\n",
       "    </tr>\n",
       "    <tr>\n",
       "      <td>11</td>\n",
       "      <td>2019-01-23</td>\n",
       "      <td>transilien</td>\n",
       "      <td>H</td>\n",
       "      <td>NaN</td>\n",
       "    </tr>\n",
       "    <tr>\n",
       "      <td>13</td>\n",
       "      <td>2019-01-23</td>\n",
       "      <td>transilien</td>\n",
       "      <td>J</td>\n",
       "      <td>['Avarie sur une rame à Asnières']</td>\n",
       "    </tr>\n",
       "    <tr>\n",
       "      <td>15</td>\n",
       "      <td>2019-01-23</td>\n",
       "      <td>transilien</td>\n",
       "      <td>K</td>\n",
       "      <td>NaN</td>\n",
       "    </tr>\n",
       "    <tr>\n",
       "      <td>17</td>\n",
       "      <td>2019-01-23</td>\n",
       "      <td>transilien</td>\n",
       "      <td>L</td>\n",
       "      <td>NaN</td>\n",
       "    </tr>\n",
       "    <tr>\n",
       "      <td>19</td>\n",
       "      <td>2019-01-23</td>\n",
       "      <td>transilien</td>\n",
       "      <td>N</td>\n",
       "      <td>['Conséquences des chutes de neige et de givre...</td>\n",
       "    </tr>\n",
       "  </tbody>\n",
       "</table>\n",
       "</div>"
      ],
      "text/plain": [
       "          date        test test3  \\\n",
       "1   2019-01-23  transilien     A   \n",
       "3   2019-01-23  transilien     B   \n",
       "5   2019-01-23  transilien     C   \n",
       "7   2019-01-23  transilien     D   \n",
       "9   2019-01-23  transilien     E   \n",
       "11  2019-01-23  transilien     H   \n",
       "13  2019-01-23  transilien     J   \n",
       "15  2019-01-23  transilien     K   \n",
       "17  2019-01-23  transilien     L   \n",
       "19  2019-01-23  transilien     N   \n",
       "\n",
       "                                                test2  \n",
       "1   ['Défaut de signalisation entre Nation et Aube...  \n",
       "3   ['Intervention de police à Gare-du-Nord pour u...  \n",
       "5   [\"Signal d'alarme à Bibiliothèque-François-Mit...  \n",
       "7   ['Restitution tardive de travaux de nuit à Com...  \n",
       "9   [\"Signaux d'alarme malveillants à Haussamann-S...  \n",
       "11                                                NaN  \n",
       "13                 ['Avarie sur une rame à Asnières']  \n",
       "15                                                NaN  \n",
       "17                                                NaN  \n",
       "19  ['Conséquences des chutes de neige et de givre...  "
      ]
     },
     "execution_count": 160,
     "metadata": {},
     "output_type": "execute_result"
    }
   ],
   "source": [
    "df.head(10)"
   ]
  },
  {
   "cell_type": "markdown",
   "metadata": {},
   "source": [
    "## filtrer sur les lignes et les colonnes "
   ]
  },
  {
   "cell_type": "markdown",
   "metadata": {},
   "source": [
    "2 choix : \n",
    "    * LOC\n",
    "    * ILOC"
   ]
  },
  {
   "cell_type": "code",
   "execution_count": 161,
   "metadata": {},
   "outputs": [],
   "source": [
    "# df.loc[ label ou conditions sur les lignes,    labels ou conditions sur les colonnes ]"
   ]
  },
  {
   "cell_type": "code",
   "execution_count": 164,
   "metadata": {},
   "outputs": [
    {
     "data": {
      "text/plain": [
       "'transilien'"
      ]
     },
     "execution_count": 164,
     "metadata": {},
     "output_type": "execute_result"
    }
   ],
   "source": [
    "df.loc[  3 , \"test\"   ]"
   ]
  },
  {
   "cell_type": "markdown",
   "metadata": {},
   "source": [
    "recuperer plusieurs cellules"
   ]
  },
  {
   "cell_type": "code",
   "execution_count": 170,
   "metadata": {},
   "outputs": [
    {
     "data": {
      "text/plain": [
       "3     ['Intervention de police à Gare-du-Nord pour u...\n",
       "11                                                  NaN\n",
       "13                   ['Avarie sur une rame à Asnières']\n",
       "Name: test2, dtype: object"
      ]
     },
     "execution_count": 170,
     "metadata": {},
     "output_type": "execute_result"
    }
   ],
   "source": [
    "df.loc[ [3,11,13] ,  \"test2\"  ]"
   ]
  },
  {
   "cell_type": "code",
   "execution_count": 176,
   "metadata": {},
   "outputs": [],
   "source": [
    "nouveau_df = df.loc[  [3,11], [\"test\", \"test2\"]  ]"
   ]
  },
  {
   "cell_type": "code",
   "execution_count": 177,
   "metadata": {},
   "outputs": [
    {
     "data": {
      "text/html": [
       "<div>\n",
       "<style scoped>\n",
       "    .dataframe tbody tr th:only-of-type {\n",
       "        vertical-align: middle;\n",
       "    }\n",
       "\n",
       "    .dataframe tbody tr th {\n",
       "        vertical-align: top;\n",
       "    }\n",
       "\n",
       "    .dataframe thead th {\n",
       "        text-align: right;\n",
       "    }\n",
       "</style>\n",
       "<table border=\"1\" class=\"dataframe\">\n",
       "  <thead>\n",
       "    <tr style=\"text-align: right;\">\n",
       "      <th></th>\n",
       "      <th>test</th>\n",
       "      <th>test2</th>\n",
       "    </tr>\n",
       "  </thead>\n",
       "  <tbody>\n",
       "    <tr>\n",
       "      <td>3</td>\n",
       "      <td>transilien</td>\n",
       "      <td>['Intervention de police à Gare-du-Nord pour u...</td>\n",
       "    </tr>\n",
       "    <tr>\n",
       "      <td>11</td>\n",
       "      <td>transilien</td>\n",
       "      <td>NaN</td>\n",
       "    </tr>\n",
       "  </tbody>\n",
       "</table>\n",
       "</div>"
      ],
      "text/plain": [
       "          test                                              test2\n",
       "3   transilien  ['Intervention de police à Gare-du-Nord pour u...\n",
       "11  transilien                                                NaN"
      ]
     },
     "execution_count": 177,
     "metadata": {},
     "output_type": "execute_result"
    }
   ],
   "source": [
    "nouveau_df"
   ]
  },
  {
   "cell_type": "code",
   "execution_count": 180,
   "metadata": {},
   "outputs": [
    {
     "data": {
      "text/html": [
       "<div>\n",
       "<style scoped>\n",
       "    .dataframe tbody tr th:only-of-type {\n",
       "        vertical-align: middle;\n",
       "    }\n",
       "\n",
       "    .dataframe tbody tr th {\n",
       "        vertical-align: top;\n",
       "    }\n",
       "\n",
       "    .dataframe thead th {\n",
       "        text-align: right;\n",
       "    }\n",
       "</style>\n",
       "<table border=\"1\" class=\"dataframe\">\n",
       "  <thead>\n",
       "    <tr style=\"text-align: right;\">\n",
       "      <th></th>\n",
       "      <th>date</th>\n",
       "      <th>test</th>\n",
       "      <th>test3</th>\n",
       "      <th>test2</th>\n",
       "    </tr>\n",
       "  </thead>\n",
       "  <tbody>\n",
       "    <tr>\n",
       "      <td>1</td>\n",
       "      <td>2019-01-23</td>\n",
       "      <td>transilien</td>\n",
       "      <td>A</td>\n",
       "      <td>['Défaut de signalisation entre Nation et Aube...</td>\n",
       "    </tr>\n",
       "    <tr>\n",
       "      <td>3</td>\n",
       "      <td>2019-01-23</td>\n",
       "      <td>transilien</td>\n",
       "      <td>B</td>\n",
       "      <td>['Intervention de police à Gare-du-Nord pour u...</td>\n",
       "    </tr>\n",
       "    <tr>\n",
       "      <td>5</td>\n",
       "      <td>2019-01-23</td>\n",
       "      <td>transilien</td>\n",
       "      <td>C</td>\n",
       "      <td>[\"Signal d'alarme à Bibiliothèque-François-Mit...</td>\n",
       "    </tr>\n",
       "    <tr>\n",
       "      <td>7</td>\n",
       "      <td>2019-01-23</td>\n",
       "      <td>transilien</td>\n",
       "      <td>D</td>\n",
       "      <td>['Restitution tardive de travaux de nuit à Com...</td>\n",
       "    </tr>\n",
       "    <tr>\n",
       "      <td>9</td>\n",
       "      <td>2019-01-23</td>\n",
       "      <td>transilien</td>\n",
       "      <td>E</td>\n",
       "      <td>[\"Signaux d'alarme malveillants à Haussamann-S...</td>\n",
       "    </tr>\n",
       "  </tbody>\n",
       "</table>\n",
       "</div>"
      ],
      "text/plain": [
       "         date        test test3  \\\n",
       "1  2019-01-23  transilien     A   \n",
       "3  2019-01-23  transilien     B   \n",
       "5  2019-01-23  transilien     C   \n",
       "7  2019-01-23  transilien     D   \n",
       "9  2019-01-23  transilien     E   \n",
       "\n",
       "                                               test2  \n",
       "1  ['Défaut de signalisation entre Nation et Aube...  \n",
       "3  ['Intervention de police à Gare-du-Nord pour u...  \n",
       "5  [\"Signal d'alarme à Bibiliothèque-François-Mit...  \n",
       "7  ['Restitution tardive de travaux de nuit à Com...  \n",
       "9  [\"Signaux d'alarme malveillants à Haussamann-S...  "
      ]
     },
     "execution_count": 180,
     "metadata": {},
     "output_type": "execute_result"
    }
   ],
   "source": [
    "df.head()"
   ]
  },
  {
   "cell_type": "code",
   "execution_count": 183,
   "metadata": {},
   "outputs": [
    {
     "data": {
      "text/html": [
       "<div>\n",
       "<style scoped>\n",
       "    .dataframe tbody tr th:only-of-type {\n",
       "        vertical-align: middle;\n",
       "    }\n",
       "\n",
       "    .dataframe tbody tr th {\n",
       "        vertical-align: top;\n",
       "    }\n",
       "\n",
       "    .dataframe thead th {\n",
       "        text-align: right;\n",
       "    }\n",
       "</style>\n",
       "<table border=\"1\" class=\"dataframe\">\n",
       "  <thead>\n",
       "    <tr style=\"text-align: right;\">\n",
       "      <th></th>\n",
       "      <th>test3</th>\n",
       "      <th>test2</th>\n",
       "    </tr>\n",
       "  </thead>\n",
       "  <tbody>\n",
       "    <tr>\n",
       "      <td>3</td>\n",
       "      <td>B</td>\n",
       "      <td>['Intervention de police à Gare-du-Nord pour u...</td>\n",
       "    </tr>\n",
       "    <tr>\n",
       "      <td>93</td>\n",
       "      <td>B</td>\n",
       "      <td>NaN</td>\n",
       "    </tr>\n",
       "    <tr>\n",
       "      <td>183</td>\n",
       "      <td>B</td>\n",
       "      <td>['Panne de signalisation à Sevran et à Gare du...</td>\n",
       "    </tr>\n",
       "    <tr>\n",
       "      <td>273</td>\n",
       "      <td>B</td>\n",
       "      <td>[\"Panne d'une rame à St-Michel-Notre-Dame (RAT...</td>\n",
       "    </tr>\n",
       "    <tr>\n",
       "      <td>363</td>\n",
       "      <td>B</td>\n",
       "      <td>[\"Panne d'une rame à Gare du Nord souterraine.\"]</td>\n",
       "    </tr>\n",
       "    <tr>\n",
       "      <td>...</td>\n",
       "      <td>...</td>\n",
       "      <td>...</td>\n",
       "    </tr>\n",
       "    <tr>\n",
       "      <td>7083</td>\n",
       "      <td>B</td>\n",
       "      <td>NaN</td>\n",
       "    </tr>\n",
       "    <tr>\n",
       "      <td>7165</td>\n",
       "      <td>B</td>\n",
       "      <td>NaN</td>\n",
       "    </tr>\n",
       "    <tr>\n",
       "      <td>7247</td>\n",
       "      <td>B</td>\n",
       "      <td>['Panne de signalisation à La-Plaine-Stade-de-...</td>\n",
       "    </tr>\n",
       "    <tr>\n",
       "      <td>7329</td>\n",
       "      <td>B</td>\n",
       "      <td>['Rail fissuré à La Plaine Stade de France', '...</td>\n",
       "    </tr>\n",
       "    <tr>\n",
       "      <td>7411</td>\n",
       "      <td>B</td>\n",
       "      <td>['Bagage abandonné dans un RER à Paris Nord So...</td>\n",
       "    </tr>\n",
       "  </tbody>\n",
       "</table>\n",
       "<p>85 rows × 2 columns</p>\n",
       "</div>"
      ],
      "text/plain": [
       "     test3                                              test2\n",
       "3        B  ['Intervention de police à Gare-du-Nord pour u...\n",
       "93       B                                                NaN\n",
       "183      B  ['Panne de signalisation à Sevran et à Gare du...\n",
       "273      B  [\"Panne d'une rame à St-Michel-Notre-Dame (RAT...\n",
       "363      B   [\"Panne d'une rame à Gare du Nord souterraine.\"]\n",
       "...    ...                                                ...\n",
       "7083     B                                                NaN\n",
       "7165     B                                                NaN\n",
       "7247     B  ['Panne de signalisation à La-Plaine-Stade-de-...\n",
       "7329     B  ['Rail fissuré à La Plaine Stade de France', '...\n",
       "7411     B  ['Bagage abandonné dans un RER à Paris Nord So...\n",
       "\n",
       "[85 rows x 2 columns]"
      ]
     },
     "execution_count": 183,
     "metadata": {},
     "output_type": "execute_result"
    }
   ],
   "source": [
    "df.loc[    df[\"test3\"] == \"B\"      , [\"test3\", \"test2\"]]"
   ]
  },
  {
   "cell_type": "code",
   "execution_count": 186,
   "metadata": {},
   "outputs": [],
   "source": [
    "new_subset= df[df[\"test3\"] ==\"B\"]"
   ]
  },
  {
   "cell_type": "code",
   "execution_count": 187,
   "metadata": {},
   "outputs": [
    {
     "data": {
      "text/html": [
       "<div>\n",
       "<style scoped>\n",
       "    .dataframe tbody tr th:only-of-type {\n",
       "        vertical-align: middle;\n",
       "    }\n",
       "\n",
       "    .dataframe tbody tr th {\n",
       "        vertical-align: top;\n",
       "    }\n",
       "\n",
       "    .dataframe thead th {\n",
       "        text-align: right;\n",
       "    }\n",
       "</style>\n",
       "<table border=\"1\" class=\"dataframe\">\n",
       "  <thead>\n",
       "    <tr style=\"text-align: right;\">\n",
       "      <th></th>\n",
       "      <th>date</th>\n",
       "      <th>test</th>\n",
       "      <th>test3</th>\n",
       "      <th>test2</th>\n",
       "    </tr>\n",
       "  </thead>\n",
       "  <tbody>\n",
       "    <tr>\n",
       "      <td>3</td>\n",
       "      <td>2019-01-23</td>\n",
       "      <td>transilien</td>\n",
       "      <td>B</td>\n",
       "      <td>['Intervention de police à Gare-du-Nord pour u...</td>\n",
       "    </tr>\n",
       "    <tr>\n",
       "      <td>93</td>\n",
       "      <td>2019-03-22</td>\n",
       "      <td>transilien</td>\n",
       "      <td>B</td>\n",
       "      <td>NaN</td>\n",
       "    </tr>\n",
       "    <tr>\n",
       "      <td>183</td>\n",
       "      <td>2019-07-09</td>\n",
       "      <td>transilien</td>\n",
       "      <td>B</td>\n",
       "      <td>['Panne de signalisation à Sevran et à Gare du...</td>\n",
       "    </tr>\n",
       "    <tr>\n",
       "      <td>273</td>\n",
       "      <td>2019-09-19</td>\n",
       "      <td>transilien</td>\n",
       "      <td>B</td>\n",
       "      <td>[\"Panne d'une rame à St-Michel-Notre-Dame (RAT...</td>\n",
       "    </tr>\n",
       "    <tr>\n",
       "      <td>363</td>\n",
       "      <td>2019-10-17</td>\n",
       "      <td>transilien</td>\n",
       "      <td>B</td>\n",
       "      <td>[\"Panne d'une rame à Gare du Nord souterraine.\"]</td>\n",
       "    </tr>\n",
       "    <tr>\n",
       "      <td>...</td>\n",
       "      <td>...</td>\n",
       "      <td>...</td>\n",
       "      <td>...</td>\n",
       "      <td>...</td>\n",
       "    </tr>\n",
       "    <tr>\n",
       "      <td>7083</td>\n",
       "      <td>2020-03-09</td>\n",
       "      <td>transilien</td>\n",
       "      <td>B</td>\n",
       "      <td>NaN</td>\n",
       "    </tr>\n",
       "    <tr>\n",
       "      <td>7165</td>\n",
       "      <td>2020-03-10</td>\n",
       "      <td>transilien</td>\n",
       "      <td>B</td>\n",
       "      <td>NaN</td>\n",
       "    </tr>\n",
       "    <tr>\n",
       "      <td>7247</td>\n",
       "      <td>2020-03-11</td>\n",
       "      <td>transilien</td>\n",
       "      <td>B</td>\n",
       "      <td>['Panne de signalisation à La-Plaine-Stade-de-...</td>\n",
       "    </tr>\n",
       "    <tr>\n",
       "      <td>7329</td>\n",
       "      <td>2020-03-12</td>\n",
       "      <td>transilien</td>\n",
       "      <td>B</td>\n",
       "      <td>['Rail fissuré à La Plaine Stade de France', '...</td>\n",
       "    </tr>\n",
       "    <tr>\n",
       "      <td>7411</td>\n",
       "      <td>2020-03-13</td>\n",
       "      <td>transilien</td>\n",
       "      <td>B</td>\n",
       "      <td>['Bagage abandonné dans un RER à Paris Nord So...</td>\n",
       "    </tr>\n",
       "  </tbody>\n",
       "</table>\n",
       "<p>85 rows × 4 columns</p>\n",
       "</div>"
      ],
      "text/plain": [
       "            date        test test3  \\\n",
       "3     2019-01-23  transilien     B   \n",
       "93    2019-03-22  transilien     B   \n",
       "183   2019-07-09  transilien     B   \n",
       "273   2019-09-19  transilien     B   \n",
       "363   2019-10-17  transilien     B   \n",
       "...          ...         ...   ...   \n",
       "7083  2020-03-09  transilien     B   \n",
       "7165  2020-03-10  transilien     B   \n",
       "7247  2020-03-11  transilien     B   \n",
       "7329  2020-03-12  transilien     B   \n",
       "7411  2020-03-13  transilien     B   \n",
       "\n",
       "                                                  test2  \n",
       "3     ['Intervention de police à Gare-du-Nord pour u...  \n",
       "93                                                  NaN  \n",
       "183   ['Panne de signalisation à Sevran et à Gare du...  \n",
       "273   [\"Panne d'une rame à St-Michel-Notre-Dame (RAT...  \n",
       "363    [\"Panne d'une rame à Gare du Nord souterraine.\"]  \n",
       "...                                                 ...  \n",
       "7083                                                NaN  \n",
       "7165                                                NaN  \n",
       "7247  ['Panne de signalisation à La-Plaine-Stade-de-...  \n",
       "7329  ['Rail fissuré à La Plaine Stade de France', '...  \n",
       "7411  ['Bagage abandonné dans un RER à Paris Nord So...  \n",
       "\n",
       "[85 rows x 4 columns]"
      ]
     },
     "execution_count": 187,
     "metadata": {},
     "output_type": "execute_result"
    }
   ],
   "source": [
    "new_subset"
   ]
  },
  {
   "cell_type": "markdown",
   "metadata": {},
   "source": [
    "## slicing "
   ]
  },
  {
   "cell_type": "code",
   "execution_count": 188,
   "metadata": {},
   "outputs": [
    {
     "data": {
      "text/html": [
       "<div>\n",
       "<style scoped>\n",
       "    .dataframe tbody tr th:only-of-type {\n",
       "        vertical-align: middle;\n",
       "    }\n",
       "\n",
       "    .dataframe tbody tr th {\n",
       "        vertical-align: top;\n",
       "    }\n",
       "\n",
       "    .dataframe thead th {\n",
       "        text-align: right;\n",
       "    }\n",
       "</style>\n",
       "<table border=\"1\" class=\"dataframe\">\n",
       "  <thead>\n",
       "    <tr style=\"text-align: right;\">\n",
       "      <th></th>\n",
       "      <th>date</th>\n",
       "      <th>test3</th>\n",
       "    </tr>\n",
       "  </thead>\n",
       "  <tbody>\n",
       "    <tr>\n",
       "      <td>3</td>\n",
       "      <td>2019-01-23</td>\n",
       "      <td>B</td>\n",
       "    </tr>\n",
       "    <tr>\n",
       "      <td>5</td>\n",
       "      <td>2019-01-23</td>\n",
       "      <td>C</td>\n",
       "    </tr>\n",
       "    <tr>\n",
       "      <td>7</td>\n",
       "      <td>2019-01-23</td>\n",
       "      <td>D</td>\n",
       "    </tr>\n",
       "    <tr>\n",
       "      <td>9</td>\n",
       "      <td>2019-01-23</td>\n",
       "      <td>E</td>\n",
       "    </tr>\n",
       "    <tr>\n",
       "      <td>11</td>\n",
       "      <td>2019-01-23</td>\n",
       "      <td>H</td>\n",
       "    </tr>\n",
       "  </tbody>\n",
       "</table>\n",
       "</div>"
      ],
      "text/plain": [
       "          date test3\n",
       "3   2019-01-23     B\n",
       "5   2019-01-23     C\n",
       "7   2019-01-23     D\n",
       "9   2019-01-23     E\n",
       "11  2019-01-23     H"
      ]
     },
     "execution_count": 188,
     "metadata": {},
     "output_type": "execute_result"
    }
   ],
   "source": [
    "df.loc[3:11, [\"date\", \"test3\"]]"
   ]
  },
  {
   "cell_type": "markdown",
   "metadata": {},
   "source": [
    "### df.iloc"
   ]
  },
  {
   "cell_type": "code",
   "execution_count": 191,
   "metadata": {
    "scrolled": true
   },
   "outputs": [
    {
     "data": {
      "text/html": [
       "<div>\n",
       "<style scoped>\n",
       "    .dataframe tbody tr th:only-of-type {\n",
       "        vertical-align: middle;\n",
       "    }\n",
       "\n",
       "    .dataframe tbody tr th {\n",
       "        vertical-align: top;\n",
       "    }\n",
       "\n",
       "    .dataframe thead th {\n",
       "        text-align: right;\n",
       "    }\n",
       "</style>\n",
       "<table border=\"1\" class=\"dataframe\">\n",
       "  <thead>\n",
       "    <tr style=\"text-align: right;\">\n",
       "      <th></th>\n",
       "      <th>test</th>\n",
       "      <th>test2</th>\n",
       "    </tr>\n",
       "  </thead>\n",
       "  <tbody>\n",
       "    <tr>\n",
       "      <td>5</td>\n",
       "      <td>transilien</td>\n",
       "      <td>[\"Signal d'alarme à Bibiliothèque-François-Mit...</td>\n",
       "    </tr>\n",
       "    <tr>\n",
       "      <td>7</td>\n",
       "      <td>transilien</td>\n",
       "      <td>['Restitution tardive de travaux de nuit à Com...</td>\n",
       "    </tr>\n",
       "  </tbody>\n",
       "</table>\n",
       "</div>"
      ],
      "text/plain": [
       "         test                                              test2\n",
       "5  transilien  [\"Signal d'alarme à Bibiliothèque-François-Mit...\n",
       "7  transilien  ['Restitution tardive de travaux de nuit à Com..."
      ]
     },
     "execution_count": 191,
     "metadata": {},
     "output_type": "execute_result"
    }
   ],
   "source": [
    "df.iloc[[2, 3], [1, 3]]"
   ]
  },
  {
   "cell_type": "code",
   "execution_count": 194,
   "metadata": {},
   "outputs": [
    {
     "data": {
      "text/html": [
       "<div>\n",
       "<style scoped>\n",
       "    .dataframe tbody tr th:only-of-type {\n",
       "        vertical-align: middle;\n",
       "    }\n",
       "\n",
       "    .dataframe tbody tr th {\n",
       "        vertical-align: top;\n",
       "    }\n",
       "\n",
       "    .dataframe thead th {\n",
       "        text-align: right;\n",
       "    }\n",
       "</style>\n",
       "<table border=\"1\" class=\"dataframe\">\n",
       "  <thead>\n",
       "    <tr style=\"text-align: right;\">\n",
       "      <th></th>\n",
       "      <th>date</th>\n",
       "      <th>test</th>\n",
       "      <th>test3</th>\n",
       "      <th>test2</th>\n",
       "    </tr>\n",
       "  </thead>\n",
       "  <tbody>\n",
       "    <tr>\n",
       "      <td>1</td>\n",
       "      <td>2019-01-23</td>\n",
       "      <td>transilien</td>\n",
       "      <td>A</td>\n",
       "      <td>['Défaut de signalisation entre Nation et Aube...</td>\n",
       "    </tr>\n",
       "    <tr>\n",
       "      <td>3</td>\n",
       "      <td>2019-01-23</td>\n",
       "      <td>transilien</td>\n",
       "      <td>B</td>\n",
       "      <td>['Intervention de police à Gare-du-Nord pour u...</td>\n",
       "    </tr>\n",
       "    <tr>\n",
       "      <td>5</td>\n",
       "      <td>2019-01-23</td>\n",
       "      <td>transilien</td>\n",
       "      <td>C</td>\n",
       "      <td>[\"Signal d'alarme à Bibiliothèque-François-Mit...</td>\n",
       "    </tr>\n",
       "    <tr>\n",
       "      <td>7</td>\n",
       "      <td>2019-01-23</td>\n",
       "      <td>transilien</td>\n",
       "      <td>D</td>\n",
       "      <td>['Restitution tardive de travaux de nuit à Com...</td>\n",
       "    </tr>\n",
       "    <tr>\n",
       "      <td>9</td>\n",
       "      <td>2019-01-23</td>\n",
       "      <td>transilien</td>\n",
       "      <td>E</td>\n",
       "      <td>[\"Signaux d'alarme malveillants à Haussamann-S...</td>\n",
       "    </tr>\n",
       "  </tbody>\n",
       "</table>\n",
       "</div>"
      ],
      "text/plain": [
       "         date        test test3  \\\n",
       "1  2019-01-23  transilien     A   \n",
       "3  2019-01-23  transilien     B   \n",
       "5  2019-01-23  transilien     C   \n",
       "7  2019-01-23  transilien     D   \n",
       "9  2019-01-23  transilien     E   \n",
       "\n",
       "                                               test2  \n",
       "1  ['Défaut de signalisation entre Nation et Aube...  \n",
       "3  ['Intervention de police à Gare-du-Nord pour u...  \n",
       "5  [\"Signal d'alarme à Bibiliothèque-François-Mit...  \n",
       "7  ['Restitution tardive de travaux de nuit à Com...  \n",
       "9  [\"Signaux d'alarme malveillants à Haussamann-S...  "
      ]
     },
     "execution_count": 194,
     "metadata": {},
     "output_type": "execute_result"
    }
   ],
   "source": [
    "df.head()"
   ]
  },
  {
   "cell_type": "code",
   "execution_count": 200,
   "metadata": {},
   "outputs": [
    {
     "data": {
      "text/plain": [
       "date                                            2019-01-23\n",
       "test                                            transilien\n",
       "test3                                                    B\n",
       "test2    ['Intervention de police à Gare-du-Nord pour u...\n",
       "Name: 3, dtype: object"
      ]
     },
     "execution_count": 200,
     "metadata": {},
     "output_type": "execute_result"
    }
   ],
   "source": [
    "df.loc[3] #df.loc[3,:] "
   ]
  },
  {
   "cell_type": "code",
   "execution_count": 201,
   "metadata": {},
   "outputs": [
    {
     "data": {
      "text/html": [
       "<div>\n",
       "<style scoped>\n",
       "    .dataframe tbody tr th:only-of-type {\n",
       "        vertical-align: middle;\n",
       "    }\n",
       "\n",
       "    .dataframe tbody tr th {\n",
       "        vertical-align: top;\n",
       "    }\n",
       "\n",
       "    .dataframe thead th {\n",
       "        text-align: right;\n",
       "    }\n",
       "</style>\n",
       "<table border=\"1\" class=\"dataframe\">\n",
       "  <thead>\n",
       "    <tr style=\"text-align: right;\">\n",
       "      <th></th>\n",
       "      <th>date</th>\n",
       "      <th>test</th>\n",
       "      <th>test3</th>\n",
       "      <th>test2</th>\n",
       "    </tr>\n",
       "  </thead>\n",
       "  <tbody>\n",
       "    <tr>\n",
       "      <td>5</td>\n",
       "      <td>2019-01-23</td>\n",
       "      <td>transilien</td>\n",
       "      <td>C</td>\n",
       "      <td>[\"Signal d'alarme à Bibiliothèque-François-Mit...</td>\n",
       "    </tr>\n",
       "    <tr>\n",
       "      <td>7</td>\n",
       "      <td>2019-01-23</td>\n",
       "      <td>transilien</td>\n",
       "      <td>D</td>\n",
       "      <td>['Restitution tardive de travaux de nuit à Com...</td>\n",
       "    </tr>\n",
       "    <tr>\n",
       "      <td>9</td>\n",
       "      <td>2019-01-23</td>\n",
       "      <td>transilien</td>\n",
       "      <td>E</td>\n",
       "      <td>[\"Signaux d'alarme malveillants à Haussamann-S...</td>\n",
       "    </tr>\n",
       "  </tbody>\n",
       "</table>\n",
       "</div>"
      ],
      "text/plain": [
       "         date        test test3  \\\n",
       "5  2019-01-23  transilien     C   \n",
       "7  2019-01-23  transilien     D   \n",
       "9  2019-01-23  transilien     E   \n",
       "\n",
       "                                               test2  \n",
       "5  [\"Signal d'alarme à Bibiliothèque-François-Mit...  \n",
       "7  ['Restitution tardive de travaux de nuit à Com...  \n",
       "9  [\"Signaux d'alarme malveillants à Haussamann-S...  "
      ]
     },
     "execution_count": 201,
     "metadata": {},
     "output_type": "execute_result"
    }
   ],
   "source": [
    "df.iloc[2:5]"
   ]
  },
  {
   "cell_type": "markdown",
   "metadata": {},
   "source": [
    "## taille de la dataframe ? "
   ]
  },
  {
   "cell_type": "code",
   "execution_count": 179,
   "metadata": {},
   "outputs": [
    {
     "data": {
      "text/plain": [
       "(2, 2)"
      ]
     },
     "execution_count": 179,
     "metadata": {},
     "output_type": "execute_result"
    }
   ],
   "source": [
    "nouveau_df.shape"
   ]
  },
  {
   "cell_type": "markdown",
   "metadata": {},
   "source": [
    "## insertion de lignes "
   ]
  },
  {
   "cell_type": "code",
   "execution_count": 210,
   "metadata": {},
   "outputs": [
    {
     "data": {
      "text/html": [
       "<div>\n",
       "<style scoped>\n",
       "    .dataframe tbody tr th:only-of-type {\n",
       "        vertical-align: middle;\n",
       "    }\n",
       "\n",
       "    .dataframe tbody tr th {\n",
       "        vertical-align: top;\n",
       "    }\n",
       "\n",
       "    .dataframe thead th {\n",
       "        text-align: right;\n",
       "    }\n",
       "</style>\n",
       "<table border=\"1\" class=\"dataframe\">\n",
       "  <thead>\n",
       "    <tr style=\"text-align: right;\">\n",
       "      <th></th>\n",
       "      <th>date</th>\n",
       "      <th>test</th>\n",
       "      <th>test3</th>\n",
       "      <th>test2</th>\n",
       "    </tr>\n",
       "  </thead>\n",
       "  <tbody>\n",
       "    <tr>\n",
       "      <td>1</td>\n",
       "      <td>2019-01-23</td>\n",
       "      <td>transilien</td>\n",
       "      <td>A</td>\n",
       "      <td>['Défaut de signalisation entre Nation et Aube...</td>\n",
       "    </tr>\n",
       "    <tr>\n",
       "      <td>3</td>\n",
       "      <td>2019-01-23</td>\n",
       "      <td>transilien</td>\n",
       "      <td>B</td>\n",
       "      <td>['Intervention de police à Gare-du-Nord pour u...</td>\n",
       "    </tr>\n",
       "    <tr>\n",
       "      <td>5</td>\n",
       "      <td>2019-01-23</td>\n",
       "      <td>transilien</td>\n",
       "      <td>C</td>\n",
       "      <td>[\"Signal d'alarme à Bibiliothèque-François-Mit...</td>\n",
       "    </tr>\n",
       "    <tr>\n",
       "      <td>7</td>\n",
       "      <td>2019-01-23</td>\n",
       "      <td>transilien</td>\n",
       "      <td>D</td>\n",
       "      <td>['Restitution tardive de travaux de nuit à Com...</td>\n",
       "    </tr>\n",
       "    <tr>\n",
       "      <td>9</td>\n",
       "      <td>2019-01-23</td>\n",
       "      <td>transilien</td>\n",
       "      <td>E</td>\n",
       "      <td>[\"Signaux d'alarme malveillants à Haussamann-S...</td>\n",
       "    </tr>\n",
       "    <tr>\n",
       "      <td>...</td>\n",
       "      <td>...</td>\n",
       "      <td>...</td>\n",
       "      <td>...</td>\n",
       "      <td>...</td>\n",
       "    </tr>\n",
       "    <tr>\n",
       "      <td>7481</td>\n",
       "      <td>2020-03-13</td>\n",
       "      <td>intercites</td>\n",
       "      <td>Nantes-Lyon</td>\n",
       "      <td>[\"Présence d'individus sur le pont-rail du Rhô...</td>\n",
       "    </tr>\n",
       "    <tr>\n",
       "      <td>7483</td>\n",
       "      <td>2020-03-13</td>\n",
       "      <td>intercites</td>\n",
       "      <td>Toulouse-Bayonne</td>\n",
       "      <td>NaN</td>\n",
       "    </tr>\n",
       "    <tr>\n",
       "      <td>7485</td>\n",
       "      <td>2020-03-13</td>\n",
       "      <td>intercites</td>\n",
       "      <td>Clermont-Béziers</td>\n",
       "      <td>NaN</td>\n",
       "    </tr>\n",
       "    <tr>\n",
       "      <td>7487</td>\n",
       "      <td>2020-03-13</td>\n",
       "      <td>intercites</td>\n",
       "      <td>Paris-Toulouse-Latour De Carol/Cerbere/Rodez</td>\n",
       "      <td>NaN</td>\n",
       "    </tr>\n",
       "    <tr>\n",
       "      <td>7489</td>\n",
       "      <td>2020-03-13</td>\n",
       "      <td>intercites</td>\n",
       "      <td>Paris-Briançon</td>\n",
       "      <td>NaN</td>\n",
       "    </tr>\n",
       "  </tbody>\n",
       "</table>\n",
       "<p>3745 rows × 4 columns</p>\n",
       "</div>"
      ],
      "text/plain": [
       "            date        test                                         test3  \\\n",
       "1     2019-01-23  transilien                                             A   \n",
       "3     2019-01-23  transilien                                             B   \n",
       "5     2019-01-23  transilien                                             C   \n",
       "7     2019-01-23  transilien                                             D   \n",
       "9     2019-01-23  transilien                                             E   \n",
       "...          ...         ...                                           ...   \n",
       "7481  2020-03-13  intercites                                   Nantes-Lyon   \n",
       "7483  2020-03-13  intercites                              Toulouse-Bayonne   \n",
       "7485  2020-03-13  intercites                              Clermont-Béziers   \n",
       "7487  2020-03-13  intercites  Paris-Toulouse-Latour De Carol/Cerbere/Rodez   \n",
       "7489  2020-03-13  intercites                                Paris-Briançon   \n",
       "\n",
       "                                                  test2  \n",
       "1     ['Défaut de signalisation entre Nation et Aube...  \n",
       "3     ['Intervention de police à Gare-du-Nord pour u...  \n",
       "5     [\"Signal d'alarme à Bibiliothèque-François-Mit...  \n",
       "7     ['Restitution tardive de travaux de nuit à Com...  \n",
       "9     [\"Signaux d'alarme malveillants à Haussamann-S...  \n",
       "...                                                 ...  \n",
       "7481  [\"Présence d'individus sur le pont-rail du Rhô...  \n",
       "7483                                                NaN  \n",
       "7485                                                NaN  \n",
       "7487                                                NaN  \n",
       "7489                                                NaN  \n",
       "\n",
       "[3745 rows x 4 columns]"
      ]
     },
     "execution_count": 210,
     "metadata": {},
     "output_type": "execute_result"
    }
   ],
   "source": [
    "df"
   ]
  },
  {
   "cell_type": "code",
   "execution_count": 213,
   "metadata": {},
   "outputs": [
    {
     "data": {
      "text/html": [
       "<div>\n",
       "<style scoped>\n",
       "    .dataframe tbody tr th:only-of-type {\n",
       "        vertical-align: middle;\n",
       "    }\n",
       "\n",
       "    .dataframe tbody tr th {\n",
       "        vertical-align: top;\n",
       "    }\n",
       "\n",
       "    .dataframe thead th {\n",
       "        text-align: right;\n",
       "    }\n",
       "</style>\n",
       "<table border=\"1\" class=\"dataframe\">\n",
       "  <thead>\n",
       "    <tr style=\"text-align: right;\">\n",
       "      <th></th>\n",
       "      <th>date</th>\n",
       "      <th>test</th>\n",
       "      <th>test3</th>\n",
       "      <th>test2</th>\n",
       "    </tr>\n",
       "  </thead>\n",
       "  <tbody>\n",
       "    <tr>\n",
       "      <td>1</td>\n",
       "      <td>2019-01-23</td>\n",
       "      <td>transilien</td>\n",
       "      <td>A</td>\n",
       "      <td>['Défaut de signalisation entre Nation et Aube...</td>\n",
       "    </tr>\n",
       "    <tr>\n",
       "      <td>3</td>\n",
       "      <td>2019-01-23</td>\n",
       "      <td>transilien</td>\n",
       "      <td>B</td>\n",
       "      <td>['Intervention de police à Gare-du-Nord pour u...</td>\n",
       "    </tr>\n",
       "    <tr>\n",
       "      <td>5</td>\n",
       "      <td>2019-01-23</td>\n",
       "      <td>transilien</td>\n",
       "      <td>C</td>\n",
       "      <td>[\"Signal d'alarme à Bibiliothèque-François-Mit...</td>\n",
       "    </tr>\n",
       "    <tr>\n",
       "      <td>7</td>\n",
       "      <td>2019-01-23</td>\n",
       "      <td>transilien</td>\n",
       "      <td>D</td>\n",
       "      <td>['Restitution tardive de travaux de nuit à Com...</td>\n",
       "    </tr>\n",
       "    <tr>\n",
       "      <td>9</td>\n",
       "      <td>2019-01-23</td>\n",
       "      <td>transilien</td>\n",
       "      <td>E</td>\n",
       "      <td>[\"Signaux d'alarme malveillants à Haussamann-S...</td>\n",
       "    </tr>\n",
       "    <tr>\n",
       "      <td>...</td>\n",
       "      <td>...</td>\n",
       "      <td>...</td>\n",
       "      <td>...</td>\n",
       "      <td>...</td>\n",
       "    </tr>\n",
       "    <tr>\n",
       "      <td>7481</td>\n",
       "      <td>2020-03-13</td>\n",
       "      <td>intercites</td>\n",
       "      <td>Nantes-Lyon</td>\n",
       "      <td>[\"Présence d'individus sur le pont-rail du Rhô...</td>\n",
       "    </tr>\n",
       "    <tr>\n",
       "      <td>7483</td>\n",
       "      <td>2020-03-13</td>\n",
       "      <td>intercites</td>\n",
       "      <td>Toulouse-Bayonne</td>\n",
       "      <td>NaN</td>\n",
       "    </tr>\n",
       "    <tr>\n",
       "      <td>7485</td>\n",
       "      <td>2020-03-13</td>\n",
       "      <td>intercites</td>\n",
       "      <td>Clermont-Béziers</td>\n",
       "      <td>NaN</td>\n",
       "    </tr>\n",
       "    <tr>\n",
       "      <td>7487</td>\n",
       "      <td>2020-03-13</td>\n",
       "      <td>intercites</td>\n",
       "      <td>Paris-Toulouse-Latour De Carol/Cerbere/Rodez</td>\n",
       "      <td>NaN</td>\n",
       "    </tr>\n",
       "    <tr>\n",
       "      <td>7489</td>\n",
       "      <td>2020-03-13</td>\n",
       "      <td>intercites</td>\n",
       "      <td>Paris-Briançon</td>\n",
       "      <td>NaN</td>\n",
       "    </tr>\n",
       "  </tbody>\n",
       "</table>\n",
       "<p>3745 rows × 4 columns</p>\n",
       "</div>"
      ],
      "text/plain": [
       "            date        test                                         test3  \\\n",
       "1     2019-01-23  transilien                                             A   \n",
       "3     2019-01-23  transilien                                             B   \n",
       "5     2019-01-23  transilien                                             C   \n",
       "7     2019-01-23  transilien                                             D   \n",
       "9     2019-01-23  transilien                                             E   \n",
       "...          ...         ...                                           ...   \n",
       "7481  2020-03-13  intercites                                   Nantes-Lyon   \n",
       "7483  2020-03-13  intercites                              Toulouse-Bayonne   \n",
       "7485  2020-03-13  intercites                              Clermont-Béziers   \n",
       "7487  2020-03-13  intercites  Paris-Toulouse-Latour De Carol/Cerbere/Rodez   \n",
       "7489  2020-03-13  intercites                                Paris-Briançon   \n",
       "\n",
       "                                                  test2  \n",
       "1     ['Défaut de signalisation entre Nation et Aube...  \n",
       "3     ['Intervention de police à Gare-du-Nord pour u...  \n",
       "5     [\"Signal d'alarme à Bibiliothèque-François-Mit...  \n",
       "7     ['Restitution tardive de travaux de nuit à Com...  \n",
       "9     [\"Signaux d'alarme malveillants à Haussamann-S...  \n",
       "...                                                 ...  \n",
       "7481  [\"Présence d'individus sur le pont-rail du Rhô...  \n",
       "7483                                                NaN  \n",
       "7485                                                NaN  \n",
       "7487                                                NaN  \n",
       "7489                                                NaN  \n",
       "\n",
       "[3745 rows x 4 columns]"
      ]
     },
     "execution_count": 213,
     "metadata": {},
     "output_type": "execute_result"
    }
   ],
   "source": [
    "df"
   ]
  },
  {
   "cell_type": "markdown",
   "metadata": {},
   "source": [
    "# remplacement de cellule en utilisant loc"
   ]
  },
  {
   "cell_type": "code",
   "execution_count": 225,
   "metadata": {},
   "outputs": [],
   "source": [
    "df.loc[4, \"test\"] = \"Afaefaef\""
   ]
  },
  {
   "cell_type": "markdown",
   "metadata": {},
   "source": [
    "# remplacement ou insertion de ligne en utilisant loc encore "
   ]
  },
  {
   "cell_type": "code",
   "execution_count": 226,
   "metadata": {},
   "outputs": [
    {
     "data": {
      "text/html": [
       "<div>\n",
       "<style scoped>\n",
       "    .dataframe tbody tr th:only-of-type {\n",
       "        vertical-align: middle;\n",
       "    }\n",
       "\n",
       "    .dataframe tbody tr th {\n",
       "        vertical-align: top;\n",
       "    }\n",
       "\n",
       "    .dataframe thead th {\n",
       "        text-align: right;\n",
       "    }\n",
       "</style>\n",
       "<table border=\"1\" class=\"dataframe\">\n",
       "  <thead>\n",
       "    <tr style=\"text-align: right;\">\n",
       "      <th></th>\n",
       "      <th>date</th>\n",
       "      <th>test</th>\n",
       "      <th>test3</th>\n",
       "      <th>test2</th>\n",
       "    </tr>\n",
       "  </thead>\n",
       "  <tbody>\n",
       "    <tr>\n",
       "      <td>1</td>\n",
       "      <td>2019-01-23</td>\n",
       "      <td>transilien</td>\n",
       "      <td>A</td>\n",
       "      <td>['Défaut de signalisation entre Nation et Aube...</td>\n",
       "    </tr>\n",
       "    <tr>\n",
       "      <td>3</td>\n",
       "      <td>2019-01-20</td>\n",
       "      <td>intercités</td>\n",
       "      <td>C</td>\n",
       "      <td>[défaut de signalisation]</td>\n",
       "    </tr>\n",
       "    <tr>\n",
       "      <td>5</td>\n",
       "      <td>2019-01-23</td>\n",
       "      <td>transilien</td>\n",
       "      <td>C</td>\n",
       "      <td>[\"Signal d'alarme à Bibiliothèque-François-Mit...</td>\n",
       "    </tr>\n",
       "    <tr>\n",
       "      <td>7</td>\n",
       "      <td>2019-01-23</td>\n",
       "      <td>transilien</td>\n",
       "      <td>D</td>\n",
       "      <td>['Restitution tardive de travaux de nuit à Com...</td>\n",
       "    </tr>\n",
       "    <tr>\n",
       "      <td>9</td>\n",
       "      <td>2019-01-23</td>\n",
       "      <td>transilien</td>\n",
       "      <td>E</td>\n",
       "      <td>[\"Signaux d'alarme malveillants à Haussamann-S...</td>\n",
       "    </tr>\n",
       "    <tr>\n",
       "      <td>...</td>\n",
       "      <td>...</td>\n",
       "      <td>...</td>\n",
       "      <td>...</td>\n",
       "      <td>...</td>\n",
       "    </tr>\n",
       "    <tr>\n",
       "      <td>7483</td>\n",
       "      <td>2020-03-13</td>\n",
       "      <td>intercites</td>\n",
       "      <td>Toulouse-Bayonne</td>\n",
       "      <td>NaN</td>\n",
       "    </tr>\n",
       "    <tr>\n",
       "      <td>7485</td>\n",
       "      <td>2020-03-13</td>\n",
       "      <td>intercites</td>\n",
       "      <td>Clermont-Béziers</td>\n",
       "      <td>NaN</td>\n",
       "    </tr>\n",
       "    <tr>\n",
       "      <td>7487</td>\n",
       "      <td>2020-03-13</td>\n",
       "      <td>intercites</td>\n",
       "      <td>Paris-Toulouse-Latour De Carol/Cerbere/Rodez</td>\n",
       "      <td>NaN</td>\n",
       "    </tr>\n",
       "    <tr>\n",
       "      <td>7489</td>\n",
       "      <td>2020-03-13</td>\n",
       "      <td>intercites</td>\n",
       "      <td>Paris-Briançon</td>\n",
       "      <td>NaN</td>\n",
       "    </tr>\n",
       "    <tr>\n",
       "      <td>4</td>\n",
       "      <td>2019-01-20</td>\n",
       "      <td>Afaefaef</td>\n",
       "      <td>C</td>\n",
       "      <td>[défaut de signalisation]</td>\n",
       "    </tr>\n",
       "  </tbody>\n",
       "</table>\n",
       "<p>3746 rows × 4 columns</p>\n",
       "</div>"
      ],
      "text/plain": [
       "            date        test                                         test3  \\\n",
       "1     2019-01-23  transilien                                             A   \n",
       "3     2019-01-20  intercités                                             C   \n",
       "5     2019-01-23  transilien                                             C   \n",
       "7     2019-01-23  transilien                                             D   \n",
       "9     2019-01-23  transilien                                             E   \n",
       "...          ...         ...                                           ...   \n",
       "7483  2020-03-13  intercites                              Toulouse-Bayonne   \n",
       "7485  2020-03-13  intercites                              Clermont-Béziers   \n",
       "7487  2020-03-13  intercites  Paris-Toulouse-Latour De Carol/Cerbere/Rodez   \n",
       "7489  2020-03-13  intercites                                Paris-Briançon   \n",
       "4     2019-01-20    Afaefaef                                             C   \n",
       "\n",
       "                                                  test2  \n",
       "1     ['Défaut de signalisation entre Nation et Aube...  \n",
       "3                             [défaut de signalisation]  \n",
       "5     [\"Signal d'alarme à Bibiliothèque-François-Mit...  \n",
       "7     ['Restitution tardive de travaux de nuit à Com...  \n",
       "9     [\"Signaux d'alarme malveillants à Haussamann-S...  \n",
       "...                                                 ...  \n",
       "7483                                                NaN  \n",
       "7485                                                NaN  \n",
       "7487                                                NaN  \n",
       "7489                                                NaN  \n",
       "4                             [défaut de signalisation]  \n",
       "\n",
       "[3746 rows x 4 columns]"
      ]
     },
     "execution_count": 226,
     "metadata": {},
     "output_type": "execute_result"
    }
   ],
   "source": [
    "df"
   ]
  },
  {
   "cell_type": "markdown",
   "metadata": {},
   "source": [
    "## concatenation de 2 dataframes avec pd.concat()"
   ]
  },
  {
   "cell_type": "code",
   "execution_count": 232,
   "metadata": {},
   "outputs": [],
   "source": [
    "nouveau_df = df.loc[ [3,5],   : ]"
   ]
  },
  {
   "cell_type": "code",
   "execution_count": 234,
   "metadata": {},
   "outputs": [
    {
     "data": {
      "text/plain": [
       "(2, 4)"
      ]
     },
     "execution_count": 234,
     "metadata": {},
     "output_type": "execute_result"
    }
   ],
   "source": [
    "nouveau_df.shape"
   ]
  },
  {
   "cell_type": "code",
   "execution_count": 235,
   "metadata": {},
   "outputs": [
    {
     "data": {
      "text/plain": [
       "(3746, 4)"
      ]
     },
     "execution_count": 235,
     "metadata": {},
     "output_type": "execute_result"
    }
   ],
   "source": [
    "df.shape"
   ]
  },
  {
   "cell_type": "code",
   "execution_count": 239,
   "metadata": {},
   "outputs": [
    {
     "data": {
      "text/html": [
       "<div>\n",
       "<style scoped>\n",
       "    .dataframe tbody tr th:only-of-type {\n",
       "        vertical-align: middle;\n",
       "    }\n",
       "\n",
       "    .dataframe tbody tr th {\n",
       "        vertical-align: top;\n",
       "    }\n",
       "\n",
       "    .dataframe thead th {\n",
       "        text-align: right;\n",
       "    }\n",
       "</style>\n",
       "<table border=\"1\" class=\"dataframe\">\n",
       "  <thead>\n",
       "    <tr style=\"text-align: right;\">\n",
       "      <th></th>\n",
       "      <th>date</th>\n",
       "      <th>test</th>\n",
       "      <th>test3</th>\n",
       "      <th>test2</th>\n",
       "    </tr>\n",
       "  </thead>\n",
       "  <tbody>\n",
       "    <tr>\n",
       "      <td>1</td>\n",
       "      <td>2019-01-23</td>\n",
       "      <td>transilien</td>\n",
       "      <td>A</td>\n",
       "      <td>['Défaut de signalisation entre Nation et Aube...</td>\n",
       "    </tr>\n",
       "    <tr>\n",
       "      <td>3</td>\n",
       "      <td>2019-01-20</td>\n",
       "      <td>intercités</td>\n",
       "      <td>C</td>\n",
       "      <td>[défaut de signalisation]</td>\n",
       "    </tr>\n",
       "    <tr>\n",
       "      <td>5</td>\n",
       "      <td>2019-01-23</td>\n",
       "      <td>transilien</td>\n",
       "      <td>C</td>\n",
       "      <td>[\"Signal d'alarme à Bibiliothèque-François-Mit...</td>\n",
       "    </tr>\n",
       "    <tr>\n",
       "      <td>7</td>\n",
       "      <td>2019-01-23</td>\n",
       "      <td>transilien</td>\n",
       "      <td>D</td>\n",
       "      <td>['Restitution tardive de travaux de nuit à Com...</td>\n",
       "    </tr>\n",
       "    <tr>\n",
       "      <td>9</td>\n",
       "      <td>2019-01-23</td>\n",
       "      <td>transilien</td>\n",
       "      <td>E</td>\n",
       "      <td>[\"Signaux d'alarme malveillants à Haussamann-S...</td>\n",
       "    </tr>\n",
       "    <tr>\n",
       "      <td>...</td>\n",
       "      <td>...</td>\n",
       "      <td>...</td>\n",
       "      <td>...</td>\n",
       "      <td>...</td>\n",
       "    </tr>\n",
       "    <tr>\n",
       "      <td>5</td>\n",
       "      <td>2019-01-23</td>\n",
       "      <td>transilien</td>\n",
       "      <td>C</td>\n",
       "      <td>[\"Signal d'alarme à Bibiliothèque-François-Mit...</td>\n",
       "    </tr>\n",
       "    <tr>\n",
       "      <td>3</td>\n",
       "      <td>2019-01-20</td>\n",
       "      <td>intercités</td>\n",
       "      <td>C</td>\n",
       "      <td>[défaut de signalisation]</td>\n",
       "    </tr>\n",
       "    <tr>\n",
       "      <td>5</td>\n",
       "      <td>2019-01-23</td>\n",
       "      <td>transilien</td>\n",
       "      <td>C</td>\n",
       "      <td>[\"Signal d'alarme à Bibiliothèque-François-Mit...</td>\n",
       "    </tr>\n",
       "    <tr>\n",
       "      <td>3</td>\n",
       "      <td>2019-01-20</td>\n",
       "      <td>intercités</td>\n",
       "      <td>C</td>\n",
       "      <td>[défaut de signalisation]</td>\n",
       "    </tr>\n",
       "    <tr>\n",
       "      <td>5</td>\n",
       "      <td>2019-01-23</td>\n",
       "      <td>transilien</td>\n",
       "      <td>C</td>\n",
       "      <td>[\"Signal d'alarme à Bibiliothèque-François-Mit...</td>\n",
       "    </tr>\n",
       "  </tbody>\n",
       "</table>\n",
       "<p>3752 rows × 4 columns</p>\n",
       "</div>"
      ],
      "text/plain": [
       "          date        test test3  \\\n",
       "1   2019-01-23  transilien     A   \n",
       "3   2019-01-20  intercités     C   \n",
       "5   2019-01-23  transilien     C   \n",
       "7   2019-01-23  transilien     D   \n",
       "9   2019-01-23  transilien     E   \n",
       "..         ...         ...   ...   \n",
       "5   2019-01-23  transilien     C   \n",
       "3   2019-01-20  intercités     C   \n",
       "5   2019-01-23  transilien     C   \n",
       "3   2019-01-20  intercités     C   \n",
       "5   2019-01-23  transilien     C   \n",
       "\n",
       "                                                test2  \n",
       "1   ['Défaut de signalisation entre Nation et Aube...  \n",
       "3                           [défaut de signalisation]  \n",
       "5   [\"Signal d'alarme à Bibiliothèque-François-Mit...  \n",
       "7   ['Restitution tardive de travaux de nuit à Com...  \n",
       "9   [\"Signaux d'alarme malveillants à Haussamann-S...  \n",
       "..                                                ...  \n",
       "5   [\"Signal d'alarme à Bibiliothèque-François-Mit...  \n",
       "3                           [défaut de signalisation]  \n",
       "5   [\"Signal d'alarme à Bibiliothèque-François-Mit...  \n",
       "3                           [défaut de signalisation]  \n",
       "5   [\"Signal d'alarme à Bibiliothèque-François-Mit...  \n",
       "\n",
       "[3752 rows x 4 columns]"
      ]
     },
     "execution_count": 239,
     "metadata": {},
     "output_type": "execute_result"
    }
   ],
   "source": [
    "pd.concat([ df, nouveau_df , nouveau_df, nouveau_df],  axis=0 )"
   ]
  },
  {
   "cell_type": "markdown",
   "metadata": {},
   "source": [
    "### Création de toute pièce une ligne"
   ]
  },
  {
   "cell_type": "code",
   "execution_count": 245,
   "metadata": {},
   "outputs": [],
   "source": [
    "maligne = [\"2019-01-23\",\"transilien\", \"A\",['Défaut de signalisation entre Nation et Auber']]"
   ]
  },
  {
   "cell_type": "code",
   "execution_count": 246,
   "metadata": {},
   "outputs": [
    {
     "data": {
      "text/plain": [
       "['2019-01-23',\n",
       " 'transilien',\n",
       " 'A',\n",
       " ['Défaut de signalisation entre Nation et Auber']]"
      ]
     },
     "execution_count": 246,
     "metadata": {},
     "output_type": "execute_result"
    }
   ],
   "source": [
    "maligne"
   ]
  },
  {
   "cell_type": "code",
   "execution_count": 254,
   "metadata": {},
   "outputs": [
    {
     "data": {
      "text/plain": [
       "date                                          2019-01-23\n",
       "test                                          transilien\n",
       "test3                                                  A\n",
       "test2    [Défaut de signalisation entre Nation et Auber]\n",
       "dtype: object"
      ]
     },
     "execution_count": 254,
     "metadata": {},
     "output_type": "execute_result"
    }
   ],
   "source": [
    "pd.Series( maligne , index=df.columns)"
   ]
  },
  {
   "cell_type": "code",
   "execution_count": 252,
   "metadata": {},
   "outputs": [
    {
     "data": {
      "text/html": [
       "<div>\n",
       "<style scoped>\n",
       "    .dataframe tbody tr th:only-of-type {\n",
       "        vertical-align: middle;\n",
       "    }\n",
       "\n",
       "    .dataframe tbody tr th {\n",
       "        vertical-align: top;\n",
       "    }\n",
       "\n",
       "    .dataframe thead th {\n",
       "        text-align: right;\n",
       "    }\n",
       "</style>\n",
       "<table border=\"1\" class=\"dataframe\">\n",
       "  <thead>\n",
       "    <tr style=\"text-align: right;\">\n",
       "      <th></th>\n",
       "      <th>date</th>\n",
       "      <th>test</th>\n",
       "      <th>test3</th>\n",
       "      <th>test2</th>\n",
       "    </tr>\n",
       "  </thead>\n",
       "  <tbody>\n",
       "    <tr>\n",
       "      <td>0</td>\n",
       "      <td>2019-01-23</td>\n",
       "      <td>transilien</td>\n",
       "      <td>A</td>\n",
       "      <td>[Défaut de signalisation entre Nation et Auber]</td>\n",
       "    </tr>\n",
       "  </tbody>\n",
       "</table>\n",
       "</div>"
      ],
      "text/plain": [
       "         date        test test3  \\\n",
       "0  2019-01-23  transilien     A   \n",
       "\n",
       "                                             test2  \n",
       "0  [Défaut de signalisation entre Nation et Auber]  "
      ]
     },
     "execution_count": 252,
     "metadata": {},
     "output_type": "execute_result"
    }
   ],
   "source": [
    "new_line_df = pd.Series( maligne , index=df.columns).to_frame().T\n",
    "new_line_df"
   ]
  },
  {
   "cell_type": "code",
   "execution_count": 253,
   "metadata": {},
   "outputs": [
    {
     "data": {
      "text/html": [
       "<div>\n",
       "<style scoped>\n",
       "    .dataframe tbody tr th:only-of-type {\n",
       "        vertical-align: middle;\n",
       "    }\n",
       "\n",
       "    .dataframe tbody tr th {\n",
       "        vertical-align: top;\n",
       "    }\n",
       "\n",
       "    .dataframe thead th {\n",
       "        text-align: right;\n",
       "    }\n",
       "</style>\n",
       "<table border=\"1\" class=\"dataframe\">\n",
       "  <thead>\n",
       "    <tr style=\"text-align: right;\">\n",
       "      <th></th>\n",
       "      <th>date</th>\n",
       "      <th>test</th>\n",
       "      <th>test3</th>\n",
       "      <th>test2</th>\n",
       "    </tr>\n",
       "  </thead>\n",
       "  <tbody>\n",
       "    <tr>\n",
       "      <td>1</td>\n",
       "      <td>2019-01-23</td>\n",
       "      <td>transilien</td>\n",
       "      <td>A</td>\n",
       "      <td>['Défaut de signalisation entre Nation et Aube...</td>\n",
       "    </tr>\n",
       "    <tr>\n",
       "      <td>3</td>\n",
       "      <td>2019-01-20</td>\n",
       "      <td>intercités</td>\n",
       "      <td>C</td>\n",
       "      <td>[défaut de signalisation]</td>\n",
       "    </tr>\n",
       "    <tr>\n",
       "      <td>5</td>\n",
       "      <td>2019-01-23</td>\n",
       "      <td>transilien</td>\n",
       "      <td>C</td>\n",
       "      <td>[\"Signal d'alarme à Bibiliothèque-François-Mit...</td>\n",
       "    </tr>\n",
       "    <tr>\n",
       "      <td>7</td>\n",
       "      <td>2019-01-23</td>\n",
       "      <td>transilien</td>\n",
       "      <td>D</td>\n",
       "      <td>['Restitution tardive de travaux de nuit à Com...</td>\n",
       "    </tr>\n",
       "    <tr>\n",
       "      <td>9</td>\n",
       "      <td>2019-01-23</td>\n",
       "      <td>transilien</td>\n",
       "      <td>E</td>\n",
       "      <td>[\"Signaux d'alarme malveillants à Haussamann-S...</td>\n",
       "    </tr>\n",
       "    <tr>\n",
       "      <td>...</td>\n",
       "      <td>...</td>\n",
       "      <td>...</td>\n",
       "      <td>...</td>\n",
       "      <td>...</td>\n",
       "    </tr>\n",
       "    <tr>\n",
       "      <td>7485</td>\n",
       "      <td>2020-03-13</td>\n",
       "      <td>intercites</td>\n",
       "      <td>Clermont-Béziers</td>\n",
       "      <td>NaN</td>\n",
       "    </tr>\n",
       "    <tr>\n",
       "      <td>7487</td>\n",
       "      <td>2020-03-13</td>\n",
       "      <td>intercites</td>\n",
       "      <td>Paris-Toulouse-Latour De Carol/Cerbere/Rodez</td>\n",
       "      <td>NaN</td>\n",
       "    </tr>\n",
       "    <tr>\n",
       "      <td>7489</td>\n",
       "      <td>2020-03-13</td>\n",
       "      <td>intercites</td>\n",
       "      <td>Paris-Briançon</td>\n",
       "      <td>NaN</td>\n",
       "    </tr>\n",
       "    <tr>\n",
       "      <td>4</td>\n",
       "      <td>2019-01-20</td>\n",
       "      <td>Afaefaef</td>\n",
       "      <td>C</td>\n",
       "      <td>[défaut de signalisation]</td>\n",
       "    </tr>\n",
       "    <tr>\n",
       "      <td>0</td>\n",
       "      <td>2019-01-23</td>\n",
       "      <td>transilien</td>\n",
       "      <td>A</td>\n",
       "      <td>[Défaut de signalisation entre Nation et Auber]</td>\n",
       "    </tr>\n",
       "  </tbody>\n",
       "</table>\n",
       "<p>3747 rows × 4 columns</p>\n",
       "</div>"
      ],
      "text/plain": [
       "            date        test                                         test3  \\\n",
       "1     2019-01-23  transilien                                             A   \n",
       "3     2019-01-20  intercités                                             C   \n",
       "5     2019-01-23  transilien                                             C   \n",
       "7     2019-01-23  transilien                                             D   \n",
       "9     2019-01-23  transilien                                             E   \n",
       "...          ...         ...                                           ...   \n",
       "7485  2020-03-13  intercites                              Clermont-Béziers   \n",
       "7487  2020-03-13  intercites  Paris-Toulouse-Latour De Carol/Cerbere/Rodez   \n",
       "7489  2020-03-13  intercites                                Paris-Briançon   \n",
       "4     2019-01-20    Afaefaef                                             C   \n",
       "0     2019-01-23  transilien                                             A   \n",
       "\n",
       "                                                  test2  \n",
       "1     ['Défaut de signalisation entre Nation et Aube...  \n",
       "3                             [défaut de signalisation]  \n",
       "5     [\"Signal d'alarme à Bibiliothèque-François-Mit...  \n",
       "7     ['Restitution tardive de travaux de nuit à Com...  \n",
       "9     [\"Signaux d'alarme malveillants à Haussamann-S...  \n",
       "...                                                 ...  \n",
       "7485                                                NaN  \n",
       "7487                                                NaN  \n",
       "7489                                                NaN  \n",
       "4                             [défaut de signalisation]  \n",
       "0       [Défaut de signalisation entre Nation et Auber]  \n",
       "\n",
       "[3747 rows x 4 columns]"
      ]
     },
     "execution_count": 253,
     "metadata": {},
     "output_type": "execute_result"
    }
   ],
   "source": [
    "pd.concat([ df, new_line_df],  axis=0 )"
   ]
  },
  {
   "cell_type": "markdown",
   "metadata": {},
   "source": [
    "## reset l'index ( à ne pas confondre avec reindex = reindexation suivant index fournit en parametre)"
   ]
  },
  {
   "cell_type": "code",
   "execution_count": 256,
   "metadata": {},
   "outputs": [
    {
     "data": {
      "text/plain": [
       "Int64Index([   1,    3,    5,    7,    9,   11,   13,   15,   17,   19,\n",
       "            ...\n",
       "            7473, 7475, 7477, 7479, 7481, 7483, 7485, 7487, 7489,    4],\n",
       "           dtype='int64', length=3746)"
      ]
     },
     "execution_count": 256,
     "metadata": {},
     "output_type": "execute_result"
    }
   ],
   "source": [
    "df.index"
   ]
  },
  {
   "cell_type": "code",
   "execution_count": 274,
   "metadata": {},
   "outputs": [],
   "source": [
    "df.reset_index(inplace=True, drop=True)"
   ]
  },
  {
   "cell_type": "code",
   "execution_count": 275,
   "metadata": {},
   "outputs": [
    {
     "data": {
      "text/html": [
       "<div>\n",
       "<style scoped>\n",
       "    .dataframe tbody tr th:only-of-type {\n",
       "        vertical-align: middle;\n",
       "    }\n",
       "\n",
       "    .dataframe tbody tr th {\n",
       "        vertical-align: top;\n",
       "    }\n",
       "\n",
       "    .dataframe thead th {\n",
       "        text-align: right;\n",
       "    }\n",
       "</style>\n",
       "<table border=\"1\" class=\"dataframe\">\n",
       "  <thead>\n",
       "    <tr style=\"text-align: right;\">\n",
       "      <th></th>\n",
       "      <th>date</th>\n",
       "      <th>famille_transport</th>\n",
       "      <th>ligne</th>\n",
       "      <th>incidents</th>\n",
       "    </tr>\n",
       "  </thead>\n",
       "  <tbody>\n",
       "    <tr>\n",
       "      <td>0</td>\n",
       "      <td>2019-01-23</td>\n",
       "      <td>transilien</td>\n",
       "      <td>A</td>\n",
       "      <td>['Défaut de signalisation entre Nation et Aube...</td>\n",
       "    </tr>\n",
       "    <tr>\n",
       "      <td>1</td>\n",
       "      <td>2019-01-23</td>\n",
       "      <td>transilien</td>\n",
       "      <td>B</td>\n",
       "      <td>['Intervention de police à Gare-du-Nord pour u...</td>\n",
       "    </tr>\n",
       "    <tr>\n",
       "      <td>2</td>\n",
       "      <td>2019-01-23</td>\n",
       "      <td>transilien</td>\n",
       "      <td>C</td>\n",
       "      <td>[\"Signal d'alarme à Bibiliothèque-François-Mit...</td>\n",
       "    </tr>\n",
       "    <tr>\n",
       "      <td>3</td>\n",
       "      <td>2019-01-23</td>\n",
       "      <td>transilien</td>\n",
       "      <td>D</td>\n",
       "      <td>['Restitution tardive de travaux de nuit à Com...</td>\n",
       "    </tr>\n",
       "    <tr>\n",
       "      <td>4</td>\n",
       "      <td>2019-01-23</td>\n",
       "      <td>transilien</td>\n",
       "      <td>E</td>\n",
       "      <td>[\"Signaux d'alarme malveillants à Haussamann-S...</td>\n",
       "    </tr>\n",
       "    <tr>\n",
       "      <td>...</td>\n",
       "      <td>...</td>\n",
       "      <td>...</td>\n",
       "      <td>...</td>\n",
       "      <td>...</td>\n",
       "    </tr>\n",
       "    <tr>\n",
       "      <td>3740</td>\n",
       "      <td>2020-03-13</td>\n",
       "      <td>intercites</td>\n",
       "      <td>Nantes-Lyon</td>\n",
       "      <td>[\"Présence d'individus sur le pont-rail du Rhô...</td>\n",
       "    </tr>\n",
       "    <tr>\n",
       "      <td>3741</td>\n",
       "      <td>2020-03-13</td>\n",
       "      <td>intercites</td>\n",
       "      <td>Toulouse-Bayonne</td>\n",
       "      <td>NaN</td>\n",
       "    </tr>\n",
       "    <tr>\n",
       "      <td>3742</td>\n",
       "      <td>2020-03-13</td>\n",
       "      <td>intercites</td>\n",
       "      <td>Clermont-Béziers</td>\n",
       "      <td>NaN</td>\n",
       "    </tr>\n",
       "    <tr>\n",
       "      <td>3743</td>\n",
       "      <td>2020-03-13</td>\n",
       "      <td>intercites</td>\n",
       "      <td>Paris-Toulouse-Latour De Carol/Cerbere/Rodez</td>\n",
       "      <td>NaN</td>\n",
       "    </tr>\n",
       "    <tr>\n",
       "      <td>3744</td>\n",
       "      <td>2020-03-13</td>\n",
       "      <td>intercites</td>\n",
       "      <td>Paris-Briançon</td>\n",
       "      <td>NaN</td>\n",
       "    </tr>\n",
       "  </tbody>\n",
       "</table>\n",
       "<p>3745 rows × 4 columns</p>\n",
       "</div>"
      ],
      "text/plain": [
       "            date famille_transport  \\\n",
       "0     2019-01-23        transilien   \n",
       "1     2019-01-23        transilien   \n",
       "2     2019-01-23        transilien   \n",
       "3     2019-01-23        transilien   \n",
       "4     2019-01-23        transilien   \n",
       "...          ...               ...   \n",
       "3740  2020-03-13        intercites   \n",
       "3741  2020-03-13        intercites   \n",
       "3742  2020-03-13        intercites   \n",
       "3743  2020-03-13        intercites   \n",
       "3744  2020-03-13        intercites   \n",
       "\n",
       "                                             ligne  \\\n",
       "0                                                A   \n",
       "1                                                B   \n",
       "2                                                C   \n",
       "3                                                D   \n",
       "4                                                E   \n",
       "...                                            ...   \n",
       "3740                                   Nantes-Lyon   \n",
       "3741                              Toulouse-Bayonne   \n",
       "3742                              Clermont-Béziers   \n",
       "3743  Paris-Toulouse-Latour De Carol/Cerbere/Rodez   \n",
       "3744                                Paris-Briançon   \n",
       "\n",
       "                                              incidents  \n",
       "0     ['Défaut de signalisation entre Nation et Aube...  \n",
       "1     ['Intervention de police à Gare-du-Nord pour u...  \n",
       "2     [\"Signal d'alarme à Bibiliothèque-François-Mit...  \n",
       "3     ['Restitution tardive de travaux de nuit à Com...  \n",
       "4     [\"Signaux d'alarme malveillants à Haussamann-S...  \n",
       "...                                                 ...  \n",
       "3740  [\"Présence d'individus sur le pont-rail du Rhô...  \n",
       "3741                                                NaN  \n",
       "3742                                                NaN  \n",
       "3743                                                NaN  \n",
       "3744                                                NaN  \n",
       "\n",
       "[3745 rows x 4 columns]"
      ]
     },
     "execution_count": 275,
     "metadata": {},
     "output_type": "execute_result"
    }
   ],
   "source": [
    "df"
   ]
  },
  {
   "cell_type": "markdown",
   "metadata": {},
   "source": [
    "## création d'un dataframe à partir d'un csv"
   ]
  },
  {
   "cell_type": "code",
   "execution_count": 279,
   "metadata": {},
   "outputs": [],
   "source": [
    "#pd.read_csv(\"./incidents.csv\") # ou avec une url voir ci-dessus les 2 approches que l'on a utilisées"
   ]
  },
  {
   "cell_type": "markdown",
   "metadata": {},
   "source": [
    "## création d'un dataframe"
   ]
  },
  {
   "cell_type": "code",
   "execution_count": 289,
   "metadata": {},
   "outputs": [],
   "source": [
    "df2 = pd.DataFrame({ 'test' : [2,3,3,5,5],  'test2': [4,5,2,2, 2] , 'test3': [5,3,4,3, 9]})"
   ]
  },
  {
   "cell_type": "code",
   "execution_count": 290,
   "metadata": {},
   "outputs": [
    {
     "data": {
      "text/html": [
       "<div>\n",
       "<style scoped>\n",
       "    .dataframe tbody tr th:only-of-type {\n",
       "        vertical-align: middle;\n",
       "    }\n",
       "\n",
       "    .dataframe tbody tr th {\n",
       "        vertical-align: top;\n",
       "    }\n",
       "\n",
       "    .dataframe thead th {\n",
       "        text-align: right;\n",
       "    }\n",
       "</style>\n",
       "<table border=\"1\" class=\"dataframe\">\n",
       "  <thead>\n",
       "    <tr style=\"text-align: right;\">\n",
       "      <th></th>\n",
       "      <th>test</th>\n",
       "      <th>test2</th>\n",
       "      <th>test3</th>\n",
       "    </tr>\n",
       "  </thead>\n",
       "  <tbody>\n",
       "    <tr>\n",
       "      <td>0</td>\n",
       "      <td>2</td>\n",
       "      <td>4</td>\n",
       "      <td>5</td>\n",
       "    </tr>\n",
       "    <tr>\n",
       "      <td>1</td>\n",
       "      <td>3</td>\n",
       "      <td>5</td>\n",
       "      <td>3</td>\n",
       "    </tr>\n",
       "    <tr>\n",
       "      <td>2</td>\n",
       "      <td>3</td>\n",
       "      <td>2</td>\n",
       "      <td>4</td>\n",
       "    </tr>\n",
       "    <tr>\n",
       "      <td>3</td>\n",
       "      <td>5</td>\n",
       "      <td>2</td>\n",
       "      <td>3</td>\n",
       "    </tr>\n",
       "    <tr>\n",
       "      <td>4</td>\n",
       "      <td>5</td>\n",
       "      <td>2</td>\n",
       "      <td>9</td>\n",
       "    </tr>\n",
       "  </tbody>\n",
       "</table>\n",
       "</div>"
      ],
      "text/plain": [
       "   test  test2  test3\n",
       "0     2      4      5\n",
       "1     3      5      3\n",
       "2     3      2      4\n",
       "3     5      2      3\n",
       "4     5      2      9"
      ]
     },
     "execution_count": 290,
     "metadata": {},
     "output_type": "execute_result"
    }
   ],
   "source": [
    "df2"
   ]
  },
  {
   "cell_type": "code",
   "execution_count": null,
   "metadata": {},
   "outputs": [],
   "source": []
  },
  {
   "cell_type": "code",
   "execution_count": null,
   "metadata": {},
   "outputs": [],
   "source": []
  },
  {
   "cell_type": "code",
   "execution_count": 291,
   "metadata": {},
   "outputs": [],
   "source": [
    "## masks"
   ]
  },
  {
   "cell_type": "markdown",
   "metadata": {},
   "source": [
    "## calculs "
   ]
  },
  {
   "cell_type": "markdown",
   "metadata": {},
   "source": [
    "# Groupby"
   ]
  },
  {
   "cell_type": "code",
   "execution_count": 222,
   "metadata": {},
   "outputs": [],
   "source": [
    "#df.reset_index(drop=True)"
   ]
  },
  {
   "cell_type": "code",
   "execution_count": null,
   "metadata": {},
   "outputs": [],
   "source": []
  },
  {
   "cell_type": "code",
   "execution_count": null,
   "metadata": {},
   "outputs": [],
   "source": []
  },
  {
   "cell_type": "code",
   "execution_count": null,
   "metadata": {},
   "outputs": [],
   "source": []
  },
  {
   "cell_type": "code",
   "execution_count": null,
   "metadata": {},
   "outputs": [],
   "source": []
  },
  {
   "cell_type": "code",
   "execution_count": null,
   "metadata": {},
   "outputs": [],
   "source": []
  },
  {
   "cell_type": "code",
   "execution_count": null,
   "metadata": {},
   "outputs": [],
   "source": []
  },
  {
   "cell_type": "code",
   "execution_count": null,
   "metadata": {},
   "outputs": [],
   "source": []
  },
  {
   "cell_type": "code",
   "execution_count": null,
   "metadata": {},
   "outputs": [],
   "source": []
  },
  {
   "cell_type": "code",
   "execution_count": null,
   "metadata": {},
   "outputs": [],
   "source": []
  },
  {
   "cell_type": "code",
   "execution_count": 56,
   "metadata": {},
   "outputs": [],
   "source": [
    "df.to_csv(\"ind.csv\")"
   ]
  },
  {
   "cell_type": "code",
   "execution_count": 47,
   "metadata": {},
   "outputs": [
    {
     "data": {
      "text/plain": [
       "Index(['date', 'famille_transport', 'ligne', 'incidents'], dtype='object')"
      ]
     },
     "execution_count": 47,
     "metadata": {},
     "output_type": "execute_result"
    }
   ],
   "source": [
    "df.columns"
   ]
  },
  {
   "cell_type": "code",
   "execution_count": 22,
   "metadata": {},
   "outputs": [
    {
     "data": {
      "text/plain": [
       "date                 object\n",
       "famille_transport    object\n",
       "ligne                object\n",
       "incidents            object\n",
       "dtype: object"
      ]
     },
     "execution_count": 22,
     "metadata": {},
     "output_type": "execute_result"
    }
   ],
   "source": [
    "df.dtypes"
   ]
  },
  {
   "cell_type": "code",
   "execution_count": 23,
   "metadata": {},
   "outputs": [
    {
     "data": {
      "text/html": [
       "<div>\n",
       "<style scoped>\n",
       "    .dataframe tbody tr th:only-of-type {\n",
       "        vertical-align: middle;\n",
       "    }\n",
       "\n",
       "    .dataframe tbody tr th {\n",
       "        vertical-align: top;\n",
       "    }\n",
       "\n",
       "    .dataframe thead th {\n",
       "        text-align: right;\n",
       "    }\n",
       "</style>\n",
       "<table border=\"1\" class=\"dataframe\">\n",
       "  <thead>\n",
       "    <tr style=\"text-align: right;\">\n",
       "      <th></th>\n",
       "      <th>date</th>\n",
       "      <th>famille_transport</th>\n",
       "      <th>ligne</th>\n",
       "      <th>incidents</th>\n",
       "    </tr>\n",
       "  </thead>\n",
       "  <tbody>\n",
       "    <tr>\n",
       "      <td>0</td>\n",
       "      <td>2019-01-23</td>\n",
       "      <td>transilien</td>\n",
       "      <td>A</td>\n",
       "      <td>['Défaut de signalisation entre Nation et Aube...</td>\n",
       "    </tr>\n",
       "    <tr>\n",
       "      <td>1</td>\n",
       "      <td>2019-01-23</td>\n",
       "      <td>transilien</td>\n",
       "      <td>B</td>\n",
       "      <td>['Intervention de police à Gare-du-Nord pour u...</td>\n",
       "    </tr>\n",
       "    <tr>\n",
       "      <td>2</td>\n",
       "      <td>2019-01-23</td>\n",
       "      <td>transilien</td>\n",
       "      <td>C</td>\n",
       "      <td>[\"Signal d'alarme à Bibiliothèque-François-Mit...</td>\n",
       "    </tr>\n",
       "  </tbody>\n",
       "</table>\n",
       "</div>"
      ],
      "text/plain": [
       "         date famille_transport ligne  \\\n",
       "0  2019-01-23        transilien     A   \n",
       "1  2019-01-23        transilien     B   \n",
       "2  2019-01-23        transilien     C   \n",
       "\n",
       "                                           incidents  \n",
       "0  ['Défaut de signalisation entre Nation et Aube...  \n",
       "1  ['Intervention de police à Gare-du-Nord pour u...  \n",
       "2  [\"Signal d'alarme à Bibiliothèque-François-Mit...  "
      ]
     },
     "execution_count": 23,
     "metadata": {},
     "output_type": "execute_result"
    }
   ],
   "source": [
    "df.head(3)"
   ]
  },
  {
   "cell_type": "code",
   "execution_count": 24,
   "metadata": {},
   "outputs": [
    {
     "data": {
      "text/html": [
       "<div>\n",
       "<style scoped>\n",
       "    .dataframe tbody tr th:only-of-type {\n",
       "        vertical-align: middle;\n",
       "    }\n",
       "\n",
       "    .dataframe tbody tr th {\n",
       "        vertical-align: top;\n",
       "    }\n",
       "\n",
       "    .dataframe thead th {\n",
       "        text-align: right;\n",
       "    }\n",
       "</style>\n",
       "<table border=\"1\" class=\"dataframe\">\n",
       "  <thead>\n",
       "    <tr style=\"text-align: right;\">\n",
       "      <th></th>\n",
       "      <th>date</th>\n",
       "      <th>famille_transport</th>\n",
       "      <th>ligne</th>\n",
       "      <th>incidents</th>\n",
       "    </tr>\n",
       "  </thead>\n",
       "  <tbody>\n",
       "    <tr>\n",
       "      <td>count</td>\n",
       "      <td>3745</td>\n",
       "      <td>3745</td>\n",
       "      <td>3745</td>\n",
       "      <td>1693</td>\n",
       "    </tr>\n",
       "    <tr>\n",
       "      <td>unique</td>\n",
       "      <td>84</td>\n",
       "      <td>4</td>\n",
       "      <td>45</td>\n",
       "      <td>1416</td>\n",
       "    </tr>\n",
       "    <tr>\n",
       "      <td>top</td>\n",
       "      <td>2019-11-18</td>\n",
       "      <td>transilien</td>\n",
       "      <td>T11</td>\n",
       "      <td>['Grève sans préavis']</td>\n",
       "    </tr>\n",
       "    <tr>\n",
       "      <td>freq</td>\n",
       "      <td>90</td>\n",
       "      <td>1275</td>\n",
       "      <td>85</td>\n",
       "      <td>91</td>\n",
       "    </tr>\n",
       "  </tbody>\n",
       "</table>\n",
       "</div>"
      ],
      "text/plain": [
       "              date famille_transport ligne               incidents\n",
       "count         3745              3745  3745                    1693\n",
       "unique          84                 4    45                    1416\n",
       "top     2019-11-18        transilien   T11  ['Grève sans préavis']\n",
       "freq            90              1275    85                      91"
      ]
     },
     "execution_count": 24,
     "metadata": {},
     "output_type": "execute_result"
    }
   ],
   "source": [
    "df.describe()"
   ]
  },
  {
   "cell_type": "code",
   "execution_count": 27,
   "metadata": {},
   "outputs": [
    {
     "data": {
      "text/plain": [
       "3745"
      ]
     },
     "execution_count": 27,
     "metadata": {},
     "output_type": "execute_result"
    }
   ],
   "source": [
    "sum(df.famille_transport.value_counts().tolist())"
   ]
  },
  {
   "cell_type": "code",
   "execution_count": 41,
   "metadata": {},
   "outputs": [
    {
     "data": {
      "text/plain": [
       "transilien    1275\n",
       "intercites    1025\n",
       "ter            935\n",
       "tgv            510\n",
       "Name: famille_transport, dtype: int64"
      ]
     },
     "execution_count": 41,
     "metadata": {},
     "output_type": "execute_result"
    }
   ],
   "source": [
    "df.famille_transport.value_counts()"
   ]
  },
  {
   "cell_type": "code",
   "execution_count": 43,
   "metadata": {},
   "outputs": [],
   "source": [
    "%matplotlib inline"
   ]
  },
  {
   "cell_type": "code",
   "execution_count": 44,
   "metadata": {},
   "outputs": [
    {
     "data": {
      "text/plain": [
       "<matplotlib.axes._subplots.AxesSubplot at 0xd290c1da0>"
      ]
     },
     "execution_count": 44,
     "metadata": {},
     "output_type": "execute_result"
    },
    {
     "data": {
      "image/png": "[encoded data removed]",
      "text/plain": [
       "<Figure size 432x288 with 1 Axes>"
      ]
     },
     "metadata": {},
     "output_type": "display_data"
    }
   ],
   "source": [
    "df.famille_transport.value_counts().plot(kind='bar')"
   ]
  },
  {
   "cell_type": "code",
   "execution_count": 58,
   "metadata": {},
   "outputs": [
    {
     "data": {
      "text/html": [
       "<div>\n",
       "<style scoped>\n",
       "    .dataframe tbody tr th:only-of-type {\n",
       "        vertical-align: middle;\n",
       "    }\n",
       "\n",
       "    .dataframe tbody tr th {\n",
       "        vertical-align: top;\n",
       "    }\n",
       "\n",
       "    .dataframe thead th {\n",
       "        text-align: right;\n",
       "    }\n",
       "</style>\n",
       "<table border=\"1\" class=\"dataframe\">\n",
       "  <thead>\n",
       "    <tr style=\"text-align: right;\">\n",
       "      <th></th>\n",
       "      <th>test1</th>\n",
       "      <th>test3</th>\n",
       "      <th>test2</th>\n",
       "      <th>test4</th>\n",
       "    </tr>\n",
       "  </thead>\n",
       "  <tbody>\n",
       "    <tr>\n",
       "      <td>0</td>\n",
       "      <td>date</td>\n",
       "      <td>famille_transport</td>\n",
       "      <td>ligne</td>\n",
       "      <td>incidents</td>\n",
       "    </tr>\n",
       "    <tr>\n",
       "      <td>1</td>\n",
       "      <td>2019-01-23</td>\n",
       "      <td>transilien</td>\n",
       "      <td>A</td>\n",
       "      <td>['Défaut de signalisation entre Nation et Aube...</td>\n",
       "    </tr>\n",
       "    <tr>\n",
       "      <td>2</td>\n",
       "      <td>2019-01-23</td>\n",
       "      <td>transilien</td>\n",
       "      <td>B</td>\n",
       "      <td>['Intervention de police à Gare-du-Nord pour u...</td>\n",
       "    </tr>\n",
       "    <tr>\n",
       "      <td>3</td>\n",
       "      <td>2019-01-23</td>\n",
       "      <td>transilien</td>\n",
       "      <td>C</td>\n",
       "      <td>[\"Signal d'alarme à Bibiliothèque-François-Mit...</td>\n",
       "    </tr>\n",
       "    <tr>\n",
       "      <td>4</td>\n",
       "      <td>2019-01-23</td>\n",
       "      <td>transilien</td>\n",
       "      <td>D</td>\n",
       "      <td>['Restitution tardive de travaux de nuit à Com...</td>\n",
       "    </tr>\n",
       "    <tr>\n",
       "      <td>...</td>\n",
       "      <td>...</td>\n",
       "      <td>...</td>\n",
       "      <td>...</td>\n",
       "      <td>...</td>\n",
       "    </tr>\n",
       "    <tr>\n",
       "      <td>3741</td>\n",
       "      <td>2020-03-13</td>\n",
       "      <td>intercites</td>\n",
       "      <td>Nantes-Lyon</td>\n",
       "      <td>[\"Présence d'individus sur le pont-rail du Rhô...</td>\n",
       "    </tr>\n",
       "    <tr>\n",
       "      <td>3742</td>\n",
       "      <td>2020-03-13</td>\n",
       "      <td>intercites</td>\n",
       "      <td>Toulouse-Bayonne</td>\n",
       "      <td>NaN</td>\n",
       "    </tr>\n",
       "    <tr>\n",
       "      <td>3743</td>\n",
       "      <td>2020-03-13</td>\n",
       "      <td>intercites</td>\n",
       "      <td>Clermont-Béziers</td>\n",
       "      <td>NaN</td>\n",
       "    </tr>\n",
       "    <tr>\n",
       "      <td>3744</td>\n",
       "      <td>2020-03-13</td>\n",
       "      <td>intercites</td>\n",
       "      <td>Paris-Toulouse-Latour De Carol/Cerbere/Rodez</td>\n",
       "      <td>NaN</td>\n",
       "    </tr>\n",
       "    <tr>\n",
       "      <td>3745</td>\n",
       "      <td>2020-03-13</td>\n",
       "      <td>intercites</td>\n",
       "      <td>Paris-Briançon</td>\n",
       "      <td>NaN</td>\n",
       "    </tr>\n",
       "  </tbody>\n",
       "</table>\n",
       "<p>3746 rows × 4 columns</p>\n",
       "</div>"
      ],
      "text/plain": [
       "           test1              test3  \\\n",
       "0           date  famille_transport   \n",
       "1     2019-01-23         transilien   \n",
       "2     2019-01-23         transilien   \n",
       "3     2019-01-23         transilien   \n",
       "4     2019-01-23         transilien   \n",
       "...          ...                ...   \n",
       "3741  2020-03-13         intercites   \n",
       "3742  2020-03-13         intercites   \n",
       "3743  2020-03-13         intercites   \n",
       "3744  2020-03-13         intercites   \n",
       "3745  2020-03-13         intercites   \n",
       "\n",
       "                                             test2  \\\n",
       "0                                            ligne   \n",
       "1                                                A   \n",
       "2                                                B   \n",
       "3                                                C   \n",
       "4                                                D   \n",
       "...                                            ...   \n",
       "3741                                   Nantes-Lyon   \n",
       "3742                              Toulouse-Bayonne   \n",
       "3743                              Clermont-Béziers   \n",
       "3744  Paris-Toulouse-Latour De Carol/Cerbere/Rodez   \n",
       "3745                                Paris-Briançon   \n",
       "\n",
       "                                                  test4  \n",
       "0                                             incidents  \n",
       "1     ['Défaut de signalisation entre Nation et Aube...  \n",
       "2     ['Intervention de police à Gare-du-Nord pour u...  \n",
       "3     [\"Signal d'alarme à Bibiliothèque-François-Mit...  \n",
       "4     ['Restitution tardive de travaux de nuit à Com...  \n",
       "...                                                 ...  \n",
       "3741  [\"Présence d'individus sur le pont-rail du Rhô...  \n",
       "3742                                                NaN  \n",
       "3743                                                NaN  \n",
       "3744                                                NaN  \n",
       "3745                                                NaN  \n",
       "\n",
       "[3746 rows x 4 columns]"
      ]
     },
     "execution_count": 58,
     "metadata": {},
     "output_type": "execute_result"
    }
   ],
   "source": [
    "df"
   ]
  },
  {
   "cell_type": "code",
   "execution_count": 74,
   "metadata": {},
   "outputs": [
    {
     "data": {
      "text/plain": [
       "RangeIndex(start=0, stop=3745, step=1)"
      ]
     },
     "execution_count": 74,
     "metadata": {},
     "output_type": "execute_result"
    }
   ],
   "source": [
    "df.index"
   ]
  },
  {
   "cell_type": "code",
   "execution_count": 100,
   "metadata": {},
   "outputs": [],
   "source": [
    "df = df.reindex(labels= range(1,3476*2,2))"
   ]
  },
  {
   "cell_type": "code",
   "execution_count": null,
   "metadata": {},
   "outputs": [],
   "source": []
  }
 ],
 "metadata": {
  "kernelspec": {
   "display_name": "Python 3",
   "language": "python",
   "name": "python3"
  },
  "language_info": {
   "codemirror_mode": {
    "name": "ipython",
    "version": 3
   },
   "file_extension": ".py",
   "mimetype": "text/x-python",
   "name": "python",
   "nbconvert_exporter": "python",
   "pygments_lexer": "ipython3",
   "version": "3.6.8"
  }
 },
 "nbformat": 4,
 "nbformat_minor": 2
}
