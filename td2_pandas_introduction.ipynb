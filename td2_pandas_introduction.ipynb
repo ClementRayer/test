{
 "cells": [
  {
   "cell_type": "code",
   "execution_count": 1,
   "metadata": {},
   "outputs": [],
   "source": [
    "url_incidents = \"https://www.data.gouv.fr/fr/datasets/r/a7e77e63-518e-4429-88ac-0e7255a77fc3\"\n",
    "url_regularites = \"https://www.data.gouv.fr/fr/datasets/r/2a4f7375-e090-4fbb-bea4-ea280a2d1028\""
   ]
  },
  {
   "cell_type": "markdown",
   "metadata": {},
   "source": [
    "# curl "
   ]
  },
  {
   "cell_type": "code",
   "execution_count": 67,
   "metadata": {},
   "outputs": [],
   "source": [
    "url_incidents = \"https://static.data.gouv.fr/resources/regularite-quotidienne-lignes-sncf/20200323-211549/incidents.csv\""
   ]
  },
  {
   "cell_type": "code",
   "execution_count": 131,
   "metadata": {
    "scrolled": false
   },
   "outputs": [
    {
     "name": "stdout",
     "output_type": "stream",
     "text": [
      "  % Total    % Received % Xferd  Average Speed   Time    Time     Time  Current\n",
      "                                 Dload  Upload   Total   Spent    Left  Speed\n",
      "100  297k  100  297k    0     0   624k      0 --:--:-- --:--:--  0:00:08 36936 --:--:--  624k\n"
     ]
    }
   ],
   "source": [
    "!curl $url_incidents --output incidents.csv"
   ]
  },
  {
   "cell_type": "code",
   "execution_count": 132,
   "metadata": {},
   "outputs": [
    {
     "name": "stdout",
     "output_type": "stream",
     "text": [
      "date,famille_transport,ligne,incidents\r",
      "\r\n",
      "2019-01-23,transilien,A,\"['Défaut de signalisation entre Nation et Auber', 'Malaise voyageur à Auber', \"\"Panne d'une rame à Cergy-le-Haut\"\"]\"\r",
      "\r\n"
     ]
    }
   ],
   "source": [
    "!head -n 2 incidents.csv"
   ]
  },
  {
   "cell_type": "markdown",
   "metadata": {},
   "source": [
    "## ouvrir depuis pandas"
   ]
  },
  {
   "cell_type": "markdown",
   "metadata": {},
   "source": [
    "set up un environnement python"
   ]
  },
  {
   "cell_type": "markdown",
   "metadata": {},
   "source": [
    "## Maj + Tab à l'intérieur des parenthèses ou quand on écrit la méthode pour plus d'infos sur celle-ci"
   ]
  },
  {
   "cell_type": "markdown",
   "metadata": {},
   "source": [
    "## Tab pour l'autocomplétion"
   ]
  },
  {
   "cell_type": "code",
   "execution_count": 264,
   "metadata": {},
   "outputs": [],
   "source": [
    "df = pd.read_csv(\"./incidents.csv\", sep=',')"
   ]
  },
  {
   "cell_type": "code",
   "execution_count": 265,
   "metadata": {},
   "outputs": [
    {
     "data": {
      "text/html": [
       "<div>\n",
       "<style scoped>\n",
       "    .dataframe tbody tr th:only-of-type {\n",
       "        vertical-align: middle;\n",
       "    }\n",
       "\n",
       "    .dataframe tbody tr th {\n",
       "        vertical-align: top;\n",
       "    }\n",
       "\n",
       "    .dataframe thead th {\n",
       "        text-align: right;\n",
       "    }\n",
       "</style>\n",
       "<table border=\"1\" class=\"dataframe\">\n",
       "  <thead>\n",
       "    <tr style=\"text-align: right;\">\n",
       "      <th></th>\n",
       "      <th>date</th>\n",
       "      <th>famille_transport</th>\n",
       "      <th>ligne</th>\n",
       "      <th>incidents</th>\n",
       "    </tr>\n",
       "  </thead>\n",
       "  <tbody>\n",
       "    <tr>\n",
       "      <td>0</td>\n",
       "      <td>2019-01-23</td>\n",
       "      <td>transilien</td>\n",
       "      <td>A</td>\n",
       "      <td>['Défaut de signalisation entre Nation et Aube...</td>\n",
       "    </tr>\n",
       "    <tr>\n",
       "      <td>1</td>\n",
       "      <td>2019-01-23</td>\n",
       "      <td>transilien</td>\n",
       "      <td>B</td>\n",
       "      <td>['Intervention de police à Gare-du-Nord pour u...</td>\n",
       "    </tr>\n",
       "    <tr>\n",
       "      <td>2</td>\n",
       "      <td>2019-01-23</td>\n",
       "      <td>transilien</td>\n",
       "      <td>C</td>\n",
       "      <td>[\"Signal d'alarme à Bibiliothèque-François-Mit...</td>\n",
       "    </tr>\n",
       "    <tr>\n",
       "      <td>3</td>\n",
       "      <td>2019-01-23</td>\n",
       "      <td>transilien</td>\n",
       "      <td>D</td>\n",
       "      <td>['Restitution tardive de travaux de nuit à Com...</td>\n",
       "    </tr>\n",
       "    <tr>\n",
       "      <td>4</td>\n",
       "      <td>2019-01-23</td>\n",
       "      <td>transilien</td>\n",
       "      <td>E</td>\n",
       "      <td>[\"Signaux d'alarme malveillants à Haussamann-S...</td>\n",
       "    </tr>\n",
       "    <tr>\n",
       "      <td>...</td>\n",
       "      <td>...</td>\n",
       "      <td>...</td>\n",
       "      <td>...</td>\n",
       "      <td>...</td>\n",
       "    </tr>\n",
       "    <tr>\n",
       "      <td>3740</td>\n",
       "      <td>2020-03-13</td>\n",
       "      <td>intercites</td>\n",
       "      <td>Nantes-Lyon</td>\n",
       "      <td>[\"Présence d'individus sur le pont-rail du Rhô...</td>\n",
       "    </tr>\n",
       "    <tr>\n",
       "      <td>3741</td>\n",
       "      <td>2020-03-13</td>\n",
       "      <td>intercites</td>\n",
       "      <td>Toulouse-Bayonne</td>\n",
       "      <td>NaN</td>\n",
       "    </tr>\n",
       "    <tr>\n",
       "      <td>3742</td>\n",
       "      <td>2020-03-13</td>\n",
       "      <td>intercites</td>\n",
       "      <td>Clermont-Béziers</td>\n",
       "      <td>NaN</td>\n",
       "    </tr>\n",
       "    <tr>\n",
       "      <td>3743</td>\n",
       "      <td>2020-03-13</td>\n",
       "      <td>intercites</td>\n",
       "      <td>Paris-Toulouse-Latour De Carol/Cerbere/Rodez</td>\n",
       "      <td>NaN</td>\n",
       "    </tr>\n",
       "    <tr>\n",
       "      <td>3744</td>\n",
       "      <td>2020-03-13</td>\n",
       "      <td>intercites</td>\n",
       "      <td>Paris-Briançon</td>\n",
       "      <td>NaN</td>\n",
       "    </tr>\n",
       "  </tbody>\n",
       "</table>\n",
       "<p>3745 rows × 4 columns</p>\n",
       "</div>"
      ],
      "text/plain": [
       "            date famille_transport  \\\n",
       "0     2019-01-23        transilien   \n",
       "1     2019-01-23        transilien   \n",
       "2     2019-01-23        transilien   \n",
       "3     2019-01-23        transilien   \n",
       "4     2019-01-23        transilien   \n",
       "...          ...               ...   \n",
       "3740  2020-03-13        intercites   \n",
       "3741  2020-03-13        intercites   \n",
       "3742  2020-03-13        intercites   \n",
       "3743  2020-03-13        intercites   \n",
       "3744  2020-03-13        intercites   \n",
       "\n",
       "                                             ligne  \\\n",
       "0                                                A   \n",
       "1                                                B   \n",
       "2                                                C   \n",
       "3                                                D   \n",
       "4                                                E   \n",
       "...                                            ...   \n",
       "3740                                   Nantes-Lyon   \n",
       "3741                              Toulouse-Bayonne   \n",
       "3742                              Clermont-Béziers   \n",
       "3743  Paris-Toulouse-Latour De Carol/Cerbere/Rodez   \n",
       "3744                                Paris-Briançon   \n",
       "\n",
       "                                              incidents  \n",
       "0     ['Défaut de signalisation entre Nation et Aube...  \n",
       "1     ['Intervention de police à Gare-du-Nord pour u...  \n",
       "2     [\"Signal d'alarme à Bibiliothèque-François-Mit...  \n",
       "3     ['Restitution tardive de travaux de nuit à Com...  \n",
       "4     [\"Signaux d'alarme malveillants à Haussamann-S...  \n",
       "...                                                 ...  \n",
       "3740  [\"Présence d'individus sur le pont-rail du Rhô...  \n",
       "3741                                                NaN  \n",
       "3742                                                NaN  \n",
       "3743                                                NaN  \n",
       "3744                                                NaN  \n",
       "\n",
       "[3745 rows x 4 columns]"
      ]
     },
     "execution_count": 265,
     "metadata": {},
     "output_type": "execute_result"
    }
   ],
   "source": [
    "df"
   ]
  },
  {
   "cell_type": "markdown",
   "metadata": {},
   "source": [
    "## Affichage des colonnes "
   ]
  },
  {
   "cell_type": "code",
   "execution_count": 143,
   "metadata": {},
   "outputs": [
    {
     "data": {
      "text/plain": [
       "Index(['date', 'famille_transport', 'ligne', 'incidents'], dtype='object')"
      ]
     },
     "execution_count": 143,
     "metadata": {},
     "output_type": "execute_result"
    }
   ],
   "source": [
    "df.columns"
   ]
  },
  {
   "cell_type": "code",
   "execution_count": 309,
   "metadata": {},
   "outputs": [],
   "source": [
    "df.columns = [\"date\", \"test\", \"test3\", \"test2\"]"
   ]
  },
  {
   "cell_type": "code",
   "execution_count": 310,
   "metadata": {
    "scrolled": false
   },
   "outputs": [
    {
     "data": {
      "text/html": [
       "<div>\n",
       "<style scoped>\n",
       "    .dataframe tbody tr th:only-of-type {\n",
       "        vertical-align: middle;\n",
       "    }\n",
       "\n",
       "    .dataframe tbody tr th {\n",
       "        vertical-align: top;\n",
       "    }\n",
       "\n",
       "    .dataframe thead th {\n",
       "        text-align: right;\n",
       "    }\n",
       "</style>\n",
       "<table border=\"1\" class=\"dataframe\">\n",
       "  <thead>\n",
       "    <tr style=\"text-align: right;\">\n",
       "      <th></th>\n",
       "      <th>date</th>\n",
       "      <th>test</th>\n",
       "      <th>test3</th>\n",
       "      <th>test2</th>\n",
       "    </tr>\n",
       "  </thead>\n",
       "  <tbody>\n",
       "    <tr>\n",
       "      <td>0</td>\n",
       "      <td>2019-01-23</td>\n",
       "      <td>transilien</td>\n",
       "      <td>A</td>\n",
       "      <td>['Défaut de signalisation entre Nation et Aube...</td>\n",
       "    </tr>\n",
       "    <tr>\n",
       "      <td>1</td>\n",
       "      <td>2019-01-23</td>\n",
       "      <td>transilien</td>\n",
       "      <td>B</td>\n",
       "      <td>['Intervention de police à Gare-du-Nord pour u...</td>\n",
       "    </tr>\n",
       "    <tr>\n",
       "      <td>2</td>\n",
       "      <td>2019-01-23</td>\n",
       "      <td>transilien</td>\n",
       "      <td>C</td>\n",
       "      <td>[\"Signal d'alarme à Bibiliothèque-François-Mit...</td>\n",
       "    </tr>\n",
       "    <tr>\n",
       "      <td>3</td>\n",
       "      <td>2019-01-23</td>\n",
       "      <td>transilien</td>\n",
       "      <td>D</td>\n",
       "      <td>['Restitution tardive de travaux de nuit à Com...</td>\n",
       "    </tr>\n",
       "    <tr>\n",
       "      <td>4</td>\n",
       "      <td>2019-01-23</td>\n",
       "      <td>transilien</td>\n",
       "      <td>E</td>\n",
       "      <td>[\"Signaux d'alarme malveillants à Haussamann-S...</td>\n",
       "    </tr>\n",
       "    <tr>\n",
       "      <td>...</td>\n",
       "      <td>...</td>\n",
       "      <td>...</td>\n",
       "      <td>...</td>\n",
       "      <td>...</td>\n",
       "    </tr>\n",
       "    <tr>\n",
       "      <td>3740</td>\n",
       "      <td>2020-03-13</td>\n",
       "      <td>intercites</td>\n",
       "      <td>Nantes-Lyon</td>\n",
       "      <td>[\"Présence d'individus sur le pont-rail du Rhô...</td>\n",
       "    </tr>\n",
       "    <tr>\n",
       "      <td>3741</td>\n",
       "      <td>2020-03-13</td>\n",
       "      <td>intercites</td>\n",
       "      <td>Toulouse-Bayonne</td>\n",
       "      <td>NaN</td>\n",
       "    </tr>\n",
       "    <tr>\n",
       "      <td>3742</td>\n",
       "      <td>2020-03-13</td>\n",
       "      <td>intercites</td>\n",
       "      <td>Clermont-Béziers</td>\n",
       "      <td>NaN</td>\n",
       "    </tr>\n",
       "    <tr>\n",
       "      <td>3743</td>\n",
       "      <td>2020-03-13</td>\n",
       "      <td>intercites</td>\n",
       "      <td>Paris-Toulouse-Latour De Carol/Cerbere/Rodez</td>\n",
       "      <td>NaN</td>\n",
       "    </tr>\n",
       "    <tr>\n",
       "      <td>3744</td>\n",
       "      <td>2020-03-13</td>\n",
       "      <td>intercites</td>\n",
       "      <td>Paris-Briançon</td>\n",
       "      <td>NaN</td>\n",
       "    </tr>\n",
       "  </tbody>\n",
       "</table>\n",
       "<p>3745 rows × 4 columns</p>\n",
       "</div>"
      ],
      "text/plain": [
       "            date        test                                         test3  \\\n",
       "0     2019-01-23  transilien                                             A   \n",
       "1     2019-01-23  transilien                                             B   \n",
       "2     2019-01-23  transilien                                             C   \n",
       "3     2019-01-23  transilien                                             D   \n",
       "4     2019-01-23  transilien                                             E   \n",
       "...          ...         ...                                           ...   \n",
       "3740  2020-03-13  intercites                                   Nantes-Lyon   \n",
       "3741  2020-03-13  intercites                              Toulouse-Bayonne   \n",
       "3742  2020-03-13  intercites                              Clermont-Béziers   \n",
       "3743  2020-03-13  intercites  Paris-Toulouse-Latour De Carol/Cerbere/Rodez   \n",
       "3744  2020-03-13  intercites                                Paris-Briançon   \n",
       "\n",
       "                                                  test2  \n",
       "0     ['Défaut de signalisation entre Nation et Aube...  \n",
       "1     ['Intervention de police à Gare-du-Nord pour u...  \n",
       "2     [\"Signal d'alarme à Bibiliothèque-François-Mit...  \n",
       "3     ['Restitution tardive de travaux de nuit à Com...  \n",
       "4     [\"Signaux d'alarme malveillants à Haussamann-S...  \n",
       "...                                                 ...  \n",
       "3740  [\"Présence d'individus sur le pont-rail du Rhô...  \n",
       "3741                                                NaN  \n",
       "3742                                                NaN  \n",
       "3743                                                NaN  \n",
       "3744                                                NaN  \n",
       "\n",
       "[3745 rows x 4 columns]"
      ]
     },
     "execution_count": 310,
     "metadata": {},
     "output_type": "execute_result"
    }
   ],
   "source": [
    "df"
   ]
  },
  {
   "cell_type": "markdown",
   "metadata": {},
   "source": [
    "# accéder à une colonne"
   ]
  },
  {
   "cell_type": "code",
   "execution_count": 311,
   "metadata": {},
   "outputs": [
    {
     "data": {
      "text/plain": [
       "0       transilien\n",
       "1       transilien\n",
       "2       transilien\n",
       "3       transilien\n",
       "4       transilien\n",
       "           ...    \n",
       "3740    intercites\n",
       "3741    intercites\n",
       "3742    intercites\n",
       "3743    intercites\n",
       "3744    intercites\n",
       "Name: test, Length: 3745, dtype: object"
      ]
     },
     "execution_count": 311,
     "metadata": {},
     "output_type": "execute_result"
    }
   ],
   "source": [
    "df[\"test\"] #df[nomdelacolonne]\n",
    "df.test #df.nomdelacolonne"
   ]
  },
  {
   "cell_type": "markdown",
   "metadata": {},
   "source": [
    "## (colonne) index , qui répertorie les indexes des lignes "
   ]
  },
  {
   "cell_type": "code",
   "execution_count": 146,
   "metadata": {},
   "outputs": [
    {
     "data": {
      "text/plain": [
       "RangeIndex(start=0, stop=3745, step=1)"
      ]
     },
     "execution_count": 146,
     "metadata": {},
     "output_type": "execute_result"
    }
   ],
   "source": [
    "df.index"
   ]
  },
  {
   "cell_type": "code",
   "execution_count": 267,
   "metadata": {},
   "outputs": [],
   "source": [
    "df.index = range(1, 3745*2, 2)"
   ]
  },
  {
   "cell_type": "code",
   "execution_count": 268,
   "metadata": {},
   "outputs": [
    {
     "data": {
      "text/html": [
       "<div>\n",
       "<style scoped>\n",
       "    .dataframe tbody tr th:only-of-type {\n",
       "        vertical-align: middle;\n",
       "    }\n",
       "\n",
       "    .dataframe tbody tr th {\n",
       "        vertical-align: top;\n",
       "    }\n",
       "\n",
       "    .dataframe thead th {\n",
       "        text-align: right;\n",
       "    }\n",
       "</style>\n",
       "<table border=\"1\" class=\"dataframe\">\n",
       "  <thead>\n",
       "    <tr style=\"text-align: right;\">\n",
       "      <th></th>\n",
       "      <th>date</th>\n",
       "      <th>famille_transport</th>\n",
       "      <th>ligne</th>\n",
       "      <th>incidents</th>\n",
       "    </tr>\n",
       "  </thead>\n",
       "  <tbody>\n",
       "    <tr>\n",
       "      <td>1</td>\n",
       "      <td>2019-01-23</td>\n",
       "      <td>transilien</td>\n",
       "      <td>A</td>\n",
       "      <td>['Défaut de signalisation entre Nation et Aube...</td>\n",
       "    </tr>\n",
       "    <tr>\n",
       "      <td>3</td>\n",
       "      <td>2019-01-23</td>\n",
       "      <td>transilien</td>\n",
       "      <td>B</td>\n",
       "      <td>['Intervention de police à Gare-du-Nord pour u...</td>\n",
       "    </tr>\n",
       "    <tr>\n",
       "      <td>5</td>\n",
       "      <td>2019-01-23</td>\n",
       "      <td>transilien</td>\n",
       "      <td>C</td>\n",
       "      <td>[\"Signal d'alarme à Bibiliothèque-François-Mit...</td>\n",
       "    </tr>\n",
       "    <tr>\n",
       "      <td>7</td>\n",
       "      <td>2019-01-23</td>\n",
       "      <td>transilien</td>\n",
       "      <td>D</td>\n",
       "      <td>['Restitution tardive de travaux de nuit à Com...</td>\n",
       "    </tr>\n",
       "    <tr>\n",
       "      <td>9</td>\n",
       "      <td>2019-01-23</td>\n",
       "      <td>transilien</td>\n",
       "      <td>E</td>\n",
       "      <td>[\"Signaux d'alarme malveillants à Haussamann-S...</td>\n",
       "    </tr>\n",
       "    <tr>\n",
       "      <td>...</td>\n",
       "      <td>...</td>\n",
       "      <td>...</td>\n",
       "      <td>...</td>\n",
       "      <td>...</td>\n",
       "    </tr>\n",
       "    <tr>\n",
       "      <td>7481</td>\n",
       "      <td>2020-03-13</td>\n",
       "      <td>intercites</td>\n",
       "      <td>Nantes-Lyon</td>\n",
       "      <td>[\"Présence d'individus sur le pont-rail du Rhô...</td>\n",
       "    </tr>\n",
       "    <tr>\n",
       "      <td>7483</td>\n",
       "      <td>2020-03-13</td>\n",
       "      <td>intercites</td>\n",
       "      <td>Toulouse-Bayonne</td>\n",
       "      <td>NaN</td>\n",
       "    </tr>\n",
       "    <tr>\n",
       "      <td>7485</td>\n",
       "      <td>2020-03-13</td>\n",
       "      <td>intercites</td>\n",
       "      <td>Clermont-Béziers</td>\n",
       "      <td>NaN</td>\n",
       "    </tr>\n",
       "    <tr>\n",
       "      <td>7487</td>\n",
       "      <td>2020-03-13</td>\n",
       "      <td>intercites</td>\n",
       "      <td>Paris-Toulouse-Latour De Carol/Cerbere/Rodez</td>\n",
       "      <td>NaN</td>\n",
       "    </tr>\n",
       "    <tr>\n",
       "      <td>7489</td>\n",
       "      <td>2020-03-13</td>\n",
       "      <td>intercites</td>\n",
       "      <td>Paris-Briançon</td>\n",
       "      <td>NaN</td>\n",
       "    </tr>\n",
       "  </tbody>\n",
       "</table>\n",
       "<p>3745 rows × 4 columns</p>\n",
       "</div>"
      ],
      "text/plain": [
       "            date famille_transport  \\\n",
       "1     2019-01-23        transilien   \n",
       "3     2019-01-23        transilien   \n",
       "5     2019-01-23        transilien   \n",
       "7     2019-01-23        transilien   \n",
       "9     2019-01-23        transilien   \n",
       "...          ...               ...   \n",
       "7481  2020-03-13        intercites   \n",
       "7483  2020-03-13        intercites   \n",
       "7485  2020-03-13        intercites   \n",
       "7487  2020-03-13        intercites   \n",
       "7489  2020-03-13        intercites   \n",
       "\n",
       "                                             ligne  \\\n",
       "1                                                A   \n",
       "3                                                B   \n",
       "5                                                C   \n",
       "7                                                D   \n",
       "9                                                E   \n",
       "...                                            ...   \n",
       "7481                                   Nantes-Lyon   \n",
       "7483                              Toulouse-Bayonne   \n",
       "7485                              Clermont-Béziers   \n",
       "7487  Paris-Toulouse-Latour De Carol/Cerbere/Rodez   \n",
       "7489                                Paris-Briançon   \n",
       "\n",
       "                                              incidents  \n",
       "1     ['Défaut de signalisation entre Nation et Aube...  \n",
       "3     ['Intervention de police à Gare-du-Nord pour u...  \n",
       "5     [\"Signal d'alarme à Bibiliothèque-François-Mit...  \n",
       "7     ['Restitution tardive de travaux de nuit à Com...  \n",
       "9     [\"Signaux d'alarme malveillants à Haussamann-S...  \n",
       "...                                                 ...  \n",
       "7481  [\"Présence d'individus sur le pont-rail du Rhô...  \n",
       "7483                                                NaN  \n",
       "7485                                                NaN  \n",
       "7487                                                NaN  \n",
       "7489                                                NaN  \n",
       "\n",
       "[3745 rows x 4 columns]"
      ]
     },
     "execution_count": 268,
     "metadata": {},
     "output_type": "execute_result"
    }
   ],
   "source": [
    "df"
   ]
  },
  {
   "cell_type": "markdown",
   "metadata": {},
   "source": [
    "## REindex permet de réIndexer la dataframe, et donc la conformer avec les index que l'on soumet\n",
    "## on peut assigner directement un nouvel index avec l'attribut index\n",
    "## on peut aussi utiliser une autre méthode pour le même résultat "
   ]
  },
  {
   "cell_type": "markdown",
   "metadata": {},
   "source": [
    "## afficher les 10 premieres lignes "
   ]
  },
  {
   "cell_type": "code",
   "execution_count": 160,
   "metadata": {},
   "outputs": [
    {
     "data": {
      "text/html": [
       "<div>\n",
       "<style scoped>\n",
       "    .dataframe tbody tr th:only-of-type {\n",
       "        vertical-align: middle;\n",
       "    }\n",
       "\n",
       "    .dataframe tbody tr th {\n",
       "        vertical-align: top;\n",
       "    }\n",
       "\n",
       "    .dataframe thead th {\n",
       "        text-align: right;\n",
       "    }\n",
       "</style>\n",
       "<table border=\"1\" class=\"dataframe\">\n",
       "  <thead>\n",
       "    <tr style=\"text-align: right;\">\n",
       "      <th></th>\n",
       "      <th>date</th>\n",
       "      <th>test</th>\n",
       "      <th>test3</th>\n",
       "      <th>test2</th>\n",
       "    </tr>\n",
       "  </thead>\n",
       "  <tbody>\n",
       "    <tr>\n",
       "      <td>1</td>\n",
       "      <td>2019-01-23</td>\n",
       "      <td>transilien</td>\n",
       "      <td>A</td>\n",
       "      <td>['Défaut de signalisation entre Nation et Aube...</td>\n",
       "    </tr>\n",
       "    <tr>\n",
       "      <td>3</td>\n",
       "      <td>2019-01-23</td>\n",
       "      <td>transilien</td>\n",
       "      <td>B</td>\n",
       "      <td>['Intervention de police à Gare-du-Nord pour u...</td>\n",
       "    </tr>\n",
       "    <tr>\n",
       "      <td>5</td>\n",
       "      <td>2019-01-23</td>\n",
       "      <td>transilien</td>\n",
       "      <td>C</td>\n",
       "      <td>[\"Signal d'alarme à Bibiliothèque-François-Mit...</td>\n",
       "    </tr>\n",
       "    <tr>\n",
       "      <td>7</td>\n",
       "      <td>2019-01-23</td>\n",
       "      <td>transilien</td>\n",
       "      <td>D</td>\n",
       "      <td>['Restitution tardive de travaux de nuit à Com...</td>\n",
       "    </tr>\n",
       "    <tr>\n",
       "      <td>9</td>\n",
       "      <td>2019-01-23</td>\n",
       "      <td>transilien</td>\n",
       "      <td>E</td>\n",
       "      <td>[\"Signaux d'alarme malveillants à Haussamann-S...</td>\n",
       "    </tr>\n",
       "    <tr>\n",
       "      <td>11</td>\n",
       "      <td>2019-01-23</td>\n",
       "      <td>transilien</td>\n",
       "      <td>H</td>\n",
       "      <td>NaN</td>\n",
       "    </tr>\n",
       "    <tr>\n",
       "      <td>13</td>\n",
       "      <td>2019-01-23</td>\n",
       "      <td>transilien</td>\n",
       "      <td>J</td>\n",
       "      <td>['Avarie sur une rame à Asnières']</td>\n",
       "    </tr>\n",
       "    <tr>\n",
       "      <td>15</td>\n",
       "      <td>2019-01-23</td>\n",
       "      <td>transilien</td>\n",
       "      <td>K</td>\n",
       "      <td>NaN</td>\n",
       "    </tr>\n",
       "    <tr>\n",
       "      <td>17</td>\n",
       "      <td>2019-01-23</td>\n",
       "      <td>transilien</td>\n",
       "      <td>L</td>\n",
       "      <td>NaN</td>\n",
       "    </tr>\n",
       "    <tr>\n",
       "      <td>19</td>\n",
       "      <td>2019-01-23</td>\n",
       "      <td>transilien</td>\n",
       "      <td>N</td>\n",
       "      <td>['Conséquences des chutes de neige et de givre...</td>\n",
       "    </tr>\n",
       "  </tbody>\n",
       "</table>\n",
       "</div>"
      ],
      "text/plain": [
       "          date        test test3  \\\n",
       "1   2019-01-23  transilien     A   \n",
       "3   2019-01-23  transilien     B   \n",
       "5   2019-01-23  transilien     C   \n",
       "7   2019-01-23  transilien     D   \n",
       "9   2019-01-23  transilien     E   \n",
       "11  2019-01-23  transilien     H   \n",
       "13  2019-01-23  transilien     J   \n",
       "15  2019-01-23  transilien     K   \n",
       "17  2019-01-23  transilien     L   \n",
       "19  2019-01-23  transilien     N   \n",
       "\n",
       "                                                test2  \n",
       "1   ['Défaut de signalisation entre Nation et Aube...  \n",
       "3   ['Intervention de police à Gare-du-Nord pour u...  \n",
       "5   [\"Signal d'alarme à Bibiliothèque-François-Mit...  \n",
       "7   ['Restitution tardive de travaux de nuit à Com...  \n",
       "9   [\"Signaux d'alarme malveillants à Haussamann-S...  \n",
       "11                                                NaN  \n",
       "13                 ['Avarie sur une rame à Asnières']  \n",
       "15                                                NaN  \n",
       "17                                                NaN  \n",
       "19  ['Conséquences des chutes de neige et de givre...  "
      ]
     },
     "execution_count": 160,
     "metadata": {},
     "output_type": "execute_result"
    }
   ],
   "source": [
    "df.head(10)"
   ]
  },
  {
   "cell_type": "markdown",
   "metadata": {},
   "source": [
    "## filtrer sur les lignes et les colonnes "
   ]
  },
  {
   "cell_type": "markdown",
   "metadata": {},
   "source": [
    "2 choix : \n",
    "    * LOC\n",
    "    * ILOC"
   ]
  },
  {
   "cell_type": "code",
   "execution_count": 161,
   "metadata": {},
   "outputs": [],
   "source": [
    "# df.loc[ label ou conditions sur les lignes,    labels ou conditions sur les colonnes ]"
   ]
  },
  {
   "cell_type": "code",
   "execution_count": 164,
   "metadata": {},
   "outputs": [
    {
     "data": {
      "text/plain": [
       "'transilien'"
      ]
     },
     "execution_count": 164,
     "metadata": {},
     "output_type": "execute_result"
    }
   ],
   "source": [
    "df.loc[  3 , \"test\"   ]"
   ]
  },
  {
   "cell_type": "markdown",
   "metadata": {},
   "source": [
    "recuperer plusieurs cellules"
   ]
  },
  {
   "cell_type": "code",
   "execution_count": 170,
   "metadata": {},
   "outputs": [
    {
     "data": {
      "text/plain": [
       "3     ['Intervention de police à Gare-du-Nord pour u...\n",
       "11                                                  NaN\n",
       "13                   ['Avarie sur une rame à Asnières']\n",
       "Name: test2, dtype: object"
      ]
     },
     "execution_count": 170,
     "metadata": {},
     "output_type": "execute_result"
    }
   ],
   "source": [
    "df.loc[ [3,11,13] ,  \"test2\"  ]"
   ]
  },
  {
   "cell_type": "code",
   "execution_count": 176,
   "metadata": {},
   "outputs": [],
   "source": [
    "nouveau_df = df.loc[  [3,11], [\"test\", \"test2\"]  ]"
   ]
  },
  {
   "cell_type": "code",
   "execution_count": 177,
   "metadata": {},
   "outputs": [
    {
     "data": {
      "text/html": [
       "<div>\n",
       "<style scoped>\n",
       "    .dataframe tbody tr th:only-of-type {\n",
       "        vertical-align: middle;\n",
       "    }\n",
       "\n",
       "    .dataframe tbody tr th {\n",
       "        vertical-align: top;\n",
       "    }\n",
       "\n",
       "    .dataframe thead th {\n",
       "        text-align: right;\n",
       "    }\n",
       "</style>\n",
       "<table border=\"1\" class=\"dataframe\">\n",
       "  <thead>\n",
       "    <tr style=\"text-align: right;\">\n",
       "      <th></th>\n",
       "      <th>test</th>\n",
       "      <th>test2</th>\n",
       "    </tr>\n",
       "  </thead>\n",
       "  <tbody>\n",
       "    <tr>\n",
       "      <td>3</td>\n",
       "      <td>transilien</td>\n",
       "      <td>['Intervention de police à Gare-du-Nord pour u...</td>\n",
       "    </tr>\n",
       "    <tr>\n",
       "      <td>11</td>\n",
       "      <td>transilien</td>\n",
       "      <td>NaN</td>\n",
       "    </tr>\n",
       "  </tbody>\n",
       "</table>\n",
       "</div>"
      ],
      "text/plain": [
       "          test                                              test2\n",
       "3   transilien  ['Intervention de police à Gare-du-Nord pour u...\n",
       "11  transilien                                                NaN"
      ]
     },
     "execution_count": 177,
     "metadata": {},
     "output_type": "execute_result"
    }
   ],
   "source": [
    "nouveau_df"
   ]
  },
  {
   "cell_type": "code",
   "execution_count": 180,
   "metadata": {},
   "outputs": [
    {
     "data": {
      "text/html": [
       "<div>\n",
       "<style scoped>\n",
       "    .dataframe tbody tr th:only-of-type {\n",
       "        vertical-align: middle;\n",
       "    }\n",
       "\n",
       "    .dataframe tbody tr th {\n",
       "        vertical-align: top;\n",
       "    }\n",
       "\n",
       "    .dataframe thead th {\n",
       "        text-align: right;\n",
       "    }\n",
       "</style>\n",
       "<table border=\"1\" class=\"dataframe\">\n",
       "  <thead>\n",
       "    <tr style=\"text-align: right;\">\n",
       "      <th></th>\n",
       "      <th>date</th>\n",
       "      <th>test</th>\n",
       "      <th>test3</th>\n",
       "      <th>test2</th>\n",
       "    </tr>\n",
       "  </thead>\n",
       "  <tbody>\n",
       "    <tr>\n",
       "      <td>1</td>\n",
       "      <td>2019-01-23</td>\n",
       "      <td>transilien</td>\n",
       "      <td>A</td>\n",
       "      <td>['Défaut de signalisation entre Nation et Aube...</td>\n",
       "    </tr>\n",
       "    <tr>\n",
       "      <td>3</td>\n",
       "      <td>2019-01-23</td>\n",
       "      <td>transilien</td>\n",
       "      <td>B</td>\n",
       "      <td>['Intervention de police à Gare-du-Nord pour u...</td>\n",
       "    </tr>\n",
       "    <tr>\n",
       "      <td>5</td>\n",
       "      <td>2019-01-23</td>\n",
       "      <td>transilien</td>\n",
       "      <td>C</td>\n",
       "      <td>[\"Signal d'alarme à Bibiliothèque-François-Mit...</td>\n",
       "    </tr>\n",
       "    <tr>\n",
       "      <td>7</td>\n",
       "      <td>2019-01-23</td>\n",
       "      <td>transilien</td>\n",
       "      <td>D</td>\n",
       "      <td>['Restitution tardive de travaux de nuit à Com...</td>\n",
       "    </tr>\n",
       "    <tr>\n",
       "      <td>9</td>\n",
       "      <td>2019-01-23</td>\n",
       "      <td>transilien</td>\n",
       "      <td>E</td>\n",
       "      <td>[\"Signaux d'alarme malveillants à Haussamann-S...</td>\n",
       "    </tr>\n",
       "  </tbody>\n",
       "</table>\n",
       "</div>"
      ],
      "text/plain": [
       "         date        test test3  \\\n",
       "1  2019-01-23  transilien     A   \n",
       "3  2019-01-23  transilien     B   \n",
       "5  2019-01-23  transilien     C   \n",
       "7  2019-01-23  transilien     D   \n",
       "9  2019-01-23  transilien     E   \n",
       "\n",
       "                                               test2  \n",
       "1  ['Défaut de signalisation entre Nation et Aube...  \n",
       "3  ['Intervention de police à Gare-du-Nord pour u...  \n",
       "5  [\"Signal d'alarme à Bibiliothèque-François-Mit...  \n",
       "7  ['Restitution tardive de travaux de nuit à Com...  \n",
       "9  [\"Signaux d'alarme malveillants à Haussamann-S...  "
      ]
     },
     "execution_count": 180,
     "metadata": {},
     "output_type": "execute_result"
    }
   ],
   "source": [
    "df.head()"
   ]
  },
  {
   "cell_type": "code",
   "execution_count": 183,
   "metadata": {},
   "outputs": [
    {
     "data": {
      "text/html": [
       "<div>\n",
       "<style scoped>\n",
       "    .dataframe tbody tr th:only-of-type {\n",
       "        vertical-align: middle;\n",
       "    }\n",
       "\n",
       "    .dataframe tbody tr th {\n",
       "        vertical-align: top;\n",
       "    }\n",
       "\n",
       "    .dataframe thead th {\n",
       "        text-align: right;\n",
       "    }\n",
       "</style>\n",
       "<table border=\"1\" class=\"dataframe\">\n",
       "  <thead>\n",
       "    <tr style=\"text-align: right;\">\n",
       "      <th></th>\n",
       "      <th>test3</th>\n",
       "      <th>test2</th>\n",
       "    </tr>\n",
       "  </thead>\n",
       "  <tbody>\n",
       "    <tr>\n",
       "      <td>3</td>\n",
       "      <td>B</td>\n",
       "      <td>['Intervention de police à Gare-du-Nord pour u...</td>\n",
       "    </tr>\n",
       "    <tr>\n",
       "      <td>93</td>\n",
       "      <td>B</td>\n",
       "      <td>NaN</td>\n",
       "    </tr>\n",
       "    <tr>\n",
       "      <td>183</td>\n",
       "      <td>B</td>\n",
       "      <td>['Panne de signalisation à Sevran et à Gare du...</td>\n",
       "    </tr>\n",
       "    <tr>\n",
       "      <td>273</td>\n",
       "      <td>B</td>\n",
       "      <td>[\"Panne d'une rame à St-Michel-Notre-Dame (RAT...</td>\n",
       "    </tr>\n",
       "    <tr>\n",
       "      <td>363</td>\n",
       "      <td>B</td>\n",
       "      <td>[\"Panne d'une rame à Gare du Nord souterraine.\"]</td>\n",
       "    </tr>\n",
       "    <tr>\n",
       "      <td>...</td>\n",
       "      <td>...</td>\n",
       "      <td>...</td>\n",
       "    </tr>\n",
       "    <tr>\n",
       "      <td>7083</td>\n",
       "      <td>B</td>\n",
       "      <td>NaN</td>\n",
       "    </tr>\n",
       "    <tr>\n",
       "      <td>7165</td>\n",
       "      <td>B</td>\n",
       "      <td>NaN</td>\n",
       "    </tr>\n",
       "    <tr>\n",
       "      <td>7247</td>\n",
       "      <td>B</td>\n",
       "      <td>['Panne de signalisation à La-Plaine-Stade-de-...</td>\n",
       "    </tr>\n",
       "    <tr>\n",
       "      <td>7329</td>\n",
       "      <td>B</td>\n",
       "      <td>['Rail fissuré à La Plaine Stade de France', '...</td>\n",
       "    </tr>\n",
       "    <tr>\n",
       "      <td>7411</td>\n",
       "      <td>B</td>\n",
       "      <td>['Bagage abandonné dans un RER à Paris Nord So...</td>\n",
       "    </tr>\n",
       "  </tbody>\n",
       "</table>\n",
       "<p>85 rows × 2 columns</p>\n",
       "</div>"
      ],
      "text/plain": [
       "     test3                                              test2\n",
       "3        B  ['Intervention de police à Gare-du-Nord pour u...\n",
       "93       B                                                NaN\n",
       "183      B  ['Panne de signalisation à Sevran et à Gare du...\n",
       "273      B  [\"Panne d'une rame à St-Michel-Notre-Dame (RAT...\n",
       "363      B   [\"Panne d'une rame à Gare du Nord souterraine.\"]\n",
       "...    ...                                                ...\n",
       "7083     B                                                NaN\n",
       "7165     B                                                NaN\n",
       "7247     B  ['Panne de signalisation à La-Plaine-Stade-de-...\n",
       "7329     B  ['Rail fissuré à La Plaine Stade de France', '...\n",
       "7411     B  ['Bagage abandonné dans un RER à Paris Nord So...\n",
       "\n",
       "[85 rows x 2 columns]"
      ]
     },
     "execution_count": 183,
     "metadata": {},
     "output_type": "execute_result"
    }
   ],
   "source": [
    "df.loc[    df[\"test3\"] == \"B\"      , [\"test3\", \"test2\"]]"
   ]
  },
  {
   "cell_type": "code",
   "execution_count": 186,
   "metadata": {},
   "outputs": [],
   "source": [
    "new_subset= df[df[\"test3\"] ==\"B\"]"
   ]
  },
  {
   "cell_type": "code",
   "execution_count": 187,
   "metadata": {},
   "outputs": [
    {
     "data": {
      "text/html": [
       "<div>\n",
       "<style scoped>\n",
       "    .dataframe tbody tr th:only-of-type {\n",
       "        vertical-align: middle;\n",
       "    }\n",
       "\n",
       "    .dataframe tbody tr th {\n",
       "        vertical-align: top;\n",
       "    }\n",
       "\n",
       "    .dataframe thead th {\n",
       "        text-align: right;\n",
       "    }\n",
       "</style>\n",
       "<table border=\"1\" class=\"dataframe\">\n",
       "  <thead>\n",
       "    <tr style=\"text-align: right;\">\n",
       "      <th></th>\n",
       "      <th>date</th>\n",
       "      <th>test</th>\n",
       "      <th>test3</th>\n",
       "      <th>test2</th>\n",
       "    </tr>\n",
       "  </thead>\n",
       "  <tbody>\n",
       "    <tr>\n",
       "      <td>3</td>\n",
       "      <td>2019-01-23</td>\n",
       "      <td>transilien</td>\n",
       "      <td>B</td>\n",
       "      <td>['Intervention de police à Gare-du-Nord pour u...</td>\n",
       "    </tr>\n",
       "    <tr>\n",
       "      <td>93</td>\n",
       "      <td>2019-03-22</td>\n",
       "      <td>transilien</td>\n",
       "      <td>B</td>\n",
       "      <td>NaN</td>\n",
       "    </tr>\n",
       "    <tr>\n",
       "      <td>183</td>\n",
       "      <td>2019-07-09</td>\n",
       "      <td>transilien</td>\n",
       "      <td>B</td>\n",
       "      <td>['Panne de signalisation à Sevran et à Gare du...</td>\n",
       "    </tr>\n",
       "    <tr>\n",
       "      <td>273</td>\n",
       "      <td>2019-09-19</td>\n",
       "      <td>transilien</td>\n",
       "      <td>B</td>\n",
       "      <td>[\"Panne d'une rame à St-Michel-Notre-Dame (RAT...</td>\n",
       "    </tr>\n",
       "    <tr>\n",
       "      <td>363</td>\n",
       "      <td>2019-10-17</td>\n",
       "      <td>transilien</td>\n",
       "      <td>B</td>\n",
       "      <td>[\"Panne d'une rame à Gare du Nord souterraine.\"]</td>\n",
       "    </tr>\n",
       "    <tr>\n",
       "      <td>...</td>\n",
       "      <td>...</td>\n",
       "      <td>...</td>\n",
       "      <td>...</td>\n",
       "      <td>...</td>\n",
       "    </tr>\n",
       "    <tr>\n",
       "      <td>7083</td>\n",
       "      <td>2020-03-09</td>\n",
       "      <td>transilien</td>\n",
       "      <td>B</td>\n",
       "      <td>NaN</td>\n",
       "    </tr>\n",
       "    <tr>\n",
       "      <td>7165</td>\n",
       "      <td>2020-03-10</td>\n",
       "      <td>transilien</td>\n",
       "      <td>B</td>\n",
       "      <td>NaN</td>\n",
       "    </tr>\n",
       "    <tr>\n",
       "      <td>7247</td>\n",
       "      <td>2020-03-11</td>\n",
       "      <td>transilien</td>\n",
       "      <td>B</td>\n",
       "      <td>['Panne de signalisation à La-Plaine-Stade-de-...</td>\n",
       "    </tr>\n",
       "    <tr>\n",
       "      <td>7329</td>\n",
       "      <td>2020-03-12</td>\n",
       "      <td>transilien</td>\n",
       "      <td>B</td>\n",
       "      <td>['Rail fissuré à La Plaine Stade de France', '...</td>\n",
       "    </tr>\n",
       "    <tr>\n",
       "      <td>7411</td>\n",
       "      <td>2020-03-13</td>\n",
       "      <td>transilien</td>\n",
       "      <td>B</td>\n",
       "      <td>['Bagage abandonné dans un RER à Paris Nord So...</td>\n",
       "    </tr>\n",
       "  </tbody>\n",
       "</table>\n",
       "<p>85 rows × 4 columns</p>\n",
       "</div>"
      ],
      "text/plain": [
       "            date        test test3  \\\n",
       "3     2019-01-23  transilien     B   \n",
       "93    2019-03-22  transilien     B   \n",
       "183   2019-07-09  transilien     B   \n",
       "273   2019-09-19  transilien     B   \n",
       "363   2019-10-17  transilien     B   \n",
       "...          ...         ...   ...   \n",
       "7083  2020-03-09  transilien     B   \n",
       "7165  2020-03-10  transilien     B   \n",
       "7247  2020-03-11  transilien     B   \n",
       "7329  2020-03-12  transilien     B   \n",
       "7411  2020-03-13  transilien     B   \n",
       "\n",
       "                                                  test2  \n",
       "3     ['Intervention de police à Gare-du-Nord pour u...  \n",
       "93                                                  NaN  \n",
       "183   ['Panne de signalisation à Sevran et à Gare du...  \n",
       "273   [\"Panne d'une rame à St-Michel-Notre-Dame (RAT...  \n",
       "363    [\"Panne d'une rame à Gare du Nord souterraine.\"]  \n",
       "...                                                 ...  \n",
       "7083                                                NaN  \n",
       "7165                                                NaN  \n",
       "7247  ['Panne de signalisation à La-Plaine-Stade-de-...  \n",
       "7329  ['Rail fissuré à La Plaine Stade de France', '...  \n",
       "7411  ['Bagage abandonné dans un RER à Paris Nord So...  \n",
       "\n",
       "[85 rows x 4 columns]"
      ]
     },
     "execution_count": 187,
     "metadata": {},
     "output_type": "execute_result"
    }
   ],
   "source": [
    "new_subset"
   ]
  },
  {
   "cell_type": "markdown",
   "metadata": {},
   "source": [
    "## slicing "
   ]
  },
  {
   "cell_type": "code",
   "execution_count": 188,
   "metadata": {},
   "outputs": [
    {
     "data": {
      "text/html": [
       "<div>\n",
       "<style scoped>\n",
       "    .dataframe tbody tr th:only-of-type {\n",
       "        vertical-align: middle;\n",
       "    }\n",
       "\n",
       "    .dataframe tbody tr th {\n",
       "        vertical-align: top;\n",
       "    }\n",
       "\n",
       "    .dataframe thead th {\n",
       "        text-align: right;\n",
       "    }\n",
       "</style>\n",
       "<table border=\"1\" class=\"dataframe\">\n",
       "  <thead>\n",
       "    <tr style=\"text-align: right;\">\n",
       "      <th></th>\n",
       "      <th>date</th>\n",
       "      <th>test3</th>\n",
       "    </tr>\n",
       "  </thead>\n",
       "  <tbody>\n",
       "    <tr>\n",
       "      <td>3</td>\n",
       "      <td>2019-01-23</td>\n",
       "      <td>B</td>\n",
       "    </tr>\n",
       "    <tr>\n",
       "      <td>5</td>\n",
       "      <td>2019-01-23</td>\n",
       "      <td>C</td>\n",
       "    </tr>\n",
       "    <tr>\n",
       "      <td>7</td>\n",
       "      <td>2019-01-23</td>\n",
       "      <td>D</td>\n",
       "    </tr>\n",
       "    <tr>\n",
       "      <td>9</td>\n",
       "      <td>2019-01-23</td>\n",
       "      <td>E</td>\n",
       "    </tr>\n",
       "    <tr>\n",
       "      <td>11</td>\n",
       "      <td>2019-01-23</td>\n",
       "      <td>H</td>\n",
       "    </tr>\n",
       "  </tbody>\n",
       "</table>\n",
       "</div>"
      ],
      "text/plain": [
       "          date test3\n",
       "3   2019-01-23     B\n",
       "5   2019-01-23     C\n",
       "7   2019-01-23     D\n",
       "9   2019-01-23     E\n",
       "11  2019-01-23     H"
      ]
     },
     "execution_count": 188,
     "metadata": {},
     "output_type": "execute_result"
    }
   ],
   "source": [
    "df.loc[3:11, [\"date\", \"test3\"]]"
   ]
  },
  {
   "cell_type": "markdown",
   "metadata": {},
   "source": [
    "### df.iloc"
   ]
  },
  {
   "cell_type": "code",
   "execution_count": 191,
   "metadata": {
    "scrolled": true
   },
   "outputs": [
    {
     "data": {
      "text/html": [
       "<div>\n",
       "<style scoped>\n",
       "    .dataframe tbody tr th:only-of-type {\n",
       "        vertical-align: middle;\n",
       "    }\n",
       "\n",
       "    .dataframe tbody tr th {\n",
       "        vertical-align: top;\n",
       "    }\n",
       "\n",
       "    .dataframe thead th {\n",
       "        text-align: right;\n",
       "    }\n",
       "</style>\n",
       "<table border=\"1\" class=\"dataframe\">\n",
       "  <thead>\n",
       "    <tr style=\"text-align: right;\">\n",
       "      <th></th>\n",
       "      <th>test</th>\n",
       "      <th>test2</th>\n",
       "    </tr>\n",
       "  </thead>\n",
       "  <tbody>\n",
       "    <tr>\n",
       "      <td>5</td>\n",
       "      <td>transilien</td>\n",
       "      <td>[\"Signal d'alarme à Bibiliothèque-François-Mit...</td>\n",
       "    </tr>\n",
       "    <tr>\n",
       "      <td>7</td>\n",
       "      <td>transilien</td>\n",
       "      <td>['Restitution tardive de travaux de nuit à Com...</td>\n",
       "    </tr>\n",
       "  </tbody>\n",
       "</table>\n",
       "</div>"
      ],
      "text/plain": [
       "         test                                              test2\n",
       "5  transilien  [\"Signal d'alarme à Bibiliothèque-François-Mit...\n",
       "7  transilien  ['Restitution tardive de travaux de nuit à Com..."
      ]
     },
     "execution_count": 191,
     "metadata": {},
     "output_type": "execute_result"
    }
   ],
   "source": [
    "df.iloc[[2, 3], [1, 3]]"
   ]
  },
  {
   "cell_type": "code",
   "execution_count": 194,
   "metadata": {},
   "outputs": [
    {
     "data": {
      "text/html": [
       "<div>\n",
       "<style scoped>\n",
       "    .dataframe tbody tr th:only-of-type {\n",
       "        vertical-align: middle;\n",
       "    }\n",
       "\n",
       "    .dataframe tbody tr th {\n",
       "        vertical-align: top;\n",
       "    }\n",
       "\n",
       "    .dataframe thead th {\n",
       "        text-align: right;\n",
       "    }\n",
       "</style>\n",
       "<table border=\"1\" class=\"dataframe\">\n",
       "  <thead>\n",
       "    <tr style=\"text-align: right;\">\n",
       "      <th></th>\n",
       "      <th>date</th>\n",
       "      <th>test</th>\n",
       "      <th>test3</th>\n",
       "      <th>test2</th>\n",
       "    </tr>\n",
       "  </thead>\n",
       "  <tbody>\n",
       "    <tr>\n",
       "      <td>1</td>\n",
       "      <td>2019-01-23</td>\n",
       "      <td>transilien</td>\n",
       "      <td>A</td>\n",
       "      <td>['Défaut de signalisation entre Nation et Aube...</td>\n",
       "    </tr>\n",
       "    <tr>\n",
       "      <td>3</td>\n",
       "      <td>2019-01-23</td>\n",
       "      <td>transilien</td>\n",
       "      <td>B</td>\n",
       "      <td>['Intervention de police à Gare-du-Nord pour u...</td>\n",
       "    </tr>\n",
       "    <tr>\n",
       "      <td>5</td>\n",
       "      <td>2019-01-23</td>\n",
       "      <td>transilien</td>\n",
       "      <td>C</td>\n",
       "      <td>[\"Signal d'alarme à Bibiliothèque-François-Mit...</td>\n",
       "    </tr>\n",
       "    <tr>\n",
       "      <td>7</td>\n",
       "      <td>2019-01-23</td>\n",
       "      <td>transilien</td>\n",
       "      <td>D</td>\n",
       "      <td>['Restitution tardive de travaux de nuit à Com...</td>\n",
       "    </tr>\n",
       "    <tr>\n",
       "      <td>9</td>\n",
       "      <td>2019-01-23</td>\n",
       "      <td>transilien</td>\n",
       "      <td>E</td>\n",
       "      <td>[\"Signaux d'alarme malveillants à Haussamann-S...</td>\n",
       "    </tr>\n",
       "  </tbody>\n",
       "</table>\n",
       "</div>"
      ],
      "text/plain": [
       "         date        test test3  \\\n",
       "1  2019-01-23  transilien     A   \n",
       "3  2019-01-23  transilien     B   \n",
       "5  2019-01-23  transilien     C   \n",
       "7  2019-01-23  transilien     D   \n",
       "9  2019-01-23  transilien     E   \n",
       "\n",
       "                                               test2  \n",
       "1  ['Défaut de signalisation entre Nation et Aube...  \n",
       "3  ['Intervention de police à Gare-du-Nord pour u...  \n",
       "5  [\"Signal d'alarme à Bibiliothèque-François-Mit...  \n",
       "7  ['Restitution tardive de travaux de nuit à Com...  \n",
       "9  [\"Signaux d'alarme malveillants à Haussamann-S...  "
      ]
     },
     "execution_count": 194,
     "metadata": {},
     "output_type": "execute_result"
    }
   ],
   "source": [
    "df.head()"
   ]
  },
  {
   "cell_type": "code",
   "execution_count": 200,
   "metadata": {},
   "outputs": [
    {
     "data": {
      "text/plain": [
       "date                                            2019-01-23\n",
       "test                                            transilien\n",
       "test3                                                    B\n",
       "test2    ['Intervention de police à Gare-du-Nord pour u...\n",
       "Name: 3, dtype: object"
      ]
     },
     "execution_count": 200,
     "metadata": {},
     "output_type": "execute_result"
    }
   ],
   "source": [
    "df.loc[3] #df.loc[3,:] "
   ]
  },
  {
   "cell_type": "code",
   "execution_count": 201,
   "metadata": {},
   "outputs": [
    {
     "data": {
      "text/html": [
       "<div>\n",
       "<style scoped>\n",
       "    .dataframe tbody tr th:only-of-type {\n",
       "        vertical-align: middle;\n",
       "    }\n",
       "\n",
       "    .dataframe tbody tr th {\n",
       "        vertical-align: top;\n",
       "    }\n",
       "\n",
       "    .dataframe thead th {\n",
       "        text-align: right;\n",
       "    }\n",
       "</style>\n",
       "<table border=\"1\" class=\"dataframe\">\n",
       "  <thead>\n",
       "    <tr style=\"text-align: right;\">\n",
       "      <th></th>\n",
       "      <th>date</th>\n",
       "      <th>test</th>\n",
       "      <th>test3</th>\n",
       "      <th>test2</th>\n",
       "    </tr>\n",
       "  </thead>\n",
       "  <tbody>\n",
       "    <tr>\n",
       "      <td>5</td>\n",
       "      <td>2019-01-23</td>\n",
       "      <td>transilien</td>\n",
       "      <td>C</td>\n",
       "      <td>[\"Signal d'alarme à Bibiliothèque-François-Mit...</td>\n",
       "    </tr>\n",
       "    <tr>\n",
       "      <td>7</td>\n",
       "      <td>2019-01-23</td>\n",
       "      <td>transilien</td>\n",
       "      <td>D</td>\n",
       "      <td>['Restitution tardive de travaux de nuit à Com...</td>\n",
       "    </tr>\n",
       "    <tr>\n",
       "      <td>9</td>\n",
       "      <td>2019-01-23</td>\n",
       "      <td>transilien</td>\n",
       "      <td>E</td>\n",
       "      <td>[\"Signaux d'alarme malveillants à Haussamann-S...</td>\n",
       "    </tr>\n",
       "  </tbody>\n",
       "</table>\n",
       "</div>"
      ],
      "text/plain": [
       "         date        test test3  \\\n",
       "5  2019-01-23  transilien     C   \n",
       "7  2019-01-23  transilien     D   \n",
       "9  2019-01-23  transilien     E   \n",
       "\n",
       "                                               test2  \n",
       "5  [\"Signal d'alarme à Bibiliothèque-François-Mit...  \n",
       "7  ['Restitution tardive de travaux de nuit à Com...  \n",
       "9  [\"Signaux d'alarme malveillants à Haussamann-S...  "
      ]
     },
     "execution_count": 201,
     "metadata": {},
     "output_type": "execute_result"
    }
   ],
   "source": [
    "df.iloc[2:5]"
   ]
  },
  {
   "cell_type": "markdown",
   "metadata": {},
   "source": [
    "## taille de la dataframe ? "
   ]
  },
  {
   "cell_type": "code",
   "execution_count": 179,
   "metadata": {},
   "outputs": [
    {
     "data": {
      "text/plain": [
       "(2, 2)"
      ]
     },
     "execution_count": 179,
     "metadata": {},
     "output_type": "execute_result"
    }
   ],
   "source": [
    "nouveau_df.shape"
   ]
  },
  {
   "cell_type": "markdown",
   "metadata": {},
   "source": [
    "## insertion de lignes "
   ]
  },
  {
   "cell_type": "code",
   "execution_count": 210,
   "metadata": {},
   "outputs": [
    {
     "data": {
      "text/html": [
       "<div>\n",
       "<style scoped>\n",
       "    .dataframe tbody tr th:only-of-type {\n",
       "        vertical-align: middle;\n",
       "    }\n",
       "\n",
       "    .dataframe tbody tr th {\n",
       "        vertical-align: top;\n",
       "    }\n",
       "\n",
       "    .dataframe thead th {\n",
       "        text-align: right;\n",
       "    }\n",
       "</style>\n",
       "<table border=\"1\" class=\"dataframe\">\n",
       "  <thead>\n",
       "    <tr style=\"text-align: right;\">\n",
       "      <th></th>\n",
       "      <th>date</th>\n",
       "      <th>test</th>\n",
       "      <th>test3</th>\n",
       "      <th>test2</th>\n",
       "    </tr>\n",
       "  </thead>\n",
       "  <tbody>\n",
       "    <tr>\n",
       "      <td>1</td>\n",
       "      <td>2019-01-23</td>\n",
       "      <td>transilien</td>\n",
       "      <td>A</td>\n",
       "      <td>['Défaut de signalisation entre Nation et Aube...</td>\n",
       "    </tr>\n",
       "    <tr>\n",
       "      <td>3</td>\n",
       "      <td>2019-01-23</td>\n",
       "      <td>transilien</td>\n",
       "      <td>B</td>\n",
       "      <td>['Intervention de police à Gare-du-Nord pour u...</td>\n",
       "    </tr>\n",
       "    <tr>\n",
       "      <td>5</td>\n",
       "      <td>2019-01-23</td>\n",
       "      <td>transilien</td>\n",
       "      <td>C</td>\n",
       "      <td>[\"Signal d'alarme à Bibiliothèque-François-Mit...</td>\n",
       "    </tr>\n",
       "    <tr>\n",
       "      <td>7</td>\n",
       "      <td>2019-01-23</td>\n",
       "      <td>transilien</td>\n",
       "      <td>D</td>\n",
       "      <td>['Restitution tardive de travaux de nuit à Com...</td>\n",
       "    </tr>\n",
       "    <tr>\n",
       "      <td>9</td>\n",
       "      <td>2019-01-23</td>\n",
       "      <td>transilien</td>\n",
       "      <td>E</td>\n",
       "      <td>[\"Signaux d'alarme malveillants à Haussamann-S...</td>\n",
       "    </tr>\n",
       "    <tr>\n",
       "      <td>...</td>\n",
       "      <td>...</td>\n",
       "      <td>...</td>\n",
       "      <td>...</td>\n",
       "      <td>...</td>\n",
       "    </tr>\n",
       "    <tr>\n",
       "      <td>7481</td>\n",
       "      <td>2020-03-13</td>\n",
       "      <td>intercites</td>\n",
       "      <td>Nantes-Lyon</td>\n",
       "      <td>[\"Présence d'individus sur le pont-rail du Rhô...</td>\n",
       "    </tr>\n",
       "    <tr>\n",
       "      <td>7483</td>\n",
       "      <td>2020-03-13</td>\n",
       "      <td>intercites</td>\n",
       "      <td>Toulouse-Bayonne</td>\n",
       "      <td>NaN</td>\n",
       "    </tr>\n",
       "    <tr>\n",
       "      <td>7485</td>\n",
       "      <td>2020-03-13</td>\n",
       "      <td>intercites</td>\n",
       "      <td>Clermont-Béziers</td>\n",
       "      <td>NaN</td>\n",
       "    </tr>\n",
       "    <tr>\n",
       "      <td>7487</td>\n",
       "      <td>2020-03-13</td>\n",
       "      <td>intercites</td>\n",
       "      <td>Paris-Toulouse-Latour De Carol/Cerbere/Rodez</td>\n",
       "      <td>NaN</td>\n",
       "    </tr>\n",
       "    <tr>\n",
       "      <td>7489</td>\n",
       "      <td>2020-03-13</td>\n",
       "      <td>intercites</td>\n",
       "      <td>Paris-Briançon</td>\n",
       "      <td>NaN</td>\n",
       "    </tr>\n",
       "  </tbody>\n",
       "</table>\n",
       "<p>3745 rows × 4 columns</p>\n",
       "</div>"
      ],
      "text/plain": [
       "            date        test                                         test3  \\\n",
       "1     2019-01-23  transilien                                             A   \n",
       "3     2019-01-23  transilien                                             B   \n",
       "5     2019-01-23  transilien                                             C   \n",
       "7     2019-01-23  transilien                                             D   \n",
       "9     2019-01-23  transilien                                             E   \n",
       "...          ...         ...                                           ...   \n",
       "7481  2020-03-13  intercites                                   Nantes-Lyon   \n",
       "7483  2020-03-13  intercites                              Toulouse-Bayonne   \n",
       "7485  2020-03-13  intercites                              Clermont-Béziers   \n",
       "7487  2020-03-13  intercites  Paris-Toulouse-Latour De Carol/Cerbere/Rodez   \n",
       "7489  2020-03-13  intercites                                Paris-Briançon   \n",
       "\n",
       "                                                  test2  \n",
       "1     ['Défaut de signalisation entre Nation et Aube...  \n",
       "3     ['Intervention de police à Gare-du-Nord pour u...  \n",
       "5     [\"Signal d'alarme à Bibiliothèque-François-Mit...  \n",
       "7     ['Restitution tardive de travaux de nuit à Com...  \n",
       "9     [\"Signaux d'alarme malveillants à Haussamann-S...  \n",
       "...                                                 ...  \n",
       "7481  [\"Présence d'individus sur le pont-rail du Rhô...  \n",
       "7483                                                NaN  \n",
       "7485                                                NaN  \n",
       "7487                                                NaN  \n",
       "7489                                                NaN  \n",
       "\n",
       "[3745 rows x 4 columns]"
      ]
     },
     "execution_count": 210,
     "metadata": {},
     "output_type": "execute_result"
    }
   ],
   "source": [
    "df"
   ]
  },
  {
   "cell_type": "code",
   "execution_count": 213,
   "metadata": {},
   "outputs": [
    {
     "data": {
      "text/html": [
       "<div>\n",
       "<style scoped>\n",
       "    .dataframe tbody tr th:only-of-type {\n",
       "        vertical-align: middle;\n",
       "    }\n",
       "\n",
       "    .dataframe tbody tr th {\n",
       "        vertical-align: top;\n",
       "    }\n",
       "\n",
       "    .dataframe thead th {\n",
       "        text-align: right;\n",
       "    }\n",
       "</style>\n",
       "<table border=\"1\" class=\"dataframe\">\n",
       "  <thead>\n",
       "    <tr style=\"text-align: right;\">\n",
       "      <th></th>\n",
       "      <th>date</th>\n",
       "      <th>test</th>\n",
       "      <th>test3</th>\n",
       "      <th>test2</th>\n",
       "    </tr>\n",
       "  </thead>\n",
       "  <tbody>\n",
       "    <tr>\n",
       "      <td>1</td>\n",
       "      <td>2019-01-23</td>\n",
       "      <td>transilien</td>\n",
       "      <td>A</td>\n",
       "      <td>['Défaut de signalisation entre Nation et Aube...</td>\n",
       "    </tr>\n",
       "    <tr>\n",
       "      <td>3</td>\n",
       "      <td>2019-01-23</td>\n",
       "      <td>transilien</td>\n",
       "      <td>B</td>\n",
       "      <td>['Intervention de police à Gare-du-Nord pour u...</td>\n",
       "    </tr>\n",
       "    <tr>\n",
       "      <td>5</td>\n",
       "      <td>2019-01-23</td>\n",
       "      <td>transilien</td>\n",
       "      <td>C</td>\n",
       "      <td>[\"Signal d'alarme à Bibiliothèque-François-Mit...</td>\n",
       "    </tr>\n",
       "    <tr>\n",
       "      <td>7</td>\n",
       "      <td>2019-01-23</td>\n",
       "      <td>transilien</td>\n",
       "      <td>D</td>\n",
       "      <td>['Restitution tardive de travaux de nuit à Com...</td>\n",
       "    </tr>\n",
       "    <tr>\n",
       "      <td>9</td>\n",
       "      <td>2019-01-23</td>\n",
       "      <td>transilien</td>\n",
       "      <td>E</td>\n",
       "      <td>[\"Signaux d'alarme malveillants à Haussamann-S...</td>\n",
       "    </tr>\n",
       "    <tr>\n",
       "      <td>...</td>\n",
       "      <td>...</td>\n",
       "      <td>...</td>\n",
       "      <td>...</td>\n",
       "      <td>...</td>\n",
       "    </tr>\n",
       "    <tr>\n",
       "      <td>7481</td>\n",
       "      <td>2020-03-13</td>\n",
       "      <td>intercites</td>\n",
       "      <td>Nantes-Lyon</td>\n",
       "      <td>[\"Présence d'individus sur le pont-rail du Rhô...</td>\n",
       "    </tr>\n",
       "    <tr>\n",
       "      <td>7483</td>\n",
       "      <td>2020-03-13</td>\n",
       "      <td>intercites</td>\n",
       "      <td>Toulouse-Bayonne</td>\n",
       "      <td>NaN</td>\n",
       "    </tr>\n",
       "    <tr>\n",
       "      <td>7485</td>\n",
       "      <td>2020-03-13</td>\n",
       "      <td>intercites</td>\n",
       "      <td>Clermont-Béziers</td>\n",
       "      <td>NaN</td>\n",
       "    </tr>\n",
       "    <tr>\n",
       "      <td>7487</td>\n",
       "      <td>2020-03-13</td>\n",
       "      <td>intercites</td>\n",
       "      <td>Paris-Toulouse-Latour De Carol/Cerbere/Rodez</td>\n",
       "      <td>NaN</td>\n",
       "    </tr>\n",
       "    <tr>\n",
       "      <td>7489</td>\n",
       "      <td>2020-03-13</td>\n",
       "      <td>intercites</td>\n",
       "      <td>Paris-Briançon</td>\n",
       "      <td>NaN</td>\n",
       "    </tr>\n",
       "  </tbody>\n",
       "</table>\n",
       "<p>3745 rows × 4 columns</p>\n",
       "</div>"
      ],
      "text/plain": [
       "            date        test                                         test3  \\\n",
       "1     2019-01-23  transilien                                             A   \n",
       "3     2019-01-23  transilien                                             B   \n",
       "5     2019-01-23  transilien                                             C   \n",
       "7     2019-01-23  transilien                                             D   \n",
       "9     2019-01-23  transilien                                             E   \n",
       "...          ...         ...                                           ...   \n",
       "7481  2020-03-13  intercites                                   Nantes-Lyon   \n",
       "7483  2020-03-13  intercites                              Toulouse-Bayonne   \n",
       "7485  2020-03-13  intercites                              Clermont-Béziers   \n",
       "7487  2020-03-13  intercites  Paris-Toulouse-Latour De Carol/Cerbere/Rodez   \n",
       "7489  2020-03-13  intercites                                Paris-Briançon   \n",
       "\n",
       "                                                  test2  \n",
       "1     ['Défaut de signalisation entre Nation et Aube...  \n",
       "3     ['Intervention de police à Gare-du-Nord pour u...  \n",
       "5     [\"Signal d'alarme à Bibiliothèque-François-Mit...  \n",
       "7     ['Restitution tardive de travaux de nuit à Com...  \n",
       "9     [\"Signaux d'alarme malveillants à Haussamann-S...  \n",
       "...                                                 ...  \n",
       "7481  [\"Présence d'individus sur le pont-rail du Rhô...  \n",
       "7483                                                NaN  \n",
       "7485                                                NaN  \n",
       "7487                                                NaN  \n",
       "7489                                                NaN  \n",
       "\n",
       "[3745 rows x 4 columns]"
      ]
     },
     "execution_count": 213,
     "metadata": {},
     "output_type": "execute_result"
    }
   ],
   "source": [
    "df"
   ]
  },
  {
   "cell_type": "markdown",
   "metadata": {},
   "source": [
    "# remplacement de cellule en utilisant loc"
   ]
  },
  {
   "cell_type": "code",
   "execution_count": 225,
   "metadata": {},
   "outputs": [],
   "source": [
    "df.loc[4, \"test\"] = \"Afaefaef\""
   ]
  },
  {
   "cell_type": "markdown",
   "metadata": {},
   "source": [
    "# remplacement ou insertion de ligne en utilisant loc encore "
   ]
  },
  {
   "cell_type": "code",
   "execution_count": 226,
   "metadata": {},
   "outputs": [
    {
     "data": {
      "text/html": [
       "<div>\n",
       "<style scoped>\n",
       "    .dataframe tbody tr th:only-of-type {\n",
       "        vertical-align: middle;\n",
       "    }\n",
       "\n",
       "    .dataframe tbody tr th {\n",
       "        vertical-align: top;\n",
       "    }\n",
       "\n",
       "    .dataframe thead th {\n",
       "        text-align: right;\n",
       "    }\n",
       "</style>\n",
       "<table border=\"1\" class=\"dataframe\">\n",
       "  <thead>\n",
       "    <tr style=\"text-align: right;\">\n",
       "      <th></th>\n",
       "      <th>date</th>\n",
       "      <th>test</th>\n",
       "      <th>test3</th>\n",
       "      <th>test2</th>\n",
       "    </tr>\n",
       "  </thead>\n",
       "  <tbody>\n",
       "    <tr>\n",
       "      <td>1</td>\n",
       "      <td>2019-01-23</td>\n",
       "      <td>transilien</td>\n",
       "      <td>A</td>\n",
       "      <td>['Défaut de signalisation entre Nation et Aube...</td>\n",
       "    </tr>\n",
       "    <tr>\n",
       "      <td>3</td>\n",
       "      <td>2019-01-20</td>\n",
       "      <td>intercités</td>\n",
       "      <td>C</td>\n",
       "      <td>[défaut de signalisation]</td>\n",
       "    </tr>\n",
       "    <tr>\n",
       "      <td>5</td>\n",
       "      <td>2019-01-23</td>\n",
       "      <td>transilien</td>\n",
       "      <td>C</td>\n",
       "      <td>[\"Signal d'alarme à Bibiliothèque-François-Mit...</td>\n",
       "    </tr>\n",
       "    <tr>\n",
       "      <td>7</td>\n",
       "      <td>2019-01-23</td>\n",
       "      <td>transilien</td>\n",
       "      <td>D</td>\n",
       "      <td>['Restitution tardive de travaux de nuit à Com...</td>\n",
       "    </tr>\n",
       "    <tr>\n",
       "      <td>9</td>\n",
       "      <td>2019-01-23</td>\n",
       "      <td>transilien</td>\n",
       "      <td>E</td>\n",
       "      <td>[\"Signaux d'alarme malveillants à Haussamann-S...</td>\n",
       "    </tr>\n",
       "    <tr>\n",
       "      <td>...</td>\n",
       "      <td>...</td>\n",
       "      <td>...</td>\n",
       "      <td>...</td>\n",
       "      <td>...</td>\n",
       "    </tr>\n",
       "    <tr>\n",
       "      <td>7483</td>\n",
       "      <td>2020-03-13</td>\n",
       "      <td>intercites</td>\n",
       "      <td>Toulouse-Bayonne</td>\n",
       "      <td>NaN</td>\n",
       "    </tr>\n",
       "    <tr>\n",
       "      <td>7485</td>\n",
       "      <td>2020-03-13</td>\n",
       "      <td>intercites</td>\n",
       "      <td>Clermont-Béziers</td>\n",
       "      <td>NaN</td>\n",
       "    </tr>\n",
       "    <tr>\n",
       "      <td>7487</td>\n",
       "      <td>2020-03-13</td>\n",
       "      <td>intercites</td>\n",
       "      <td>Paris-Toulouse-Latour De Carol/Cerbere/Rodez</td>\n",
       "      <td>NaN</td>\n",
       "    </tr>\n",
       "    <tr>\n",
       "      <td>7489</td>\n",
       "      <td>2020-03-13</td>\n",
       "      <td>intercites</td>\n",
       "      <td>Paris-Briançon</td>\n",
       "      <td>NaN</td>\n",
       "    </tr>\n",
       "    <tr>\n",
       "      <td>4</td>\n",
       "      <td>2019-01-20</td>\n",
       "      <td>Afaefaef</td>\n",
       "      <td>C</td>\n",
       "      <td>[défaut de signalisation]</td>\n",
       "    </tr>\n",
       "  </tbody>\n",
       "</table>\n",
       "<p>3746 rows × 4 columns</p>\n",
       "</div>"
      ],
      "text/plain": [
       "            date        test                                         test3  \\\n",
       "1     2019-01-23  transilien                                             A   \n",
       "3     2019-01-20  intercités                                             C   \n",
       "5     2019-01-23  transilien                                             C   \n",
       "7     2019-01-23  transilien                                             D   \n",
       "9     2019-01-23  transilien                                             E   \n",
       "...          ...         ...                                           ...   \n",
       "7483  2020-03-13  intercites                              Toulouse-Bayonne   \n",
       "7485  2020-03-13  intercites                              Clermont-Béziers   \n",
       "7487  2020-03-13  intercites  Paris-Toulouse-Latour De Carol/Cerbere/Rodez   \n",
       "7489  2020-03-13  intercites                                Paris-Briançon   \n",
       "4     2019-01-20    Afaefaef                                             C   \n",
       "\n",
       "                                                  test2  \n",
       "1     ['Défaut de signalisation entre Nation et Aube...  \n",
       "3                             [défaut de signalisation]  \n",
       "5     [\"Signal d'alarme à Bibiliothèque-François-Mit...  \n",
       "7     ['Restitution tardive de travaux de nuit à Com...  \n",
       "9     [\"Signaux d'alarme malveillants à Haussamann-S...  \n",
       "...                                                 ...  \n",
       "7483                                                NaN  \n",
       "7485                                                NaN  \n",
       "7487                                                NaN  \n",
       "7489                                                NaN  \n",
       "4                             [défaut de signalisation]  \n",
       "\n",
       "[3746 rows x 4 columns]"
      ]
     },
     "execution_count": 226,
     "metadata": {},
     "output_type": "execute_result"
    }
   ],
   "source": [
    "df"
   ]
  },
  {
   "cell_type": "markdown",
   "metadata": {},
   "source": [
    "## concatenation de 2 dataframes avec pd.concat()"
   ]
  },
  {
   "cell_type": "code",
   "execution_count": 232,
   "metadata": {},
   "outputs": [],
   "source": [
    "nouveau_df = df.loc[ [3,5],   : ]"
   ]
  },
  {
   "cell_type": "code",
   "execution_count": 234,
   "metadata": {},
   "outputs": [
    {
     "data": {
      "text/plain": [
       "(2, 4)"
      ]
     },
     "execution_count": 234,
     "metadata": {},
     "output_type": "execute_result"
    }
   ],
   "source": [
    "nouveau_df.shape"
   ]
  },
  {
   "cell_type": "code",
   "execution_count": 235,
   "metadata": {},
   "outputs": [
    {
     "data": {
      "text/plain": [
       "(3746, 4)"
      ]
     },
     "execution_count": 235,
     "metadata": {},
     "output_type": "execute_result"
    }
   ],
   "source": [
    "df.shape"
   ]
  },
  {
   "cell_type": "code",
   "execution_count": 239,
   "metadata": {},
   "outputs": [
    {
     "data": {
      "text/html": [
       "<div>\n",
       "<style scoped>\n",
       "    .dataframe tbody tr th:only-of-type {\n",
       "        vertical-align: middle;\n",
       "    }\n",
       "\n",
       "    .dataframe tbody tr th {\n",
       "        vertical-align: top;\n",
       "    }\n",
       "\n",
       "    .dataframe thead th {\n",
       "        text-align: right;\n",
       "    }\n",
       "</style>\n",
       "<table border=\"1\" class=\"dataframe\">\n",
       "  <thead>\n",
       "    <tr style=\"text-align: right;\">\n",
       "      <th></th>\n",
       "      <th>date</th>\n",
       "      <th>test</th>\n",
       "      <th>test3</th>\n",
       "      <th>test2</th>\n",
       "    </tr>\n",
       "  </thead>\n",
       "  <tbody>\n",
       "    <tr>\n",
       "      <td>1</td>\n",
       "      <td>2019-01-23</td>\n",
       "      <td>transilien</td>\n",
       "      <td>A</td>\n",
       "      <td>['Défaut de signalisation entre Nation et Aube...</td>\n",
       "    </tr>\n",
       "    <tr>\n",
       "      <td>3</td>\n",
       "      <td>2019-01-20</td>\n",
       "      <td>intercités</td>\n",
       "      <td>C</td>\n",
       "      <td>[défaut de signalisation]</td>\n",
       "    </tr>\n",
       "    <tr>\n",
       "      <td>5</td>\n",
       "      <td>2019-01-23</td>\n",
       "      <td>transilien</td>\n",
       "      <td>C</td>\n",
       "      <td>[\"Signal d'alarme à Bibiliothèque-François-Mit...</td>\n",
       "    </tr>\n",
       "    <tr>\n",
       "      <td>7</td>\n",
       "      <td>2019-01-23</td>\n",
       "      <td>transilien</td>\n",
       "      <td>D</td>\n",
       "      <td>['Restitution tardive de travaux de nuit à Com...</td>\n",
       "    </tr>\n",
       "    <tr>\n",
       "      <td>9</td>\n",
       "      <td>2019-01-23</td>\n",
       "      <td>transilien</td>\n",
       "      <td>E</td>\n",
       "      <td>[\"Signaux d'alarme malveillants à Haussamann-S...</td>\n",
       "    </tr>\n",
       "    <tr>\n",
       "      <td>...</td>\n",
       "      <td>...</td>\n",
       "      <td>...</td>\n",
       "      <td>...</td>\n",
       "      <td>...</td>\n",
       "    </tr>\n",
       "    <tr>\n",
       "      <td>5</td>\n",
       "      <td>2019-01-23</td>\n",
       "      <td>transilien</td>\n",
       "      <td>C</td>\n",
       "      <td>[\"Signal d'alarme à Bibiliothèque-François-Mit...</td>\n",
       "    </tr>\n",
       "    <tr>\n",
       "      <td>3</td>\n",
       "      <td>2019-01-20</td>\n",
       "      <td>intercités</td>\n",
       "      <td>C</td>\n",
       "      <td>[défaut de signalisation]</td>\n",
       "    </tr>\n",
       "    <tr>\n",
       "      <td>5</td>\n",
       "      <td>2019-01-23</td>\n",
       "      <td>transilien</td>\n",
       "      <td>C</td>\n",
       "      <td>[\"Signal d'alarme à Bibiliothèque-François-Mit...</td>\n",
       "    </tr>\n",
       "    <tr>\n",
       "      <td>3</td>\n",
       "      <td>2019-01-20</td>\n",
       "      <td>intercités</td>\n",
       "      <td>C</td>\n",
       "      <td>[défaut de signalisation]</td>\n",
       "    </tr>\n",
       "    <tr>\n",
       "      <td>5</td>\n",
       "      <td>2019-01-23</td>\n",
       "      <td>transilien</td>\n",
       "      <td>C</td>\n",
       "      <td>[\"Signal d'alarme à Bibiliothèque-François-Mit...</td>\n",
       "    </tr>\n",
       "  </tbody>\n",
       "</table>\n",
       "<p>3752 rows × 4 columns</p>\n",
       "</div>"
      ],
      "text/plain": [
       "          date        test test3  \\\n",
       "1   2019-01-23  transilien     A   \n",
       "3   2019-01-20  intercités     C   \n",
       "5   2019-01-23  transilien     C   \n",
       "7   2019-01-23  transilien     D   \n",
       "9   2019-01-23  transilien     E   \n",
       "..         ...         ...   ...   \n",
       "5   2019-01-23  transilien     C   \n",
       "3   2019-01-20  intercités     C   \n",
       "5   2019-01-23  transilien     C   \n",
       "3   2019-01-20  intercités     C   \n",
       "5   2019-01-23  transilien     C   \n",
       "\n",
       "                                                test2  \n",
       "1   ['Défaut de signalisation entre Nation et Aube...  \n",
       "3                           [défaut de signalisation]  \n",
       "5   [\"Signal d'alarme à Bibiliothèque-François-Mit...  \n",
       "7   ['Restitution tardive de travaux de nuit à Com...  \n",
       "9   [\"Signaux d'alarme malveillants à Haussamann-S...  \n",
       "..                                                ...  \n",
       "5   [\"Signal d'alarme à Bibiliothèque-François-Mit...  \n",
       "3                           [défaut de signalisation]  \n",
       "5   [\"Signal d'alarme à Bibiliothèque-François-Mit...  \n",
       "3                           [défaut de signalisation]  \n",
       "5   [\"Signal d'alarme à Bibiliothèque-François-Mit...  \n",
       "\n",
       "[3752 rows x 4 columns]"
      ]
     },
     "execution_count": 239,
     "metadata": {},
     "output_type": "execute_result"
    }
   ],
   "source": [
    "pd.concat([ df, nouveau_df , nouveau_df, nouveau_df],  axis=0 )"
   ]
  },
  {
   "cell_type": "markdown",
   "metadata": {},
   "source": [
    "### Création de toute pièce une ligne"
   ]
  },
  {
   "cell_type": "code",
   "execution_count": 245,
   "metadata": {},
   "outputs": [],
   "source": [
    "maligne = [\"2019-01-23\",\"transilien\", \"A\",['Défaut de signalisation entre Nation et Auber']]"
   ]
  },
  {
   "cell_type": "code",
   "execution_count": 246,
   "metadata": {},
   "outputs": [
    {
     "data": {
      "text/plain": [
       "['2019-01-23',\n",
       " 'transilien',\n",
       " 'A',\n",
       " ['Défaut de signalisation entre Nation et Auber']]"
      ]
     },
     "execution_count": 246,
     "metadata": {},
     "output_type": "execute_result"
    }
   ],
   "source": [
    "maligne"
   ]
  },
  {
   "cell_type": "code",
   "execution_count": 254,
   "metadata": {},
   "outputs": [
    {
     "data": {
      "text/plain": [
       "date                                          2019-01-23\n",
       "test                                          transilien\n",
       "test3                                                  A\n",
       "test2    [Défaut de signalisation entre Nation et Auber]\n",
       "dtype: object"
      ]
     },
     "execution_count": 254,
     "metadata": {},
     "output_type": "execute_result"
    }
   ],
   "source": [
    "pd.Series( maligne , index=df.columns)"
   ]
  },
  {
   "cell_type": "code",
   "execution_count": 252,
   "metadata": {},
   "outputs": [
    {
     "data": {
      "text/html": [
       "<div>\n",
       "<style scoped>\n",
       "    .dataframe tbody tr th:only-of-type {\n",
       "        vertical-align: middle;\n",
       "    }\n",
       "\n",
       "    .dataframe tbody tr th {\n",
       "        vertical-align: top;\n",
       "    }\n",
       "\n",
       "    .dataframe thead th {\n",
       "        text-align: right;\n",
       "    }\n",
       "</style>\n",
       "<table border=\"1\" class=\"dataframe\">\n",
       "  <thead>\n",
       "    <tr style=\"text-align: right;\">\n",
       "      <th></th>\n",
       "      <th>date</th>\n",
       "      <th>test</th>\n",
       "      <th>test3</th>\n",
       "      <th>test2</th>\n",
       "    </tr>\n",
       "  </thead>\n",
       "  <tbody>\n",
       "    <tr>\n",
       "      <td>0</td>\n",
       "      <td>2019-01-23</td>\n",
       "      <td>transilien</td>\n",
       "      <td>A</td>\n",
       "      <td>[Défaut de signalisation entre Nation et Auber]</td>\n",
       "    </tr>\n",
       "  </tbody>\n",
       "</table>\n",
       "</div>"
      ],
      "text/plain": [
       "         date        test test3  \\\n",
       "0  2019-01-23  transilien     A   \n",
       "\n",
       "                                             test2  \n",
       "0  [Défaut de signalisation entre Nation et Auber]  "
      ]
     },
     "execution_count": 252,
     "metadata": {},
     "output_type": "execute_result"
    }
   ],
   "source": [
    "new_line_df = pd.Series( maligne , index=df.columns).to_frame().T\n",
    "new_line_df"
   ]
  },
  {
   "cell_type": "code",
   "execution_count": 253,
   "metadata": {},
   "outputs": [
    {
     "data": {
      "text/html": [
       "<div>\n",
       "<style scoped>\n",
       "    .dataframe tbody tr th:only-of-type {\n",
       "        vertical-align: middle;\n",
       "    }\n",
       "\n",
       "    .dataframe tbody tr th {\n",
       "        vertical-align: top;\n",
       "    }\n",
       "\n",
       "    .dataframe thead th {\n",
       "        text-align: right;\n",
       "    }\n",
       "</style>\n",
       "<table border=\"1\" class=\"dataframe\">\n",
       "  <thead>\n",
       "    <tr style=\"text-align: right;\">\n",
       "      <th></th>\n",
       "      <th>date</th>\n",
       "      <th>test</th>\n",
       "      <th>test3</th>\n",
       "      <th>test2</th>\n",
       "    </tr>\n",
       "  </thead>\n",
       "  <tbody>\n",
       "    <tr>\n",
       "      <td>1</td>\n",
       "      <td>2019-01-23</td>\n",
       "      <td>transilien</td>\n",
       "      <td>A</td>\n",
       "      <td>['Défaut de signalisation entre Nation et Aube...</td>\n",
       "    </tr>\n",
       "    <tr>\n",
       "      <td>3</td>\n",
       "      <td>2019-01-20</td>\n",
       "      <td>intercités</td>\n",
       "      <td>C</td>\n",
       "      <td>[défaut de signalisation]</td>\n",
       "    </tr>\n",
       "    <tr>\n",
       "      <td>5</td>\n",
       "      <td>2019-01-23</td>\n",
       "      <td>transilien</td>\n",
       "      <td>C</td>\n",
       "      <td>[\"Signal d'alarme à Bibiliothèque-François-Mit...</td>\n",
       "    </tr>\n",
       "    <tr>\n",
       "      <td>7</td>\n",
       "      <td>2019-01-23</td>\n",
       "      <td>transilien</td>\n",
       "      <td>D</td>\n",
       "      <td>['Restitution tardive de travaux de nuit à Com...</td>\n",
       "    </tr>\n",
       "    <tr>\n",
       "      <td>9</td>\n",
       "      <td>2019-01-23</td>\n",
       "      <td>transilien</td>\n",
       "      <td>E</td>\n",
       "      <td>[\"Signaux d'alarme malveillants à Haussamann-S...</td>\n",
       "    </tr>\n",
       "    <tr>\n",
       "      <td>...</td>\n",
       "      <td>...</td>\n",
       "      <td>...</td>\n",
       "      <td>...</td>\n",
       "      <td>...</td>\n",
       "    </tr>\n",
       "    <tr>\n",
       "      <td>7485</td>\n",
       "      <td>2020-03-13</td>\n",
       "      <td>intercites</td>\n",
       "      <td>Clermont-Béziers</td>\n",
       "      <td>NaN</td>\n",
       "    </tr>\n",
       "    <tr>\n",
       "      <td>7487</td>\n",
       "      <td>2020-03-13</td>\n",
       "      <td>intercites</td>\n",
       "      <td>Paris-Toulouse-Latour De Carol/Cerbere/Rodez</td>\n",
       "      <td>NaN</td>\n",
       "    </tr>\n",
       "    <tr>\n",
       "      <td>7489</td>\n",
       "      <td>2020-03-13</td>\n",
       "      <td>intercites</td>\n",
       "      <td>Paris-Briançon</td>\n",
       "      <td>NaN</td>\n",
       "    </tr>\n",
       "    <tr>\n",
       "      <td>4</td>\n",
       "      <td>2019-01-20</td>\n",
       "      <td>Afaefaef</td>\n",
       "      <td>C</td>\n",
       "      <td>[défaut de signalisation]</td>\n",
       "    </tr>\n",
       "    <tr>\n",
       "      <td>0</td>\n",
       "      <td>2019-01-23</td>\n",
       "      <td>transilien</td>\n",
       "      <td>A</td>\n",
       "      <td>[Défaut de signalisation entre Nation et Auber]</td>\n",
       "    </tr>\n",
       "  </tbody>\n",
       "</table>\n",
       "<p>3747 rows × 4 columns</p>\n",
       "</div>"
      ],
      "text/plain": [
       "            date        test                                         test3  \\\n",
       "1     2019-01-23  transilien                                             A   \n",
       "3     2019-01-20  intercités                                             C   \n",
       "5     2019-01-23  transilien                                             C   \n",
       "7     2019-01-23  transilien                                             D   \n",
       "9     2019-01-23  transilien                                             E   \n",
       "...          ...         ...                                           ...   \n",
       "7485  2020-03-13  intercites                              Clermont-Béziers   \n",
       "7487  2020-03-13  intercites  Paris-Toulouse-Latour De Carol/Cerbere/Rodez   \n",
       "7489  2020-03-13  intercites                                Paris-Briançon   \n",
       "4     2019-01-20    Afaefaef                                             C   \n",
       "0     2019-01-23  transilien                                             A   \n",
       "\n",
       "                                                  test2  \n",
       "1     ['Défaut de signalisation entre Nation et Aube...  \n",
       "3                             [défaut de signalisation]  \n",
       "5     [\"Signal d'alarme à Bibiliothèque-François-Mit...  \n",
       "7     ['Restitution tardive de travaux de nuit à Com...  \n",
       "9     [\"Signaux d'alarme malveillants à Haussamann-S...  \n",
       "...                                                 ...  \n",
       "7485                                                NaN  \n",
       "7487                                                NaN  \n",
       "7489                                                NaN  \n",
       "4                             [défaut de signalisation]  \n",
       "0       [Défaut de signalisation entre Nation et Auber]  \n",
       "\n",
       "[3747 rows x 4 columns]"
      ]
     },
     "execution_count": 253,
     "metadata": {},
     "output_type": "execute_result"
    }
   ],
   "source": [
    "pd.concat([ df, new_line_df],  axis=0 )"
   ]
  },
  {
   "cell_type": "markdown",
   "metadata": {},
   "source": [
    "## reset l'index ( à ne pas confondre avec reindex = reindexation suivant index fournit en parametre)"
   ]
  },
  {
   "cell_type": "code",
   "execution_count": 256,
   "metadata": {},
   "outputs": [
    {
     "data": {
      "text/plain": [
       "Int64Index([   1,    3,    5,    7,    9,   11,   13,   15,   17,   19,\n",
       "            ...\n",
       "            7473, 7475, 7477, 7479, 7481, 7483, 7485, 7487, 7489,    4],\n",
       "           dtype='int64', length=3746)"
      ]
     },
     "execution_count": 256,
     "metadata": {},
     "output_type": "execute_result"
    }
   ],
   "source": [
    "df.index"
   ]
  },
  {
   "cell_type": "code",
   "execution_count": 274,
   "metadata": {},
   "outputs": [],
   "source": [
    "df.reset_index(inplace=True, drop=True)"
   ]
  },
  {
   "cell_type": "code",
   "execution_count": 275,
   "metadata": {},
   "outputs": [
    {
     "data": {
      "text/html": [
       "<div>\n",
       "<style scoped>\n",
       "    .dataframe tbody tr th:only-of-type {\n",
       "        vertical-align: middle;\n",
       "    }\n",
       "\n",
       "    .dataframe tbody tr th {\n",
       "        vertical-align: top;\n",
       "    }\n",
       "\n",
       "    .dataframe thead th {\n",
       "        text-align: right;\n",
       "    }\n",
       "</style>\n",
       "<table border=\"1\" class=\"dataframe\">\n",
       "  <thead>\n",
       "    <tr style=\"text-align: right;\">\n",
       "      <th></th>\n",
       "      <th>date</th>\n",
       "      <th>famille_transport</th>\n",
       "      <th>ligne</th>\n",
       "      <th>incidents</th>\n",
       "    </tr>\n",
       "  </thead>\n",
       "  <tbody>\n",
       "    <tr>\n",
       "      <td>0</td>\n",
       "      <td>2019-01-23</td>\n",
       "      <td>transilien</td>\n",
       "      <td>A</td>\n",
       "      <td>['Défaut de signalisation entre Nation et Aube...</td>\n",
       "    </tr>\n",
       "    <tr>\n",
       "      <td>1</td>\n",
       "      <td>2019-01-23</td>\n",
       "      <td>transilien</td>\n",
       "      <td>B</td>\n",
       "      <td>['Intervention de police à Gare-du-Nord pour u...</td>\n",
       "    </tr>\n",
       "    <tr>\n",
       "      <td>2</td>\n",
       "      <td>2019-01-23</td>\n",
       "      <td>transilien</td>\n",
       "      <td>C</td>\n",
       "      <td>[\"Signal d'alarme à Bibiliothèque-François-Mit...</td>\n",
       "    </tr>\n",
       "    <tr>\n",
       "      <td>3</td>\n",
       "      <td>2019-01-23</td>\n",
       "      <td>transilien</td>\n",
       "      <td>D</td>\n",
       "      <td>['Restitution tardive de travaux de nuit à Com...</td>\n",
       "    </tr>\n",
       "    <tr>\n",
       "      <td>4</td>\n",
       "      <td>2019-01-23</td>\n",
       "      <td>transilien</td>\n",
       "      <td>E</td>\n",
       "      <td>[\"Signaux d'alarme malveillants à Haussamann-S...</td>\n",
       "    </tr>\n",
       "    <tr>\n",
       "      <td>...</td>\n",
       "      <td>...</td>\n",
       "      <td>...</td>\n",
       "      <td>...</td>\n",
       "      <td>...</td>\n",
       "    </tr>\n",
       "    <tr>\n",
       "      <td>3740</td>\n",
       "      <td>2020-03-13</td>\n",
       "      <td>intercites</td>\n",
       "      <td>Nantes-Lyon</td>\n",
       "      <td>[\"Présence d'individus sur le pont-rail du Rhô...</td>\n",
       "    </tr>\n",
       "    <tr>\n",
       "      <td>3741</td>\n",
       "      <td>2020-03-13</td>\n",
       "      <td>intercites</td>\n",
       "      <td>Toulouse-Bayonne</td>\n",
       "      <td>NaN</td>\n",
       "    </tr>\n",
       "    <tr>\n",
       "      <td>3742</td>\n",
       "      <td>2020-03-13</td>\n",
       "      <td>intercites</td>\n",
       "      <td>Clermont-Béziers</td>\n",
       "      <td>NaN</td>\n",
       "    </tr>\n",
       "    <tr>\n",
       "      <td>3743</td>\n",
       "      <td>2020-03-13</td>\n",
       "      <td>intercites</td>\n",
       "      <td>Paris-Toulouse-Latour De Carol/Cerbere/Rodez</td>\n",
       "      <td>NaN</td>\n",
       "    </tr>\n",
       "    <tr>\n",
       "      <td>3744</td>\n",
       "      <td>2020-03-13</td>\n",
       "      <td>intercites</td>\n",
       "      <td>Paris-Briançon</td>\n",
       "      <td>NaN</td>\n",
       "    </tr>\n",
       "  </tbody>\n",
       "</table>\n",
       "<p>3745 rows × 4 columns</p>\n",
       "</div>"
      ],
      "text/plain": [
       "            date famille_transport  \\\n",
       "0     2019-01-23        transilien   \n",
       "1     2019-01-23        transilien   \n",
       "2     2019-01-23        transilien   \n",
       "3     2019-01-23        transilien   \n",
       "4     2019-01-23        transilien   \n",
       "...          ...               ...   \n",
       "3740  2020-03-13        intercites   \n",
       "3741  2020-03-13        intercites   \n",
       "3742  2020-03-13        intercites   \n",
       "3743  2020-03-13        intercites   \n",
       "3744  2020-03-13        intercites   \n",
       "\n",
       "                                             ligne  \\\n",
       "0                                                A   \n",
       "1                                                B   \n",
       "2                                                C   \n",
       "3                                                D   \n",
       "4                                                E   \n",
       "...                                            ...   \n",
       "3740                                   Nantes-Lyon   \n",
       "3741                              Toulouse-Bayonne   \n",
       "3742                              Clermont-Béziers   \n",
       "3743  Paris-Toulouse-Latour De Carol/Cerbere/Rodez   \n",
       "3744                                Paris-Briançon   \n",
       "\n",
       "                                              incidents  \n",
       "0     ['Défaut de signalisation entre Nation et Aube...  \n",
       "1     ['Intervention de police à Gare-du-Nord pour u...  \n",
       "2     [\"Signal d'alarme à Bibiliothèque-François-Mit...  \n",
       "3     ['Restitution tardive de travaux de nuit à Com...  \n",
       "4     [\"Signaux d'alarme malveillants à Haussamann-S...  \n",
       "...                                                 ...  \n",
       "3740  [\"Présence d'individus sur le pont-rail du Rhô...  \n",
       "3741                                                NaN  \n",
       "3742                                                NaN  \n",
       "3743                                                NaN  \n",
       "3744                                                NaN  \n",
       "\n",
       "[3745 rows x 4 columns]"
      ]
     },
     "execution_count": 275,
     "metadata": {},
     "output_type": "execute_result"
    }
   ],
   "source": [
    "df"
   ]
  },
  {
   "cell_type": "markdown",
   "metadata": {},
   "source": [
    "## création d'un dataframe à partir d'un csv"
   ]
  },
  {
   "cell_type": "code",
   "execution_count": 279,
   "metadata": {},
   "outputs": [],
   "source": [
    "#pd.read_csv(\"./incidents.csv\") # ou avec une url voir ci-dessus les 2 approches que l'on a utilisées"
   ]
  },
  {
   "cell_type": "markdown",
   "metadata": {},
   "source": [
    "## création d'un dataframe"
   ]
  },
  {
   "cell_type": "code",
   "execution_count": 289,
   "metadata": {},
   "outputs": [],
   "source": [
    "df2 = pd.DataFrame({ 'test' : [2,3,3,5,5],  'test2': [4,5,2,2, 2] , 'test3': [5,3,4,3, 9]})"
   ]
  },
  {
   "cell_type": "code",
   "execution_count": 290,
   "metadata": {},
   "outputs": [
    {
     "data": {
      "text/html": [
       "<div>\n",
       "<style scoped>\n",
       "    .dataframe tbody tr th:only-of-type {\n",
       "        vertical-align: middle;\n",
       "    }\n",
       "\n",
       "    .dataframe tbody tr th {\n",
       "        vertical-align: top;\n",
       "    }\n",
       "\n",
       "    .dataframe thead th {\n",
       "        text-align: right;\n",
       "    }\n",
       "</style>\n",
       "<table border=\"1\" class=\"dataframe\">\n",
       "  <thead>\n",
       "    <tr style=\"text-align: right;\">\n",
       "      <th></th>\n",
       "      <th>test</th>\n",
       "      <th>test2</th>\n",
       "      <th>test3</th>\n",
       "    </tr>\n",
       "  </thead>\n",
       "  <tbody>\n",
       "    <tr>\n",
       "      <td>0</td>\n",
       "      <td>2</td>\n",
       "      <td>4</td>\n",
       "      <td>5</td>\n",
       "    </tr>\n",
       "    <tr>\n",
       "      <td>1</td>\n",
       "      <td>3</td>\n",
       "      <td>5</td>\n",
       "      <td>3</td>\n",
       "    </tr>\n",
       "    <tr>\n",
       "      <td>2</td>\n",
       "      <td>3</td>\n",
       "      <td>2</td>\n",
       "      <td>4</td>\n",
       "    </tr>\n",
       "    <tr>\n",
       "      <td>3</td>\n",
       "      <td>5</td>\n",
       "      <td>2</td>\n",
       "      <td>3</td>\n",
       "    </tr>\n",
       "    <tr>\n",
       "      <td>4</td>\n",
       "      <td>5</td>\n",
       "      <td>2</td>\n",
       "      <td>9</td>\n",
       "    </tr>\n",
       "  </tbody>\n",
       "</table>\n",
       "</div>"
      ],
      "text/plain": [
       "   test  test2  test3\n",
       "0     2      4      5\n",
       "1     3      5      3\n",
       "2     3      2      4\n",
       "3     5      2      3\n",
       "4     5      2      9"
      ]
     },
     "execution_count": 290,
     "metadata": {},
     "output_type": "execute_result"
    }
   ],
   "source": [
    "df2"
   ]
  },
  {
   "cell_type": "code",
   "execution_count": 297,
   "metadata": {},
   "outputs": [
    {
     "data": {
      "text/plain": [
       "test     int64\n",
       "test2    int64\n",
       "test3    int64\n",
       "dtype: object"
      ]
     },
     "execution_count": 297,
     "metadata": {},
     "output_type": "execute_result"
    }
   ],
   "source": [
    "df2.dtypes"
   ]
  },
  {
   "cell_type": "markdown",
   "metadata": {},
   "source": [
    "### on a de la chance, toutes les colonnes sont castées en entiers "
   ]
  },
  {
   "cell_type": "code",
   "execution_count": 299,
   "metadata": {},
   "outputs": [],
   "source": [
    "df2.loc[  1   ,   \"test2\"  ] = \"bonjour\""
   ]
  },
  {
   "cell_type": "code",
   "execution_count": 300,
   "metadata": {},
   "outputs": [
    {
     "data": {
      "text/html": [
       "<div>\n",
       "<style scoped>\n",
       "    .dataframe tbody tr th:only-of-type {\n",
       "        vertical-align: middle;\n",
       "    }\n",
       "\n",
       "    .dataframe tbody tr th {\n",
       "        vertical-align: top;\n",
       "    }\n",
       "\n",
       "    .dataframe thead th {\n",
       "        text-align: right;\n",
       "    }\n",
       "</style>\n",
       "<table border=\"1\" class=\"dataframe\">\n",
       "  <thead>\n",
       "    <tr style=\"text-align: right;\">\n",
       "      <th></th>\n",
       "      <th>test</th>\n",
       "      <th>test2</th>\n",
       "      <th>test3</th>\n",
       "    </tr>\n",
       "  </thead>\n",
       "  <tbody>\n",
       "    <tr>\n",
       "      <td>0</td>\n",
       "      <td>2</td>\n",
       "      <td>4</td>\n",
       "      <td>5</td>\n",
       "    </tr>\n",
       "    <tr>\n",
       "      <td>1</td>\n",
       "      <td>3</td>\n",
       "      <td>bonjour</td>\n",
       "      <td>3</td>\n",
       "    </tr>\n",
       "    <tr>\n",
       "      <td>2</td>\n",
       "      <td>3</td>\n",
       "      <td>2</td>\n",
       "      <td>4</td>\n",
       "    </tr>\n",
       "    <tr>\n",
       "      <td>3</td>\n",
       "      <td>5</td>\n",
       "      <td>2</td>\n",
       "      <td>3</td>\n",
       "    </tr>\n",
       "    <tr>\n",
       "      <td>4</td>\n",
       "      <td>5</td>\n",
       "      <td>2</td>\n",
       "      <td>9</td>\n",
       "    </tr>\n",
       "  </tbody>\n",
       "</table>\n",
       "</div>"
      ],
      "text/plain": [
       "   test    test2  test3\n",
       "0     2        4      5\n",
       "1     3  bonjour      3\n",
       "2     3        2      4\n",
       "3     5        2      3\n",
       "4     5        2      9"
      ]
     },
     "execution_count": 300,
     "metadata": {},
     "output_type": "execute_result"
    }
   ],
   "source": [
    "df2"
   ]
  },
  {
   "cell_type": "code",
   "execution_count": 301,
   "metadata": {},
   "outputs": [
    {
     "data": {
      "text/plain": [
       "test      int64\n",
       "test2    object\n",
       "test3     int64\n",
       "dtype: object"
      ]
     },
     "execution_count": 301,
     "metadata": {},
     "output_type": "execute_result"
    }
   ],
   "source": [
    "df2.dtypes"
   ]
  },
  {
   "cell_type": "markdown",
   "metadata": {},
   "source": [
    "## une condition sur une colonne"
   ]
  },
  {
   "cell_type": "code",
   "execution_count": 304,
   "metadata": {},
   "outputs": [
    {
     "data": {
      "text/html": [
       "<div>\n",
       "<style scoped>\n",
       "    .dataframe tbody tr th:only-of-type {\n",
       "        vertical-align: middle;\n",
       "    }\n",
       "\n",
       "    .dataframe tbody tr th {\n",
       "        vertical-align: top;\n",
       "    }\n",
       "\n",
       "    .dataframe thead th {\n",
       "        text-align: right;\n",
       "    }\n",
       "</style>\n",
       "<table border=\"1\" class=\"dataframe\">\n",
       "  <thead>\n",
       "    <tr style=\"text-align: right;\">\n",
       "      <th></th>\n",
       "      <th>test</th>\n",
       "      <th>test2</th>\n",
       "      <th>test3</th>\n",
       "    </tr>\n",
       "  </thead>\n",
       "  <tbody>\n",
       "    <tr>\n",
       "      <td>1</td>\n",
       "      <td>3</td>\n",
       "      <td>bonjour</td>\n",
       "      <td>3</td>\n",
       "    </tr>\n",
       "    <tr>\n",
       "      <td>2</td>\n",
       "      <td>3</td>\n",
       "      <td>2</td>\n",
       "      <td>4</td>\n",
       "    </tr>\n",
       "    <tr>\n",
       "      <td>3</td>\n",
       "      <td>5</td>\n",
       "      <td>2</td>\n",
       "      <td>3</td>\n",
       "    </tr>\n",
       "    <tr>\n",
       "      <td>4</td>\n",
       "      <td>5</td>\n",
       "      <td>2</td>\n",
       "      <td>9</td>\n",
       "    </tr>\n",
       "  </tbody>\n",
       "</table>\n",
       "</div>"
      ],
      "text/plain": [
       "   test    test2  test3\n",
       "1     3  bonjour      3\n",
       "2     3        2      4\n",
       "3     5        2      3\n",
       "4     5        2      9"
      ]
     },
     "execution_count": 304,
     "metadata": {},
     "output_type": "execute_result"
    }
   ],
   "source": [
    "df2[   df2[\"test\"] > 2 ] # que remarque t'on : df2[\"test\"]  permet bien d'accéder à la colonne"
   ]
  },
  {
   "cell_type": "markdown",
   "metadata": {},
   "source": [
    "## calculs "
   ]
  },
  {
   "cell_type": "markdown",
   "metadata": {},
   "source": [
    "### recréeons une fonction et appliquons là à une colonne"
   ]
  },
  {
   "cell_type": "code",
   "execution_count": 312,
   "metadata": {},
   "outputs": [],
   "source": [
    "def square(x):\n",
    "    return x**2"
   ]
  },
  {
   "cell_type": "code",
   "execution_count": 313,
   "metadata": {},
   "outputs": [
    {
     "data": {
      "text/plain": [
       "16"
      ]
     },
     "execution_count": 313,
     "metadata": {},
     "output_type": "execute_result"
    }
   ],
   "source": [
    "square(4)"
   ]
  },
  {
   "cell_type": "markdown",
   "metadata": {},
   "source": [
    "### apply "
   ]
  },
  {
   "cell_type": "code",
   "execution_count": 321,
   "metadata": {
    "scrolled": true
   },
   "outputs": [
    {
     "data": {
      "text/plain": [
       "0     4\n",
       "1     9\n",
       "2     9\n",
       "3    25\n",
       "4    25\n",
       "Name: test, dtype: int64"
      ]
     },
     "execution_count": 321,
     "metadata": {},
     "output_type": "execute_result"
    }
   ],
   "source": [
    "df2.test.apply(square)"
   ]
  },
  {
   "cell_type": "markdown",
   "metadata": {},
   "source": [
    "## on se souvient de lambda ? "
   ]
  },
  {
   "cell_type": "code",
   "execution_count": 332,
   "metadata": {},
   "outputs": [],
   "source": [
    "df2[\"test\"] = df2.test.apply(lambda x: x**2)"
   ]
  },
  {
   "cell_type": "code",
   "execution_count": 385,
   "metadata": {},
   "outputs": [
    {
     "data": {
      "text/plain": [
       "0       256\n",
       "2      6561\n",
       "3    390625\n",
       "4    390625\n",
       "Name: test, dtype: int64"
      ]
     },
     "execution_count": 385,
     "metadata": {},
     "output_type": "execute_result"
    }
   ],
   "source": [
    "df2.test"
   ]
  },
  {
   "cell_type": "code",
   "execution_count": 384,
   "metadata": {},
   "outputs": [
    {
     "data": {
      "text/plain": [
       "0       256.0\n",
       "2      6561.0\n",
       "3    390625.0\n",
       "4    390625.0\n",
       "Name: test, dtype: float64"
      ]
     },
     "execution_count": 384,
     "metadata": {},
     "output_type": "execute_result"
    }
   ],
   "source": [
    "df2.test.apply(mean)"
   ]
  },
  {
   "cell_type": "code",
   "execution_count": 387,
   "metadata": {},
   "outputs": [
    {
     "data": {
      "text/plain": [
       "2.5"
      ]
     },
     "execution_count": 387,
     "metadata": {},
     "output_type": "execute_result"
    }
   ],
   "source": [
    "mean([1,2,3,4])"
   ]
  },
  {
   "cell_type": "code",
   "execution_count": null,
   "metadata": {},
   "outputs": [],
   "source": [
    "## je veux faire ce calcul de moyenne sur l'ensemble des colonnes de ma dataframe (j'en ai 1220 imaginons)"
   ]
  },
  {
   "cell_type": "markdown",
   "metadata": {},
   "source": [
    "## apply vis-à-vis d'un dataframe"
   ]
  },
  {
   "cell_type": "code",
   "execution_count": 362,
   "metadata": {},
   "outputs": [
    {
     "data": {
      "text/html": [
       "<div>\n",
       "<style scoped>\n",
       "    .dataframe tbody tr th:only-of-type {\n",
       "        vertical-align: middle;\n",
       "    }\n",
       "\n",
       "    .dataframe tbody tr th {\n",
       "        vertical-align: top;\n",
       "    }\n",
       "\n",
       "    .dataframe thead th {\n",
       "        text-align: right;\n",
       "    }\n",
       "</style>\n",
       "<table border=\"1\" class=\"dataframe\">\n",
       "  <thead>\n",
       "    <tr style=\"text-align: right;\">\n",
       "      <th></th>\n",
       "      <th>test</th>\n",
       "      <th>test3</th>\n",
       "    </tr>\n",
       "  </thead>\n",
       "  <tbody>\n",
       "    <tr>\n",
       "      <td>0</td>\n",
       "      <td>65536</td>\n",
       "      <td>25</td>\n",
       "    </tr>\n",
       "    <tr>\n",
       "      <td>1</td>\n",
       "      <td>43046721</td>\n",
       "      <td>9</td>\n",
       "    </tr>\n",
       "    <tr>\n",
       "      <td>2</td>\n",
       "      <td>43046721</td>\n",
       "      <td>16</td>\n",
       "    </tr>\n",
       "    <tr>\n",
       "      <td>3</td>\n",
       "      <td>152587890625</td>\n",
       "      <td>9</td>\n",
       "    </tr>\n",
       "    <tr>\n",
       "      <td>4</td>\n",
       "      <td>152587890625</td>\n",
       "      <td>81</td>\n",
       "    </tr>\n",
       "  </tbody>\n",
       "</table>\n",
       "</div>"
      ],
      "text/plain": [
       "           test  test3\n",
       "0         65536     25\n",
       "1      43046721      9\n",
       "2      43046721     16\n",
       "3  152587890625      9\n",
       "4  152587890625     81"
      ]
     },
     "execution_count": 362,
     "metadata": {},
     "output_type": "execute_result"
    }
   ],
   "source": [
    "df2[[\"test\", \"test3\"]].apply(square, axis=1) # elementwise sur les lignes"
   ]
  },
  {
   "cell_type": "code",
   "execution_count": 393,
   "metadata": {},
   "outputs": [],
   "source": [
    "#df2[[\"test\", \"test3\"]].apply(square, axis=0) # elementwise sur les colonnes"
   ]
  },
  {
   "cell_type": "markdown",
   "metadata": {},
   "source": [
    "# vectorielle"
   ]
  },
  {
   "cell_type": "code",
   "execution_count": 368,
   "metadata": {},
   "outputs": [
    {
     "data": {
      "text/plain": [
       "6"
      ]
     },
     "execution_count": 368,
     "metadata": {},
     "output_type": "execute_result"
    }
   ],
   "source": [
    "sum([1,2,3])"
   ]
  },
  {
   "cell_type": "code",
   "execution_count": 370,
   "metadata": {},
   "outputs": [
    {
     "data": {
      "text/html": [
       "<div>\n",
       "<style scoped>\n",
       "    .dataframe tbody tr th:only-of-type {\n",
       "        vertical-align: middle;\n",
       "    }\n",
       "\n",
       "    .dataframe tbody tr th {\n",
       "        vertical-align: top;\n",
       "    }\n",
       "\n",
       "    .dataframe thead th {\n",
       "        text-align: right;\n",
       "    }\n",
       "</style>\n",
       "<table border=\"1\" class=\"dataframe\">\n",
       "  <thead>\n",
       "    <tr style=\"text-align: right;\">\n",
       "      <th></th>\n",
       "      <th>test</th>\n",
       "      <th>test2</th>\n",
       "      <th>test3</th>\n",
       "    </tr>\n",
       "  </thead>\n",
       "  <tbody>\n",
       "    <tr>\n",
       "      <td>0</td>\n",
       "      <td>256</td>\n",
       "      <td>4</td>\n",
       "      <td>5</td>\n",
       "    </tr>\n",
       "    <tr>\n",
       "      <td>1</td>\n",
       "      <td>6561</td>\n",
       "      <td>bonjour</td>\n",
       "      <td>3</td>\n",
       "    </tr>\n",
       "    <tr>\n",
       "      <td>2</td>\n",
       "      <td>6561</td>\n",
       "      <td>2</td>\n",
       "      <td>4</td>\n",
       "    </tr>\n",
       "    <tr>\n",
       "      <td>3</td>\n",
       "      <td>390625</td>\n",
       "      <td>2</td>\n",
       "      <td>3</td>\n",
       "    </tr>\n",
       "    <tr>\n",
       "      <td>4</td>\n",
       "      <td>390625</td>\n",
       "      <td>2</td>\n",
       "      <td>9</td>\n",
       "    </tr>\n",
       "  </tbody>\n",
       "</table>\n",
       "</div>"
      ],
      "text/plain": [
       "     test    test2  test3\n",
       "0     256        4      5\n",
       "1    6561  bonjour      3\n",
       "2    6561        2      4\n",
       "3  390625        2      3\n",
       "4  390625        2      9"
      ]
     },
     "execution_count": 370,
     "metadata": {},
     "output_type": "execute_result"
    }
   ],
   "source": [
    "df2"
   ]
  },
  {
   "cell_type": "code",
   "execution_count": 374,
   "metadata": {},
   "outputs": [],
   "source": [
    "from numpy import mean"
   ]
  },
  {
   "cell_type": "code",
   "execution_count": 389,
   "metadata": {},
   "outputs": [
    {
     "data": {
      "text/html": [
       "<div>\n",
       "<style scoped>\n",
       "    .dataframe tbody tr th:only-of-type {\n",
       "        vertical-align: middle;\n",
       "    }\n",
       "\n",
       "    .dataframe tbody tr th {\n",
       "        vertical-align: top;\n",
       "    }\n",
       "\n",
       "    .dataframe thead th {\n",
       "        text-align: right;\n",
       "    }\n",
       "</style>\n",
       "<table border=\"1\" class=\"dataframe\">\n",
       "  <thead>\n",
       "    <tr style=\"text-align: right;\">\n",
       "      <th></th>\n",
       "      <th>test</th>\n",
       "      <th>test3</th>\n",
       "    </tr>\n",
       "  </thead>\n",
       "  <tbody>\n",
       "    <tr>\n",
       "      <td>0</td>\n",
       "      <td>256</td>\n",
       "      <td>5</td>\n",
       "    </tr>\n",
       "    <tr>\n",
       "      <td>2</td>\n",
       "      <td>6561</td>\n",
       "      <td>4</td>\n",
       "    </tr>\n",
       "    <tr>\n",
       "      <td>3</td>\n",
       "      <td>390625</td>\n",
       "      <td>3</td>\n",
       "    </tr>\n",
       "    <tr>\n",
       "      <td>4</td>\n",
       "      <td>390625</td>\n",
       "      <td>9</td>\n",
       "    </tr>\n",
       "  </tbody>\n",
       "</table>\n",
       "</div>"
      ],
      "text/plain": [
       "     test  test3\n",
       "0     256      5\n",
       "2    6561      4\n",
       "3  390625      3\n",
       "4  390625      9"
      ]
     },
     "execution_count": 389,
     "metadata": {},
     "output_type": "execute_result"
    }
   ],
   "source": [
    "df2[[\"test\", \"test3\"]]"
   ]
  },
  {
   "cell_type": "code",
   "execution_count": 392,
   "metadata": {},
   "outputs": [
    {
     "data": {
      "text/plain": [
       "test     197016.75\n",
       "test3         5.25\n",
       "dtype: float64"
      ]
     },
     "execution_count": 392,
     "metadata": {},
     "output_type": "execute_result"
    }
   ],
   "source": [
    "df2[[\"test\", \"test3\"]].apply(mean,  axis=0) # par rapports aux colonnes  "
   ]
  },
  {
   "cell_type": "markdown",
   "metadata": {},
   "source": [
    "## choisir tout sauf "
   ]
  },
  {
   "cell_type": "code",
   "execution_count": 377,
   "metadata": {},
   "outputs": [],
   "source": [
    "df2.drop(1, inplace=True) # colonnes ou lignes suivant axis"
   ]
  },
  {
   "cell_type": "code",
   "execution_count": 381,
   "metadata": {},
   "outputs": [
    {
     "data": {
      "text/html": [
       "<div>\n",
       "<style scoped>\n",
       "    .dataframe tbody tr th:only-of-type {\n",
       "        vertical-align: middle;\n",
       "    }\n",
       "\n",
       "    .dataframe tbody tr th {\n",
       "        vertical-align: top;\n",
       "    }\n",
       "\n",
       "    .dataframe thead th {\n",
       "        text-align: right;\n",
       "    }\n",
       "</style>\n",
       "<table border=\"1\" class=\"dataframe\">\n",
       "  <thead>\n",
       "    <tr style=\"text-align: right;\">\n",
       "      <th></th>\n",
       "      <th>test</th>\n",
       "      <th>test2</th>\n",
       "      <th>test3</th>\n",
       "    </tr>\n",
       "  </thead>\n",
       "  <tbody>\n",
       "    <tr>\n",
       "      <td>0</td>\n",
       "      <td>256</td>\n",
       "      <td>4</td>\n",
       "      <td>5</td>\n",
       "    </tr>\n",
       "    <tr>\n",
       "      <td>2</td>\n",
       "      <td>6561</td>\n",
       "      <td>2</td>\n",
       "      <td>4</td>\n",
       "    </tr>\n",
       "    <tr>\n",
       "      <td>3</td>\n",
       "      <td>390625</td>\n",
       "      <td>2</td>\n",
       "      <td>3</td>\n",
       "    </tr>\n",
       "    <tr>\n",
       "      <td>4</td>\n",
       "      <td>390625</td>\n",
       "      <td>2</td>\n",
       "      <td>9</td>\n",
       "    </tr>\n",
       "  </tbody>\n",
       "</table>\n",
       "</div>"
      ],
      "text/plain": [
       "     test test2  test3\n",
       "0     256     4      5\n",
       "2    6561     2      4\n",
       "3  390625     2      3\n",
       "4  390625     2      9"
      ]
     },
     "execution_count": 381,
     "metadata": {},
     "output_type": "execute_result"
    }
   ],
   "source": [
    "df2"
   ]
  },
  {
   "cell_type": "code",
   "execution_count": 380,
   "metadata": {},
   "outputs": [
    {
     "data": {
      "text/plain": [
       "2      2189.0\n",
       "3    130210.0\n",
       "4    130212.0\n",
       "dtype: float64"
      ]
     },
     "execution_count": 380,
     "metadata": {},
     "output_type": "execute_result"
    }
   ],
   "source": [
    "df2.drop(0).apply(mean, axis=1) # par rapport aux lignes "
   ]
  },
  {
   "cell_type": "code",
   "execution_count": 398,
   "metadata": {},
   "outputs": [
    {
     "data": {
      "text/html": [
       "<div>\n",
       "<style scoped>\n",
       "    .dataframe tbody tr th:only-of-type {\n",
       "        vertical-align: middle;\n",
       "    }\n",
       "\n",
       "    .dataframe tbody tr th {\n",
       "        vertical-align: top;\n",
       "    }\n",
       "\n",
       "    .dataframe thead th {\n",
       "        text-align: right;\n",
       "    }\n",
       "</style>\n",
       "<table border=\"1\" class=\"dataframe\">\n",
       "  <thead>\n",
       "    <tr style=\"text-align: right;\">\n",
       "      <th></th>\n",
       "      <th>test</th>\n",
       "      <th>test2</th>\n",
       "      <th>test3</th>\n",
       "    </tr>\n",
       "  </thead>\n",
       "  <tbody>\n",
       "    <tr>\n",
       "      <td>0</td>\n",
       "      <td>65536</td>\n",
       "      <td>16</td>\n",
       "      <td>25</td>\n",
       "    </tr>\n",
       "    <tr>\n",
       "      <td>2</td>\n",
       "      <td>43046721</td>\n",
       "      <td>4</td>\n",
       "      <td>16</td>\n",
       "    </tr>\n",
       "    <tr>\n",
       "      <td>3</td>\n",
       "      <td>152587890625</td>\n",
       "      <td>4</td>\n",
       "      <td>9</td>\n",
       "    </tr>\n",
       "    <tr>\n",
       "      <td>4</td>\n",
       "      <td>152587890625</td>\n",
       "      <td>4</td>\n",
       "      <td>81</td>\n",
       "    </tr>\n",
       "  </tbody>\n",
       "</table>\n",
       "</div>"
      ],
      "text/plain": [
       "           test  test2  test3\n",
       "0         65536     16     25\n",
       "2      43046721      4     16\n",
       "3  152587890625      4      9\n",
       "4  152587890625      4     81"
      ]
     },
     "execution_count": 398,
     "metadata": {},
     "output_type": "execute_result"
    }
   ],
   "source": [
    "df2.applymap(square)"
   ]
  },
  {
   "cell_type": "markdown",
   "metadata": {},
   "source": [
    "## masks"
   ]
  },
  {
   "cell_type": "code",
   "execution_count": null,
   "metadata": {},
   "outputs": [],
   "source": [
    "df2[df2[\"test\"]==3]"
   ]
  },
  {
   "cell_type": "markdown",
   "metadata": {},
   "source": [
    "# Groupby"
   ]
  },
  {
   "cell_type": "code",
   "execution_count": 222,
   "metadata": {},
   "outputs": [],
   "source": [
    "#df.reset_index(drop=True)"
   ]
  },
  {
   "cell_type": "markdown",
   "metadata": {},
   "source": [
    "# magic commands"
   ]
  },
  {
   "cell_type": "code",
   "execution_count": 357,
   "metadata": {},
   "outputs": [
    {
     "name": "stdout",
     "output_type": "stream",
     "text": [
      "214 ns ± 3.68 ns per loop (mean ± std. dev. of 7 runs, 1000000 loops each)\n"
     ]
    }
   ],
   "source": [
    "%timeit  range(10000000)"
   ]
  },
  {
   "cell_type": "code",
   "execution_count": 342,
   "metadata": {
    "scrolled": true
   },
   "outputs": [
    {
     "name": "stdout",
     "output_type": "stream",
     "text": [
      "url_incidents = \"https://www.data.gouv.fr/fr/datasets/r/a7e77e63-518e-4429-88ac-0e7255a77fc3\"\n",
      "url_regularites = \"https://www.data.gouv.fr/fr/datasets/r/2a4f7375-e090-4fbb-bea4-ea280a2d1028\"\n",
      "!pip install wget\n",
      "import wget\n",
      "wget.download(url_incidents, out='incidents.csv')\n",
      "!ls\n",
      "!wget --help\n",
      "!wget https://www.data.gouv.fr/fr/datasets/r/a7e77e63-518e-4429-88ac-0e7255a77fc3\n",
      "!wget https://www.data.gouv.fr/fr/datasets/r/a7e77e63-518e-4429-88ac-0e7255a77fc3 -o \"test.csv\"\n",
      "!wget https://www.data.gouv.fr/fr/datasets/r/a7e77e63-518e-4429-88ac-0e7255a77fc3 -o test.csv\n",
      "!ls\n",
      "import pandas as pd\n",
      "pd.read_csv(\"https://www.data.gouv.fr/fr/datasets/r/a7e77e63-518e-4429-88ac-0e7255a77fc3\")\n",
      "pd.read_csv(\"./incidents.csv\")\n",
      "!head -n 2 incidents.csv\n",
      "pd.read_csv(\"https://www.data.gouv.fr/fr/datasets/r/a7e77e63-518e-4429-88ac-0e7255a77fc3\", sep=';')\n",
      "pd.read_csv(\"https://www.data.gouv.fr/fr/datasets/r/a7e77e63-518e-4429-88ac-0e7255a77fc3\", sep=',')\n",
      "df = pd.read_csv(\"https://www.data.gouv.fr/fr/datasets/r/a7e77e63-518e-4429-88ac-0e7255a77fc3\", sep=',')\n",
      "df\n",
      "df.shape\n",
      "type(df.shape)\n",
      "df.shape\n",
      "df.dtypes\n",
      "df.head(3)\n",
      "df.describe()\n",
      "df.famille_transport.value_counts()\n",
      "df.famille_transport.value_counts().tolist()\n",
      "sum(df.famille_transport.value_counts().tolist())\n",
      "import pandas\n",
      "import regex asre\n",
      "import regex as re\n",
      "import sklearn\n",
      "import tf\n",
      "import tensorflow as tf\n",
      "dfe\n",
      "df\n",
      "df.famille_transport.value_counts()\n",
      "df.famille_transport\n",
      "df.famille_transport.value_counts()\n",
      "type(df.famille_transport.value_counts())\n",
      "df.famille_transport.value_counts()\n",
      "df.famille_transport.value_counts()\n",
      "df.famille_transport.value_counts().plot(kind='bar')\n",
      "%matplotlib inline\n",
      "df.famille_transport.value_counts().plot(kind='bar')\n",
      "type(df)\n",
      "type(df.columns)\n",
      "df.columns\n",
      "df = pd.read_csv(\"https://www.data.gouv.fr/fr/datasets/r/a7e77e63-518e-4429-88ac-0e7255a77fc3\", \n",
      "                 sep=',', \n",
      "                 cols=['test1','test2', 'test3', 'test4'])\n",
      "df = pd.read_csv(\"https://www.data.gouv.fr/fr/datasets/r/a7e77e63-518e-4429-88ac-0e7255a77fc3\", \n",
      "                 sep=',', \n",
      "                 columns=['test1','test2', 'test3', 'test4'])\n",
      "df = pd.read_csv(\"https://www.data.gouv.fr/fr/datasets/r/a7e77e63-518e-4429-88ac-0e7255a77fc3\", \n",
      "                 sep=',', \n",
      "                 usecols=['test1','test2', 'test3', 'test4'])\n",
      "df = pd.read_csv(\"https://www.data.gouv.fr/fr/datasets/r/a7e77e63-518e-4429-88ac-0e7255a77fc3\", \n",
      "                 sep=',', \n",
      "                 usecols=['date'])\n",
      "df\n",
      "df = pd.read_csv(\"https://www.data.gouv.fr/fr/datasets/r/a7e77e63-518e-4429-88ac-0e7255a77fc3\", \n",
      "                 sep=',', names=['test1', 'test3', 'test2', 'test4'])\n",
      "df\n",
      "df\n",
      "df.to_csv(\"ind.csv\")\n",
      "df\n",
      "df\n",
      "df = pd.read_csv(\"https://www.data.gouv.fr/fr/datasets/r/a7e77e63-518e-4429-88ac-0e7255a77fc3\", \n",
      "                 sep=',')\n",
      "df\n",
      "df.incidents\n",
      "df.incidents[0]\n",
      "df.incidents[1]\n",
      "df\n",
      "!curl --help\n",
      "! curl $url_incidents --output incidentsss.csv\n",
      "url_incidents = \"https://static.data.gouv.fr/resources/regularite-quotidienne-lignes-sncf/20200323-211549/incidents.csv\"\n",
      "!curl $url_incidents --output incidentsss.csv\n",
      "!head -n 2 incidents.csv\n",
      "!curl $url_incidents --output incidents.csv\n",
      "!head -n 2 incidents.csv\n",
      "df = pd.read_csv(\"https://www.data.gouv.fr/fr/datasets/r/a7e77e63-518e-4429-88ac-0e7255a77fc3\", sep=',')\n",
      "df\n",
      "df.index\n",
      "df.set_index(range(1,3745))\n",
      "df.index = range(1,3475)\n",
      "df.index = range(1,3476)\n",
      "df.index = range(1,3476)\n",
      "df.reindex(labels= range(1,3476))\n",
      "df.reindex(labels= range(1,3476*2,2))\n",
      "df.loc[3, [\"date\"]]\n",
      "df.reindex(labels= range(1,3476*2,2))\n",
      "df.loc[3, [\"date\"]]\n",
      "type(df.loc[3, [\"date\"]])\n",
      "type(df.loc[3, [\"date\", \"famille_transport\"]])\n",
      "df.loc[3, [\"date\", \"famille_transport\"]]\n",
      "type(df.loc[3:6, [\"date\", \"famille_transport\"]])\n",
      "df.loc[3:6, [\"date\", \"famille_transport\"]]\n",
      "df.loc[3:6, [\"date\", \"famille_transport\"]]\n",
      "df.loc[3:6, [\"date\", \"famille_transport\"]]\n",
      "df.iloc[3:6, [\"date\"]]\n",
      "df.iloc[3:6, [1,2]]\n",
      "df.iloc[3:6, [,2,3]]\n",
      "df.iloc[3:6, [2,3]]\n",
      "df.iloc[3:6, [0,1]]\n",
      "df.loc[3:6, [\"date\", \"ligne\"]]\n",
      "df.iloc[3:6, [0,2]]\n",
      "df.reindex(labels= range(1,3476*2,2), inplace=True)\n",
      "df.reindex(labels= range(1,3476*2,2))\n",
      "df = df.reindex(labels= range(1,3476*2,2))\n",
      "df.loc[3:6, [\"date\", \"ligne\"]]\n",
      "df.iloc[3:6, [0,2]]\n",
      "df\n",
      "df.loc[[3,6], [\"date\", \"ligne\"]]\n",
      "df.loc[[3,7], [\"date\", \"ligne\"]]\n",
      "df.iloc[[3,7, [0,2]]\n",
      "df.iloc[[3,7], [0,2]]\n",
      "df.head(10)\n",
      "df.loc[3:5, [\"date\", \"ligne\"]]\n",
      "df.iloc[[3:7], [0,2]]\n",
      "df.iloc[3:7, [0,2]]\n",
      "df.loc[3:6, [\"date\", \"ligne\"]]\n",
      "df.loc[3:7, [\"date\", \"ligne\"]]\n",
      "df.loc[3:8, [\"date\", \"ligne\"]]\n",
      "df.loc[3:5, [\"date\", \"ligne\"]]\n",
      "df.loc[[3,4], [\"date\", \"ligne\"]]\n",
      "df.loc[[3,4,5], [\"date\", \"ligne\"]]\n",
      "df.loc[[3,4,5], [\"date\", \"ligne\"]]\n",
      "df.loc[df[\"ligne\"] == \"B\"]\n",
      "df.loc[df[\"ligne\"].lower() == \"b\"]\n",
      "df.loc[df[\"ligne\"].apply(lower) == \"B\"]\n",
      "df.loc[df[\"ligne\"].str.lower() == \"B\"]\n",
      "df.loc[df[\"ligne\"].apply(lambda x: x.lower()) == \"B\"]\n",
      "df[\"ligne\"].apply(lambda x: x.lower())\n",
      "df[\"ligne\"].astype(str).apply(lambda x: x.lower())\n",
      "df\n",
      "df.columns\n",
      "df.columns =[\"test1\",\"test2\",\"test4\", \"test3\"]\n",
      "df\n",
      "!curl --help\n",
      "!curl $url_incidents --output incidents.csv\n",
      "!head -n 2 incidents.csv\n",
      "df = pd.read_csv(\"./incidents.csv\", sep=',')\n",
      "df\n",
      "jefaisunevariable = 2\n",
      "df = pd.read_csv(\"./incidents.csv\", sep=',')\n",
      "df\n",
      "df.columns\n",
      "df.columns = [\"date\", \"test\", \"test3\", \"test2\"]\n",
      "df\n",
      "df = pd.read_csv(\"./incidents.csv\", sep=',')\n",
      "df\n",
      "df.columns\n",
      "df.columns = [\"date\", \"test\", \"test3\", \"test2\"]\n",
      "df\n",
      "df.index\n",
      "range(1,1000)\n",
      "list(range(1,1000))\n",
      "df.reindex(labels= range(1, 3745))\n",
      "df.reindex(labels= range(1, 3744))\n",
      "df.reindex(labels= range(1, 3745))\n",
      "df.reindex(labels= range(1, 3746))\n",
      "df.reindex(labels= range(0, 3746))\n",
      "df.reindex(labels= range(0, 3745))\n",
      "df.reindex(labels = range(1, 3745*2, 2))\n",
      "df.index\n",
      "df.index = range(1, 3745*2, 2)\n",
      "df\n",
      "df.head()\n",
      "df.head(10)\n",
      "# df.loc[ label ou conditions sur les lignes,    labels ou conditions sur les colonnes ]\n",
      "df.loc[  3 , \"test\"   ]\n",
      "type(df.loc[  3 , \"test\"   ])\n",
      "df.loc[  3 , \"test\"   ]\n",
      "df.loc[ [3,11,13] ,  \"test\"  ]\n",
      "type(df.loc[ [3,11,13] ,  \"test\"  ])\n",
      "df.loc[ [3,11,13] ,  \"test\"  ]\n",
      "df.loc[ [3,11,13] ,  \"test\"  ].tolist()\n",
      "df.loc[ [3,11,13] ,  \"test\"  ]\n",
      "df.loc[ [3,11,13] ,  \"test2\"  ]\n",
      "df.loc[  [3,11], [\"test\", \"test3\"]  ]\n",
      "df.loc[  [3,11], [\"test\", \"test2\"]  ]\n",
      "type(df.loc[  [3,11], [\"test\", \"test2\"]  ])\n",
      "type(df)\n",
      "df.loc[  [3,11], [\"test\", \"test2\"]  ]\n",
      "nouveau_df = df.loc[  [3,11], [\"test\", \"test2\"]  ]\n",
      "nouveau_df\n",
      "nouvea\n",
      "nouveau_df.shape\n",
      "df.head()\n",
      "df[    df[\"test3\"] == \"B\"      , [\"test\", \"test2\"]]\n",
      "df.loc[    df[\"test3\"] == \"B\"      , [\"test\", \"test2\"]]\n",
      "df.loc[    df[\"test3\"] == \"B\"      , [\"test3\", \"test2\"]]\n",
      "df[df[\"test3\"] == \"B\"]\n",
      "df[df[\"test3\"] ==\"B\"]\n",
      "new_subset= df[df[\"test3\"] ==\"B\"]\n",
      "new_subset\n",
      "df.loc[3:11, [\"date\", \"test3\"]]\n",
      "df.iloc[2, [\"date\", \"test3\"]]\n",
      "df.iloc[2, [1, 3]]\n",
      "df.iloc[[2, 3], [1, 3]]\n",
      "df.loc[4]\n",
      "df.loc[4, \"test\"]\n",
      "df.head()\n",
      "df.loc[3, \"test\"]\n",
      "df.loc[3, :]\n",
      "df.loc[3]\n",
      "df.loc[3] #df.loc[3,:]\n",
      "df.loc[4] #df.loc[3,:]\n",
      "df.loc[3] #df.loc[3,:]\n",
      "df.iloc[2:5]\n",
      "pd.concat([df,  [  1,2,3,4 ] ])\n",
      "pd.concat([df,  pd.Series([  1,2,3,4 ])] )\n",
      "pd.concat([df,  pd.Series([  1,2,3,4 ])].T,  )\n",
      "pd.concat([df,  pd.Series([  1,2,3,4 ])].to_frame().T,  )\n",
      "pd.concat([df,  pd.Series([  1,2,3,4 ]).to_frame().T]  )\n",
      "pd.concat([df,  pd.Series([  1,2,3,4 ], index=[\"date\",\"test\", \"test2\", \"test3\"]).to_frame().T],  )\n",
      "#pd.concat([df,  pd.Series([  1,2,3,4 ], index=[\"date\",\"test\", \"test2\", \"test3\"]).to_frame().T],  )\n",
      "df.loc[3]\n",
      "df\n",
      "df\n",
      "df\n",
      "df\n",
      "df.loc[3] = [\"2019-01-20\", \"intercités\", \"C\"]\n",
      "df.loc[3] = [\"2019-01-20\", \"intercités\", \"C\", [\"défaut de signalisation\"]]\n",
      "df\n",
      "df.loc[4] = [\"2019-01-20\", \"intercités\", \"C\", [\"défaut de signalisation\"]]\n",
      "df\n",
      "df.sort_index()\n",
      "df.reset_index()\n",
      "df.reset_index(drop=True)\n",
      "#df.reset_index(drop=True)\n",
      "df.loc[4, \"test\"] = \"intercités\"\n",
      "df\n",
      "df.loc[4, \"test\"] = \"Afaefaef\"\n",
      "df\n",
      "pd.Series(   [  1,2,3,4 ])\n",
      "pd.concat(  [  df, pd.Series(   [  1,2,3,4 ]    )\n",
      "pd.concat(  [  df, pd.Series(   [  1,2,3,4 ]    )]  )\n",
      "df\n",
      "nouveau_df\n",
      "nouveau_df = df.loc[ [3,5],   : ]\n",
      "nouveau_df\n",
      "nouveau_df.shape\n",
      "df.shape\n",
      "df\n",
      "nouveau_df\n",
      "pd.concat( objs=  [ df, nouveau_df  ],  axis=0 )\n",
      "pd.concat([ df, nouveau_df , nouveau_df, nouveau_df],  axis=0 )\n",
      "maligne = [\"2019-01-23\",\"transilien A\",['Défaut de signalisation entre Nation et Auber']\n",
      "maligne = [\"2019-01-23\",\"transilien A\",['Défaut de signalisation entre Nation et Auber']]\n",
      "maligne\n",
      "pd.Series( maligne)\n",
      "pd.Series( maligne , index=df.columns)\n",
      "maligne = [\"2019-01-23\",\"transilien\", \"A\",['Défaut de signalisation entre Nation et Auber']]\n",
      "maligne\n",
      "pd.Series( maligne , index=df.columns)\n",
      "pd.Series( maligne , index=df.columns)\n",
      "pd.Series( maligne , index=df.columns).to_frame()\n",
      "pd.Series( maligne , index=df.columns).to_frame().T\n",
      "new_line_df = pd.Series( maligne , index=df.columns).to_frame().T\n",
      "new_line_df = pd.Series( maligne , index=df.columns).to_frame().T\n",
      "new_line_df\n",
      "pd.concat([ df, new_line_df],  axis=0 )\n",
      " pd.Series( maligne , index=df.columns)\n",
      "df.reset_index()\n",
      "df.index\n",
      "df\n",
      "df.reset_index(inplace=True)\n",
      "df\n",
      "df.index\n",
      "df\n",
      "df.reset_index(inplace=True, drop=True)\n",
      "df\n",
      "df = pd.read_csv(\"./incidents.csv\", sep=',')\n",
      "df\n",
      "df\n",
      "df.index = range(1, 3745*2, 2)\n",
      "df\n",
      "df.reset_index(drop=True)\n",
      "df.reset_index()\n",
      "df.reset_index(drop=True)\n",
      "df.reset_index()\n",
      "df.reset_index(drop=True)\n",
      "df.reset_index(inplace=True, drop=True)\n",
      "df\n",
      "pd.read_csv(\"./incidents.csv\")\n",
      "#pd.read_csv(\"./incidents.csv\") # ou avec une url\n",
      "#pd.read_csv(\"./incidents.csv\") # ou avec une url voir ci-dessus les 2 approches que l'on a utilisé\n",
      "#pd.read_csv(\"./incidents.csv\") # ou avec une url voir ci-dessus les 2 approches que l'on a utilisées\n",
      "df2 = pd.DataFrame({ 'test' : [2,3,4,5]})\n",
      "df2\n",
      "df2 = pd.DataFrame({ 'test' : [2,3,4,5],  'test2': [4,5,2,2] })\n",
      "df2\n",
      "df2 = pd.DataFrame({ 'test' : [2,3,4,5],  'test2': [4,5,2,2] , 'test3': [5,3,4,3]})\n",
      "df2\n",
      "df2 = pd.DataFrame({ 'test' : [2,3,3,5],  'test2': [4,5,2,2] , 'test3': [5,3,4,3]})\n",
      "df2\n",
      "df2 = pd.DataFrame({ 'test' : [2,3,3,5,5],  'test2': [4,5,2,2] , 'test3': [5,3,4,3]})\n",
      "df2 = pd.DataFrame({ 'test' : [2,3,3,5,5],  'test2': [4,5,2,2, 2] , 'test3': [5,3,4,3, 9]})\n",
      "df2\n",
      "## masks\n",
      "!git remote -v\n",
      "!git add td2_pandas_introduction.ipynb\n",
      "!git commit -m \"td2 manipulation légère de pandas\"\n",
      "!git push origin master\n",
      "df.dtypes\n",
      "df2.dtypes\n",
      "df2.loc[  1   ,   \"test2\"  ]\n",
      "df2.loc[  1   ,   \"test2\"  ] = \"bonjour\"\n",
      "df2\n",
      "df2.dtypes\n",
      "df2[\"test\"] #df2[nomdelacolonne]\n",
      "df2.test #df2.nomdelacolonne\n",
      "df[   df[\"test\"] > 2 ]\n",
      "df2[   df2[\"test\"] > 2 ]\n",
      "df.loc[df2[\"test\"] > 2 , :]\n",
      "df.loc[df2[\"test\"] > 2 ]\n",
      "df2.loc[df2[\"test\"] > 2 , :]\n",
      "df[\"test\"] #df[nomdelacolonne]\n",
      "df.test #df.nomdelacolonne\n",
      "df.columns = [\"date\", \"test\", \"test3\", \"test2\"]\n",
      "df\n",
      "df[\"test\"] #df[nomdelacolonne]\n",
      "df.test #df.nomdelacolonne\n",
      "def square(x):\n",
      "    return x**2\n",
      "square(4)\n",
      "df2.test\n",
      "type(df2.test)\n",
      "df2.test\n",
      "list(map(square ,  [2,3,4]))\n",
      "map(square ,  [2,3,4])\n",
      "list(map(square ,  [2,3,4]))\n",
      "tuple(map(square ,  [2,3,4]))\n",
      "df2.test.apply(square)\n",
      "df2\n",
      "square = lambda x: x**2\n",
      "df2.test.apply(lambda x: x**2)\n",
      "df2.test.apply(lambda x: x**2)\n",
      "df2\n",
      "df2.test = df2.test.apply(lambda x: x**2)\n",
      "df2.test\n",
      "df2\n",
      "df2[\"test\"] = df2.test.apply(lambda x: x**2)\n",
      "df2\n",
      "df2[\"test\"] = df2.test.apply(lambda x: x**2)\n",
      "df2\n",
      "df\n",
      "%matplotlib inline\n",
      "df\n",
      "%history\n",
      "df.famille_transport.value_counts()\n",
      "df.famille_transport.value_counts()\n",
      "%matplotlib inline\n",
      "df.famille_transport.value_counts()\n",
      "%history\n"
     ]
    }
   ],
   "source": [
    "# magic command pour l'historiques des commandes écrites soumises au kernel\n",
    "%history"
   ]
  },
  {
   "cell_type": "code",
   "execution_count": null,
   "metadata": {},
   "outputs": [],
   "source": []
  },
  {
   "cell_type": "code",
   "execution_count": null,
   "metadata": {},
   "outputs": [],
   "source": []
  },
  {
   "cell_type": "code",
   "execution_count": null,
   "metadata": {},
   "outputs": [],
   "source": []
  },
  {
   "cell_type": "code",
   "execution_count": null,
   "metadata": {},
   "outputs": [],
   "source": []
  },
  {
   "cell_type": "code",
   "execution_count": null,
   "metadata": {},
   "outputs": [],
   "source": []
  },
  {
   "cell_type": "code",
   "execution_count": null,
   "metadata": {},
   "outputs": [],
   "source": []
  },
  {
   "cell_type": "code",
   "execution_count": null,
   "metadata": {},
   "outputs": [],
   "source": []
  },
  {
   "cell_type": "code",
   "execution_count": 341,
   "metadata": {},
   "outputs": [
    {
     "ename": "AttributeError",
     "evalue": "'DataFrame' object has no attribute 'famille_transport'",
     "output_type": "error",
     "traceback": [
      "\u001b[0;31m---------------------------------------------------------------------------\u001b[0m",
      "\u001b[0;31mAttributeError\u001b[0m                            Traceback (most recent call last)",
      "\u001b[0;32m<ipython-input-341-d2abc14997d0>\u001b[0m in \u001b[0;36m<module>\u001b[0;34m()\u001b[0m\n\u001b[0;32m----> 1\u001b[0;31m \u001b[0mdf\u001b[0m\u001b[0;34m.\u001b[0m\u001b[0mfamille_transport\u001b[0m\u001b[0;34m.\u001b[0m\u001b[0mvalue_counts\u001b[0m\u001b[0;34m(\u001b[0m\u001b[0;34m)\u001b[0m\u001b[0;34m\u001b[0m\u001b[0;34m\u001b[0m\u001b[0m\n\u001b[0m",
      "\u001b[0;32m~/anaconda3/lib/python3.6/site-packages/pandas/core/generic.py\u001b[0m in \u001b[0;36m__getattr__\u001b[0;34m(self, name)\u001b[0m\n\u001b[1;32m   5177\u001b[0m             \u001b[0;32mif\u001b[0m \u001b[0mself\u001b[0m\u001b[0;34m.\u001b[0m\u001b[0m_info_axis\u001b[0m\u001b[0;34m.\u001b[0m\u001b[0m_can_hold_identifiers_and_holds_name\u001b[0m\u001b[0;34m(\u001b[0m\u001b[0mname\u001b[0m\u001b[0;34m)\u001b[0m\u001b[0;34m:\u001b[0m\u001b[0;34m\u001b[0m\u001b[0;34m\u001b[0m\u001b[0m\n\u001b[1;32m   5178\u001b[0m                 \u001b[0;32mreturn\u001b[0m \u001b[0mself\u001b[0m\u001b[0;34m[\u001b[0m\u001b[0mname\u001b[0m\u001b[0;34m]\u001b[0m\u001b[0;34m\u001b[0m\u001b[0;34m\u001b[0m\u001b[0m\n\u001b[0;32m-> 5179\u001b[0;31m             \u001b[0;32mreturn\u001b[0m \u001b[0mobject\u001b[0m\u001b[0;34m.\u001b[0m\u001b[0m__getattribute__\u001b[0m\u001b[0;34m(\u001b[0m\u001b[0mself\u001b[0m\u001b[0;34m,\u001b[0m \u001b[0mname\u001b[0m\u001b[0;34m)\u001b[0m\u001b[0;34m\u001b[0m\u001b[0;34m\u001b[0m\u001b[0m\n\u001b[0m\u001b[1;32m   5180\u001b[0m \u001b[0;34m\u001b[0m\u001b[0m\n\u001b[1;32m   5181\u001b[0m     \u001b[0;32mdef\u001b[0m \u001b[0m__setattr__\u001b[0m\u001b[0;34m(\u001b[0m\u001b[0mself\u001b[0m\u001b[0;34m,\u001b[0m \u001b[0mname\u001b[0m\u001b[0;34m,\u001b[0m \u001b[0mvalue\u001b[0m\u001b[0;34m)\u001b[0m\u001b[0;34m:\u001b[0m\u001b[0;34m\u001b[0m\u001b[0;34m\u001b[0m\u001b[0m\n",
      "\u001b[0;31mAttributeError\u001b[0m: 'DataFrame' object has no attribute 'famille_transport'"
     ]
    }
   ],
   "source": [
    "df.famille_transport.value_counts()"
   ]
  },
  {
   "cell_type": "code",
   "execution_count": 340,
   "metadata": {},
   "outputs": [],
   "source": [
    "%matplotlib inline"
   ]
  },
  {
   "cell_type": "code",
   "execution_count": 44,
   "metadata": {},
   "outputs": [
    {
     "data": {
      "text/plain": [
       "<matplotlib.axes._subplots.AxesSubplot at 0xd290c1da0>"
      ]
     },
     "execution_count": 44,
     "metadata": {},
     "output_type": "execute_result"
    },
    {
     "data": {
      "image/png": "[encoded data removed]",
      "text/plain": [
       "<Figure size 432x288 with 1 Axes>"
      ]
     },
     "metadata": {},
     "output_type": "display_data"
    }
   ],
   "source": [
    "df.famille_transport.value_counts().plot(kind='bar')"
   ]
  },
  {
   "cell_type": "code",
   "execution_count": 336,
   "metadata": {},
   "outputs": [
    {
     "data": {
      "text/html": [
       "<div>\n",
       "<style scoped>\n",
       "    .dataframe tbody tr th:only-of-type {\n",
       "        vertical-align: middle;\n",
       "    }\n",
       "\n",
       "    .dataframe tbody tr th {\n",
       "        vertical-align: top;\n",
       "    }\n",
       "\n",
       "    .dataframe thead th {\n",
       "        text-align: right;\n",
       "    }\n",
       "</style>\n",
       "<table border=\"1\" class=\"dataframe\">\n",
       "  <thead>\n",
       "    <tr style=\"text-align: right;\">\n",
       "      <th></th>\n",
       "      <th>date</th>\n",
       "      <th>test</th>\n",
       "      <th>test3</th>\n",
       "      <th>test2</th>\n",
       "    </tr>\n",
       "  </thead>\n",
       "  <tbody>\n",
       "    <tr>\n",
       "      <td>0</td>\n",
       "      <td>2019-01-23</td>\n",
       "      <td>transilien</td>\n",
       "      <td>A</td>\n",
       "      <td>['Défaut de signalisation entre Nation et Aube...</td>\n",
       "    </tr>\n",
       "    <tr>\n",
       "      <td>1</td>\n",
       "      <td>2019-01-23</td>\n",
       "      <td>transilien</td>\n",
       "      <td>B</td>\n",
       "      <td>['Intervention de police à Gare-du-Nord pour u...</td>\n",
       "    </tr>\n",
       "    <tr>\n",
       "      <td>2</td>\n",
       "      <td>2019-01-23</td>\n",
       "      <td>transilien</td>\n",
       "      <td>C</td>\n",
       "      <td>[\"Signal d'alarme à Bibiliothèque-François-Mit...</td>\n",
       "    </tr>\n",
       "    <tr>\n",
       "      <td>3</td>\n",
       "      <td>2019-01-23</td>\n",
       "      <td>transilien</td>\n",
       "      <td>D</td>\n",
       "      <td>['Restitution tardive de travaux de nuit à Com...</td>\n",
       "    </tr>\n",
       "    <tr>\n",
       "      <td>4</td>\n",
       "      <td>2019-01-23</td>\n",
       "      <td>transilien</td>\n",
       "      <td>E</td>\n",
       "      <td>[\"Signaux d'alarme malveillants à Haussamann-S...</td>\n",
       "    </tr>\n",
       "    <tr>\n",
       "      <td>...</td>\n",
       "      <td>...</td>\n",
       "      <td>...</td>\n",
       "      <td>...</td>\n",
       "      <td>...</td>\n",
       "    </tr>\n",
       "    <tr>\n",
       "      <td>3740</td>\n",
       "      <td>2020-03-13</td>\n",
       "      <td>intercites</td>\n",
       "      <td>Nantes-Lyon</td>\n",
       "      <td>[\"Présence d'individus sur le pont-rail du Rhô...</td>\n",
       "    </tr>\n",
       "    <tr>\n",
       "      <td>3741</td>\n",
       "      <td>2020-03-13</td>\n",
       "      <td>intercites</td>\n",
       "      <td>Toulouse-Bayonne</td>\n",
       "      <td>NaN</td>\n",
       "    </tr>\n",
       "    <tr>\n",
       "      <td>3742</td>\n",
       "      <td>2020-03-13</td>\n",
       "      <td>intercites</td>\n",
       "      <td>Clermont-Béziers</td>\n",
       "      <td>NaN</td>\n",
       "    </tr>\n",
       "    <tr>\n",
       "      <td>3743</td>\n",
       "      <td>2020-03-13</td>\n",
       "      <td>intercites</td>\n",
       "      <td>Paris-Toulouse-Latour De Carol/Cerbere/Rodez</td>\n",
       "      <td>NaN</td>\n",
       "    </tr>\n",
       "    <tr>\n",
       "      <td>3744</td>\n",
       "      <td>2020-03-13</td>\n",
       "      <td>intercites</td>\n",
       "      <td>Paris-Briançon</td>\n",
       "      <td>NaN</td>\n",
       "    </tr>\n",
       "  </tbody>\n",
       "</table>\n",
       "<p>3745 rows × 4 columns</p>\n",
       "</div>"
      ],
      "text/plain": [
       "            date        test                                         test3  \\\n",
       "0     2019-01-23  transilien                                             A   \n",
       "1     2019-01-23  transilien                                             B   \n",
       "2     2019-01-23  transilien                                             C   \n",
       "3     2019-01-23  transilien                                             D   \n",
       "4     2019-01-23  transilien                                             E   \n",
       "...          ...         ...                                           ...   \n",
       "3740  2020-03-13  intercites                                   Nantes-Lyon   \n",
       "3741  2020-03-13  intercites                              Toulouse-Bayonne   \n",
       "3742  2020-03-13  intercites                              Clermont-Béziers   \n",
       "3743  2020-03-13  intercites  Paris-Toulouse-Latour De Carol/Cerbere/Rodez   \n",
       "3744  2020-03-13  intercites                                Paris-Briançon   \n",
       "\n",
       "                                                  test2  \n",
       "0     ['Défaut de signalisation entre Nation et Aube...  \n",
       "1     ['Intervention de police à Gare-du-Nord pour u...  \n",
       "2     [\"Signal d'alarme à Bibiliothèque-François-Mit...  \n",
       "3     ['Restitution tardive de travaux de nuit à Com...  \n",
       "4     [\"Signaux d'alarme malveillants à Haussamann-S...  \n",
       "...                                                 ...  \n",
       "3740  [\"Présence d'individus sur le pont-rail du Rhô...  \n",
       "3741                                                NaN  \n",
       "3742                                                NaN  \n",
       "3743                                                NaN  \n",
       "3744                                                NaN  \n",
       "\n",
       "[3745 rows x 4 columns]"
      ]
     },
     "execution_count": 336,
     "metadata": {},
     "output_type": "execute_result"
    }
   ],
   "source": [
    "df"
   ]
  },
  {
   "cell_type": "code",
   "execution_count": 74,
   "metadata": {},
   "outputs": [
    {
     "data": {
      "text/plain": [
       "RangeIndex(start=0, stop=3745, step=1)"
      ]
     },
     "execution_count": 74,
     "metadata": {},
     "output_type": "execute_result"
    }
   ],
   "source": [
    "df.index"
   ]
  },
  {
   "cell_type": "code",
   "execution_count": null,
   "metadata": {},
   "outputs": [],
   "source": []
  },
  {
   "cell_type": "code",
   "execution_count": null,
   "metadata": {},
   "outputs": [],
   "source": []
  },
  {
   "cell_type": "code",
   "execution_count": null,
   "metadata": {},
   "outputs": [],
   "source": []
  },
  {
   "cell_type": "code",
   "execution_count": null,
   "metadata": {},
   "outputs": [],
   "source": []
  },
  {
   "cell_type": "code",
   "execution_count": null,
   "metadata": {},
   "outputs": [],
   "source": []
  },
  {
   "cell_type": "code",
   "execution_count": null,
   "metadata": {},
   "outputs": [],
   "source": []
  },
  {
   "cell_type": "code",
   "execution_count": 292,
   "metadata": {},
   "outputs": [
    {
     "name": "stdout",
     "output_type": "stream",
     "text": [
      "origin\thttps://github.com/Luc-Bertin/test.git (fetch)\r\n",
      "origin\thttps://github.com/Luc-Bertin/test.git (push)\r\n"
     ]
    }
   ],
   "source": [
    "!git remote -v"
   ]
  },
  {
   "cell_type": "code",
   "execution_count": 293,
   "metadata": {},
   "outputs": [],
   "source": [
    "!git add td2_pandas_introduction.ipynb"
   ]
  },
  {
   "cell_type": "code",
   "execution_count": 294,
   "metadata": {},
   "outputs": [
    {
     "name": "stdout",
     "output_type": "stream",
     "text": [
      "[master 03c1f4b] td2 manipulation légère de pandas\r\n",
      " 1 file changed, 3663 insertions(+)\r\n",
      " create mode 100644 td2_pandas_introduction.ipynb\r\n"
     ]
    }
   ],
   "source": [
    "!git commit -m \"td2 manipulation légère de pandas\""
   ]
  },
  {
   "cell_type": "code",
   "execution_count": 295,
   "metadata": {},
   "outputs": [
    {
     "name": "stdout",
     "output_type": "stream",
     "text": [
      "Enumerating objects: 4, done.\n",
      "Counting objects: 100% (4/4), done.\n",
      "Delta compression using up to 8 threads\n",
      "Compressing objects: 100% (3/3), done.\n",
      "Writing objects: 100% (3/3), 13.29 KiB | 6.64 MiB/s, done.\n",
      "Total 3 (delta 0), reused 0 (delta 0)\n",
      "To https://github.com/Luc-Bertin/test.git\n",
      "   5d4adc4..03c1f4b  master -> master\n"
     ]
    }
   ],
   "source": [
    "!git push origin master"
   ]
  },
  {
   "cell_type": "code",
   "execution_count": null,
   "metadata": {},
   "outputs": [],
   "source": []
  }
 ],
 "metadata": {
  "kernelspec": {
   "display_name": "Python 3",
   "language": "python",
   "name": "python3"
  },
  "language_info": {
   "codemirror_mode": {
    "name": "ipython",
    "version": 3
   },
   "file_extension": ".py",
   "mimetype": "text/x-python",
   "name": "python",
   "nbconvert_exporter": "python",
   "pygments_lexer": "ipython3",
   "version": "3.6.8"
  }
 },
 "nbformat": 4,
 "nbformat_minor": 2
}
