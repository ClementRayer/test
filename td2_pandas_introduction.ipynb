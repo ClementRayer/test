{
 "cells": [
  {
   "cell_type": "code",
   "execution_count": 1,
   "metadata": {},
   "outputs": [],
   "source": [
    "url_incidents = \"https://www.data.gouv.fr/fr/datasets/r/a7e77e63-518e-4429-88ac-0e7255a77fc3\"\n",
    "url_regularites = \"https://www.data.gouv.fr/fr/datasets/r/2a4f7375-e090-4fbb-bea4-ea280a2d1028\""
   ]
  },
  {
   "cell_type": "markdown",
   "metadata": {},
   "source": [
    "# curl "
   ]
  },
  {
   "cell_type": "code",
   "execution_count": 67,
   "metadata": {},
   "outputs": [],
   "source": [
    "url_incidents = \"https://static.data.gouv.fr/resources/regularite-quotidienne-lignes-sncf/20200323-211549/incidents.csv\""
   ]
  },
  {
   "cell_type": "code",
   "execution_count": 131,
   "metadata": {
    "scrolled": false
   },
   "outputs": [
    {
     "name": "stdout",
     "output_type": "stream",
     "text": [
      "  % Total    % Received % Xferd  Average Speed   Time    Time     Time  Current\n",
      "                                 Dload  Upload   Total   Spent    Left  Speed\n",
      "100  297k  100  297k    0     0   624k      0 --:--:-- --:--:--  0:00:08 36936 --:--:--  624k\n"
     ]
    }
   ],
   "source": [
    "!curl $url_incidents --output incidents.csv"
   ]
  },
  {
   "cell_type": "code",
   "execution_count": 132,
   "metadata": {},
   "outputs": [
    {
     "name": "stdout",
     "output_type": "stream",
     "text": [
      "date,famille_transport,ligne,incidents\r",
      "\r\n",
      "2019-01-23,transilien,A,\"['Défaut de signalisation entre Nation et Auber', 'Malaise voyageur à Auber', \"\"Panne d'une rame à Cergy-le-Haut\"\"]\"\r",
      "\r\n"
     ]
    }
   ],
   "source": [
    "!head -n 2 incidents.csv"
   ]
  },
  {
   "cell_type": "markdown",
   "metadata": {},
   "source": [
    "## ouvrir depuis pandas"
   ]
  },
  {
   "cell_type": "markdown",
   "metadata": {},
   "source": [
    "set up un environnement python"
   ]
  },
  {
   "cell_type": "markdown",
   "metadata": {},
   "source": [
    "## Maj + Tab à l'intérieur des parenthèses ou quand on écrit la méthode pour plus d'infos sur celle-ci"
   ]
  },
  {
   "cell_type": "markdown",
   "metadata": {},
   "source": [
    "## Tab pour l'autocomplétion"
   ]
  },
  {
   "cell_type": "code",
   "execution_count": 264,
   "metadata": {},
   "outputs": [],
   "source": [
    "df = pd.read_csv(\"./incidents.csv\", sep=',')"
   ]
  },
  {
   "cell_type": "code",
   "execution_count": 265,
   "metadata": {},
   "outputs": [
    {
     "data": {
      "text/html": [
       "<div>\n",
       "<style scoped>\n",
       "    .dataframe tbody tr th:only-of-type {\n",
       "        vertical-align: middle;\n",
       "    }\n",
       "\n",
       "    .dataframe tbody tr th {\n",
       "        vertical-align: top;\n",
       "    }\n",
       "\n",
       "    .dataframe thead th {\n",
       "        text-align: right;\n",
       "    }\n",
       "</style>\n",
       "<table border=\"1\" class=\"dataframe\">\n",
       "  <thead>\n",
       "    <tr style=\"text-align: right;\">\n",
       "      <th></th>\n",
       "      <th>date</th>\n",
       "      <th>famille_transport</th>\n",
       "      <th>ligne</th>\n",
       "      <th>incidents</th>\n",
       "    </tr>\n",
       "  </thead>\n",
       "  <tbody>\n",
       "    <tr>\n",
       "      <td>0</td>\n",
       "      <td>2019-01-23</td>\n",
       "      <td>transilien</td>\n",
       "      <td>A</td>\n",
       "      <td>['Défaut de signalisation entre Nation et Aube...</td>\n",
       "    </tr>\n",
       "    <tr>\n",
       "      <td>1</td>\n",
       "      <td>2019-01-23</td>\n",
       "      <td>transilien</td>\n",
       "      <td>B</td>\n",
       "      <td>['Intervention de police à Gare-du-Nord pour u...</td>\n",
       "    </tr>\n",
       "    <tr>\n",
       "      <td>2</td>\n",
       "      <td>2019-01-23</td>\n",
       "      <td>transilien</td>\n",
       "      <td>C</td>\n",
       "      <td>[\"Signal d'alarme à Bibiliothèque-François-Mit...</td>\n",
       "    </tr>\n",
       "    <tr>\n",
       "      <td>3</td>\n",
       "      <td>2019-01-23</td>\n",
       "      <td>transilien</td>\n",
       "      <td>D</td>\n",
       "      <td>['Restitution tardive de travaux de nuit à Com...</td>\n",
       "    </tr>\n",
       "    <tr>\n",
       "      <td>4</td>\n",
       "      <td>2019-01-23</td>\n",
       "      <td>transilien</td>\n",
       "      <td>E</td>\n",
       "      <td>[\"Signaux d'alarme malveillants à Haussamann-S...</td>\n",
       "    </tr>\n",
       "    <tr>\n",
       "      <td>...</td>\n",
       "      <td>...</td>\n",
       "      <td>...</td>\n",
       "      <td>...</td>\n",
       "      <td>...</td>\n",
       "    </tr>\n",
       "    <tr>\n",
       "      <td>3740</td>\n",
       "      <td>2020-03-13</td>\n",
       "      <td>intercites</td>\n",
       "      <td>Nantes-Lyon</td>\n",
       "      <td>[\"Présence d'individus sur le pont-rail du Rhô...</td>\n",
       "    </tr>\n",
       "    <tr>\n",
       "      <td>3741</td>\n",
       "      <td>2020-03-13</td>\n",
       "      <td>intercites</td>\n",
       "      <td>Toulouse-Bayonne</td>\n",
       "      <td>NaN</td>\n",
       "    </tr>\n",
       "    <tr>\n",
       "      <td>3742</td>\n",
       "      <td>2020-03-13</td>\n",
       "      <td>intercites</td>\n",
       "      <td>Clermont-Béziers</td>\n",
       "      <td>NaN</td>\n",
       "    </tr>\n",
       "    <tr>\n",
       "      <td>3743</td>\n",
       "      <td>2020-03-13</td>\n",
       "      <td>intercites</td>\n",
       "      <td>Paris-Toulouse-Latour De Carol/Cerbere/Rodez</td>\n",
       "      <td>NaN</td>\n",
       "    </tr>\n",
       "    <tr>\n",
       "      <td>3744</td>\n",
       "      <td>2020-03-13</td>\n",
       "      <td>intercites</td>\n",
       "      <td>Paris-Briançon</td>\n",
       "      <td>NaN</td>\n",
       "    </tr>\n",
       "  </tbody>\n",
       "</table>\n",
       "<p>3745 rows × 4 columns</p>\n",
       "</div>"
      ],
      "text/plain": [
       "            date famille_transport  \\\n",
       "0     2019-01-23        transilien   \n",
       "1     2019-01-23        transilien   \n",
       "2     2019-01-23        transilien   \n",
       "3     2019-01-23        transilien   \n",
       "4     2019-01-23        transilien   \n",
       "...          ...               ...   \n",
       "3740  2020-03-13        intercites   \n",
       "3741  2020-03-13        intercites   \n",
       "3742  2020-03-13        intercites   \n",
       "3743  2020-03-13        intercites   \n",
       "3744  2020-03-13        intercites   \n",
       "\n",
       "                                             ligne  \\\n",
       "0                                                A   \n",
       "1                                                B   \n",
       "2                                                C   \n",
       "3                                                D   \n",
       "4                                                E   \n",
       "...                                            ...   \n",
       "3740                                   Nantes-Lyon   \n",
       "3741                              Toulouse-Bayonne   \n",
       "3742                              Clermont-Béziers   \n",
       "3743  Paris-Toulouse-Latour De Carol/Cerbere/Rodez   \n",
       "3744                                Paris-Briançon   \n",
       "\n",
       "                                              incidents  \n",
       "0     ['Défaut de signalisation entre Nation et Aube...  \n",
       "1     ['Intervention de police à Gare-du-Nord pour u...  \n",
       "2     [\"Signal d'alarme à Bibiliothèque-François-Mit...  \n",
       "3     ['Restitution tardive de travaux de nuit à Com...  \n",
       "4     [\"Signaux d'alarme malveillants à Haussamann-S...  \n",
       "...                                                 ...  \n",
       "3740  [\"Présence d'individus sur le pont-rail du Rhô...  \n",
       "3741                                                NaN  \n",
       "3742                                                NaN  \n",
       "3743                                                NaN  \n",
       "3744                                                NaN  \n",
       "\n",
       "[3745 rows x 4 columns]"
      ]
     },
     "execution_count": 265,
     "metadata": {},
     "output_type": "execute_result"
    }
   ],
   "source": [
    "df"
   ]
  },
  {
   "cell_type": "markdown",
   "metadata": {},
   "source": [
    "## Affichage des colonnes "
   ]
  },
  {
   "cell_type": "code",
   "execution_count": 143,
   "metadata": {},
   "outputs": [
    {
     "data": {
      "text/plain": [
       "Index(['date', 'famille_transport', 'ligne', 'incidents'], dtype='object')"
      ]
     },
     "execution_count": 143,
     "metadata": {},
     "output_type": "execute_result"
    }
   ],
   "source": [
    "df.columns"
   ]
  },
  {
   "cell_type": "code",
   "execution_count": 309,
   "metadata": {},
   "outputs": [],
   "source": [
    "df.columns = [\"date\", \"test\", \"test3\", \"test2\"]"
   ]
  },
  {
   "cell_type": "code",
   "execution_count": 310,
   "metadata": {
    "scrolled": false
   },
   "outputs": [
    {
     "data": {
      "text/html": [
       "<div>\n",
       "<style scoped>\n",
       "    .dataframe tbody tr th:only-of-type {\n",
       "        vertical-align: middle;\n",
       "    }\n",
       "\n",
       "    .dataframe tbody tr th {\n",
       "        vertical-align: top;\n",
       "    }\n",
       "\n",
       "    .dataframe thead th {\n",
       "        text-align: right;\n",
       "    }\n",
       "</style>\n",
       "<table border=\"1\" class=\"dataframe\">\n",
       "  <thead>\n",
       "    <tr style=\"text-align: right;\">\n",
       "      <th></th>\n",
       "      <th>date</th>\n",
       "      <th>test</th>\n",
       "      <th>test3</th>\n",
       "      <th>test2</th>\n",
       "    </tr>\n",
       "  </thead>\n",
       "  <tbody>\n",
       "    <tr>\n",
       "      <td>0</td>\n",
       "      <td>2019-01-23</td>\n",
       "      <td>transilien</td>\n",
       "      <td>A</td>\n",
       "      <td>['Défaut de signalisation entre Nation et Aube...</td>\n",
       "    </tr>\n",
       "    <tr>\n",
       "      <td>1</td>\n",
       "      <td>2019-01-23</td>\n",
       "      <td>transilien</td>\n",
       "      <td>B</td>\n",
       "      <td>['Intervention de police à Gare-du-Nord pour u...</td>\n",
       "    </tr>\n",
       "    <tr>\n",
       "      <td>2</td>\n",
       "      <td>2019-01-23</td>\n",
       "      <td>transilien</td>\n",
       "      <td>C</td>\n",
       "      <td>[\"Signal d'alarme à Bibiliothèque-François-Mit...</td>\n",
       "    </tr>\n",
       "    <tr>\n",
       "      <td>3</td>\n",
       "      <td>2019-01-23</td>\n",
       "      <td>transilien</td>\n",
       "      <td>D</td>\n",
       "      <td>['Restitution tardive de travaux de nuit à Com...</td>\n",
       "    </tr>\n",
       "    <tr>\n",
       "      <td>4</td>\n",
       "      <td>2019-01-23</td>\n",
       "      <td>transilien</td>\n",
       "      <td>E</td>\n",
       "      <td>[\"Signaux d'alarme malveillants à Haussamann-S...</td>\n",
       "    </tr>\n",
       "    <tr>\n",
       "      <td>...</td>\n",
       "      <td>...</td>\n",
       "      <td>...</td>\n",
       "      <td>...</td>\n",
       "      <td>...</td>\n",
       "    </tr>\n",
       "    <tr>\n",
       "      <td>3740</td>\n",
       "      <td>2020-03-13</td>\n",
       "      <td>intercites</td>\n",
       "      <td>Nantes-Lyon</td>\n",
       "      <td>[\"Présence d'individus sur le pont-rail du Rhô...</td>\n",
       "    </tr>\n",
       "    <tr>\n",
       "      <td>3741</td>\n",
       "      <td>2020-03-13</td>\n",
       "      <td>intercites</td>\n",
       "      <td>Toulouse-Bayonne</td>\n",
       "      <td>NaN</td>\n",
       "    </tr>\n",
       "    <tr>\n",
       "      <td>3742</td>\n",
       "      <td>2020-03-13</td>\n",
       "      <td>intercites</td>\n",
       "      <td>Clermont-Béziers</td>\n",
       "      <td>NaN</td>\n",
       "    </tr>\n",
       "    <tr>\n",
       "      <td>3743</td>\n",
       "      <td>2020-03-13</td>\n",
       "      <td>intercites</td>\n",
       "      <td>Paris-Toulouse-Latour De Carol/Cerbere/Rodez</td>\n",
       "      <td>NaN</td>\n",
       "    </tr>\n",
       "    <tr>\n",
       "      <td>3744</td>\n",
       "      <td>2020-03-13</td>\n",
       "      <td>intercites</td>\n",
       "      <td>Paris-Briançon</td>\n",
       "      <td>NaN</td>\n",
       "    </tr>\n",
       "  </tbody>\n",
       "</table>\n",
       "<p>3745 rows × 4 columns</p>\n",
       "</div>"
      ],
      "text/plain": [
       "            date        test                                         test3  \\\n",
       "0     2019-01-23  transilien                                             A   \n",
       "1     2019-01-23  transilien                                             B   \n",
       "2     2019-01-23  transilien                                             C   \n",
       "3     2019-01-23  transilien                                             D   \n",
       "4     2019-01-23  transilien                                             E   \n",
       "...          ...         ...                                           ...   \n",
       "3740  2020-03-13  intercites                                   Nantes-Lyon   \n",
       "3741  2020-03-13  intercites                              Toulouse-Bayonne   \n",
       "3742  2020-03-13  intercites                              Clermont-Béziers   \n",
       "3743  2020-03-13  intercites  Paris-Toulouse-Latour De Carol/Cerbere/Rodez   \n",
       "3744  2020-03-13  intercites                                Paris-Briançon   \n",
       "\n",
       "                                                  test2  \n",
       "0     ['Défaut de signalisation entre Nation et Aube...  \n",
       "1     ['Intervention de police à Gare-du-Nord pour u...  \n",
       "2     [\"Signal d'alarme à Bibiliothèque-François-Mit...  \n",
       "3     ['Restitution tardive de travaux de nuit à Com...  \n",
       "4     [\"Signaux d'alarme malveillants à Haussamann-S...  \n",
       "...                                                 ...  \n",
       "3740  [\"Présence d'individus sur le pont-rail du Rhô...  \n",
       "3741                                                NaN  \n",
       "3742                                                NaN  \n",
       "3743                                                NaN  \n",
       "3744                                                NaN  \n",
       "\n",
       "[3745 rows x 4 columns]"
      ]
     },
     "execution_count": 310,
     "metadata": {},
     "output_type": "execute_result"
    }
   ],
   "source": [
    "df"
   ]
  },
  {
   "cell_type": "markdown",
   "metadata": {},
   "source": [
    "# accéder à une colonne"
   ]
  },
  {
   "cell_type": "code",
   "execution_count": 311,
   "metadata": {},
   "outputs": [
    {
     "data": {
      "text/plain": [
       "0       transilien\n",
       "1       transilien\n",
       "2       transilien\n",
       "3       transilien\n",
       "4       transilien\n",
       "           ...    \n",
       "3740    intercites\n",
       "3741    intercites\n",
       "3742    intercites\n",
       "3743    intercites\n",
       "3744    intercites\n",
       "Name: test, Length: 3745, dtype: object"
      ]
     },
     "execution_count": 311,
     "metadata": {},
     "output_type": "execute_result"
    }
   ],
   "source": [
    "df[\"test\"] #df[nomdelacolonne]\n",
    "df.test #df.nomdelacolonne"
   ]
  },
  {
   "cell_type": "markdown",
   "metadata": {},
   "source": [
    "## (colonne) index , qui répertorie les indexes des lignes "
   ]
  },
  {
   "cell_type": "code",
   "execution_count": 146,
   "metadata": {},
   "outputs": [
    {
     "data": {
      "text/plain": [
       "RangeIndex(start=0, stop=3745, step=1)"
      ]
     },
     "execution_count": 146,
     "metadata": {},
     "output_type": "execute_result"
    }
   ],
   "source": [
    "df.index"
   ]
  },
  {
   "cell_type": "code",
   "execution_count": 267,
   "metadata": {},
   "outputs": [],
   "source": [
    "df.index = range(1, 3745*2, 2)"
   ]
  },
  {
   "cell_type": "code",
   "execution_count": 268,
   "metadata": {},
   "outputs": [
    {
     "data": {
      "text/html": [
       "<div>\n",
       "<style scoped>\n",
       "    .dataframe tbody tr th:only-of-type {\n",
       "        vertical-align: middle;\n",
       "    }\n",
       "\n",
       "    .dataframe tbody tr th {\n",
       "        vertical-align: top;\n",
       "    }\n",
       "\n",
       "    .dataframe thead th {\n",
       "        text-align: right;\n",
       "    }\n",
       "</style>\n",
       "<table border=\"1\" class=\"dataframe\">\n",
       "  <thead>\n",
       "    <tr style=\"text-align: right;\">\n",
       "      <th></th>\n",
       "      <th>date</th>\n",
       "      <th>famille_transport</th>\n",
       "      <th>ligne</th>\n",
       "      <th>incidents</th>\n",
       "    </tr>\n",
       "  </thead>\n",
       "  <tbody>\n",
       "    <tr>\n",
       "      <td>1</td>\n",
       "      <td>2019-01-23</td>\n",
       "      <td>transilien</td>\n",
       "      <td>A</td>\n",
       "      <td>['Défaut de signalisation entre Nation et Aube...</td>\n",
       "    </tr>\n",
       "    <tr>\n",
       "      <td>3</td>\n",
       "      <td>2019-01-23</td>\n",
       "      <td>transilien</td>\n",
       "      <td>B</td>\n",
       "      <td>['Intervention de police à Gare-du-Nord pour u...</td>\n",
       "    </tr>\n",
       "    <tr>\n",
       "      <td>5</td>\n",
       "      <td>2019-01-23</td>\n",
       "      <td>transilien</td>\n",
       "      <td>C</td>\n",
       "      <td>[\"Signal d'alarme à Bibiliothèque-François-Mit...</td>\n",
       "    </tr>\n",
       "    <tr>\n",
       "      <td>7</td>\n",
       "      <td>2019-01-23</td>\n",
       "      <td>transilien</td>\n",
       "      <td>D</td>\n",
       "      <td>['Restitution tardive de travaux de nuit à Com...</td>\n",
       "    </tr>\n",
       "    <tr>\n",
       "      <td>9</td>\n",
       "      <td>2019-01-23</td>\n",
       "      <td>transilien</td>\n",
       "      <td>E</td>\n",
       "      <td>[\"Signaux d'alarme malveillants à Haussamann-S...</td>\n",
       "    </tr>\n",
       "    <tr>\n",
       "      <td>...</td>\n",
       "      <td>...</td>\n",
       "      <td>...</td>\n",
       "      <td>...</td>\n",
       "      <td>...</td>\n",
       "    </tr>\n",
       "    <tr>\n",
       "      <td>7481</td>\n",
       "      <td>2020-03-13</td>\n",
       "      <td>intercites</td>\n",
       "      <td>Nantes-Lyon</td>\n",
       "      <td>[\"Présence d'individus sur le pont-rail du Rhô...</td>\n",
       "    </tr>\n",
       "    <tr>\n",
       "      <td>7483</td>\n",
       "      <td>2020-03-13</td>\n",
       "      <td>intercites</td>\n",
       "      <td>Toulouse-Bayonne</td>\n",
       "      <td>NaN</td>\n",
       "    </tr>\n",
       "    <tr>\n",
       "      <td>7485</td>\n",
       "      <td>2020-03-13</td>\n",
       "      <td>intercites</td>\n",
       "      <td>Clermont-Béziers</td>\n",
       "      <td>NaN</td>\n",
       "    </tr>\n",
       "    <tr>\n",
       "      <td>7487</td>\n",
       "      <td>2020-03-13</td>\n",
       "      <td>intercites</td>\n",
       "      <td>Paris-Toulouse-Latour De Carol/Cerbere/Rodez</td>\n",
       "      <td>NaN</td>\n",
       "    </tr>\n",
       "    <tr>\n",
       "      <td>7489</td>\n",
       "      <td>2020-03-13</td>\n",
       "      <td>intercites</td>\n",
       "      <td>Paris-Briançon</td>\n",
       "      <td>NaN</td>\n",
       "    </tr>\n",
       "  </tbody>\n",
       "</table>\n",
       "<p>3745 rows × 4 columns</p>\n",
       "</div>"
      ],
      "text/plain": [
       "            date famille_transport  \\\n",
       "1     2019-01-23        transilien   \n",
       "3     2019-01-23        transilien   \n",
       "5     2019-01-23        transilien   \n",
       "7     2019-01-23        transilien   \n",
       "9     2019-01-23        transilien   \n",
       "...          ...               ...   \n",
       "7481  2020-03-13        intercites   \n",
       "7483  2020-03-13        intercites   \n",
       "7485  2020-03-13        intercites   \n",
       "7487  2020-03-13        intercites   \n",
       "7489  2020-03-13        intercites   \n",
       "\n",
       "                                             ligne  \\\n",
       "1                                                A   \n",
       "3                                                B   \n",
       "5                                                C   \n",
       "7                                                D   \n",
       "9                                                E   \n",
       "...                                            ...   \n",
       "7481                                   Nantes-Lyon   \n",
       "7483                              Toulouse-Bayonne   \n",
       "7485                              Clermont-Béziers   \n",
       "7487  Paris-Toulouse-Latour De Carol/Cerbere/Rodez   \n",
       "7489                                Paris-Briançon   \n",
       "\n",
       "                                              incidents  \n",
       "1     ['Défaut de signalisation entre Nation et Aube...  \n",
       "3     ['Intervention de police à Gare-du-Nord pour u...  \n",
       "5     [\"Signal d'alarme à Bibiliothèque-François-Mit...  \n",
       "7     ['Restitution tardive de travaux de nuit à Com...  \n",
       "9     [\"Signaux d'alarme malveillants à Haussamann-S...  \n",
       "...                                                 ...  \n",
       "7481  [\"Présence d'individus sur le pont-rail du Rhô...  \n",
       "7483                                                NaN  \n",
       "7485                                                NaN  \n",
       "7487                                                NaN  \n",
       "7489                                                NaN  \n",
       "\n",
       "[3745 rows x 4 columns]"
      ]
     },
     "execution_count": 268,
     "metadata": {},
     "output_type": "execute_result"
    }
   ],
   "source": [
    "df"
   ]
  },
  {
   "cell_type": "markdown",
   "metadata": {},
   "source": [
    "## REindex permet de réIndexer la dataframe, et donc la conformer avec les index que l'on soumet\n",
    "## on peut assigner directement un nouvel index avec l'attribut index\n",
    "## on peut aussi utiliser une autre méthode pour le même résultat "
   ]
  },
  {
   "cell_type": "markdown",
   "metadata": {},
   "source": [
    "## afficher les 10 premieres lignes "
   ]
  },
  {
   "cell_type": "code",
   "execution_count": 160,
   "metadata": {},
   "outputs": [
    {
     "data": {
      "text/html": [
       "<div>\n",
       "<style scoped>\n",
       "    .dataframe tbody tr th:only-of-type {\n",
       "        vertical-align: middle;\n",
       "    }\n",
       "\n",
       "    .dataframe tbody tr th {\n",
       "        vertical-align: top;\n",
       "    }\n",
       "\n",
       "    .dataframe thead th {\n",
       "        text-align: right;\n",
       "    }\n",
       "</style>\n",
       "<table border=\"1\" class=\"dataframe\">\n",
       "  <thead>\n",
       "    <tr style=\"text-align: right;\">\n",
       "      <th></th>\n",
       "      <th>date</th>\n",
       "      <th>test</th>\n",
       "      <th>test3</th>\n",
       "      <th>test2</th>\n",
       "    </tr>\n",
       "  </thead>\n",
       "  <tbody>\n",
       "    <tr>\n",
       "      <td>1</td>\n",
       "      <td>2019-01-23</td>\n",
       "      <td>transilien</td>\n",
       "      <td>A</td>\n",
       "      <td>['Défaut de signalisation entre Nation et Aube...</td>\n",
       "    </tr>\n",
       "    <tr>\n",
       "      <td>3</td>\n",
       "      <td>2019-01-23</td>\n",
       "      <td>transilien</td>\n",
       "      <td>B</td>\n",
       "      <td>['Intervention de police à Gare-du-Nord pour u...</td>\n",
       "    </tr>\n",
       "    <tr>\n",
       "      <td>5</td>\n",
       "      <td>2019-01-23</td>\n",
       "      <td>transilien</td>\n",
       "      <td>C</td>\n",
       "      <td>[\"Signal d'alarme à Bibiliothèque-François-Mit...</td>\n",
       "    </tr>\n",
       "    <tr>\n",
       "      <td>7</td>\n",
       "      <td>2019-01-23</td>\n",
       "      <td>transilien</td>\n",
       "      <td>D</td>\n",
       "      <td>['Restitution tardive de travaux de nuit à Com...</td>\n",
       "    </tr>\n",
       "    <tr>\n",
       "      <td>9</td>\n",
       "      <td>2019-01-23</td>\n",
       "      <td>transilien</td>\n",
       "      <td>E</td>\n",
       "      <td>[\"Signaux d'alarme malveillants à Haussamann-S...</td>\n",
       "    </tr>\n",
       "    <tr>\n",
       "      <td>11</td>\n",
       "      <td>2019-01-23</td>\n",
       "      <td>transilien</td>\n",
       "      <td>H</td>\n",
       "      <td>NaN</td>\n",
       "    </tr>\n",
       "    <tr>\n",
       "      <td>13</td>\n",
       "      <td>2019-01-23</td>\n",
       "      <td>transilien</td>\n",
       "      <td>J</td>\n",
       "      <td>['Avarie sur une rame à Asnières']</td>\n",
       "    </tr>\n",
       "    <tr>\n",
       "      <td>15</td>\n",
       "      <td>2019-01-23</td>\n",
       "      <td>transilien</td>\n",
       "      <td>K</td>\n",
       "      <td>NaN</td>\n",
       "    </tr>\n",
       "    <tr>\n",
       "      <td>17</td>\n",
       "      <td>2019-01-23</td>\n",
       "      <td>transilien</td>\n",
       "      <td>L</td>\n",
       "      <td>NaN</td>\n",
       "    </tr>\n",
       "    <tr>\n",
       "      <td>19</td>\n",
       "      <td>2019-01-23</td>\n",
       "      <td>transilien</td>\n",
       "      <td>N</td>\n",
       "      <td>['Conséquences des chutes de neige et de givre...</td>\n",
       "    </tr>\n",
       "  </tbody>\n",
       "</table>\n",
       "</div>"
      ],
      "text/plain": [
       "          date        test test3  \\\n",
       "1   2019-01-23  transilien     A   \n",
       "3   2019-01-23  transilien     B   \n",
       "5   2019-01-23  transilien     C   \n",
       "7   2019-01-23  transilien     D   \n",
       "9   2019-01-23  transilien     E   \n",
       "11  2019-01-23  transilien     H   \n",
       "13  2019-01-23  transilien     J   \n",
       "15  2019-01-23  transilien     K   \n",
       "17  2019-01-23  transilien     L   \n",
       "19  2019-01-23  transilien     N   \n",
       "\n",
       "                                                test2  \n",
       "1   ['Défaut de signalisation entre Nation et Aube...  \n",
       "3   ['Intervention de police à Gare-du-Nord pour u...  \n",
       "5   [\"Signal d'alarme à Bibiliothèque-François-Mit...  \n",
       "7   ['Restitution tardive de travaux de nuit à Com...  \n",
       "9   [\"Signaux d'alarme malveillants à Haussamann-S...  \n",
       "11                                                NaN  \n",
       "13                 ['Avarie sur une rame à Asnières']  \n",
       "15                                                NaN  \n",
       "17                                                NaN  \n",
       "19  ['Conséquences des chutes de neige et de givre...  "
      ]
     },
     "execution_count": 160,
     "metadata": {},
     "output_type": "execute_result"
    }
   ],
   "source": [
    "df.head(10)"
   ]
  },
  {
   "cell_type": "markdown",
   "metadata": {},
   "source": [
    "## filtrer sur les lignes et les colonnes "
   ]
  },
  {
   "cell_type": "markdown",
   "metadata": {},
   "source": [
    "2 choix : \n",
    "    * LOC\n",
    "    * ILOC"
   ]
  },
  {
   "cell_type": "code",
   "execution_count": 161,
   "metadata": {},
   "outputs": [],
   "source": [
    "# df.loc[ label ou conditions sur les lignes,    labels ou conditions sur les colonnes ]"
   ]
  },
  {
   "cell_type": "code",
   "execution_count": 164,
   "metadata": {},
   "outputs": [
    {
     "data": {
      "text/plain": [
       "'transilien'"
      ]
     },
     "execution_count": 164,
     "metadata": {},
     "output_type": "execute_result"
    }
   ],
   "source": [
    "df.loc[  3 , \"test\"   ]"
   ]
  },
  {
   "cell_type": "markdown",
   "metadata": {},
   "source": [
    "recuperer plusieurs cellules"
   ]
  },
  {
   "cell_type": "code",
   "execution_count": 170,
   "metadata": {},
   "outputs": [
    {
     "data": {
      "text/plain": [
       "3     ['Intervention de police à Gare-du-Nord pour u...\n",
       "11                                                  NaN\n",
       "13                   ['Avarie sur une rame à Asnières']\n",
       "Name: test2, dtype: object"
      ]
     },
     "execution_count": 170,
     "metadata": {},
     "output_type": "execute_result"
    }
   ],
   "source": [
    "df.loc[ [3,11,13] ,  \"test2\"  ]"
   ]
  },
  {
   "cell_type": "code",
   "execution_count": 176,
   "metadata": {},
   "outputs": [],
   "source": [
    "nouveau_df = df.loc[  [3,11], [\"test\", \"test2\"]  ]"
   ]
  },
  {
   "cell_type": "code",
   "execution_count": 177,
   "metadata": {},
   "outputs": [
    {
     "data": {
      "text/html": [
       "<div>\n",
       "<style scoped>\n",
       "    .dataframe tbody tr th:only-of-type {\n",
       "        vertical-align: middle;\n",
       "    }\n",
       "\n",
       "    .dataframe tbody tr th {\n",
       "        vertical-align: top;\n",
       "    }\n",
       "\n",
       "    .dataframe thead th {\n",
       "        text-align: right;\n",
       "    }\n",
       "</style>\n",
       "<table border=\"1\" class=\"dataframe\">\n",
       "  <thead>\n",
       "    <tr style=\"text-align: right;\">\n",
       "      <th></th>\n",
       "      <th>test</th>\n",
       "      <th>test2</th>\n",
       "    </tr>\n",
       "  </thead>\n",
       "  <tbody>\n",
       "    <tr>\n",
       "      <td>3</td>\n",
       "      <td>transilien</td>\n",
       "      <td>['Intervention de police à Gare-du-Nord pour u...</td>\n",
       "    </tr>\n",
       "    <tr>\n",
       "      <td>11</td>\n",
       "      <td>transilien</td>\n",
       "      <td>NaN</td>\n",
       "    </tr>\n",
       "  </tbody>\n",
       "</table>\n",
       "</div>"
      ],
      "text/plain": [
       "          test                                              test2\n",
       "3   transilien  ['Intervention de police à Gare-du-Nord pour u...\n",
       "11  transilien                                                NaN"
      ]
     },
     "execution_count": 177,
     "metadata": {},
     "output_type": "execute_result"
    }
   ],
   "source": [
    "nouveau_df"
   ]
  },
  {
   "cell_type": "code",
   "execution_count": 180,
   "metadata": {},
   "outputs": [
    {
     "data": {
      "text/html": [
       "<div>\n",
       "<style scoped>\n",
       "    .dataframe tbody tr th:only-of-type {\n",
       "        vertical-align: middle;\n",
       "    }\n",
       "\n",
       "    .dataframe tbody tr th {\n",
       "        vertical-align: top;\n",
       "    }\n",
       "\n",
       "    .dataframe thead th {\n",
       "        text-align: right;\n",
       "    }\n",
       "</style>\n",
       "<table border=\"1\" class=\"dataframe\">\n",
       "  <thead>\n",
       "    <tr style=\"text-align: right;\">\n",
       "      <th></th>\n",
       "      <th>date</th>\n",
       "      <th>test</th>\n",
       "      <th>test3</th>\n",
       "      <th>test2</th>\n",
       "    </tr>\n",
       "  </thead>\n",
       "  <tbody>\n",
       "    <tr>\n",
       "      <td>1</td>\n",
       "      <td>2019-01-23</td>\n",
       "      <td>transilien</td>\n",
       "      <td>A</td>\n",
       "      <td>['Défaut de signalisation entre Nation et Aube...</td>\n",
       "    </tr>\n",
       "    <tr>\n",
       "      <td>3</td>\n",
       "      <td>2019-01-23</td>\n",
       "      <td>transilien</td>\n",
       "      <td>B</td>\n",
       "      <td>['Intervention de police à Gare-du-Nord pour u...</td>\n",
       "    </tr>\n",
       "    <tr>\n",
       "      <td>5</td>\n",
       "      <td>2019-01-23</td>\n",
       "      <td>transilien</td>\n",
       "      <td>C</td>\n",
       "      <td>[\"Signal d'alarme à Bibiliothèque-François-Mit...</td>\n",
       "    </tr>\n",
       "    <tr>\n",
       "      <td>7</td>\n",
       "      <td>2019-01-23</td>\n",
       "      <td>transilien</td>\n",
       "      <td>D</td>\n",
       "      <td>['Restitution tardive de travaux de nuit à Com...</td>\n",
       "    </tr>\n",
       "    <tr>\n",
       "      <td>9</td>\n",
       "      <td>2019-01-23</td>\n",
       "      <td>transilien</td>\n",
       "      <td>E</td>\n",
       "      <td>[\"Signaux d'alarme malveillants à Haussamann-S...</td>\n",
       "    </tr>\n",
       "  </tbody>\n",
       "</table>\n",
       "</div>"
      ],
      "text/plain": [
       "         date        test test3  \\\n",
       "1  2019-01-23  transilien     A   \n",
       "3  2019-01-23  transilien     B   \n",
       "5  2019-01-23  transilien     C   \n",
       "7  2019-01-23  transilien     D   \n",
       "9  2019-01-23  transilien     E   \n",
       "\n",
       "                                               test2  \n",
       "1  ['Défaut de signalisation entre Nation et Aube...  \n",
       "3  ['Intervention de police à Gare-du-Nord pour u...  \n",
       "5  [\"Signal d'alarme à Bibiliothèque-François-Mit...  \n",
       "7  ['Restitution tardive de travaux de nuit à Com...  \n",
       "9  [\"Signaux d'alarme malveillants à Haussamann-S...  "
      ]
     },
     "execution_count": 180,
     "metadata": {},
     "output_type": "execute_result"
    }
   ],
   "source": [
    "df.head()"
   ]
  },
  {
   "cell_type": "code",
   "execution_count": 183,
   "metadata": {},
   "outputs": [
    {
     "data": {
      "text/html": [
       "<div>\n",
       "<style scoped>\n",
       "    .dataframe tbody tr th:only-of-type {\n",
       "        vertical-align: middle;\n",
       "    }\n",
       "\n",
       "    .dataframe tbody tr th {\n",
       "        vertical-align: top;\n",
       "    }\n",
       "\n",
       "    .dataframe thead th {\n",
       "        text-align: right;\n",
       "    }\n",
       "</style>\n",
       "<table border=\"1\" class=\"dataframe\">\n",
       "  <thead>\n",
       "    <tr style=\"text-align: right;\">\n",
       "      <th></th>\n",
       "      <th>test3</th>\n",
       "      <th>test2</th>\n",
       "    </tr>\n",
       "  </thead>\n",
       "  <tbody>\n",
       "    <tr>\n",
       "      <td>3</td>\n",
       "      <td>B</td>\n",
       "      <td>['Intervention de police à Gare-du-Nord pour u...</td>\n",
       "    </tr>\n",
       "    <tr>\n",
       "      <td>93</td>\n",
       "      <td>B</td>\n",
       "      <td>NaN</td>\n",
       "    </tr>\n",
       "    <tr>\n",
       "      <td>183</td>\n",
       "      <td>B</td>\n",
       "      <td>['Panne de signalisation à Sevran et à Gare du...</td>\n",
       "    </tr>\n",
       "    <tr>\n",
       "      <td>273</td>\n",
       "      <td>B</td>\n",
       "      <td>[\"Panne d'une rame à St-Michel-Notre-Dame (RAT...</td>\n",
       "    </tr>\n",
       "    <tr>\n",
       "      <td>363</td>\n",
       "      <td>B</td>\n",
       "      <td>[\"Panne d'une rame à Gare du Nord souterraine.\"]</td>\n",
       "    </tr>\n",
       "    <tr>\n",
       "      <td>...</td>\n",
       "      <td>...</td>\n",
       "      <td>...</td>\n",
       "    </tr>\n",
       "    <tr>\n",
       "      <td>7083</td>\n",
       "      <td>B</td>\n",
       "      <td>NaN</td>\n",
       "    </tr>\n",
       "    <tr>\n",
       "      <td>7165</td>\n",
       "      <td>B</td>\n",
       "      <td>NaN</td>\n",
       "    </tr>\n",
       "    <tr>\n",
       "      <td>7247</td>\n",
       "      <td>B</td>\n",
       "      <td>['Panne de signalisation à La-Plaine-Stade-de-...</td>\n",
       "    </tr>\n",
       "    <tr>\n",
       "      <td>7329</td>\n",
       "      <td>B</td>\n",
       "      <td>['Rail fissuré à La Plaine Stade de France', '...</td>\n",
       "    </tr>\n",
       "    <tr>\n",
       "      <td>7411</td>\n",
       "      <td>B</td>\n",
       "      <td>['Bagage abandonné dans un RER à Paris Nord So...</td>\n",
       "    </tr>\n",
       "  </tbody>\n",
       "</table>\n",
       "<p>85 rows × 2 columns</p>\n",
       "</div>"
      ],
      "text/plain": [
       "     test3                                              test2\n",
       "3        B  ['Intervention de police à Gare-du-Nord pour u...\n",
       "93       B                                                NaN\n",
       "183      B  ['Panne de signalisation à Sevran et à Gare du...\n",
       "273      B  [\"Panne d'une rame à St-Michel-Notre-Dame (RAT...\n",
       "363      B   [\"Panne d'une rame à Gare du Nord souterraine.\"]\n",
       "...    ...                                                ...\n",
       "7083     B                                                NaN\n",
       "7165     B                                                NaN\n",
       "7247     B  ['Panne de signalisation à La-Plaine-Stade-de-...\n",
       "7329     B  ['Rail fissuré à La Plaine Stade de France', '...\n",
       "7411     B  ['Bagage abandonné dans un RER à Paris Nord So...\n",
       "\n",
       "[85 rows x 2 columns]"
      ]
     },
     "execution_count": 183,
     "metadata": {},
     "output_type": "execute_result"
    }
   ],
   "source": [
    "df.loc[    df[\"test3\"] == \"B\"      , [\"test3\", \"test2\"]]"
   ]
  },
  {
   "cell_type": "code",
   "execution_count": 186,
   "metadata": {},
   "outputs": [],
   "source": [
    "new_subset= df[df[\"test3\"] ==\"B\"]"
   ]
  },
  {
   "cell_type": "code",
   "execution_count": 187,
   "metadata": {},
   "outputs": [
    {
     "data": {
      "text/html": [
       "<div>\n",
       "<style scoped>\n",
       "    .dataframe tbody tr th:only-of-type {\n",
       "        vertical-align: middle;\n",
       "    }\n",
       "\n",
       "    .dataframe tbody tr th {\n",
       "        vertical-align: top;\n",
       "    }\n",
       "\n",
       "    .dataframe thead th {\n",
       "        text-align: right;\n",
       "    }\n",
       "</style>\n",
       "<table border=\"1\" class=\"dataframe\">\n",
       "  <thead>\n",
       "    <tr style=\"text-align: right;\">\n",
       "      <th></th>\n",
       "      <th>date</th>\n",
       "      <th>test</th>\n",
       "      <th>test3</th>\n",
       "      <th>test2</th>\n",
       "    </tr>\n",
       "  </thead>\n",
       "  <tbody>\n",
       "    <tr>\n",
       "      <td>3</td>\n",
       "      <td>2019-01-23</td>\n",
       "      <td>transilien</td>\n",
       "      <td>B</td>\n",
       "      <td>['Intervention de police à Gare-du-Nord pour u...</td>\n",
       "    </tr>\n",
       "    <tr>\n",
       "      <td>93</td>\n",
       "      <td>2019-03-22</td>\n",
       "      <td>transilien</td>\n",
       "      <td>B</td>\n",
       "      <td>NaN</td>\n",
       "    </tr>\n",
       "    <tr>\n",
       "      <td>183</td>\n",
       "      <td>2019-07-09</td>\n",
       "      <td>transilien</td>\n",
       "      <td>B</td>\n",
       "      <td>['Panne de signalisation à Sevran et à Gare du...</td>\n",
       "    </tr>\n",
       "    <tr>\n",
       "      <td>273</td>\n",
       "      <td>2019-09-19</td>\n",
       "      <td>transilien</td>\n",
       "      <td>B</td>\n",
       "      <td>[\"Panne d'une rame à St-Michel-Notre-Dame (RAT...</td>\n",
       "    </tr>\n",
       "    <tr>\n",
       "      <td>363</td>\n",
       "      <td>2019-10-17</td>\n",
       "      <td>transilien</td>\n",
       "      <td>B</td>\n",
       "      <td>[\"Panne d'une rame à Gare du Nord souterraine.\"]</td>\n",
       "    </tr>\n",
       "    <tr>\n",
       "      <td>...</td>\n",
       "      <td>...</td>\n",
       "      <td>...</td>\n",
       "      <td>...</td>\n",
       "      <td>...</td>\n",
       "    </tr>\n",
       "    <tr>\n",
       "      <td>7083</td>\n",
       "      <td>2020-03-09</td>\n",
       "      <td>transilien</td>\n",
       "      <td>B</td>\n",
       "      <td>NaN</td>\n",
       "    </tr>\n",
       "    <tr>\n",
       "      <td>7165</td>\n",
       "      <td>2020-03-10</td>\n",
       "      <td>transilien</td>\n",
       "      <td>B</td>\n",
       "      <td>NaN</td>\n",
       "    </tr>\n",
       "    <tr>\n",
       "      <td>7247</td>\n",
       "      <td>2020-03-11</td>\n",
       "      <td>transilien</td>\n",
       "      <td>B</td>\n",
       "      <td>['Panne de signalisation à La-Plaine-Stade-de-...</td>\n",
       "    </tr>\n",
       "    <tr>\n",
       "      <td>7329</td>\n",
       "      <td>2020-03-12</td>\n",
       "      <td>transilien</td>\n",
       "      <td>B</td>\n",
       "      <td>['Rail fissuré à La Plaine Stade de France', '...</td>\n",
       "    </tr>\n",
       "    <tr>\n",
       "      <td>7411</td>\n",
       "      <td>2020-03-13</td>\n",
       "      <td>transilien</td>\n",
       "      <td>B</td>\n",
       "      <td>['Bagage abandonné dans un RER à Paris Nord So...</td>\n",
       "    </tr>\n",
       "  </tbody>\n",
       "</table>\n",
       "<p>85 rows × 4 columns</p>\n",
       "</div>"
      ],
      "text/plain": [
       "            date        test test3  \\\n",
       "3     2019-01-23  transilien     B   \n",
       "93    2019-03-22  transilien     B   \n",
       "183   2019-07-09  transilien     B   \n",
       "273   2019-09-19  transilien     B   \n",
       "363   2019-10-17  transilien     B   \n",
       "...          ...         ...   ...   \n",
       "7083  2020-03-09  transilien     B   \n",
       "7165  2020-03-10  transilien     B   \n",
       "7247  2020-03-11  transilien     B   \n",
       "7329  2020-03-12  transilien     B   \n",
       "7411  2020-03-13  transilien     B   \n",
       "\n",
       "                                                  test2  \n",
       "3     ['Intervention de police à Gare-du-Nord pour u...  \n",
       "93                                                  NaN  \n",
       "183   ['Panne de signalisation à Sevran et à Gare du...  \n",
       "273   [\"Panne d'une rame à St-Michel-Notre-Dame (RAT...  \n",
       "363    [\"Panne d'une rame à Gare du Nord souterraine.\"]  \n",
       "...                                                 ...  \n",
       "7083                                                NaN  \n",
       "7165                                                NaN  \n",
       "7247  ['Panne de signalisation à La-Plaine-Stade-de-...  \n",
       "7329  ['Rail fissuré à La Plaine Stade de France', '...  \n",
       "7411  ['Bagage abandonné dans un RER à Paris Nord So...  \n",
       "\n",
       "[85 rows x 4 columns]"
      ]
     },
     "execution_count": 187,
     "metadata": {},
     "output_type": "execute_result"
    }
   ],
   "source": [
    "new_subset"
   ]
  },
  {
   "cell_type": "markdown",
   "metadata": {},
   "source": [
    "## slicing "
   ]
  },
  {
   "cell_type": "code",
   "execution_count": 188,
   "metadata": {},
   "outputs": [
    {
     "data": {
      "text/html": [
       "<div>\n",
       "<style scoped>\n",
       "    .dataframe tbody tr th:only-of-type {\n",
       "        vertical-align: middle;\n",
       "    }\n",
       "\n",
       "    .dataframe tbody tr th {\n",
       "        vertical-align: top;\n",
       "    }\n",
       "\n",
       "    .dataframe thead th {\n",
       "        text-align: right;\n",
       "    }\n",
       "</style>\n",
       "<table border=\"1\" class=\"dataframe\">\n",
       "  <thead>\n",
       "    <tr style=\"text-align: right;\">\n",
       "      <th></th>\n",
       "      <th>date</th>\n",
       "      <th>test3</th>\n",
       "    </tr>\n",
       "  </thead>\n",
       "  <tbody>\n",
       "    <tr>\n",
       "      <td>3</td>\n",
       "      <td>2019-01-23</td>\n",
       "      <td>B</td>\n",
       "    </tr>\n",
       "    <tr>\n",
       "      <td>5</td>\n",
       "      <td>2019-01-23</td>\n",
       "      <td>C</td>\n",
       "    </tr>\n",
       "    <tr>\n",
       "      <td>7</td>\n",
       "      <td>2019-01-23</td>\n",
       "      <td>D</td>\n",
       "    </tr>\n",
       "    <tr>\n",
       "      <td>9</td>\n",
       "      <td>2019-01-23</td>\n",
       "      <td>E</td>\n",
       "    </tr>\n",
       "    <tr>\n",
       "      <td>11</td>\n",
       "      <td>2019-01-23</td>\n",
       "      <td>H</td>\n",
       "    </tr>\n",
       "  </tbody>\n",
       "</table>\n",
       "</div>"
      ],
      "text/plain": [
       "          date test3\n",
       "3   2019-01-23     B\n",
       "5   2019-01-23     C\n",
       "7   2019-01-23     D\n",
       "9   2019-01-23     E\n",
       "11  2019-01-23     H"
      ]
     },
     "execution_count": 188,
     "metadata": {},
     "output_type": "execute_result"
    }
   ],
   "source": [
    "df.loc[3:11, [\"date\", \"test3\"]]"
   ]
  },
  {
   "cell_type": "markdown",
   "metadata": {},
   "source": [
    "### df.iloc"
   ]
  },
  {
   "cell_type": "code",
   "execution_count": 191,
   "metadata": {
    "scrolled": true
   },
   "outputs": [
    {
     "data": {
      "text/html": [
       "<div>\n",
       "<style scoped>\n",
       "    .dataframe tbody tr th:only-of-type {\n",
       "        vertical-align: middle;\n",
       "    }\n",
       "\n",
       "    .dataframe tbody tr th {\n",
       "        vertical-align: top;\n",
       "    }\n",
       "\n",
       "    .dataframe thead th {\n",
       "        text-align: right;\n",
       "    }\n",
       "</style>\n",
       "<table border=\"1\" class=\"dataframe\">\n",
       "  <thead>\n",
       "    <tr style=\"text-align: right;\">\n",
       "      <th></th>\n",
       "      <th>test</th>\n",
       "      <th>test2</th>\n",
       "    </tr>\n",
       "  </thead>\n",
       "  <tbody>\n",
       "    <tr>\n",
       "      <td>5</td>\n",
       "      <td>transilien</td>\n",
       "      <td>[\"Signal d'alarme à Bibiliothèque-François-Mit...</td>\n",
       "    </tr>\n",
       "    <tr>\n",
       "      <td>7</td>\n",
       "      <td>transilien</td>\n",
       "      <td>['Restitution tardive de travaux de nuit à Com...</td>\n",
       "    </tr>\n",
       "  </tbody>\n",
       "</table>\n",
       "</div>"
      ],
      "text/plain": [
       "         test                                              test2\n",
       "5  transilien  [\"Signal d'alarme à Bibiliothèque-François-Mit...\n",
       "7  transilien  ['Restitution tardive de travaux de nuit à Com..."
      ]
     },
     "execution_count": 191,
     "metadata": {},
     "output_type": "execute_result"
    }
   ],
   "source": [
    "df.iloc[[2, 3], [1, 3]]"
   ]
  },
  {
   "cell_type": "code",
   "execution_count": 194,
   "metadata": {},
   "outputs": [
    {
     "data": {
      "text/html": [
       "<div>\n",
       "<style scoped>\n",
       "    .dataframe tbody tr th:only-of-type {\n",
       "        vertical-align: middle;\n",
       "    }\n",
       "\n",
       "    .dataframe tbody tr th {\n",
       "        vertical-align: top;\n",
       "    }\n",
       "\n",
       "    .dataframe thead th {\n",
       "        text-align: right;\n",
       "    }\n",
       "</style>\n",
       "<table border=\"1\" class=\"dataframe\">\n",
       "  <thead>\n",
       "    <tr style=\"text-align: right;\">\n",
       "      <th></th>\n",
       "      <th>date</th>\n",
       "      <th>test</th>\n",
       "      <th>test3</th>\n",
       "      <th>test2</th>\n",
       "    </tr>\n",
       "  </thead>\n",
       "  <tbody>\n",
       "    <tr>\n",
       "      <td>1</td>\n",
       "      <td>2019-01-23</td>\n",
       "      <td>transilien</td>\n",
       "      <td>A</td>\n",
       "      <td>['Défaut de signalisation entre Nation et Aube...</td>\n",
       "    </tr>\n",
       "    <tr>\n",
       "      <td>3</td>\n",
       "      <td>2019-01-23</td>\n",
       "      <td>transilien</td>\n",
       "      <td>B</td>\n",
       "      <td>['Intervention de police à Gare-du-Nord pour u...</td>\n",
       "    </tr>\n",
       "    <tr>\n",
       "      <td>5</td>\n",
       "      <td>2019-01-23</td>\n",
       "      <td>transilien</td>\n",
       "      <td>C</td>\n",
       "      <td>[\"Signal d'alarme à Bibiliothèque-François-Mit...</td>\n",
       "    </tr>\n",
       "    <tr>\n",
       "      <td>7</td>\n",
       "      <td>2019-01-23</td>\n",
       "      <td>transilien</td>\n",
       "      <td>D</td>\n",
       "      <td>['Restitution tardive de travaux de nuit à Com...</td>\n",
       "    </tr>\n",
       "    <tr>\n",
       "      <td>9</td>\n",
       "      <td>2019-01-23</td>\n",
       "      <td>transilien</td>\n",
       "      <td>E</td>\n",
       "      <td>[\"Signaux d'alarme malveillants à Haussamann-S...</td>\n",
       "    </tr>\n",
       "  </tbody>\n",
       "</table>\n",
       "</div>"
      ],
      "text/plain": [
       "         date        test test3  \\\n",
       "1  2019-01-23  transilien     A   \n",
       "3  2019-01-23  transilien     B   \n",
       "5  2019-01-23  transilien     C   \n",
       "7  2019-01-23  transilien     D   \n",
       "9  2019-01-23  transilien     E   \n",
       "\n",
       "                                               test2  \n",
       "1  ['Défaut de signalisation entre Nation et Aube...  \n",
       "3  ['Intervention de police à Gare-du-Nord pour u...  \n",
       "5  [\"Signal d'alarme à Bibiliothèque-François-Mit...  \n",
       "7  ['Restitution tardive de travaux de nuit à Com...  \n",
       "9  [\"Signaux d'alarme malveillants à Haussamann-S...  "
      ]
     },
     "execution_count": 194,
     "metadata": {},
     "output_type": "execute_result"
    }
   ],
   "source": [
    "df.head()"
   ]
  },
  {
   "cell_type": "code",
   "execution_count": 200,
   "metadata": {},
   "outputs": [
    {
     "data": {
      "text/plain": [
       "date                                            2019-01-23\n",
       "test                                            transilien\n",
       "test3                                                    B\n",
       "test2    ['Intervention de police à Gare-du-Nord pour u...\n",
       "Name: 3, dtype: object"
      ]
     },
     "execution_count": 200,
     "metadata": {},
     "output_type": "execute_result"
    }
   ],
   "source": [
    "df.loc[3] #df.loc[3,:] "
   ]
  },
  {
   "cell_type": "code",
   "execution_count": 201,
   "metadata": {},
   "outputs": [
    {
     "data": {
      "text/html": [
       "<div>\n",
       "<style scoped>\n",
       "    .dataframe tbody tr th:only-of-type {\n",
       "        vertical-align: middle;\n",
       "    }\n",
       "\n",
       "    .dataframe tbody tr th {\n",
       "        vertical-align: top;\n",
       "    }\n",
       "\n",
       "    .dataframe thead th {\n",
       "        text-align: right;\n",
       "    }\n",
       "</style>\n",
       "<table border=\"1\" class=\"dataframe\">\n",
       "  <thead>\n",
       "    <tr style=\"text-align: right;\">\n",
       "      <th></th>\n",
       "      <th>date</th>\n",
       "      <th>test</th>\n",
       "      <th>test3</th>\n",
       "      <th>test2</th>\n",
       "    </tr>\n",
       "  </thead>\n",
       "  <tbody>\n",
       "    <tr>\n",
       "      <td>5</td>\n",
       "      <td>2019-01-23</td>\n",
       "      <td>transilien</td>\n",
       "      <td>C</td>\n",
       "      <td>[\"Signal d'alarme à Bibiliothèque-François-Mit...</td>\n",
       "    </tr>\n",
       "    <tr>\n",
       "      <td>7</td>\n",
       "      <td>2019-01-23</td>\n",
       "      <td>transilien</td>\n",
       "      <td>D</td>\n",
       "      <td>['Restitution tardive de travaux de nuit à Com...</td>\n",
       "    </tr>\n",
       "    <tr>\n",
       "      <td>9</td>\n",
       "      <td>2019-01-23</td>\n",
       "      <td>transilien</td>\n",
       "      <td>E</td>\n",
       "      <td>[\"Signaux d'alarme malveillants à Haussamann-S...</td>\n",
       "    </tr>\n",
       "  </tbody>\n",
       "</table>\n",
       "</div>"
      ],
      "text/plain": [
       "         date        test test3  \\\n",
       "5  2019-01-23  transilien     C   \n",
       "7  2019-01-23  transilien     D   \n",
       "9  2019-01-23  transilien     E   \n",
       "\n",
       "                                               test2  \n",
       "5  [\"Signal d'alarme à Bibiliothèque-François-Mit...  \n",
       "7  ['Restitution tardive de travaux de nuit à Com...  \n",
       "9  [\"Signaux d'alarme malveillants à Haussamann-S...  "
      ]
     },
     "execution_count": 201,
     "metadata": {},
     "output_type": "execute_result"
    }
   ],
   "source": [
    "df.iloc[2:5]"
   ]
  },
  {
   "cell_type": "markdown",
   "metadata": {},
   "source": [
    "## taille de la dataframe ? "
   ]
  },
  {
   "cell_type": "code",
   "execution_count": 179,
   "metadata": {},
   "outputs": [
    {
     "data": {
      "text/plain": [
       "(2, 2)"
      ]
     },
     "execution_count": 179,
     "metadata": {},
     "output_type": "execute_result"
    }
   ],
   "source": [
    "nouveau_df.shape"
   ]
  },
  {
   "cell_type": "markdown",
   "metadata": {},
   "source": [
    "## insertion de lignes "
   ]
  },
  {
   "cell_type": "code",
   "execution_count": 210,
   "metadata": {},
   "outputs": [
    {
     "data": {
      "text/html": [
       "<div>\n",
       "<style scoped>\n",
       "    .dataframe tbody tr th:only-of-type {\n",
       "        vertical-align: middle;\n",
       "    }\n",
       "\n",
       "    .dataframe tbody tr th {\n",
       "        vertical-align: top;\n",
       "    }\n",
       "\n",
       "    .dataframe thead th {\n",
       "        text-align: right;\n",
       "    }\n",
       "</style>\n",
       "<table border=\"1\" class=\"dataframe\">\n",
       "  <thead>\n",
       "    <tr style=\"text-align: right;\">\n",
       "      <th></th>\n",
       "      <th>date</th>\n",
       "      <th>test</th>\n",
       "      <th>test3</th>\n",
       "      <th>test2</th>\n",
       "    </tr>\n",
       "  </thead>\n",
       "  <tbody>\n",
       "    <tr>\n",
       "      <td>1</td>\n",
       "      <td>2019-01-23</td>\n",
       "      <td>transilien</td>\n",
       "      <td>A</td>\n",
       "      <td>['Défaut de signalisation entre Nation et Aube...</td>\n",
       "    </tr>\n",
       "    <tr>\n",
       "      <td>3</td>\n",
       "      <td>2019-01-23</td>\n",
       "      <td>transilien</td>\n",
       "      <td>B</td>\n",
       "      <td>['Intervention de police à Gare-du-Nord pour u...</td>\n",
       "    </tr>\n",
       "    <tr>\n",
       "      <td>5</td>\n",
       "      <td>2019-01-23</td>\n",
       "      <td>transilien</td>\n",
       "      <td>C</td>\n",
       "      <td>[\"Signal d'alarme à Bibiliothèque-François-Mit...</td>\n",
       "    </tr>\n",
       "    <tr>\n",
       "      <td>7</td>\n",
       "      <td>2019-01-23</td>\n",
       "      <td>transilien</td>\n",
       "      <td>D</td>\n",
       "      <td>['Restitution tardive de travaux de nuit à Com...</td>\n",
       "    </tr>\n",
       "    <tr>\n",
       "      <td>9</td>\n",
       "      <td>2019-01-23</td>\n",
       "      <td>transilien</td>\n",
       "      <td>E</td>\n",
       "      <td>[\"Signaux d'alarme malveillants à Haussamann-S...</td>\n",
       "    </tr>\n",
       "    <tr>\n",
       "      <td>...</td>\n",
       "      <td>...</td>\n",
       "      <td>...</td>\n",
       "      <td>...</td>\n",
       "      <td>...</td>\n",
       "    </tr>\n",
       "    <tr>\n",
       "      <td>7481</td>\n",
       "      <td>2020-03-13</td>\n",
       "      <td>intercites</td>\n",
       "      <td>Nantes-Lyon</td>\n",
       "      <td>[\"Présence d'individus sur le pont-rail du Rhô...</td>\n",
       "    </tr>\n",
       "    <tr>\n",
       "      <td>7483</td>\n",
       "      <td>2020-03-13</td>\n",
       "      <td>intercites</td>\n",
       "      <td>Toulouse-Bayonne</td>\n",
       "      <td>NaN</td>\n",
       "    </tr>\n",
       "    <tr>\n",
       "      <td>7485</td>\n",
       "      <td>2020-03-13</td>\n",
       "      <td>intercites</td>\n",
       "      <td>Clermont-Béziers</td>\n",
       "      <td>NaN</td>\n",
       "    </tr>\n",
       "    <tr>\n",
       "      <td>7487</td>\n",
       "      <td>2020-03-13</td>\n",
       "      <td>intercites</td>\n",
       "      <td>Paris-Toulouse-Latour De Carol/Cerbere/Rodez</td>\n",
       "      <td>NaN</td>\n",
       "    </tr>\n",
       "    <tr>\n",
       "      <td>7489</td>\n",
       "      <td>2020-03-13</td>\n",
       "      <td>intercites</td>\n",
       "      <td>Paris-Briançon</td>\n",
       "      <td>NaN</td>\n",
       "    </tr>\n",
       "  </tbody>\n",
       "</table>\n",
       "<p>3745 rows × 4 columns</p>\n",
       "</div>"
      ],
      "text/plain": [
       "            date        test                                         test3  \\\n",
       "1     2019-01-23  transilien                                             A   \n",
       "3     2019-01-23  transilien                                             B   \n",
       "5     2019-01-23  transilien                                             C   \n",
       "7     2019-01-23  transilien                                             D   \n",
       "9     2019-01-23  transilien                                             E   \n",
       "...          ...         ...                                           ...   \n",
       "7481  2020-03-13  intercites                                   Nantes-Lyon   \n",
       "7483  2020-03-13  intercites                              Toulouse-Bayonne   \n",
       "7485  2020-03-13  intercites                              Clermont-Béziers   \n",
       "7487  2020-03-13  intercites  Paris-Toulouse-Latour De Carol/Cerbere/Rodez   \n",
       "7489  2020-03-13  intercites                                Paris-Briançon   \n",
       "\n",
       "                                                  test2  \n",
       "1     ['Défaut de signalisation entre Nation et Aube...  \n",
       "3     ['Intervention de police à Gare-du-Nord pour u...  \n",
       "5     [\"Signal d'alarme à Bibiliothèque-François-Mit...  \n",
       "7     ['Restitution tardive de travaux de nuit à Com...  \n",
       "9     [\"Signaux d'alarme malveillants à Haussamann-S...  \n",
       "...                                                 ...  \n",
       "7481  [\"Présence d'individus sur le pont-rail du Rhô...  \n",
       "7483                                                NaN  \n",
       "7485                                                NaN  \n",
       "7487                                                NaN  \n",
       "7489                                                NaN  \n",
       "\n",
       "[3745 rows x 4 columns]"
      ]
     },
     "execution_count": 210,
     "metadata": {},
     "output_type": "execute_result"
    }
   ],
   "source": [
    "df"
   ]
  },
  {
   "cell_type": "code",
   "execution_count": 213,
   "metadata": {},
   "outputs": [
    {
     "data": {
      "text/html": [
       "<div>\n",
       "<style scoped>\n",
       "    .dataframe tbody tr th:only-of-type {\n",
       "        vertical-align: middle;\n",
       "    }\n",
       "\n",
       "    .dataframe tbody tr th {\n",
       "        vertical-align: top;\n",
       "    }\n",
       "\n",
       "    .dataframe thead th {\n",
       "        text-align: right;\n",
       "    }\n",
       "</style>\n",
       "<table border=\"1\" class=\"dataframe\">\n",
       "  <thead>\n",
       "    <tr style=\"text-align: right;\">\n",
       "      <th></th>\n",
       "      <th>date</th>\n",
       "      <th>test</th>\n",
       "      <th>test3</th>\n",
       "      <th>test2</th>\n",
       "    </tr>\n",
       "  </thead>\n",
       "  <tbody>\n",
       "    <tr>\n",
       "      <td>1</td>\n",
       "      <td>2019-01-23</td>\n",
       "      <td>transilien</td>\n",
       "      <td>A</td>\n",
       "      <td>['Défaut de signalisation entre Nation et Aube...</td>\n",
       "    </tr>\n",
       "    <tr>\n",
       "      <td>3</td>\n",
       "      <td>2019-01-23</td>\n",
       "      <td>transilien</td>\n",
       "      <td>B</td>\n",
       "      <td>['Intervention de police à Gare-du-Nord pour u...</td>\n",
       "    </tr>\n",
       "    <tr>\n",
       "      <td>5</td>\n",
       "      <td>2019-01-23</td>\n",
       "      <td>transilien</td>\n",
       "      <td>C</td>\n",
       "      <td>[\"Signal d'alarme à Bibiliothèque-François-Mit...</td>\n",
       "    </tr>\n",
       "    <tr>\n",
       "      <td>7</td>\n",
       "      <td>2019-01-23</td>\n",
       "      <td>transilien</td>\n",
       "      <td>D</td>\n",
       "      <td>['Restitution tardive de travaux de nuit à Com...</td>\n",
       "    </tr>\n",
       "    <tr>\n",
       "      <td>9</td>\n",
       "      <td>2019-01-23</td>\n",
       "      <td>transilien</td>\n",
       "      <td>E</td>\n",
       "      <td>[\"Signaux d'alarme malveillants à Haussamann-S...</td>\n",
       "    </tr>\n",
       "    <tr>\n",
       "      <td>...</td>\n",
       "      <td>...</td>\n",
       "      <td>...</td>\n",
       "      <td>...</td>\n",
       "      <td>...</td>\n",
       "    </tr>\n",
       "    <tr>\n",
       "      <td>7481</td>\n",
       "      <td>2020-03-13</td>\n",
       "      <td>intercites</td>\n",
       "      <td>Nantes-Lyon</td>\n",
       "      <td>[\"Présence d'individus sur le pont-rail du Rhô...</td>\n",
       "    </tr>\n",
       "    <tr>\n",
       "      <td>7483</td>\n",
       "      <td>2020-03-13</td>\n",
       "      <td>intercites</td>\n",
       "      <td>Toulouse-Bayonne</td>\n",
       "      <td>NaN</td>\n",
       "    </tr>\n",
       "    <tr>\n",
       "      <td>7485</td>\n",
       "      <td>2020-03-13</td>\n",
       "      <td>intercites</td>\n",
       "      <td>Clermont-Béziers</td>\n",
       "      <td>NaN</td>\n",
       "    </tr>\n",
       "    <tr>\n",
       "      <td>7487</td>\n",
       "      <td>2020-03-13</td>\n",
       "      <td>intercites</td>\n",
       "      <td>Paris-Toulouse-Latour De Carol/Cerbere/Rodez</td>\n",
       "      <td>NaN</td>\n",
       "    </tr>\n",
       "    <tr>\n",
       "      <td>7489</td>\n",
       "      <td>2020-03-13</td>\n",
       "      <td>intercites</td>\n",
       "      <td>Paris-Briançon</td>\n",
       "      <td>NaN</td>\n",
       "    </tr>\n",
       "  </tbody>\n",
       "</table>\n",
       "<p>3745 rows × 4 columns</p>\n",
       "</div>"
      ],
      "text/plain": [
       "            date        test                                         test3  \\\n",
       "1     2019-01-23  transilien                                             A   \n",
       "3     2019-01-23  transilien                                             B   \n",
       "5     2019-01-23  transilien                                             C   \n",
       "7     2019-01-23  transilien                                             D   \n",
       "9     2019-01-23  transilien                                             E   \n",
       "...          ...         ...                                           ...   \n",
       "7481  2020-03-13  intercites                                   Nantes-Lyon   \n",
       "7483  2020-03-13  intercites                              Toulouse-Bayonne   \n",
       "7485  2020-03-13  intercites                              Clermont-Béziers   \n",
       "7487  2020-03-13  intercites  Paris-Toulouse-Latour De Carol/Cerbere/Rodez   \n",
       "7489  2020-03-13  intercites                                Paris-Briançon   \n",
       "\n",
       "                                                  test2  \n",
       "1     ['Défaut de signalisation entre Nation et Aube...  \n",
       "3     ['Intervention de police à Gare-du-Nord pour u...  \n",
       "5     [\"Signal d'alarme à Bibiliothèque-François-Mit...  \n",
       "7     ['Restitution tardive de travaux de nuit à Com...  \n",
       "9     [\"Signaux d'alarme malveillants à Haussamann-S...  \n",
       "...                                                 ...  \n",
       "7481  [\"Présence d'individus sur le pont-rail du Rhô...  \n",
       "7483                                                NaN  \n",
       "7485                                                NaN  \n",
       "7487                                                NaN  \n",
       "7489                                                NaN  \n",
       "\n",
       "[3745 rows x 4 columns]"
      ]
     },
     "execution_count": 213,
     "metadata": {},
     "output_type": "execute_result"
    }
   ],
   "source": [
    "df"
   ]
  },
  {
   "cell_type": "markdown",
   "metadata": {},
   "source": [
    "# remplacement de cellule en utilisant loc"
   ]
  },
  {
   "cell_type": "code",
   "execution_count": 225,
   "metadata": {},
   "outputs": [],
   "source": [
    "df.loc[4, \"test\"] = \"Afaefaef\""
   ]
  },
  {
   "cell_type": "markdown",
   "metadata": {},
   "source": [
    "# remplacement ou insertion de ligne en utilisant loc encore "
   ]
  },
  {
   "cell_type": "code",
   "execution_count": 226,
   "metadata": {},
   "outputs": [
    {
     "data": {
      "text/html": [
       "<div>\n",
       "<style scoped>\n",
       "    .dataframe tbody tr th:only-of-type {\n",
       "        vertical-align: middle;\n",
       "    }\n",
       "\n",
       "    .dataframe tbody tr th {\n",
       "        vertical-align: top;\n",
       "    }\n",
       "\n",
       "    .dataframe thead th {\n",
       "        text-align: right;\n",
       "    }\n",
       "</style>\n",
       "<table border=\"1\" class=\"dataframe\">\n",
       "  <thead>\n",
       "    <tr style=\"text-align: right;\">\n",
       "      <th></th>\n",
       "      <th>date</th>\n",
       "      <th>test</th>\n",
       "      <th>test3</th>\n",
       "      <th>test2</th>\n",
       "    </tr>\n",
       "  </thead>\n",
       "  <tbody>\n",
       "    <tr>\n",
       "      <td>1</td>\n",
       "      <td>2019-01-23</td>\n",
       "      <td>transilien</td>\n",
       "      <td>A</td>\n",
       "      <td>['Défaut de signalisation entre Nation et Aube...</td>\n",
       "    </tr>\n",
       "    <tr>\n",
       "      <td>3</td>\n",
       "      <td>2019-01-20</td>\n",
       "      <td>intercités</td>\n",
       "      <td>C</td>\n",
       "      <td>[défaut de signalisation]</td>\n",
       "    </tr>\n",
       "    <tr>\n",
       "      <td>5</td>\n",
       "      <td>2019-01-23</td>\n",
       "      <td>transilien</td>\n",
       "      <td>C</td>\n",
       "      <td>[\"Signal d'alarme à Bibiliothèque-François-Mit...</td>\n",
       "    </tr>\n",
       "    <tr>\n",
       "      <td>7</td>\n",
       "      <td>2019-01-23</td>\n",
       "      <td>transilien</td>\n",
       "      <td>D</td>\n",
       "      <td>['Restitution tardive de travaux de nuit à Com...</td>\n",
       "    </tr>\n",
       "    <tr>\n",
       "      <td>9</td>\n",
       "      <td>2019-01-23</td>\n",
       "      <td>transilien</td>\n",
       "      <td>E</td>\n",
       "      <td>[\"Signaux d'alarme malveillants à Haussamann-S...</td>\n",
       "    </tr>\n",
       "    <tr>\n",
       "      <td>...</td>\n",
       "      <td>...</td>\n",
       "      <td>...</td>\n",
       "      <td>...</td>\n",
       "      <td>...</td>\n",
       "    </tr>\n",
       "    <tr>\n",
       "      <td>7483</td>\n",
       "      <td>2020-03-13</td>\n",
       "      <td>intercites</td>\n",
       "      <td>Toulouse-Bayonne</td>\n",
       "      <td>NaN</td>\n",
       "    </tr>\n",
       "    <tr>\n",
       "      <td>7485</td>\n",
       "      <td>2020-03-13</td>\n",
       "      <td>intercites</td>\n",
       "      <td>Clermont-Béziers</td>\n",
       "      <td>NaN</td>\n",
       "    </tr>\n",
       "    <tr>\n",
       "      <td>7487</td>\n",
       "      <td>2020-03-13</td>\n",
       "      <td>intercites</td>\n",
       "      <td>Paris-Toulouse-Latour De Carol/Cerbere/Rodez</td>\n",
       "      <td>NaN</td>\n",
       "    </tr>\n",
       "    <tr>\n",
       "      <td>7489</td>\n",
       "      <td>2020-03-13</td>\n",
       "      <td>intercites</td>\n",
       "      <td>Paris-Briançon</td>\n",
       "      <td>NaN</td>\n",
       "    </tr>\n",
       "    <tr>\n",
       "      <td>4</td>\n",
       "      <td>2019-01-20</td>\n",
       "      <td>Afaefaef</td>\n",
       "      <td>C</td>\n",
       "      <td>[défaut de signalisation]</td>\n",
       "    </tr>\n",
       "  </tbody>\n",
       "</table>\n",
       "<p>3746 rows × 4 columns</p>\n",
       "</div>"
      ],
      "text/plain": [
       "            date        test                                         test3  \\\n",
       "1     2019-01-23  transilien                                             A   \n",
       "3     2019-01-20  intercités                                             C   \n",
       "5     2019-01-23  transilien                                             C   \n",
       "7     2019-01-23  transilien                                             D   \n",
       "9     2019-01-23  transilien                                             E   \n",
       "...          ...         ...                                           ...   \n",
       "7483  2020-03-13  intercites                              Toulouse-Bayonne   \n",
       "7485  2020-03-13  intercites                              Clermont-Béziers   \n",
       "7487  2020-03-13  intercites  Paris-Toulouse-Latour De Carol/Cerbere/Rodez   \n",
       "7489  2020-03-13  intercites                                Paris-Briançon   \n",
       "4     2019-01-20    Afaefaef                                             C   \n",
       "\n",
       "                                                  test2  \n",
       "1     ['Défaut de signalisation entre Nation et Aube...  \n",
       "3                             [défaut de signalisation]  \n",
       "5     [\"Signal d'alarme à Bibiliothèque-François-Mit...  \n",
       "7     ['Restitution tardive de travaux de nuit à Com...  \n",
       "9     [\"Signaux d'alarme malveillants à Haussamann-S...  \n",
       "...                                                 ...  \n",
       "7483                                                NaN  \n",
       "7485                                                NaN  \n",
       "7487                                                NaN  \n",
       "7489                                                NaN  \n",
       "4                             [défaut de signalisation]  \n",
       "\n",
       "[3746 rows x 4 columns]"
      ]
     },
     "execution_count": 226,
     "metadata": {},
     "output_type": "execute_result"
    }
   ],
   "source": [
    "df"
   ]
  },
  {
   "cell_type": "markdown",
   "metadata": {},
   "source": [
    "## concatenation de 2 dataframes avec pd.concat()"
   ]
  },
  {
   "cell_type": "code",
   "execution_count": 232,
   "metadata": {},
   "outputs": [],
   "source": [
    "nouveau_df = df.loc[ [3,5],   : ]"
   ]
  },
  {
   "cell_type": "code",
   "execution_count": 234,
   "metadata": {},
   "outputs": [
    {
     "data": {
      "text/plain": [
       "(2, 4)"
      ]
     },
     "execution_count": 234,
     "metadata": {},
     "output_type": "execute_result"
    }
   ],
   "source": [
    "nouveau_df.shape"
   ]
  },
  {
   "cell_type": "code",
   "execution_count": 235,
   "metadata": {},
   "outputs": [
    {
     "data": {
      "text/plain": [
       "(3746, 4)"
      ]
     },
     "execution_count": 235,
     "metadata": {},
     "output_type": "execute_result"
    }
   ],
   "source": [
    "df.shape"
   ]
  },
  {
   "cell_type": "code",
   "execution_count": 239,
   "metadata": {},
   "outputs": [
    {
     "data": {
      "text/html": [
       "<div>\n",
       "<style scoped>\n",
       "    .dataframe tbody tr th:only-of-type {\n",
       "        vertical-align: middle;\n",
       "    }\n",
       "\n",
       "    .dataframe tbody tr th {\n",
       "        vertical-align: top;\n",
       "    }\n",
       "\n",
       "    .dataframe thead th {\n",
       "        text-align: right;\n",
       "    }\n",
       "</style>\n",
       "<table border=\"1\" class=\"dataframe\">\n",
       "  <thead>\n",
       "    <tr style=\"text-align: right;\">\n",
       "      <th></th>\n",
       "      <th>date</th>\n",
       "      <th>test</th>\n",
       "      <th>test3</th>\n",
       "      <th>test2</th>\n",
       "    </tr>\n",
       "  </thead>\n",
       "  <tbody>\n",
       "    <tr>\n",
       "      <td>1</td>\n",
       "      <td>2019-01-23</td>\n",
       "      <td>transilien</td>\n",
       "      <td>A</td>\n",
       "      <td>['Défaut de signalisation entre Nation et Aube...</td>\n",
       "    </tr>\n",
       "    <tr>\n",
       "      <td>3</td>\n",
       "      <td>2019-01-20</td>\n",
       "      <td>intercités</td>\n",
       "      <td>C</td>\n",
       "      <td>[défaut de signalisation]</td>\n",
       "    </tr>\n",
       "    <tr>\n",
       "      <td>5</td>\n",
       "      <td>2019-01-23</td>\n",
       "      <td>transilien</td>\n",
       "      <td>C</td>\n",
       "      <td>[\"Signal d'alarme à Bibiliothèque-François-Mit...</td>\n",
       "    </tr>\n",
       "    <tr>\n",
       "      <td>7</td>\n",
       "      <td>2019-01-23</td>\n",
       "      <td>transilien</td>\n",
       "      <td>D</td>\n",
       "      <td>['Restitution tardive de travaux de nuit à Com...</td>\n",
       "    </tr>\n",
       "    <tr>\n",
       "      <td>9</td>\n",
       "      <td>2019-01-23</td>\n",
       "      <td>transilien</td>\n",
       "      <td>E</td>\n",
       "      <td>[\"Signaux d'alarme malveillants à Haussamann-S...</td>\n",
       "    </tr>\n",
       "    <tr>\n",
       "      <td>...</td>\n",
       "      <td>...</td>\n",
       "      <td>...</td>\n",
       "      <td>...</td>\n",
       "      <td>...</td>\n",
       "    </tr>\n",
       "    <tr>\n",
       "      <td>5</td>\n",
       "      <td>2019-01-23</td>\n",
       "      <td>transilien</td>\n",
       "      <td>C</td>\n",
       "      <td>[\"Signal d'alarme à Bibiliothèque-François-Mit...</td>\n",
       "    </tr>\n",
       "    <tr>\n",
       "      <td>3</td>\n",
       "      <td>2019-01-20</td>\n",
       "      <td>intercités</td>\n",
       "      <td>C</td>\n",
       "      <td>[défaut de signalisation]</td>\n",
       "    </tr>\n",
       "    <tr>\n",
       "      <td>5</td>\n",
       "      <td>2019-01-23</td>\n",
       "      <td>transilien</td>\n",
       "      <td>C</td>\n",
       "      <td>[\"Signal d'alarme à Bibiliothèque-François-Mit...</td>\n",
       "    </tr>\n",
       "    <tr>\n",
       "      <td>3</td>\n",
       "      <td>2019-01-20</td>\n",
       "      <td>intercités</td>\n",
       "      <td>C</td>\n",
       "      <td>[défaut de signalisation]</td>\n",
       "    </tr>\n",
       "    <tr>\n",
       "      <td>5</td>\n",
       "      <td>2019-01-23</td>\n",
       "      <td>transilien</td>\n",
       "      <td>C</td>\n",
       "      <td>[\"Signal d'alarme à Bibiliothèque-François-Mit...</td>\n",
       "    </tr>\n",
       "  </tbody>\n",
       "</table>\n",
       "<p>3752 rows × 4 columns</p>\n",
       "</div>"
      ],
      "text/plain": [
       "          date        test test3  \\\n",
       "1   2019-01-23  transilien     A   \n",
       "3   2019-01-20  intercités     C   \n",
       "5   2019-01-23  transilien     C   \n",
       "7   2019-01-23  transilien     D   \n",
       "9   2019-01-23  transilien     E   \n",
       "..         ...         ...   ...   \n",
       "5   2019-01-23  transilien     C   \n",
       "3   2019-01-20  intercités     C   \n",
       "5   2019-01-23  transilien     C   \n",
       "3   2019-01-20  intercités     C   \n",
       "5   2019-01-23  transilien     C   \n",
       "\n",
       "                                                test2  \n",
       "1   ['Défaut de signalisation entre Nation et Aube...  \n",
       "3                           [défaut de signalisation]  \n",
       "5   [\"Signal d'alarme à Bibiliothèque-François-Mit...  \n",
       "7   ['Restitution tardive de travaux de nuit à Com...  \n",
       "9   [\"Signaux d'alarme malveillants à Haussamann-S...  \n",
       "..                                                ...  \n",
       "5   [\"Signal d'alarme à Bibiliothèque-François-Mit...  \n",
       "3                           [défaut de signalisation]  \n",
       "5   [\"Signal d'alarme à Bibiliothèque-François-Mit...  \n",
       "3                           [défaut de signalisation]  \n",
       "5   [\"Signal d'alarme à Bibiliothèque-François-Mit...  \n",
       "\n",
       "[3752 rows x 4 columns]"
      ]
     },
     "execution_count": 239,
     "metadata": {},
     "output_type": "execute_result"
    }
   ],
   "source": [
    "pd.concat([ df, nouveau_df , nouveau_df, nouveau_df],  axis=0 )"
   ]
  },
  {
   "cell_type": "markdown",
   "metadata": {},
   "source": [
    "### Création de toute pièce une ligne"
   ]
  },
  {
   "cell_type": "code",
   "execution_count": 245,
   "metadata": {},
   "outputs": [],
   "source": [
    "maligne = [\"2019-01-23\",\"transilien\", \"A\",['Défaut de signalisation entre Nation et Auber']]"
   ]
  },
  {
   "cell_type": "code",
   "execution_count": 246,
   "metadata": {},
   "outputs": [
    {
     "data": {
      "text/plain": [
       "['2019-01-23',\n",
       " 'transilien',\n",
       " 'A',\n",
       " ['Défaut de signalisation entre Nation et Auber']]"
      ]
     },
     "execution_count": 246,
     "metadata": {},
     "output_type": "execute_result"
    }
   ],
   "source": [
    "maligne"
   ]
  },
  {
   "cell_type": "code",
   "execution_count": 254,
   "metadata": {},
   "outputs": [
    {
     "data": {
      "text/plain": [
       "date                                          2019-01-23\n",
       "test                                          transilien\n",
       "test3                                                  A\n",
       "test2    [Défaut de signalisation entre Nation et Auber]\n",
       "dtype: object"
      ]
     },
     "execution_count": 254,
     "metadata": {},
     "output_type": "execute_result"
    }
   ],
   "source": [
    "pd.Series( maligne , index=df.columns)"
   ]
  },
  {
   "cell_type": "code",
   "execution_count": 252,
   "metadata": {},
   "outputs": [
    {
     "data": {
      "text/html": [
       "<div>\n",
       "<style scoped>\n",
       "    .dataframe tbody tr th:only-of-type {\n",
       "        vertical-align: middle;\n",
       "    }\n",
       "\n",
       "    .dataframe tbody tr th {\n",
       "        vertical-align: top;\n",
       "    }\n",
       "\n",
       "    .dataframe thead th {\n",
       "        text-align: right;\n",
       "    }\n",
       "</style>\n",
       "<table border=\"1\" class=\"dataframe\">\n",
       "  <thead>\n",
       "    <tr style=\"text-align: right;\">\n",
       "      <th></th>\n",
       "      <th>date</th>\n",
       "      <th>test</th>\n",
       "      <th>test3</th>\n",
       "      <th>test2</th>\n",
       "    </tr>\n",
       "  </thead>\n",
       "  <tbody>\n",
       "    <tr>\n",
       "      <td>0</td>\n",
       "      <td>2019-01-23</td>\n",
       "      <td>transilien</td>\n",
       "      <td>A</td>\n",
       "      <td>[Défaut de signalisation entre Nation et Auber]</td>\n",
       "    </tr>\n",
       "  </tbody>\n",
       "</table>\n",
       "</div>"
      ],
      "text/plain": [
       "         date        test test3  \\\n",
       "0  2019-01-23  transilien     A   \n",
       "\n",
       "                                             test2  \n",
       "0  [Défaut de signalisation entre Nation et Auber]  "
      ]
     },
     "execution_count": 252,
     "metadata": {},
     "output_type": "execute_result"
    }
   ],
   "source": [
    "new_line_df = pd.Series( maligne , index=df.columns).to_frame().T\n",
    "new_line_df"
   ]
  },
  {
   "cell_type": "code",
   "execution_count": 253,
   "metadata": {},
   "outputs": [
    {
     "data": {
      "text/html": [
       "<div>\n",
       "<style scoped>\n",
       "    .dataframe tbody tr th:only-of-type {\n",
       "        vertical-align: middle;\n",
       "    }\n",
       "\n",
       "    .dataframe tbody tr th {\n",
       "        vertical-align: top;\n",
       "    }\n",
       "\n",
       "    .dataframe thead th {\n",
       "        text-align: right;\n",
       "    }\n",
       "</style>\n",
       "<table border=\"1\" class=\"dataframe\">\n",
       "  <thead>\n",
       "    <tr style=\"text-align: right;\">\n",
       "      <th></th>\n",
       "      <th>date</th>\n",
       "      <th>test</th>\n",
       "      <th>test3</th>\n",
       "      <th>test2</th>\n",
       "    </tr>\n",
       "  </thead>\n",
       "  <tbody>\n",
       "    <tr>\n",
       "      <td>1</td>\n",
       "      <td>2019-01-23</td>\n",
       "      <td>transilien</td>\n",
       "      <td>A</td>\n",
       "      <td>['Défaut de signalisation entre Nation et Aube...</td>\n",
       "    </tr>\n",
       "    <tr>\n",
       "      <td>3</td>\n",
       "      <td>2019-01-20</td>\n",
       "      <td>intercités</td>\n",
       "      <td>C</td>\n",
       "      <td>[défaut de signalisation]</td>\n",
       "    </tr>\n",
       "    <tr>\n",
       "      <td>5</td>\n",
       "      <td>2019-01-23</td>\n",
       "      <td>transilien</td>\n",
       "      <td>C</td>\n",
       "      <td>[\"Signal d'alarme à Bibiliothèque-François-Mit...</td>\n",
       "    </tr>\n",
       "    <tr>\n",
       "      <td>7</td>\n",
       "      <td>2019-01-23</td>\n",
       "      <td>transilien</td>\n",
       "      <td>D</td>\n",
       "      <td>['Restitution tardive de travaux de nuit à Com...</td>\n",
       "    </tr>\n",
       "    <tr>\n",
       "      <td>9</td>\n",
       "      <td>2019-01-23</td>\n",
       "      <td>transilien</td>\n",
       "      <td>E</td>\n",
       "      <td>[\"Signaux d'alarme malveillants à Haussamann-S...</td>\n",
       "    </tr>\n",
       "    <tr>\n",
       "      <td>...</td>\n",
       "      <td>...</td>\n",
       "      <td>...</td>\n",
       "      <td>...</td>\n",
       "      <td>...</td>\n",
       "    </tr>\n",
       "    <tr>\n",
       "      <td>7485</td>\n",
       "      <td>2020-03-13</td>\n",
       "      <td>intercites</td>\n",
       "      <td>Clermont-Béziers</td>\n",
       "      <td>NaN</td>\n",
       "    </tr>\n",
       "    <tr>\n",
       "      <td>7487</td>\n",
       "      <td>2020-03-13</td>\n",
       "      <td>intercites</td>\n",
       "      <td>Paris-Toulouse-Latour De Carol/Cerbere/Rodez</td>\n",
       "      <td>NaN</td>\n",
       "    </tr>\n",
       "    <tr>\n",
       "      <td>7489</td>\n",
       "      <td>2020-03-13</td>\n",
       "      <td>intercites</td>\n",
       "      <td>Paris-Briançon</td>\n",
       "      <td>NaN</td>\n",
       "    </tr>\n",
       "    <tr>\n",
       "      <td>4</td>\n",
       "      <td>2019-01-20</td>\n",
       "      <td>Afaefaef</td>\n",
       "      <td>C</td>\n",
       "      <td>[défaut de signalisation]</td>\n",
       "    </tr>\n",
       "    <tr>\n",
       "      <td>0</td>\n",
       "      <td>2019-01-23</td>\n",
       "      <td>transilien</td>\n",
       "      <td>A</td>\n",
       "      <td>[Défaut de signalisation entre Nation et Auber]</td>\n",
       "    </tr>\n",
       "  </tbody>\n",
       "</table>\n",
       "<p>3747 rows × 4 columns</p>\n",
       "</div>"
      ],
      "text/plain": [
       "            date        test                                         test3  \\\n",
       "1     2019-01-23  transilien                                             A   \n",
       "3     2019-01-20  intercités                                             C   \n",
       "5     2019-01-23  transilien                                             C   \n",
       "7     2019-01-23  transilien                                             D   \n",
       "9     2019-01-23  transilien                                             E   \n",
       "...          ...         ...                                           ...   \n",
       "7485  2020-03-13  intercites                              Clermont-Béziers   \n",
       "7487  2020-03-13  intercites  Paris-Toulouse-Latour De Carol/Cerbere/Rodez   \n",
       "7489  2020-03-13  intercites                                Paris-Briançon   \n",
       "4     2019-01-20    Afaefaef                                             C   \n",
       "0     2019-01-23  transilien                                             A   \n",
       "\n",
       "                                                  test2  \n",
       "1     ['Défaut de signalisation entre Nation et Aube...  \n",
       "3                             [défaut de signalisation]  \n",
       "5     [\"Signal d'alarme à Bibiliothèque-François-Mit...  \n",
       "7     ['Restitution tardive de travaux de nuit à Com...  \n",
       "9     [\"Signaux d'alarme malveillants à Haussamann-S...  \n",
       "...                                                 ...  \n",
       "7485                                                NaN  \n",
       "7487                                                NaN  \n",
       "7489                                                NaN  \n",
       "4                             [défaut de signalisation]  \n",
       "0       [Défaut de signalisation entre Nation et Auber]  \n",
       "\n",
       "[3747 rows x 4 columns]"
      ]
     },
     "execution_count": 253,
     "metadata": {},
     "output_type": "execute_result"
    }
   ],
   "source": [
    "pd.concat([ df, new_line_df],  axis=0 )"
   ]
  },
  {
   "cell_type": "markdown",
   "metadata": {},
   "source": [
    "## reset l'index ( à ne pas confondre avec reindex = reindexation suivant index fournit en parametre)"
   ]
  },
  {
   "cell_type": "code",
   "execution_count": 256,
   "metadata": {},
   "outputs": [
    {
     "data": {
      "text/plain": [
       "Int64Index([   1,    3,    5,    7,    9,   11,   13,   15,   17,   19,\n",
       "            ...\n",
       "            7473, 7475, 7477, 7479, 7481, 7483, 7485, 7487, 7489,    4],\n",
       "           dtype='int64', length=3746)"
      ]
     },
     "execution_count": 256,
     "metadata": {},
     "output_type": "execute_result"
    }
   ],
   "source": [
    "df.index"
   ]
  },
  {
   "cell_type": "code",
   "execution_count": 274,
   "metadata": {},
   "outputs": [],
   "source": [
    "df.reset_index(inplace=True, drop=True)"
   ]
  },
  {
   "cell_type": "code",
   "execution_count": 275,
   "metadata": {},
   "outputs": [
    {
     "data": {
      "text/html": [
       "<div>\n",
       "<style scoped>\n",
       "    .dataframe tbody tr th:only-of-type {\n",
       "        vertical-align: middle;\n",
       "    }\n",
       "\n",
       "    .dataframe tbody tr th {\n",
       "        vertical-align: top;\n",
       "    }\n",
       "\n",
       "    .dataframe thead th {\n",
       "        text-align: right;\n",
       "    }\n",
       "</style>\n",
       "<table border=\"1\" class=\"dataframe\">\n",
       "  <thead>\n",
       "    <tr style=\"text-align: right;\">\n",
       "      <th></th>\n",
       "      <th>date</th>\n",
       "      <th>famille_transport</th>\n",
       "      <th>ligne</th>\n",
       "      <th>incidents</th>\n",
       "    </tr>\n",
       "  </thead>\n",
       "  <tbody>\n",
       "    <tr>\n",
       "      <td>0</td>\n",
       "      <td>2019-01-23</td>\n",
       "      <td>transilien</td>\n",
       "      <td>A</td>\n",
       "      <td>['Défaut de signalisation entre Nation et Aube...</td>\n",
       "    </tr>\n",
       "    <tr>\n",
       "      <td>1</td>\n",
       "      <td>2019-01-23</td>\n",
       "      <td>transilien</td>\n",
       "      <td>B</td>\n",
       "      <td>['Intervention de police à Gare-du-Nord pour u...</td>\n",
       "    </tr>\n",
       "    <tr>\n",
       "      <td>2</td>\n",
       "      <td>2019-01-23</td>\n",
       "      <td>transilien</td>\n",
       "      <td>C</td>\n",
       "      <td>[\"Signal d'alarme à Bibiliothèque-François-Mit...</td>\n",
       "    </tr>\n",
       "    <tr>\n",
       "      <td>3</td>\n",
       "      <td>2019-01-23</td>\n",
       "      <td>transilien</td>\n",
       "      <td>D</td>\n",
       "      <td>['Restitution tardive de travaux de nuit à Com...</td>\n",
       "    </tr>\n",
       "    <tr>\n",
       "      <td>4</td>\n",
       "      <td>2019-01-23</td>\n",
       "      <td>transilien</td>\n",
       "      <td>E</td>\n",
       "      <td>[\"Signaux d'alarme malveillants à Haussamann-S...</td>\n",
       "    </tr>\n",
       "    <tr>\n",
       "      <td>...</td>\n",
       "      <td>...</td>\n",
       "      <td>...</td>\n",
       "      <td>...</td>\n",
       "      <td>...</td>\n",
       "    </tr>\n",
       "    <tr>\n",
       "      <td>3740</td>\n",
       "      <td>2020-03-13</td>\n",
       "      <td>intercites</td>\n",
       "      <td>Nantes-Lyon</td>\n",
       "      <td>[\"Présence d'individus sur le pont-rail du Rhô...</td>\n",
       "    </tr>\n",
       "    <tr>\n",
       "      <td>3741</td>\n",
       "      <td>2020-03-13</td>\n",
       "      <td>intercites</td>\n",
       "      <td>Toulouse-Bayonne</td>\n",
       "      <td>NaN</td>\n",
       "    </tr>\n",
       "    <tr>\n",
       "      <td>3742</td>\n",
       "      <td>2020-03-13</td>\n",
       "      <td>intercites</td>\n",
       "      <td>Clermont-Béziers</td>\n",
       "      <td>NaN</td>\n",
       "    </tr>\n",
       "    <tr>\n",
       "      <td>3743</td>\n",
       "      <td>2020-03-13</td>\n",
       "      <td>intercites</td>\n",
       "      <td>Paris-Toulouse-Latour De Carol/Cerbere/Rodez</td>\n",
       "      <td>NaN</td>\n",
       "    </tr>\n",
       "    <tr>\n",
       "      <td>3744</td>\n",
       "      <td>2020-03-13</td>\n",
       "      <td>intercites</td>\n",
       "      <td>Paris-Briançon</td>\n",
       "      <td>NaN</td>\n",
       "    </tr>\n",
       "  </tbody>\n",
       "</table>\n",
       "<p>3745 rows × 4 columns</p>\n",
       "</div>"
      ],
      "text/plain": [
       "            date famille_transport  \\\n",
       "0     2019-01-23        transilien   \n",
       "1     2019-01-23        transilien   \n",
       "2     2019-01-23        transilien   \n",
       "3     2019-01-23        transilien   \n",
       "4     2019-01-23        transilien   \n",
       "...          ...               ...   \n",
       "3740  2020-03-13        intercites   \n",
       "3741  2020-03-13        intercites   \n",
       "3742  2020-03-13        intercites   \n",
       "3743  2020-03-13        intercites   \n",
       "3744  2020-03-13        intercites   \n",
       "\n",
       "                                             ligne  \\\n",
       "0                                                A   \n",
       "1                                                B   \n",
       "2                                                C   \n",
       "3                                                D   \n",
       "4                                                E   \n",
       "...                                            ...   \n",
       "3740                                   Nantes-Lyon   \n",
       "3741                              Toulouse-Bayonne   \n",
       "3742                              Clermont-Béziers   \n",
       "3743  Paris-Toulouse-Latour De Carol/Cerbere/Rodez   \n",
       "3744                                Paris-Briançon   \n",
       "\n",
       "                                              incidents  \n",
       "0     ['Défaut de signalisation entre Nation et Aube...  \n",
       "1     ['Intervention de police à Gare-du-Nord pour u...  \n",
       "2     [\"Signal d'alarme à Bibiliothèque-François-Mit...  \n",
       "3     ['Restitution tardive de travaux de nuit à Com...  \n",
       "4     [\"Signaux d'alarme malveillants à Haussamann-S...  \n",
       "...                                                 ...  \n",
       "3740  [\"Présence d'individus sur le pont-rail du Rhô...  \n",
       "3741                                                NaN  \n",
       "3742                                                NaN  \n",
       "3743                                                NaN  \n",
       "3744                                                NaN  \n",
       "\n",
       "[3745 rows x 4 columns]"
      ]
     },
     "execution_count": 275,
     "metadata": {},
     "output_type": "execute_result"
    }
   ],
   "source": [
    "df"
   ]
  },
  {
   "cell_type": "markdown",
   "metadata": {},
   "source": [
    "## création d'un dataframe à partir d'un csv"
   ]
  },
  {
   "cell_type": "code",
   "execution_count": 279,
   "metadata": {},
   "outputs": [],
   "source": [
    "#pd.read_csv(\"./incidents.csv\") # ou avec une url voir ci-dessus les 2 approches que l'on a utilisées"
   ]
  },
  {
   "cell_type": "markdown",
   "metadata": {},
   "source": [
    "## création d'un dataframe"
   ]
  },
  {
   "cell_type": "code",
   "execution_count": 289,
   "metadata": {},
   "outputs": [],
   "source": [
    "df2 = pd.DataFrame({ 'test' : [2,3,3,5,5],  'test2': [4,5,2,2, 2] , 'test3': [5,3,4,3, 9]})"
   ]
  },
  {
   "cell_type": "code",
   "execution_count": 290,
   "metadata": {},
   "outputs": [
    {
     "data": {
      "text/html": [
       "<div>\n",
       "<style scoped>\n",
       "    .dataframe tbody tr th:only-of-type {\n",
       "        vertical-align: middle;\n",
       "    }\n",
       "\n",
       "    .dataframe tbody tr th {\n",
       "        vertical-align: top;\n",
       "    }\n",
       "\n",
       "    .dataframe thead th {\n",
       "        text-align: right;\n",
       "    }\n",
       "</style>\n",
       "<table border=\"1\" class=\"dataframe\">\n",
       "  <thead>\n",
       "    <tr style=\"text-align: right;\">\n",
       "      <th></th>\n",
       "      <th>test</th>\n",
       "      <th>test2</th>\n",
       "      <th>test3</th>\n",
       "    </tr>\n",
       "  </thead>\n",
       "  <tbody>\n",
       "    <tr>\n",
       "      <td>0</td>\n",
       "      <td>2</td>\n",
       "      <td>4</td>\n",
       "      <td>5</td>\n",
       "    </tr>\n",
       "    <tr>\n",
       "      <td>1</td>\n",
       "      <td>3</td>\n",
       "      <td>5</td>\n",
       "      <td>3</td>\n",
       "    </tr>\n",
       "    <tr>\n",
       "      <td>2</td>\n",
       "      <td>3</td>\n",
       "      <td>2</td>\n",
       "      <td>4</td>\n",
       "    </tr>\n",
       "    <tr>\n",
       "      <td>3</td>\n",
       "      <td>5</td>\n",
       "      <td>2</td>\n",
       "      <td>3</td>\n",
       "    </tr>\n",
       "    <tr>\n",
       "      <td>4</td>\n",
       "      <td>5</td>\n",
       "      <td>2</td>\n",
       "      <td>9</td>\n",
       "    </tr>\n",
       "  </tbody>\n",
       "</table>\n",
       "</div>"
      ],
      "text/plain": [
       "   test  test2  test3\n",
       "0     2      4      5\n",
       "1     3      5      3\n",
       "2     3      2      4\n",
       "3     5      2      3\n",
       "4     5      2      9"
      ]
     },
     "execution_count": 290,
     "metadata": {},
     "output_type": "execute_result"
    }
   ],
   "source": [
    "df2"
   ]
  },
  {
   "cell_type": "code",
   "execution_count": 297,
   "metadata": {},
   "outputs": [
    {
     "data": {
      "text/plain": [
       "test     int64\n",
       "test2    int64\n",
       "test3    int64\n",
       "dtype: object"
      ]
     },
     "execution_count": 297,
     "metadata": {},
     "output_type": "execute_result"
    }
   ],
   "source": [
    "df2.dtypes"
   ]
  },
  {
   "cell_type": "markdown",
   "metadata": {},
   "source": [
    "### on a de la chance, toutes les colonnes sont castées en entiers "
   ]
  },
  {
   "cell_type": "code",
   "execution_count": 299,
   "metadata": {},
   "outputs": [],
   "source": [
    "df2.loc[  1   ,   \"test2\"  ] = \"bonjour\""
   ]
  },
  {
   "cell_type": "code",
   "execution_count": 300,
   "metadata": {},
   "outputs": [
    {
     "data": {
      "text/html": [
       "<div>\n",
       "<style scoped>\n",
       "    .dataframe tbody tr th:only-of-type {\n",
       "        vertical-align: middle;\n",
       "    }\n",
       "\n",
       "    .dataframe tbody tr th {\n",
       "        vertical-align: top;\n",
       "    }\n",
       "\n",
       "    .dataframe thead th {\n",
       "        text-align: right;\n",
       "    }\n",
       "</style>\n",
       "<table border=\"1\" class=\"dataframe\">\n",
       "  <thead>\n",
       "    <tr style=\"text-align: right;\">\n",
       "      <th></th>\n",
       "      <th>test</th>\n",
       "      <th>test2</th>\n",
       "      <th>test3</th>\n",
       "    </tr>\n",
       "  </thead>\n",
       "  <tbody>\n",
       "    <tr>\n",
       "      <td>0</td>\n",
       "      <td>2</td>\n",
       "      <td>4</td>\n",
       "      <td>5</td>\n",
       "    </tr>\n",
       "    <tr>\n",
       "      <td>1</td>\n",
       "      <td>3</td>\n",
       "      <td>bonjour</td>\n",
       "      <td>3</td>\n",
       "    </tr>\n",
       "    <tr>\n",
       "      <td>2</td>\n",
       "      <td>3</td>\n",
       "      <td>2</td>\n",
       "      <td>4</td>\n",
       "    </tr>\n",
       "    <tr>\n",
       "      <td>3</td>\n",
       "      <td>5</td>\n",
       "      <td>2</td>\n",
       "      <td>3</td>\n",
       "    </tr>\n",
       "    <tr>\n",
       "      <td>4</td>\n",
       "      <td>5</td>\n",
       "      <td>2</td>\n",
       "      <td>9</td>\n",
       "    </tr>\n",
       "  </tbody>\n",
       "</table>\n",
       "</div>"
      ],
      "text/plain": [
       "   test    test2  test3\n",
       "0     2        4      5\n",
       "1     3  bonjour      3\n",
       "2     3        2      4\n",
       "3     5        2      3\n",
       "4     5        2      9"
      ]
     },
     "execution_count": 300,
     "metadata": {},
     "output_type": "execute_result"
    }
   ],
   "source": [
    "df2"
   ]
  },
  {
   "cell_type": "code",
   "execution_count": 301,
   "metadata": {},
   "outputs": [
    {
     "data": {
      "text/plain": [
       "test      int64\n",
       "test2    object\n",
       "test3     int64\n",
       "dtype: object"
      ]
     },
     "execution_count": 301,
     "metadata": {},
     "output_type": "execute_result"
    }
   ],
   "source": [
    "df2.dtypes"
   ]
  },
  {
   "cell_type": "markdown",
   "metadata": {},
   "source": [
    "## une condition sur une colonne"
   ]
  },
  {
   "cell_type": "code",
   "execution_count": 304,
   "metadata": {},
   "outputs": [
    {
     "data": {
      "text/html": [
       "<div>\n",
       "<style scoped>\n",
       "    .dataframe tbody tr th:only-of-type {\n",
       "        vertical-align: middle;\n",
       "    }\n",
       "\n",
       "    .dataframe tbody tr th {\n",
       "        vertical-align: top;\n",
       "    }\n",
       "\n",
       "    .dataframe thead th {\n",
       "        text-align: right;\n",
       "    }\n",
       "</style>\n",
       "<table border=\"1\" class=\"dataframe\">\n",
       "  <thead>\n",
       "    <tr style=\"text-align: right;\">\n",
       "      <th></th>\n",
       "      <th>test</th>\n",
       "      <th>test2</th>\n",
       "      <th>test3</th>\n",
       "    </tr>\n",
       "  </thead>\n",
       "  <tbody>\n",
       "    <tr>\n",
       "      <td>1</td>\n",
       "      <td>3</td>\n",
       "      <td>bonjour</td>\n",
       "      <td>3</td>\n",
       "    </tr>\n",
       "    <tr>\n",
       "      <td>2</td>\n",
       "      <td>3</td>\n",
       "      <td>2</td>\n",
       "      <td>4</td>\n",
       "    </tr>\n",
       "    <tr>\n",
       "      <td>3</td>\n",
       "      <td>5</td>\n",
       "      <td>2</td>\n",
       "      <td>3</td>\n",
       "    </tr>\n",
       "    <tr>\n",
       "      <td>4</td>\n",
       "      <td>5</td>\n",
       "      <td>2</td>\n",
       "      <td>9</td>\n",
       "    </tr>\n",
       "  </tbody>\n",
       "</table>\n",
       "</div>"
      ],
      "text/plain": [
       "   test    test2  test3\n",
       "1     3  bonjour      3\n",
       "2     3        2      4\n",
       "3     5        2      3\n",
       "4     5        2      9"
      ]
     },
     "execution_count": 304,
     "metadata": {},
     "output_type": "execute_result"
    }
   ],
   "source": [
    "df2[   df2[\"test\"] > 2 ] # que remarque t'on : df2[\"test\"]  permet bien d'accéder à la colonne"
   ]
  },
  {
   "cell_type": "markdown",
   "metadata": {},
   "source": [
    "## calculs "
   ]
  },
  {
   "cell_type": "markdown",
   "metadata": {},
   "source": [
    "### recréeons une fonction et appliquons là à une colonne"
   ]
  },
  {
   "cell_type": "code",
   "execution_count": 312,
   "metadata": {},
   "outputs": [],
   "source": [
    "def square(x):\n",
    "    return x**2"
   ]
  },
  {
   "cell_type": "code",
   "execution_count": 313,
   "metadata": {},
   "outputs": [
    {
     "data": {
      "text/plain": [
       "16"
      ]
     },
     "execution_count": 313,
     "metadata": {},
     "output_type": "execute_result"
    }
   ],
   "source": [
    "square(4)"
   ]
  },
  {
   "cell_type": "markdown",
   "metadata": {},
   "source": [
    "### apply "
   ]
  },
  {
   "cell_type": "code",
   "execution_count": 321,
   "metadata": {
    "scrolled": true
   },
   "outputs": [
    {
     "data": {
      "text/plain": [
       "0     4\n",
       "1     9\n",
       "2     9\n",
       "3    25\n",
       "4    25\n",
       "Name: test, dtype: int64"
      ]
     },
     "execution_count": 321,
     "metadata": {},
     "output_type": "execute_result"
    }
   ],
   "source": [
    "df2.test.apply(square)"
   ]
  },
  {
   "cell_type": "markdown",
   "metadata": {},
   "source": [
    "## on se souvient de lambda ? "
   ]
  },
  {
   "cell_type": "code",
   "execution_count": 332,
   "metadata": {},
   "outputs": [],
   "source": [
    "df2[\"test\"] = df2.test.apply(lambda x: x**2)"
   ]
  },
  {
   "cell_type": "code",
   "execution_count": 385,
   "metadata": {},
   "outputs": [
    {
     "data": {
      "text/plain": [
       "0       256\n",
       "2      6561\n",
       "3    390625\n",
       "4    390625\n",
       "Name: test, dtype: int64"
      ]
     },
     "execution_count": 385,
     "metadata": {},
     "output_type": "execute_result"
    }
   ],
   "source": [
    "df2.test"
   ]
  },
  {
   "cell_type": "code",
   "execution_count": 384,
   "metadata": {},
   "outputs": [
    {
     "data": {
      "text/plain": [
       "0       256.0\n",
       "2      6561.0\n",
       "3    390625.0\n",
       "4    390625.0\n",
       "Name: test, dtype: float64"
      ]
     },
     "execution_count": 384,
     "metadata": {},
     "output_type": "execute_result"
    }
   ],
   "source": [
    "df2.test.apply(mean)"
   ]
  },
  {
   "cell_type": "code",
   "execution_count": 387,
   "metadata": {},
   "outputs": [
    {
     "data": {
      "text/plain": [
       "2.5"
      ]
     },
     "execution_count": 387,
     "metadata": {},
     "output_type": "execute_result"
    }
   ],
   "source": [
    "mean([1,2,3,4])"
   ]
  },
  {
   "cell_type": "code",
   "execution_count": null,
   "metadata": {},
   "outputs": [],
   "source": [
    "## je veux faire ce calcul de moyenne sur l'ensemble des colonnes de ma dataframe (j'en ai 1220 imaginons)"
   ]
  },
  {
   "cell_type": "markdown",
   "metadata": {},
   "source": [
    "## apply vis-à-vis d'un dataframe"
   ]
  },
  {
   "cell_type": "code",
   "execution_count": 362,
   "metadata": {},
   "outputs": [
    {
     "data": {
      "text/html": [
       "<div>\n",
       "<style scoped>\n",
       "    .dataframe tbody tr th:only-of-type {\n",
       "        vertical-align: middle;\n",
       "    }\n",
       "\n",
       "    .dataframe tbody tr th {\n",
       "        vertical-align: top;\n",
       "    }\n",
       "\n",
       "    .dataframe thead th {\n",
       "        text-align: right;\n",
       "    }\n",
       "</style>\n",
       "<table border=\"1\" class=\"dataframe\">\n",
       "  <thead>\n",
       "    <tr style=\"text-align: right;\">\n",
       "      <th></th>\n",
       "      <th>test</th>\n",
       "      <th>test3</th>\n",
       "    </tr>\n",
       "  </thead>\n",
       "  <tbody>\n",
       "    <tr>\n",
       "      <td>0</td>\n",
       "      <td>65536</td>\n",
       "      <td>25</td>\n",
       "    </tr>\n",
       "    <tr>\n",
       "      <td>1</td>\n",
       "      <td>43046721</td>\n",
       "      <td>9</td>\n",
       "    </tr>\n",
       "    <tr>\n",
       "      <td>2</td>\n",
       "      <td>43046721</td>\n",
       "      <td>16</td>\n",
       "    </tr>\n",
       "    <tr>\n",
       "      <td>3</td>\n",
       "      <td>152587890625</td>\n",
       "      <td>9</td>\n",
       "    </tr>\n",
       "    <tr>\n",
       "      <td>4</td>\n",
       "      <td>152587890625</td>\n",
       "      <td>81</td>\n",
       "    </tr>\n",
       "  </tbody>\n",
       "</table>\n",
       "</div>"
      ],
      "text/plain": [
       "           test  test3\n",
       "0         65536     25\n",
       "1      43046721      9\n",
       "2      43046721     16\n",
       "3  152587890625      9\n",
       "4  152587890625     81"
      ]
     },
     "execution_count": 362,
     "metadata": {},
     "output_type": "execute_result"
    }
   ],
   "source": [
    "df2[[\"test\", \"test3\"]].apply(square, axis=1) # elementwise sur les lignes"
   ]
  },
  {
   "cell_type": "code",
   "execution_count": 393,
   "metadata": {},
   "outputs": [],
   "source": [
    "#df2[[\"test\", \"test3\"]].apply(square, axis=0) # elementwise sur les colonnes"
   ]
  },
  {
   "cell_type": "markdown",
   "metadata": {},
   "source": [
    "# vectorielle"
   ]
  },
  {
   "cell_type": "code",
   "execution_count": 368,
   "metadata": {},
   "outputs": [
    {
     "data": {
      "text/plain": [
       "6"
      ]
     },
     "execution_count": 368,
     "metadata": {},
     "output_type": "execute_result"
    }
   ],
   "source": [
    "sum([1,2,3])"
   ]
  },
  {
   "cell_type": "code",
   "execution_count": 370,
   "metadata": {},
   "outputs": [
    {
     "data": {
      "text/html": [
       "<div>\n",
       "<style scoped>\n",
       "    .dataframe tbody tr th:only-of-type {\n",
       "        vertical-align: middle;\n",
       "    }\n",
       "\n",
       "    .dataframe tbody tr th {\n",
       "        vertical-align: top;\n",
       "    }\n",
       "\n",
       "    .dataframe thead th {\n",
       "        text-align: right;\n",
       "    }\n",
       "</style>\n",
       "<table border=\"1\" class=\"dataframe\">\n",
       "  <thead>\n",
       "    <tr style=\"text-align: right;\">\n",
       "      <th></th>\n",
       "      <th>test</th>\n",
       "      <th>test2</th>\n",
       "      <th>test3</th>\n",
       "    </tr>\n",
       "  </thead>\n",
       "  <tbody>\n",
       "    <tr>\n",
       "      <td>0</td>\n",
       "      <td>256</td>\n",
       "      <td>4</td>\n",
       "      <td>5</td>\n",
       "    </tr>\n",
       "    <tr>\n",
       "      <td>1</td>\n",
       "      <td>6561</td>\n",
       "      <td>bonjour</td>\n",
       "      <td>3</td>\n",
       "    </tr>\n",
       "    <tr>\n",
       "      <td>2</td>\n",
       "      <td>6561</td>\n",
       "      <td>2</td>\n",
       "      <td>4</td>\n",
       "    </tr>\n",
       "    <tr>\n",
       "      <td>3</td>\n",
       "      <td>390625</td>\n",
       "      <td>2</td>\n",
       "      <td>3</td>\n",
       "    </tr>\n",
       "    <tr>\n",
       "      <td>4</td>\n",
       "      <td>390625</td>\n",
       "      <td>2</td>\n",
       "      <td>9</td>\n",
       "    </tr>\n",
       "  </tbody>\n",
       "</table>\n",
       "</div>"
      ],
      "text/plain": [
       "     test    test2  test3\n",
       "0     256        4      5\n",
       "1    6561  bonjour      3\n",
       "2    6561        2      4\n",
       "3  390625        2      3\n",
       "4  390625        2      9"
      ]
     },
     "execution_count": 370,
     "metadata": {},
     "output_type": "execute_result"
    }
   ],
   "source": [
    "df2"
   ]
  },
  {
   "cell_type": "code",
   "execution_count": 374,
   "metadata": {},
   "outputs": [],
   "source": [
    "from numpy import mean"
   ]
  },
  {
   "cell_type": "code",
   "execution_count": 389,
   "metadata": {},
   "outputs": [
    {
     "data": {
      "text/html": [
       "<div>\n",
       "<style scoped>\n",
       "    .dataframe tbody tr th:only-of-type {\n",
       "        vertical-align: middle;\n",
       "    }\n",
       "\n",
       "    .dataframe tbody tr th {\n",
       "        vertical-align: top;\n",
       "    }\n",
       "\n",
       "    .dataframe thead th {\n",
       "        text-align: right;\n",
       "    }\n",
       "</style>\n",
       "<table border=\"1\" class=\"dataframe\">\n",
       "  <thead>\n",
       "    <tr style=\"text-align: right;\">\n",
       "      <th></th>\n",
       "      <th>test</th>\n",
       "      <th>test3</th>\n",
       "    </tr>\n",
       "  </thead>\n",
       "  <tbody>\n",
       "    <tr>\n",
       "      <td>0</td>\n",
       "      <td>256</td>\n",
       "      <td>5</td>\n",
       "    </tr>\n",
       "    <tr>\n",
       "      <td>2</td>\n",
       "      <td>6561</td>\n",
       "      <td>4</td>\n",
       "    </tr>\n",
       "    <tr>\n",
       "      <td>3</td>\n",
       "      <td>390625</td>\n",
       "      <td>3</td>\n",
       "    </tr>\n",
       "    <tr>\n",
       "      <td>4</td>\n",
       "      <td>390625</td>\n",
       "      <td>9</td>\n",
       "    </tr>\n",
       "  </tbody>\n",
       "</table>\n",
       "</div>"
      ],
      "text/plain": [
       "     test  test3\n",
       "0     256      5\n",
       "2    6561      4\n",
       "3  390625      3\n",
       "4  390625      9"
      ]
     },
     "execution_count": 389,
     "metadata": {},
     "output_type": "execute_result"
    }
   ],
   "source": [
    "df2[[\"test\", \"test3\"]]"
   ]
  },
  {
   "cell_type": "code",
   "execution_count": 392,
   "metadata": {},
   "outputs": [
    {
     "data": {
      "text/plain": [
       "test     197016.75\n",
       "test3         5.25\n",
       "dtype: float64"
      ]
     },
     "execution_count": 392,
     "metadata": {},
     "output_type": "execute_result"
    }
   ],
   "source": [
    "df2[[\"test\", \"test3\"]].apply(mean,  axis=0) # par rapports aux colonnes  "
   ]
  },
  {
   "cell_type": "markdown",
   "metadata": {},
   "source": [
    "## choisir tout sauf "
   ]
  },
  {
   "cell_type": "code",
   "execution_count": 377,
   "metadata": {},
   "outputs": [],
   "source": [
    "df2.drop(1, inplace=True) # colonnes ou lignes suivant axis"
   ]
  },
  {
   "cell_type": "code",
   "execution_count": 381,
   "metadata": {},
   "outputs": [
    {
     "data": {
      "text/html": [
       "<div>\n",
       "<style scoped>\n",
       "    .dataframe tbody tr th:only-of-type {\n",
       "        vertical-align: middle;\n",
       "    }\n",
       "\n",
       "    .dataframe tbody tr th {\n",
       "        vertical-align: top;\n",
       "    }\n",
       "\n",
       "    .dataframe thead th {\n",
       "        text-align: right;\n",
       "    }\n",
       "</style>\n",
       "<table border=\"1\" class=\"dataframe\">\n",
       "  <thead>\n",
       "    <tr style=\"text-align: right;\">\n",
       "      <th></th>\n",
       "      <th>test</th>\n",
       "      <th>test2</th>\n",
       "      <th>test3</th>\n",
       "    </tr>\n",
       "  </thead>\n",
       "  <tbody>\n",
       "    <tr>\n",
       "      <td>0</td>\n",
       "      <td>256</td>\n",
       "      <td>4</td>\n",
       "      <td>5</td>\n",
       "    </tr>\n",
       "    <tr>\n",
       "      <td>2</td>\n",
       "      <td>6561</td>\n",
       "      <td>2</td>\n",
       "      <td>4</td>\n",
       "    </tr>\n",
       "    <tr>\n",
       "      <td>3</td>\n",
       "      <td>390625</td>\n",
       "      <td>2</td>\n",
       "      <td>3</td>\n",
       "    </tr>\n",
       "    <tr>\n",
       "      <td>4</td>\n",
       "      <td>390625</td>\n",
       "      <td>2</td>\n",
       "      <td>9</td>\n",
       "    </tr>\n",
       "  </tbody>\n",
       "</table>\n",
       "</div>"
      ],
      "text/plain": [
       "     test test2  test3\n",
       "0     256     4      5\n",
       "2    6561     2      4\n",
       "3  390625     2      3\n",
       "4  390625     2      9"
      ]
     },
     "execution_count": 381,
     "metadata": {},
     "output_type": "execute_result"
    }
   ],
   "source": [
    "df2"
   ]
  },
  {
   "cell_type": "code",
   "execution_count": 380,
   "metadata": {},
   "outputs": [
    {
     "data": {
      "text/plain": [
       "2      2189.0\n",
       "3    130210.0\n",
       "4    130212.0\n",
       "dtype: float64"
      ]
     },
     "execution_count": 380,
     "metadata": {},
     "output_type": "execute_result"
    }
   ],
   "source": [
    "df2.drop(0).apply(mean, axis=1) # par rapport aux lignes "
   ]
  },
  {
   "cell_type": "code",
   "execution_count": 398,
   "metadata": {},
   "outputs": [
    {
     "data": {
      "text/html": [
       "<div>\n",
       "<style scoped>\n",
       "    .dataframe tbody tr th:only-of-type {\n",
       "        vertical-align: middle;\n",
       "    }\n",
       "\n",
       "    .dataframe tbody tr th {\n",
       "        vertical-align: top;\n",
       "    }\n",
       "\n",
       "    .dataframe thead th {\n",
       "        text-align: right;\n",
       "    }\n",
       "</style>\n",
       "<table border=\"1\" class=\"dataframe\">\n",
       "  <thead>\n",
       "    <tr style=\"text-align: right;\">\n",
       "      <th></th>\n",
       "      <th>test</th>\n",
       "      <th>test2</th>\n",
       "      <th>test3</th>\n",
       "    </tr>\n",
       "  </thead>\n",
       "  <tbody>\n",
       "    <tr>\n",
       "      <td>0</td>\n",
       "      <td>65536</td>\n",
       "      <td>16</td>\n",
       "      <td>25</td>\n",
       "    </tr>\n",
       "    <tr>\n",
       "      <td>2</td>\n",
       "      <td>43046721</td>\n",
       "      <td>4</td>\n",
       "      <td>16</td>\n",
       "    </tr>\n",
       "    <tr>\n",
       "      <td>3</td>\n",
       "      <td>152587890625</td>\n",
       "      <td>4</td>\n",
       "      <td>9</td>\n",
       "    </tr>\n",
       "    <tr>\n",
       "      <td>4</td>\n",
       "      <td>152587890625</td>\n",
       "      <td>4</td>\n",
       "      <td>81</td>\n",
       "    </tr>\n",
       "  </tbody>\n",
       "</table>\n",
       "</div>"
      ],
      "text/plain": [
       "           test  test2  test3\n",
       "0         65536     16     25\n",
       "2      43046721      4     16\n",
       "3  152587890625      4      9\n",
       "4  152587890625      4     81"
      ]
     },
     "execution_count": 398,
     "metadata": {},
     "output_type": "execute_result"
    }
   ],
   "source": [
    "df2.applymap(square)"
   ]
  },
  {
   "cell_type": "markdown",
   "metadata": {},
   "source": [
    "## masks"
   ]
  },
  {
   "cell_type": "markdown",
   "metadata": {},
   "source": [
    "on peut ecrire une opération de filtrage comme ceci "
   ]
  },
  {
   "cell_type": "code",
   "execution_count": 406,
   "metadata": {},
   "outputs": [
    {
     "data": {
      "text/html": [
       "<div>\n",
       "<style scoped>\n",
       "    .dataframe tbody tr th:only-of-type {\n",
       "        vertical-align: middle;\n",
       "    }\n",
       "\n",
       "    .dataframe tbody tr th {\n",
       "        vertical-align: top;\n",
       "    }\n",
       "\n",
       "    .dataframe thead th {\n",
       "        text-align: right;\n",
       "    }\n",
       "</style>\n",
       "<table border=\"1\" class=\"dataframe\">\n",
       "  <thead>\n",
       "    <tr style=\"text-align: right;\">\n",
       "      <th></th>\n",
       "      <th>test</th>\n",
       "      <th>test2</th>\n",
       "      <th>test3</th>\n",
       "    </tr>\n",
       "  </thead>\n",
       "  <tbody>\n",
       "    <tr>\n",
       "      <td>3</td>\n",
       "      <td>390625</td>\n",
       "      <td>2</td>\n",
       "      <td>3</td>\n",
       "    </tr>\n",
       "    <tr>\n",
       "      <td>4</td>\n",
       "      <td>390625</td>\n",
       "      <td>2</td>\n",
       "      <td>9</td>\n",
       "    </tr>\n",
       "  </tbody>\n",
       "</table>\n",
       "</div>"
      ],
      "text/plain": [
       "     test test2  test3\n",
       "3  390625     2      3\n",
       "4  390625     2      9"
      ]
     },
     "execution_count": 406,
     "metadata": {},
     "output_type": "execute_result"
    }
   ],
   "source": [
    "df2[ df2[\"test\"] > 65900 ] # df2.loc[ df2[\"test\"] > 65900, :]"
   ]
  },
  {
   "cell_type": "markdown",
   "metadata": {},
   "source": [
    "plusieurs conditions"
   ]
  },
  {
   "cell_type": "code",
   "execution_count": 412,
   "metadata": {},
   "outputs": [],
   "source": [
    "a = 4"
   ]
  },
  {
   "cell_type": "code",
   "execution_count": 413,
   "metadata": {},
   "outputs": [
    {
     "name": "stdout",
     "output_type": "stream",
     "text": [
      "yes\n"
     ]
    }
   ],
   "source": [
    "if a == 2 and a == 4:\n",
    "    print(\"yes\")"
   ]
  },
  {
   "cell_type": "code",
   "execution_count": null,
   "metadata": {},
   "outputs": [],
   "source": [
    "# & , | "
   ]
  },
  {
   "cell_type": "code",
   "execution_count": 408,
   "metadata": {},
   "outputs": [
    {
     "data": {
      "text/plain": [
       "0    False\n",
       "2    False\n",
       "3     True\n",
       "4     True\n",
       "Name: test, dtype: bool"
      ]
     },
     "execution_count": 408,
     "metadata": {},
     "output_type": "execute_result"
    }
   ],
   "source": [
    "( df2[\"test\"] > 65900 )"
   ]
  },
  {
   "cell_type": "code",
   "execution_count": 409,
   "metadata": {},
   "outputs": [
    {
     "data": {
      "text/plain": [
       "0    False\n",
       "2    False\n",
       "3     True\n",
       "4    False\n",
       "Name: test3, dtype: bool"
      ]
     },
     "execution_count": 409,
     "metadata": {},
     "output_type": "execute_result"
    }
   ],
   "source": [
    "( df2[\"test3\"] == 3 )"
   ]
  },
  {
   "cell_type": "code",
   "execution_count": 410,
   "metadata": {},
   "outputs": [
    {
     "data": {
      "text/plain": [
       "0    False\n",
       "2    False\n",
       "3     True\n",
       "4    False\n",
       "dtype: bool"
      ]
     },
     "execution_count": 410,
     "metadata": {},
     "output_type": "execute_result"
    }
   ],
   "source": [
    "( df2[\"test\"] > 65900 ) & ( df2[\"test3\"] == 3 )"
   ]
  },
  {
   "cell_type": "code",
   "execution_count": 416,
   "metadata": {},
   "outputs": [],
   "source": [
    "mask = ( df2[\"test\"] > 65900 ) | ( df2[\"test3\"] == 3 ) # pairwise comparisons on each element from both Series"
   ]
  },
  {
   "cell_type": "code",
   "execution_count": 419,
   "metadata": {},
   "outputs": [
    {
     "data": {
      "text/plain": [
       "0    False\n",
       "2    False\n",
       "3     True\n",
       "4     True\n",
       "dtype: bool"
      ]
     },
     "execution_count": 419,
     "metadata": {},
     "output_type": "execute_result"
    }
   ],
   "source": [
    "mask"
   ]
  },
  {
   "cell_type": "code",
   "execution_count": null,
   "metadata": {},
   "outputs": [],
   "source": [
    "# df2[ mask_age_under18 &  mask_from_europe]"
   ]
  },
  {
   "cell_type": "code",
   "execution_count": 421,
   "metadata": {},
   "outputs": [
    {
     "data": {
      "text/html": [
       "<div>\n",
       "<style scoped>\n",
       "    .dataframe tbody tr th:only-of-type {\n",
       "        vertical-align: middle;\n",
       "    }\n",
       "\n",
       "    .dataframe tbody tr th {\n",
       "        vertical-align: top;\n",
       "    }\n",
       "\n",
       "    .dataframe thead th {\n",
       "        text-align: right;\n",
       "    }\n",
       "</style>\n",
       "<table border=\"1\" class=\"dataframe\">\n",
       "  <thead>\n",
       "    <tr style=\"text-align: right;\">\n",
       "      <th></th>\n",
       "      <th>test</th>\n",
       "      <th>test2</th>\n",
       "      <th>test3</th>\n",
       "    </tr>\n",
       "  </thead>\n",
       "  <tbody>\n",
       "    <tr>\n",
       "      <td>3</td>\n",
       "      <td>390625</td>\n",
       "      <td>2</td>\n",
       "      <td>3</td>\n",
       "    </tr>\n",
       "    <tr>\n",
       "      <td>4</td>\n",
       "      <td>390625</td>\n",
       "      <td>2</td>\n",
       "      <td>9</td>\n",
       "    </tr>\n",
       "  </tbody>\n",
       "</table>\n",
       "</div>"
      ],
      "text/plain": [
       "     test test2  test3\n",
       "3  390625     2      3\n",
       "4  390625     2      9"
      ]
     },
     "execution_count": 421,
     "metadata": {},
     "output_type": "execute_result"
    }
   ],
   "source": [
    "df2[ mask ] "
   ]
  },
  {
   "cell_type": "markdown",
   "metadata": {},
   "source": [
    "## apply une fonction un peu plus compliquée"
   ]
  },
  {
   "cell_type": "code",
   "execution_count": 422,
   "metadata": {},
   "outputs": [
    {
     "data": {
      "text/html": [
       "<div>\n",
       "<style scoped>\n",
       "    .dataframe tbody tr th:only-of-type {\n",
       "        vertical-align: middle;\n",
       "    }\n",
       "\n",
       "    .dataframe tbody tr th {\n",
       "        vertical-align: top;\n",
       "    }\n",
       "\n",
       "    .dataframe thead th {\n",
       "        text-align: right;\n",
       "    }\n",
       "</style>\n",
       "<table border=\"1\" class=\"dataframe\">\n",
       "  <thead>\n",
       "    <tr style=\"text-align: right;\">\n",
       "      <th></th>\n",
       "      <th>test</th>\n",
       "      <th>test2</th>\n",
       "      <th>test3</th>\n",
       "    </tr>\n",
       "  </thead>\n",
       "  <tbody>\n",
       "    <tr>\n",
       "      <td>0</td>\n",
       "      <td>256</td>\n",
       "      <td>4</td>\n",
       "      <td>5</td>\n",
       "    </tr>\n",
       "    <tr>\n",
       "      <td>2</td>\n",
       "      <td>6561</td>\n",
       "      <td>2</td>\n",
       "      <td>4</td>\n",
       "    </tr>\n",
       "    <tr>\n",
       "      <td>3</td>\n",
       "      <td>390625</td>\n",
       "      <td>2</td>\n",
       "      <td>3</td>\n",
       "    </tr>\n",
       "    <tr>\n",
       "      <td>4</td>\n",
       "      <td>390625</td>\n",
       "      <td>2</td>\n",
       "      <td>9</td>\n",
       "    </tr>\n",
       "  </tbody>\n",
       "</table>\n",
       "</div>"
      ],
      "text/plain": [
       "     test test2  test3\n",
       "0     256     4      5\n",
       "2    6561     2      4\n",
       "3  390625     2      3\n",
       "4  390625     2      9"
      ]
     },
     "execution_count": 422,
     "metadata": {},
     "output_type": "execute_result"
    }
   ],
   "source": [
    "df2"
   ]
  },
  {
   "cell_type": "code",
   "execution_count": null,
   "metadata": {},
   "outputs": [],
   "source": [
    "df2.apply(lambda row: mean(row), axis=1)"
   ]
  },
  {
   "cell_type": "code",
   "execution_count": 455,
   "metadata": {},
   "outputs": [],
   "source": [
    "def unefonction(row):\n",
    "    \"\"\" fonction qui pour chacune des lignes ne calculent pas la moyenne,\n",
    "    mais retourne OK, NA ou NOT OK suivant que cellules ( besoin de la colonne) aient \n",
    "    des valeurs particulières \"\"\"\n",
    "    if row[\"test\"] > 128:\n",
    "        if row[\"test2\"] < 4:\n",
    "            return \"OK\"\n",
    "        else:\n",
    "            return \"NA\"\n",
    "    else:\n",
    "        return \"NOT OK\""
   ]
  },
  {
   "cell_type": "code",
   "execution_count": 456,
   "metadata": {},
   "outputs": [],
   "source": [
    "def unefonction2(row):\n",
    "    print(row)"
   ]
  },
  {
   "cell_type": "code",
   "execution_count": 457,
   "metadata": {},
   "outputs": [],
   "source": [
    "df2['to_filter_with'] = df2.apply(unefonction, axis=1)"
   ]
  },
  {
   "cell_type": "code",
   "execution_count": 458,
   "metadata": {},
   "outputs": [
    {
     "data": {
      "text/html": [
       "<div>\n",
       "<style scoped>\n",
       "    .dataframe tbody tr th:only-of-type {\n",
       "        vertical-align: middle;\n",
       "    }\n",
       "\n",
       "    .dataframe tbody tr th {\n",
       "        vertical-align: top;\n",
       "    }\n",
       "\n",
       "    .dataframe thead th {\n",
       "        text-align: right;\n",
       "    }\n",
       "</style>\n",
       "<table border=\"1\" class=\"dataframe\">\n",
       "  <thead>\n",
       "    <tr style=\"text-align: right;\">\n",
       "      <th></th>\n",
       "      <th>test</th>\n",
       "      <th>test2</th>\n",
       "      <th>test3</th>\n",
       "      <th>to_filter_with</th>\n",
       "    </tr>\n",
       "  </thead>\n",
       "  <tbody>\n",
       "    <tr>\n",
       "      <td>2</td>\n",
       "      <td>6561</td>\n",
       "      <td>2</td>\n",
       "      <td>4</td>\n",
       "      <td>OK</td>\n",
       "    </tr>\n",
       "    <tr>\n",
       "      <td>3</td>\n",
       "      <td>390625</td>\n",
       "      <td>2</td>\n",
       "      <td>3</td>\n",
       "      <td>OK</td>\n",
       "    </tr>\n",
       "    <tr>\n",
       "      <td>4</td>\n",
       "      <td>390625</td>\n",
       "      <td>2</td>\n",
       "      <td>9</td>\n",
       "      <td>OK</td>\n",
       "    </tr>\n",
       "  </tbody>\n",
       "</table>\n",
       "</div>"
      ],
      "text/plain": [
       "     test test2  test3 to_filter_with\n",
       "2    6561     2      4             OK\n",
       "3  390625     2      3             OK\n",
       "4  390625     2      9             OK"
      ]
     },
     "execution_count": 458,
     "metadata": {},
     "output_type": "execute_result"
    }
   ],
   "source": [
    "df2[df2[\"to_filter_with\"]!=\"NA\"]"
   ]
  },
  {
   "cell_type": "markdown",
   "metadata": {},
   "source": [
    "# Groupby"
   ]
  },
  {
   "cell_type": "code",
   "execution_count": 460,
   "metadata": {},
   "outputs": [],
   "source": [
    "df.columns = [\"date\" , \"famille_transport\", \"ligne\", \"incident_en_question\"]"
   ]
  },
  {
   "cell_type": "code",
   "execution_count": 461,
   "metadata": {},
   "outputs": [
    {
     "data": {
      "text/html": [
       "<div>\n",
       "<style scoped>\n",
       "    .dataframe tbody tr th:only-of-type {\n",
       "        vertical-align: middle;\n",
       "    }\n",
       "\n",
       "    .dataframe tbody tr th {\n",
       "        vertical-align: top;\n",
       "    }\n",
       "\n",
       "    .dataframe thead th {\n",
       "        text-align: right;\n",
       "    }\n",
       "</style>\n",
       "<table border=\"1\" class=\"dataframe\">\n",
       "  <thead>\n",
       "    <tr style=\"text-align: right;\">\n",
       "      <th></th>\n",
       "      <th>date</th>\n",
       "      <th>famille_transport</th>\n",
       "      <th>ligne</th>\n",
       "      <th>incident_en_question</th>\n",
       "    </tr>\n",
       "  </thead>\n",
       "  <tbody>\n",
       "    <tr>\n",
       "      <td>0</td>\n",
       "      <td>2019-01-23</td>\n",
       "      <td>transilien</td>\n",
       "      <td>A</td>\n",
       "      <td>['Défaut de signalisation entre Nation et Aube...</td>\n",
       "    </tr>\n",
       "    <tr>\n",
       "      <td>1</td>\n",
       "      <td>2019-01-23</td>\n",
       "      <td>transilien</td>\n",
       "      <td>B</td>\n",
       "      <td>['Intervention de police à Gare-du-Nord pour u...</td>\n",
       "    </tr>\n",
       "    <tr>\n",
       "      <td>2</td>\n",
       "      <td>2019-01-23</td>\n",
       "      <td>transilien</td>\n",
       "      <td>C</td>\n",
       "      <td>[\"Signal d'alarme à Bibiliothèque-François-Mit...</td>\n",
       "    </tr>\n",
       "    <tr>\n",
       "      <td>3</td>\n",
       "      <td>2019-01-23</td>\n",
       "      <td>transilien</td>\n",
       "      <td>D</td>\n",
       "      <td>['Restitution tardive de travaux de nuit à Com...</td>\n",
       "    </tr>\n",
       "    <tr>\n",
       "      <td>4</td>\n",
       "      <td>2019-01-23</td>\n",
       "      <td>transilien</td>\n",
       "      <td>E</td>\n",
       "      <td>[\"Signaux d'alarme malveillants à Haussamann-S...</td>\n",
       "    </tr>\n",
       "    <tr>\n",
       "      <td>...</td>\n",
       "      <td>...</td>\n",
       "      <td>...</td>\n",
       "      <td>...</td>\n",
       "      <td>...</td>\n",
       "    </tr>\n",
       "    <tr>\n",
       "      <td>3740</td>\n",
       "      <td>2020-03-13</td>\n",
       "      <td>intercites</td>\n",
       "      <td>Nantes-Lyon</td>\n",
       "      <td>[\"Présence d'individus sur le pont-rail du Rhô...</td>\n",
       "    </tr>\n",
       "    <tr>\n",
       "      <td>3741</td>\n",
       "      <td>2020-03-13</td>\n",
       "      <td>intercites</td>\n",
       "      <td>Toulouse-Bayonne</td>\n",
       "      <td>NaN</td>\n",
       "    </tr>\n",
       "    <tr>\n",
       "      <td>3742</td>\n",
       "      <td>2020-03-13</td>\n",
       "      <td>intercites</td>\n",
       "      <td>Clermont-Béziers</td>\n",
       "      <td>NaN</td>\n",
       "    </tr>\n",
       "    <tr>\n",
       "      <td>3743</td>\n",
       "      <td>2020-03-13</td>\n",
       "      <td>intercites</td>\n",
       "      <td>Paris-Toulouse-Latour De Carol/Cerbere/Rodez</td>\n",
       "      <td>NaN</td>\n",
       "    </tr>\n",
       "    <tr>\n",
       "      <td>3744</td>\n",
       "      <td>2020-03-13</td>\n",
       "      <td>intercites</td>\n",
       "      <td>Paris-Briançon</td>\n",
       "      <td>NaN</td>\n",
       "    </tr>\n",
       "  </tbody>\n",
       "</table>\n",
       "<p>3745 rows × 4 columns</p>\n",
       "</div>"
      ],
      "text/plain": [
       "            date famille_transport  \\\n",
       "0     2019-01-23        transilien   \n",
       "1     2019-01-23        transilien   \n",
       "2     2019-01-23        transilien   \n",
       "3     2019-01-23        transilien   \n",
       "4     2019-01-23        transilien   \n",
       "...          ...               ...   \n",
       "3740  2020-03-13        intercites   \n",
       "3741  2020-03-13        intercites   \n",
       "3742  2020-03-13        intercites   \n",
       "3743  2020-03-13        intercites   \n",
       "3744  2020-03-13        intercites   \n",
       "\n",
       "                                             ligne  \\\n",
       "0                                                A   \n",
       "1                                                B   \n",
       "2                                                C   \n",
       "3                                                D   \n",
       "4                                                E   \n",
       "...                                            ...   \n",
       "3740                                   Nantes-Lyon   \n",
       "3741                              Toulouse-Bayonne   \n",
       "3742                              Clermont-Béziers   \n",
       "3743  Paris-Toulouse-Latour De Carol/Cerbere/Rodez   \n",
       "3744                                Paris-Briançon   \n",
       "\n",
       "                                   incident_en_question  \n",
       "0     ['Défaut de signalisation entre Nation et Aube...  \n",
       "1     ['Intervention de police à Gare-du-Nord pour u...  \n",
       "2     [\"Signal d'alarme à Bibiliothèque-François-Mit...  \n",
       "3     ['Restitution tardive de travaux de nuit à Com...  \n",
       "4     [\"Signaux d'alarme malveillants à Haussamann-S...  \n",
       "...                                                 ...  \n",
       "3740  [\"Présence d'individus sur le pont-rail du Rhô...  \n",
       "3741                                                NaN  \n",
       "3742                                                NaN  \n",
       "3743                                                NaN  \n",
       "3744                                                NaN  \n",
       "\n",
       "[3745 rows x 4 columns]"
      ]
     },
     "execution_count": 461,
     "metadata": {},
     "output_type": "execute_result"
    }
   ],
   "source": [
    "df"
   ]
  },
  {
   "cell_type": "markdown",
   "metadata": {},
   "source": [
    "## regarder les valeurs / distinctes possibles pour la colonne ainsi que leur fréquence/occurences"
   ]
  },
  {
   "cell_type": "code",
   "execution_count": 469,
   "metadata": {},
   "outputs": [
    {
     "data": {
      "text/plain": [
       "transilien    1275\n",
       "intercites    1025\n",
       "ter            935\n",
       "tgv            510\n",
       "Name: famille_transport, dtype: int64"
      ]
     },
     "execution_count": 469,
     "metadata": {},
     "output_type": "execute_result"
    }
   ],
   "source": [
    "df.famille_transport.value_counts()"
   ]
  },
  {
   "cell_type": "code",
   "execution_count": 471,
   "metadata": {
    "scrolled": false
   },
   "outputs": [
    {
     "name": "stdout",
     "output_type": "stream",
     "text": [
      "intercites\n"
     ]
    },
    {
     "data": {
      "text/html": [
       "<div>\n",
       "<style scoped>\n",
       "    .dataframe tbody tr th:only-of-type {\n",
       "        vertical-align: middle;\n",
       "    }\n",
       "\n",
       "    .dataframe tbody tr th {\n",
       "        vertical-align: top;\n",
       "    }\n",
       "\n",
       "    .dataframe thead th {\n",
       "        text-align: right;\n",
       "    }\n",
       "</style>\n",
       "<table border=\"1\" class=\"dataframe\">\n",
       "  <thead>\n",
       "    <tr style=\"text-align: right;\">\n",
       "      <th></th>\n",
       "      <th>date</th>\n",
       "      <th>famille_transport</th>\n",
       "      <th>ligne</th>\n",
       "      <th>incident_en_question</th>\n",
       "    </tr>\n",
       "  </thead>\n",
       "  <tbody>\n",
       "    <tr>\n",
       "      <td>32</td>\n",
       "      <td>2019-01-23</td>\n",
       "      <td>intercites</td>\n",
       "      <td>Paris-Limoges-Toulouse</td>\n",
       "      <td>NaN</td>\n",
       "    </tr>\n",
       "    <tr>\n",
       "      <td>33</td>\n",
       "      <td>2019-01-23</td>\n",
       "      <td>intercites</td>\n",
       "      <td>Paris-Clermont</td>\n",
       "      <td>NaN</td>\n",
       "    </tr>\n",
       "    <tr>\n",
       "      <td>34</td>\n",
       "      <td>2019-01-23</td>\n",
       "      <td>intercites</td>\n",
       "      <td>Bordeaux-Marseille</td>\n",
       "      <td>NaN</td>\n",
       "    </tr>\n",
       "    <tr>\n",
       "      <td>35</td>\n",
       "      <td>2019-01-23</td>\n",
       "      <td>intercites</td>\n",
       "      <td>Nantes-Bordeaux</td>\n",
       "      <td>NaN</td>\n",
       "    </tr>\n",
       "    <tr>\n",
       "      <td>36</td>\n",
       "      <td>2019-01-23</td>\n",
       "      <td>intercites</td>\n",
       "      <td>Nantes-Lyon</td>\n",
       "      <td>NaN</td>\n",
       "    </tr>\n",
       "  </tbody>\n",
       "</table>\n",
       "</div>"
      ],
      "text/plain": [
       "          date famille_transport                   ligne incident_en_question\n",
       "32  2019-01-23        intercites  Paris-Limoges-Toulouse                  NaN\n",
       "33  2019-01-23        intercites          Paris-Clermont                  NaN\n",
       "34  2019-01-23        intercites      Bordeaux-Marseille                  NaN\n",
       "35  2019-01-23        intercites         Nantes-Bordeaux                  NaN\n",
       "36  2019-01-23        intercites             Nantes-Lyon                  NaN"
      ]
     },
     "metadata": {},
     "output_type": "display_data"
    },
    {
     "name": "stdout",
     "output_type": "stream",
     "text": [
      "ter\n"
     ]
    },
    {
     "data": {
      "text/html": [
       "<div>\n",
       "<style scoped>\n",
       "    .dataframe tbody tr th:only-of-type {\n",
       "        vertical-align: middle;\n",
       "    }\n",
       "\n",
       "    .dataframe tbody tr th {\n",
       "        vertical-align: top;\n",
       "    }\n",
       "\n",
       "    .dataframe thead th {\n",
       "        text-align: right;\n",
       "    }\n",
       "</style>\n",
       "<table border=\"1\" class=\"dataframe\">\n",
       "  <thead>\n",
       "    <tr style=\"text-align: right;\">\n",
       "      <th></th>\n",
       "      <th>date</th>\n",
       "      <th>famille_transport</th>\n",
       "      <th>ligne</th>\n",
       "      <th>incident_en_question</th>\n",
       "    </tr>\n",
       "  </thead>\n",
       "  <tbody>\n",
       "    <tr>\n",
       "      <td>15</td>\n",
       "      <td>2019-01-23</td>\n",
       "      <td>ter</td>\n",
       "      <td>Grand Est</td>\n",
       "      <td>NaN</td>\n",
       "    </tr>\n",
       "    <tr>\n",
       "      <td>16</td>\n",
       "      <td>2019-01-23</td>\n",
       "      <td>ter</td>\n",
       "      <td>Nouvelle-Aquitaine</td>\n",
       "      <td>NaN</td>\n",
       "    </tr>\n",
       "    <tr>\n",
       "      <td>17</td>\n",
       "      <td>2019-01-23</td>\n",
       "      <td>ter</td>\n",
       "      <td>Auvergne-Rhône-Alpes</td>\n",
       "      <td>['Aiguillages bloqués à St-Germain-au-Mont-d’O...</td>\n",
       "    </tr>\n",
       "    <tr>\n",
       "      <td>18</td>\n",
       "      <td>2019-01-23</td>\n",
       "      <td>ter</td>\n",
       "      <td>Bourgogne-Franche-Comté</td>\n",
       "      <td>['Panne sur des aiguillages suite aux intempér...</td>\n",
       "    </tr>\n",
       "    <tr>\n",
       "      <td>19</td>\n",
       "      <td>2019-01-23</td>\n",
       "      <td>ter</td>\n",
       "      <td>Bretagne</td>\n",
       "      <td>NaN</td>\n",
       "    </tr>\n",
       "  </tbody>\n",
       "</table>\n",
       "</div>"
      ],
      "text/plain": [
       "          date famille_transport                    ligne  \\\n",
       "15  2019-01-23               ter                Grand Est   \n",
       "16  2019-01-23               ter       Nouvelle-Aquitaine   \n",
       "17  2019-01-23               ter     Auvergne-Rhône-Alpes   \n",
       "18  2019-01-23               ter  Bourgogne-Franche-Comté   \n",
       "19  2019-01-23               ter                 Bretagne   \n",
       "\n",
       "                                 incident_en_question  \n",
       "15                                                NaN  \n",
       "16                                                NaN  \n",
       "17  ['Aiguillages bloqués à St-Germain-au-Mont-d’O...  \n",
       "18  ['Panne sur des aiguillages suite aux intempér...  \n",
       "19                                                NaN  "
      ]
     },
     "metadata": {},
     "output_type": "display_data"
    },
    {
     "name": "stdout",
     "output_type": "stream",
     "text": [
      "tgv\n"
     ]
    },
    {
     "data": {
      "text/html": [
       "<div>\n",
       "<style scoped>\n",
       "    .dataframe tbody tr th:only-of-type {\n",
       "        vertical-align: middle;\n",
       "    }\n",
       "\n",
       "    .dataframe tbody tr th {\n",
       "        vertical-align: top;\n",
       "    }\n",
       "\n",
       "    .dataframe thead th {\n",
       "        text-align: right;\n",
       "    }\n",
       "</style>\n",
       "<table border=\"1\" class=\"dataframe\">\n",
       "  <thead>\n",
       "    <tr style=\"text-align: right;\">\n",
       "      <th></th>\n",
       "      <th>date</th>\n",
       "      <th>famille_transport</th>\n",
       "      <th>ligne</th>\n",
       "      <th>incident_en_question</th>\n",
       "    </tr>\n",
       "  </thead>\n",
       "  <tbody>\n",
       "    <tr>\n",
       "      <td>26</td>\n",
       "      <td>2019-01-23</td>\n",
       "      <td>tgv</td>\n",
       "      <td>nord</td>\n",
       "      <td>['Réduction de vitesse sur la ligne à grande v...</td>\n",
       "    </tr>\n",
       "    <tr>\n",
       "      <td>27</td>\n",
       "      <td>2019-01-23</td>\n",
       "      <td>tgv</td>\n",
       "      <td>est</td>\n",
       "      <td>['Réduction de vitesse sur la ligne à grande v...</td>\n",
       "    </tr>\n",
       "    <tr>\n",
       "      <td>28</td>\n",
       "      <td>2019-01-23</td>\n",
       "      <td>tgv</td>\n",
       "      <td>atlantique</td>\n",
       "      <td>NaN</td>\n",
       "    </tr>\n",
       "    <tr>\n",
       "      <td>29</td>\n",
       "      <td>2019-01-23</td>\n",
       "      <td>tgv</td>\n",
       "      <td>sudest</td>\n",
       "      <td>['Réduction de vitesse sur la ligne à grande v...</td>\n",
       "    </tr>\n",
       "    <tr>\n",
       "      <td>30</td>\n",
       "      <td>2019-01-23</td>\n",
       "      <td>tgv</td>\n",
       "      <td>ouigo</td>\n",
       "      <td>['Réduction de vitesse sur la ligne à grande v...</td>\n",
       "    </tr>\n",
       "  </tbody>\n",
       "</table>\n",
       "</div>"
      ],
      "text/plain": [
       "          date famille_transport       ligne  \\\n",
       "26  2019-01-23               tgv        nord   \n",
       "27  2019-01-23               tgv         est   \n",
       "28  2019-01-23               tgv  atlantique   \n",
       "29  2019-01-23               tgv      sudest   \n",
       "30  2019-01-23               tgv       ouigo   \n",
       "\n",
       "                                 incident_en_question  \n",
       "26  ['Réduction de vitesse sur la ligne à grande v...  \n",
       "27  ['Réduction de vitesse sur la ligne à grande v...  \n",
       "28                                                NaN  \n",
       "29  ['Réduction de vitesse sur la ligne à grande v...  \n",
       "30  ['Réduction de vitesse sur la ligne à grande v...  "
      ]
     },
     "metadata": {},
     "output_type": "display_data"
    },
    {
     "name": "stdout",
     "output_type": "stream",
     "text": [
      "transilien\n"
     ]
    },
    {
     "data": {
      "text/html": [
       "<div>\n",
       "<style scoped>\n",
       "    .dataframe tbody tr th:only-of-type {\n",
       "        vertical-align: middle;\n",
       "    }\n",
       "\n",
       "    .dataframe tbody tr th {\n",
       "        vertical-align: top;\n",
       "    }\n",
       "\n",
       "    .dataframe thead th {\n",
       "        text-align: right;\n",
       "    }\n",
       "</style>\n",
       "<table border=\"1\" class=\"dataframe\">\n",
       "  <thead>\n",
       "    <tr style=\"text-align: right;\">\n",
       "      <th></th>\n",
       "      <th>date</th>\n",
       "      <th>famille_transport</th>\n",
       "      <th>ligne</th>\n",
       "      <th>incident_en_question</th>\n",
       "    </tr>\n",
       "  </thead>\n",
       "  <tbody>\n",
       "    <tr>\n",
       "      <td>0</td>\n",
       "      <td>2019-01-23</td>\n",
       "      <td>transilien</td>\n",
       "      <td>A</td>\n",
       "      <td>['Défaut de signalisation entre Nation et Aube...</td>\n",
       "    </tr>\n",
       "    <tr>\n",
       "      <td>1</td>\n",
       "      <td>2019-01-23</td>\n",
       "      <td>transilien</td>\n",
       "      <td>B</td>\n",
       "      <td>['Intervention de police à Gare-du-Nord pour u...</td>\n",
       "    </tr>\n",
       "    <tr>\n",
       "      <td>2</td>\n",
       "      <td>2019-01-23</td>\n",
       "      <td>transilien</td>\n",
       "      <td>C</td>\n",
       "      <td>[\"Signal d'alarme à Bibiliothèque-François-Mit...</td>\n",
       "    </tr>\n",
       "    <tr>\n",
       "      <td>3</td>\n",
       "      <td>2019-01-23</td>\n",
       "      <td>transilien</td>\n",
       "      <td>D</td>\n",
       "      <td>['Restitution tardive de travaux de nuit à Com...</td>\n",
       "    </tr>\n",
       "    <tr>\n",
       "      <td>4</td>\n",
       "      <td>2019-01-23</td>\n",
       "      <td>transilien</td>\n",
       "      <td>E</td>\n",
       "      <td>[\"Signaux d'alarme malveillants à Haussamann-S...</td>\n",
       "    </tr>\n",
       "  </tbody>\n",
       "</table>\n",
       "</div>"
      ],
      "text/plain": [
       "         date famille_transport ligne  \\\n",
       "0  2019-01-23        transilien     A   \n",
       "1  2019-01-23        transilien     B   \n",
       "2  2019-01-23        transilien     C   \n",
       "3  2019-01-23        transilien     D   \n",
       "4  2019-01-23        transilien     E   \n",
       "\n",
       "                                incident_en_question  \n",
       "0  ['Défaut de signalisation entre Nation et Aube...  \n",
       "1  ['Intervention de police à Gare-du-Nord pour u...  \n",
       "2  [\"Signal d'alarme à Bibiliothèque-François-Mit...  \n",
       "3  ['Restitution tardive de travaux de nuit à Com...  \n",
       "4  [\"Signaux d'alarme malveillants à Haussamann-S...  "
      ]
     },
     "metadata": {},
     "output_type": "display_data"
    }
   ],
   "source": [
    "for x,y in df.groupby(['famille_transport']):\n",
    "    print(x) # x c'est le nom de la catégorie  (le nom du groupe)\n",
    "    display(y.head()) # y c'est le dataframe filtré sur cette catégorie"
   ]
  },
  {
   "cell_type": "markdown",
   "metadata": {},
   "source": [
    "3 cas pour apply:\n",
    "    - apply sur une Series (elementwise sur \n",
    "                            les elements de la colonne etant en fait une serie, utilisation de square\n",
    "                            mais pas de mean)\n",
    "    - apply sur un dataframe (calculs sur l'ensemble d'une colonne ou sur l'ensemble d'une ligne à ce moment là j'utilise le keyword axis)\n",
    "        * autre cas d'utilisation: faire une fonction qui retourne des valeurs différentes suivant des conditions sur plusieurs vis à vis d'une ligne en utilisant axis=1\n",
    "    - apply sur un DataframeGroupby (va effectuer une opération sur chacun des sous dataframes générés par le groupby)  group-wise and combine the results together."
   ]
  },
  {
   "cell_type": "markdown",
   "metadata": {},
   "source": [
    "## appliquer des fonctions sur un/plusieurs groupe(s)"
   ]
  },
  {
   "cell_type": "code",
   "execution_count": 482,
   "metadata": {},
   "outputs": [
    {
     "data": {
      "text/html": [
       "<div>\n",
       "<style scoped>\n",
       "    .dataframe tbody tr th:only-of-type {\n",
       "        vertical-align: middle;\n",
       "    }\n",
       "\n",
       "    .dataframe tbody tr th {\n",
       "        vertical-align: top;\n",
       "    }\n",
       "\n",
       "    .dataframe thead th {\n",
       "        text-align: right;\n",
       "    }\n",
       "</style>\n",
       "<table border=\"1\" class=\"dataframe\">\n",
       "  <thead>\n",
       "    <tr style=\"text-align: right;\">\n",
       "      <th></th>\n",
       "      <th>test</th>\n",
       "      <th>test2</th>\n",
       "      <th>test3</th>\n",
       "      <th>to_filter_with</th>\n",
       "    </tr>\n",
       "  </thead>\n",
       "  <tbody>\n",
       "    <tr>\n",
       "      <td>0</td>\n",
       "      <td>256</td>\n",
       "      <td>4</td>\n",
       "      <td>5</td>\n",
       "      <td>NA</td>\n",
       "    </tr>\n",
       "    <tr>\n",
       "      <td>2</td>\n",
       "      <td>6561</td>\n",
       "      <td>2</td>\n",
       "      <td>4</td>\n",
       "      <td>OK</td>\n",
       "    </tr>\n",
       "    <tr>\n",
       "      <td>3</td>\n",
       "      <td>390625</td>\n",
       "      <td>2</td>\n",
       "      <td>3</td>\n",
       "      <td>OK</td>\n",
       "    </tr>\n",
       "    <tr>\n",
       "      <td>4</td>\n",
       "      <td>390625</td>\n",
       "      <td>2</td>\n",
       "      <td>9</td>\n",
       "      <td>OK</td>\n",
       "    </tr>\n",
       "  </tbody>\n",
       "</table>\n",
       "</div>"
      ],
      "text/plain": [
       "     test test2  test3 to_filter_with\n",
       "0     256     4      5             NA\n",
       "2    6561     2      4             OK\n",
       "3  390625     2      3             OK\n",
       "4  390625     2      9             OK"
      ]
     },
     "execution_count": 482,
     "metadata": {},
     "output_type": "execute_result"
    }
   ],
   "source": [
    "df2"
   ]
  },
  {
   "cell_type": "code",
   "execution_count": 487,
   "metadata": {},
   "outputs": [
    {
     "data": {
      "text/plain": [
       "test     197016.75\n",
       "test2         2.50\n",
       "test3         5.25\n",
       "dtype: float64"
      ]
     },
     "execution_count": 487,
     "metadata": {},
     "output_type": "execute_result"
    }
   ],
   "source": [
    "df2.drop(labels='to_filter_with', axis=1).apply(mean, axis=0) "
   ]
  },
  {
   "cell_type": "code",
   "execution_count": 483,
   "metadata": {},
   "outputs": [
    {
     "data": {
      "text/plain": [
       "262603.6666666667"
      ]
     },
     "execution_count": 483,
     "metadata": {},
     "output_type": "execute_result"
    }
   ],
   "source": [
    "(6561 + 390625+390625)/3\n"
   ]
  },
  {
   "cell_type": "code",
   "execution_count": 492,
   "metadata": {},
   "outputs": [],
   "source": [
    "from numpy import std"
   ]
  },
  {
   "cell_type": "code",
   "execution_count": 493,
   "metadata": {},
   "outputs": [
    {
     "data": {
      "text/html": [
       "<div>\n",
       "<style scoped>\n",
       "    .dataframe tbody tr th:only-of-type {\n",
       "        vertical-align: middle;\n",
       "    }\n",
       "\n",
       "    .dataframe tbody tr th {\n",
       "        vertical-align: top;\n",
       "    }\n",
       "\n",
       "    .dataframe thead th {\n",
       "        text-align: right;\n",
       "    }\n",
       "</style>\n",
       "<table border=\"1\" class=\"dataframe\">\n",
       "  <thead>\n",
       "    <tr style=\"text-align: right;\">\n",
       "      <th></th>\n",
       "      <th>test</th>\n",
       "      <th>test2</th>\n",
       "      <th>test3</th>\n",
       "    </tr>\n",
       "    <tr>\n",
       "      <th>to_filter_with</th>\n",
       "      <th></th>\n",
       "      <th></th>\n",
       "      <th></th>\n",
       "    </tr>\n",
       "  </thead>\n",
       "  <tbody>\n",
       "    <tr>\n",
       "      <td>NA</td>\n",
       "      <td>0.000000</td>\n",
       "      <td>0.0</td>\n",
       "      <td>0.000000</td>\n",
       "    </tr>\n",
       "    <tr>\n",
       "      <td>OK</td>\n",
       "      <td>181049.505873</td>\n",
       "      <td>0.0</td>\n",
       "      <td>2.624669</td>\n",
       "    </tr>\n",
       "  </tbody>\n",
       "</table>\n",
       "</div>"
      ],
      "text/plain": [
       "                         test  test2     test3\n",
       "to_filter_with                                \n",
       "NA                   0.000000    0.0  0.000000\n",
       "OK              181049.505873    0.0  2.624669"
      ]
     },
     "execution_count": 493,
     "metadata": {},
     "output_type": "execute_result"
    }
   ],
   "source": [
    "df2.groupby(['to_filter_with']).apply(std)"
   ]
  },
  {
   "cell_type": "markdown",
   "metadata": {},
   "source": [
    "## Les dates "
   ]
  },
  {
   "cell_type": "code",
   "execution_count": 495,
   "metadata": {},
   "outputs": [
    {
     "data": {
      "text/plain": [
       "date                    object\n",
       "famille_transport       object\n",
       "ligne                   object\n",
       "incident_en_question    object\n",
       "dtype: object"
      ]
     },
     "execution_count": 495,
     "metadata": {},
     "output_type": "execute_result"
    }
   ],
   "source": [
    "df.dtypes"
   ]
  },
  {
   "cell_type": "code",
   "execution_count": 497,
   "metadata": {},
   "outputs": [],
   "source": [
    "date = pd.to_datetime(\"2019-01-25\")"
   ]
  },
  {
   "cell_type": "code",
   "execution_count": 499,
   "metadata": {},
   "outputs": [
    {
     "data": {
      "text/plain": [
       "25"
      ]
     },
     "execution_count": 499,
     "metadata": {},
     "output_type": "execute_result"
    }
   ],
   "source": [
    "date.day"
   ]
  },
  {
   "cell_type": "code",
   "execution_count": 510,
   "metadata": {},
   "outputs": [
    {
     "data": {
      "text/plain": [
       "'January'"
      ]
     },
     "execution_count": 510,
     "metadata": {},
     "output_type": "execute_result"
    }
   ],
   "source": [
    "date.month_name()"
   ]
  },
  {
   "cell_type": "code",
   "execution_count": 511,
   "metadata": {},
   "outputs": [
    {
     "data": {
      "text/plain": [
       "2019"
      ]
     },
     "execution_count": 511,
     "metadata": {},
     "output_type": "execute_result"
    }
   ],
   "source": [
    "date.year"
   ]
  },
  {
   "cell_type": "markdown",
   "metadata": {},
   "source": [
    "## Convertir une liste de dates"
   ]
  },
  {
   "cell_type": "code",
   "execution_count": 512,
   "metadata": {},
   "outputs": [
    {
     "data": {
      "text/plain": [
       "DatetimeIndex(['2019-01-25', '2019-01-22', '2019-10-25', '2019-06-25',\n",
       "               '2019-08-25'],\n",
       "              dtype='datetime64[ns]', freq=None)"
      ]
     },
     "execution_count": 512,
     "metadata": {},
     "output_type": "execute_result"
    }
   ],
   "source": [
    "pd.to_datetime([\"2019-01-25\", \"2019-01-22\",\"2019-10-25\",\"2019/06/25\",\"2019-08-25\"])"
   ]
  },
  {
   "cell_type": "markdown",
   "metadata": {},
   "source": [
    "# ATTENTION: AU FORMAT lors de conversion"
   ]
  },
  {
   "cell_type": "code",
   "execution_count": 518,
   "metadata": {},
   "outputs": [
    {
     "data": {
      "text/plain": [
       "10"
      ]
     },
     "execution_count": 518,
     "metadata": {},
     "output_type": "execute_result"
    }
   ],
   "source": [
    "pd.to_datetime(\"01-10-2019\").day"
   ]
  },
  {
   "cell_type": "code",
   "execution_count": 522,
   "metadata": {},
   "outputs": [
    {
     "data": {
      "text/plain": [
       "31"
      ]
     },
     "execution_count": 522,
     "metadata": {},
     "output_type": "execute_result"
    }
   ],
   "source": [
    "pd.to_datetime(\"31-10-2019\").day"
   ]
  },
  {
   "cell_type": "code",
   "execution_count": 528,
   "metadata": {},
   "outputs": [
    {
     "data": {
      "text/plain": [
       "1"
      ]
     },
     "execution_count": 528,
     "metadata": {},
     "output_type": "execute_result"
    }
   ],
   "source": [
    "pd.to_datetime(\"01-10-2019\", format=\"%d-%m-%Y\").day"
   ]
  },
  {
   "cell_type": "code",
   "execution_count": 529,
   "metadata": {},
   "outputs": [],
   "source": [
    "diff = pd.to_datetime(\"01-10-2019\",  format=\"%d-%m-%Y\") - pd.to_datetime(\"31-08-2018\",  format=\"%d-%m-%Y\")"
   ]
  },
  {
   "cell_type": "code",
   "execution_count": 530,
   "metadata": {},
   "outputs": [
    {
     "data": {
      "text/plain": [
       "pandas._libs.tslibs.timedeltas.Timedelta"
      ]
     },
     "execution_count": 530,
     "metadata": {},
     "output_type": "execute_result"
    }
   ],
   "source": [
    "type(diff)"
   ]
  },
  {
   "cell_type": "code",
   "execution_count": 532,
   "metadata": {},
   "outputs": [
    {
     "data": {
      "text/plain": [
       "396"
      ]
     },
     "execution_count": 532,
     "metadata": {},
     "output_type": "execute_result"
    }
   ],
   "source": [
    "diff.days"
   ]
  },
  {
   "cell_type": "code",
   "execution_count": 533,
   "metadata": {},
   "outputs": [
    {
     "data": {
      "text/html": [
       "<div>\n",
       "<style scoped>\n",
       "    .dataframe tbody tr th:only-of-type {\n",
       "        vertical-align: middle;\n",
       "    }\n",
       "\n",
       "    .dataframe tbody tr th {\n",
       "        vertical-align: top;\n",
       "    }\n",
       "\n",
       "    .dataframe thead th {\n",
       "        text-align: right;\n",
       "    }\n",
       "</style>\n",
       "<table border=\"1\" class=\"dataframe\">\n",
       "  <thead>\n",
       "    <tr style=\"text-align: right;\">\n",
       "      <th></th>\n",
       "      <th>date</th>\n",
       "      <th>famille_transport</th>\n",
       "      <th>ligne</th>\n",
       "      <th>incident_en_question</th>\n",
       "    </tr>\n",
       "  </thead>\n",
       "  <tbody>\n",
       "    <tr>\n",
       "      <td>0</td>\n",
       "      <td>2019-01-23</td>\n",
       "      <td>transilien</td>\n",
       "      <td>A</td>\n",
       "      <td>['Défaut de signalisation entre Nation et Aube...</td>\n",
       "    </tr>\n",
       "    <tr>\n",
       "      <td>1</td>\n",
       "      <td>2019-01-23</td>\n",
       "      <td>transilien</td>\n",
       "      <td>B</td>\n",
       "      <td>['Intervention de police à Gare-du-Nord pour u...</td>\n",
       "    </tr>\n",
       "    <tr>\n",
       "      <td>2</td>\n",
       "      <td>2019-01-23</td>\n",
       "      <td>transilien</td>\n",
       "      <td>C</td>\n",
       "      <td>[\"Signal d'alarme à Bibiliothèque-François-Mit...</td>\n",
       "    </tr>\n",
       "    <tr>\n",
       "      <td>3</td>\n",
       "      <td>2019-01-23</td>\n",
       "      <td>transilien</td>\n",
       "      <td>D</td>\n",
       "      <td>['Restitution tardive de travaux de nuit à Com...</td>\n",
       "    </tr>\n",
       "    <tr>\n",
       "      <td>4</td>\n",
       "      <td>2019-01-23</td>\n",
       "      <td>transilien</td>\n",
       "      <td>E</td>\n",
       "      <td>[\"Signaux d'alarme malveillants à Haussamann-S...</td>\n",
       "    </tr>\n",
       "    <tr>\n",
       "      <td>...</td>\n",
       "      <td>...</td>\n",
       "      <td>...</td>\n",
       "      <td>...</td>\n",
       "      <td>...</td>\n",
       "    </tr>\n",
       "    <tr>\n",
       "      <td>3740</td>\n",
       "      <td>2020-03-13</td>\n",
       "      <td>intercites</td>\n",
       "      <td>Nantes-Lyon</td>\n",
       "      <td>[\"Présence d'individus sur le pont-rail du Rhô...</td>\n",
       "    </tr>\n",
       "    <tr>\n",
       "      <td>3741</td>\n",
       "      <td>2020-03-13</td>\n",
       "      <td>intercites</td>\n",
       "      <td>Toulouse-Bayonne</td>\n",
       "      <td>NaN</td>\n",
       "    </tr>\n",
       "    <tr>\n",
       "      <td>3742</td>\n",
       "      <td>2020-03-13</td>\n",
       "      <td>intercites</td>\n",
       "      <td>Clermont-Béziers</td>\n",
       "      <td>NaN</td>\n",
       "    </tr>\n",
       "    <tr>\n",
       "      <td>3743</td>\n",
       "      <td>2020-03-13</td>\n",
       "      <td>intercites</td>\n",
       "      <td>Paris-Toulouse-Latour De Carol/Cerbere/Rodez</td>\n",
       "      <td>NaN</td>\n",
       "    </tr>\n",
       "    <tr>\n",
       "      <td>3744</td>\n",
       "      <td>2020-03-13</td>\n",
       "      <td>intercites</td>\n",
       "      <td>Paris-Briançon</td>\n",
       "      <td>NaN</td>\n",
       "    </tr>\n",
       "  </tbody>\n",
       "</table>\n",
       "<p>3745 rows × 4 columns</p>\n",
       "</div>"
      ],
      "text/plain": [
       "            date famille_transport  \\\n",
       "0     2019-01-23        transilien   \n",
       "1     2019-01-23        transilien   \n",
       "2     2019-01-23        transilien   \n",
       "3     2019-01-23        transilien   \n",
       "4     2019-01-23        transilien   \n",
       "...          ...               ...   \n",
       "3740  2020-03-13        intercites   \n",
       "3741  2020-03-13        intercites   \n",
       "3742  2020-03-13        intercites   \n",
       "3743  2020-03-13        intercites   \n",
       "3744  2020-03-13        intercites   \n",
       "\n",
       "                                             ligne  \\\n",
       "0                                                A   \n",
       "1                                                B   \n",
       "2                                                C   \n",
       "3                                                D   \n",
       "4                                                E   \n",
       "...                                            ...   \n",
       "3740                                   Nantes-Lyon   \n",
       "3741                              Toulouse-Bayonne   \n",
       "3742                              Clermont-Béziers   \n",
       "3743  Paris-Toulouse-Latour De Carol/Cerbere/Rodez   \n",
       "3744                                Paris-Briançon   \n",
       "\n",
       "                                   incident_en_question  \n",
       "0     ['Défaut de signalisation entre Nation et Aube...  \n",
       "1     ['Intervention de police à Gare-du-Nord pour u...  \n",
       "2     [\"Signal d'alarme à Bibiliothèque-François-Mit...  \n",
       "3     ['Restitution tardive de travaux de nuit à Com...  \n",
       "4     [\"Signaux d'alarme malveillants à Haussamann-S...  \n",
       "...                                                 ...  \n",
       "3740  [\"Présence d'individus sur le pont-rail du Rhô...  \n",
       "3741                                                NaN  \n",
       "3742                                                NaN  \n",
       "3743                                                NaN  \n",
       "3744                                                NaN  \n",
       "\n",
       "[3745 rows x 4 columns]"
      ]
     },
     "execution_count": 533,
     "metadata": {},
     "output_type": "execute_result"
    }
   ],
   "source": [
    "df"
   ]
  },
  {
   "cell_type": "code",
   "execution_count": 535,
   "metadata": {},
   "outputs": [
    {
     "data": {
      "text/plain": [
       "date                    object\n",
       "famille_transport       object\n",
       "ligne                   object\n",
       "incident_en_question    object\n",
       "dtype: object"
      ]
     },
     "execution_count": 535,
     "metadata": {},
     "output_type": "execute_result"
    }
   ],
   "source": [
    "df.dtypes"
   ]
  },
  {
   "cell_type": "code",
   "execution_count": 732,
   "metadata": {},
   "outputs": [],
   "source": [
    "df.date = pd.to_datetime(df.date, format=\"%Y-%m-%d\")"
   ]
  },
  {
   "cell_type": "code",
   "execution_count": 733,
   "metadata": {},
   "outputs": [
    {
     "data": {
      "text/plain": [
       "date                 datetime64[ns]\n",
       "famille_transport            object\n",
       "ligne                        object\n",
       "regularite                  float64\n",
       "explication                  object\n",
       "dtype: object"
      ]
     },
     "execution_count": 733,
     "metadata": {},
     "output_type": "execute_result"
    }
   ],
   "source": [
    "df.dtypes"
   ]
  },
  {
   "cell_type": "markdown",
   "metadata": {},
   "source": [
    "# quelques transformations\n",
    "\n"
   ]
  },
  {
   "cell_type": "code",
   "execution_count": 734,
   "metadata": {},
   "outputs": [
    {
     "data": {
      "text/html": [
       "<div>\n",
       "<style scoped>\n",
       "    .dataframe tbody tr th:only-of-type {\n",
       "        vertical-align: middle;\n",
       "    }\n",
       "\n",
       "    .dataframe tbody tr th {\n",
       "        vertical-align: top;\n",
       "    }\n",
       "\n",
       "    .dataframe thead th {\n",
       "        text-align: right;\n",
       "    }\n",
       "</style>\n",
       "<table border=\"1\" class=\"dataframe\">\n",
       "  <thead>\n",
       "    <tr style=\"text-align: right;\">\n",
       "      <th></th>\n",
       "      <th>date</th>\n",
       "      <th>famille_transport</th>\n",
       "      <th>ligne</th>\n",
       "      <th>regularite</th>\n",
       "      <th>explication</th>\n",
       "    </tr>\n",
       "  </thead>\n",
       "  <tbody>\n",
       "    <tr>\n",
       "      <td>0</td>\n",
       "      <td>2019-01-23</td>\n",
       "      <td>transilien</td>\n",
       "      <td>global</td>\n",
       "      <td>84.2</td>\n",
       "      <td>NaN</td>\n",
       "    </tr>\n",
       "    <tr>\n",
       "      <td>1</td>\n",
       "      <td>2019-01-23</td>\n",
       "      <td>transilien</td>\n",
       "      <td>A</td>\n",
       "      <td>82.1</td>\n",
       "      <td>NaN</td>\n",
       "    </tr>\n",
       "    <tr>\n",
       "      <td>2</td>\n",
       "      <td>2019-01-23</td>\n",
       "      <td>transilien</td>\n",
       "      <td>B</td>\n",
       "      <td>88.9</td>\n",
       "      <td>NaN</td>\n",
       "    </tr>\n",
       "    <tr>\n",
       "      <td>3</td>\n",
       "      <td>2019-01-23</td>\n",
       "      <td>transilien</td>\n",
       "      <td>C</td>\n",
       "      <td>84.3</td>\n",
       "      <td>NaN</td>\n",
       "    </tr>\n",
       "    <tr>\n",
       "      <td>4</td>\n",
       "      <td>2019-01-23</td>\n",
       "      <td>transilien</td>\n",
       "      <td>D</td>\n",
       "      <td>74.5</td>\n",
       "      <td>NaN</td>\n",
       "    </tr>\n",
       "    <tr>\n",
       "      <td>...</td>\n",
       "      <td>...</td>\n",
       "      <td>...</td>\n",
       "      <td>...</td>\n",
       "      <td>...</td>\n",
       "      <td>...</td>\n",
       "    </tr>\n",
       "    <tr>\n",
       "      <td>4080</td>\n",
       "      <td>2020-03-13</td>\n",
       "      <td>intercites</td>\n",
       "      <td>Nantes-Lyon</td>\n",
       "      <td>75.0</td>\n",
       "      <td>NaN</td>\n",
       "    </tr>\n",
       "    <tr>\n",
       "      <td>4081</td>\n",
       "      <td>2020-03-13</td>\n",
       "      <td>intercites</td>\n",
       "      <td>Toulouse-Bayonne</td>\n",
       "      <td>87.5</td>\n",
       "      <td>NaN</td>\n",
       "    </tr>\n",
       "    <tr>\n",
       "      <td>4082</td>\n",
       "      <td>2020-03-13</td>\n",
       "      <td>intercites</td>\n",
       "      <td>Clermont-Béziers</td>\n",
       "      <td>100.0</td>\n",
       "      <td>NaN</td>\n",
       "    </tr>\n",
       "    <tr>\n",
       "      <td>4083</td>\n",
       "      <td>2020-03-13</td>\n",
       "      <td>intercites</td>\n",
       "      <td>Paris-Toulouse-Latour De Carol/Cerbere/Rodez</td>\n",
       "      <td>83.3</td>\n",
       "      <td>NaN</td>\n",
       "    </tr>\n",
       "    <tr>\n",
       "      <td>4084</td>\n",
       "      <td>2020-03-13</td>\n",
       "      <td>intercites</td>\n",
       "      <td>Paris-Briançon</td>\n",
       "      <td>100.0</td>\n",
       "      <td>NaN</td>\n",
       "    </tr>\n",
       "  </tbody>\n",
       "</table>\n",
       "<p>4085 rows × 5 columns</p>\n",
       "</div>"
      ],
      "text/plain": [
       "           date famille_transport  \\\n",
       "0    2019-01-23        transilien   \n",
       "1    2019-01-23        transilien   \n",
       "2    2019-01-23        transilien   \n",
       "3    2019-01-23        transilien   \n",
       "4    2019-01-23        transilien   \n",
       "...         ...               ...   \n",
       "4080 2020-03-13        intercites   \n",
       "4081 2020-03-13        intercites   \n",
       "4082 2020-03-13        intercites   \n",
       "4083 2020-03-13        intercites   \n",
       "4084 2020-03-13        intercites   \n",
       "\n",
       "                                             ligne  regularite explication  \n",
       "0                                           global        84.2         NaN  \n",
       "1                                                A        82.1         NaN  \n",
       "2                                                B        88.9         NaN  \n",
       "3                                                C        84.3         NaN  \n",
       "4                                                D        74.5         NaN  \n",
       "...                                            ...         ...         ...  \n",
       "4080                                   Nantes-Lyon        75.0         NaN  \n",
       "4081                              Toulouse-Bayonne        87.5         NaN  \n",
       "4082                              Clermont-Béziers       100.0         NaN  \n",
       "4083  Paris-Toulouse-Latour De Carol/Cerbere/Rodez        83.3         NaN  \n",
       "4084                                Paris-Briançon       100.0         NaN  \n",
       "\n",
       "[4085 rows x 5 columns]"
      ]
     },
     "execution_count": 734,
     "metadata": {},
     "output_type": "execute_result"
    }
   ],
   "source": [
    "df"
   ]
  },
  {
   "cell_type": "code",
   "execution_count": 735,
   "metadata": {},
   "outputs": [],
   "source": [
    "def function(x):\n",
    "    return x**3"
   ]
  },
  {
   "cell_type": "code",
   "execution_count": 736,
   "metadata": {},
   "outputs": [
    {
     "data": {
      "text/plain": [
       "<function __main__.function(x)>"
      ]
     },
     "execution_count": 736,
     "metadata": {},
     "output_type": "execute_result"
    }
   ],
   "source": [
    "function\n"
   ]
  },
  {
   "cell_type": "code",
   "execution_count": 737,
   "metadata": {},
   "outputs": [
    {
     "data": {
      "text/plain": [
       "function"
      ]
     },
     "execution_count": 737,
     "metadata": {},
     "output_type": "execute_result"
    }
   ],
   "source": [
    "type(function)"
   ]
  },
  {
   "cell_type": "code",
   "execution_count": 738,
   "metadata": {},
   "outputs": [],
   "source": [
    "function = lambda x: x**3"
   ]
  },
  {
   "cell_type": "code",
   "execution_count": 739,
   "metadata": {},
   "outputs": [
    {
     "data": {
      "text/plain": [
       "<function __main__.<lambda>(x)>"
      ]
     },
     "execution_count": 739,
     "metadata": {},
     "output_type": "execute_result"
    }
   ],
   "source": [
    "function"
   ]
  },
  {
   "cell_type": "code",
   "execution_count": 740,
   "metadata": {},
   "outputs": [
    {
     "data": {
      "text/plain": [
       "function"
      ]
     },
     "execution_count": 740,
     "metadata": {},
     "output_type": "execute_result"
    }
   ],
   "source": [
    "type(function)"
   ]
  },
  {
   "cell_type": "code",
   "execution_count": 741,
   "metadata": {},
   "outputs": [],
   "source": [
    "df[\"jour\"],df[\"mois\"],  df[\"annee\"] = df.date.apply( lambda x : x.day    ), df.date.apply(lambda x: x.month), df.date.apply(lambda x: x.year)"
   ]
  },
  {
   "cell_type": "code",
   "execution_count": 742,
   "metadata": {},
   "outputs": [],
   "source": [
    "new_cols = df.date.apply(lambda x : pd.Series([x.day, x.month, x.year], index=[\"jour\", \"mois\", \"annee\"]))"
   ]
  },
  {
   "cell_type": "code",
   "execution_count": 743,
   "metadata": {},
   "outputs": [
    {
     "data": {
      "text/html": [
       "<div>\n",
       "<style scoped>\n",
       "    .dataframe tbody tr th:only-of-type {\n",
       "        vertical-align: middle;\n",
       "    }\n",
       "\n",
       "    .dataframe tbody tr th {\n",
       "        vertical-align: top;\n",
       "    }\n",
       "\n",
       "    .dataframe thead th {\n",
       "        text-align: right;\n",
       "    }\n",
       "</style>\n",
       "<table border=\"1\" class=\"dataframe\">\n",
       "  <thead>\n",
       "    <tr style=\"text-align: right;\">\n",
       "      <th></th>\n",
       "      <th>jour</th>\n",
       "      <th>mois</th>\n",
       "      <th>annee</th>\n",
       "    </tr>\n",
       "  </thead>\n",
       "  <tbody>\n",
       "    <tr>\n",
       "      <td>0</td>\n",
       "      <td>23</td>\n",
       "      <td>1</td>\n",
       "      <td>2019</td>\n",
       "    </tr>\n",
       "    <tr>\n",
       "      <td>1</td>\n",
       "      <td>23</td>\n",
       "      <td>1</td>\n",
       "      <td>2019</td>\n",
       "    </tr>\n",
       "    <tr>\n",
       "      <td>2</td>\n",
       "      <td>23</td>\n",
       "      <td>1</td>\n",
       "      <td>2019</td>\n",
       "    </tr>\n",
       "    <tr>\n",
       "      <td>3</td>\n",
       "      <td>23</td>\n",
       "      <td>1</td>\n",
       "      <td>2019</td>\n",
       "    </tr>\n",
       "    <tr>\n",
       "      <td>4</td>\n",
       "      <td>23</td>\n",
       "      <td>1</td>\n",
       "      <td>2019</td>\n",
       "    </tr>\n",
       "    <tr>\n",
       "      <td>...</td>\n",
       "      <td>...</td>\n",
       "      <td>...</td>\n",
       "      <td>...</td>\n",
       "    </tr>\n",
       "    <tr>\n",
       "      <td>4080</td>\n",
       "      <td>13</td>\n",
       "      <td>3</td>\n",
       "      <td>2020</td>\n",
       "    </tr>\n",
       "    <tr>\n",
       "      <td>4081</td>\n",
       "      <td>13</td>\n",
       "      <td>3</td>\n",
       "      <td>2020</td>\n",
       "    </tr>\n",
       "    <tr>\n",
       "      <td>4082</td>\n",
       "      <td>13</td>\n",
       "      <td>3</td>\n",
       "      <td>2020</td>\n",
       "    </tr>\n",
       "    <tr>\n",
       "      <td>4083</td>\n",
       "      <td>13</td>\n",
       "      <td>3</td>\n",
       "      <td>2020</td>\n",
       "    </tr>\n",
       "    <tr>\n",
       "      <td>4084</td>\n",
       "      <td>13</td>\n",
       "      <td>3</td>\n",
       "      <td>2020</td>\n",
       "    </tr>\n",
       "  </tbody>\n",
       "</table>\n",
       "<p>4085 rows × 3 columns</p>\n",
       "</div>"
      ],
      "text/plain": [
       "      jour  mois  annee\n",
       "0       23     1   2019\n",
       "1       23     1   2019\n",
       "2       23     1   2019\n",
       "3       23     1   2019\n",
       "4       23     1   2019\n",
       "...    ...   ...    ...\n",
       "4080    13     3   2020\n",
       "4081    13     3   2020\n",
       "4082    13     3   2020\n",
       "4083    13     3   2020\n",
       "4084    13     3   2020\n",
       "\n",
       "[4085 rows x 3 columns]"
      ]
     },
     "execution_count": 743,
     "metadata": {},
     "output_type": "execute_result"
    }
   ],
   "source": [
    "new_cols"
   ]
  },
  {
   "cell_type": "code",
   "execution_count": 744,
   "metadata": {},
   "outputs": [
    {
     "data": {
      "text/html": [
       "<div>\n",
       "<style scoped>\n",
       "    .dataframe tbody tr th:only-of-type {\n",
       "        vertical-align: middle;\n",
       "    }\n",
       "\n",
       "    .dataframe tbody tr th {\n",
       "        vertical-align: top;\n",
       "    }\n",
       "\n",
       "    .dataframe thead th {\n",
       "        text-align: right;\n",
       "    }\n",
       "</style>\n",
       "<table border=\"1\" class=\"dataframe\">\n",
       "  <thead>\n",
       "    <tr style=\"text-align: right;\">\n",
       "      <th></th>\n",
       "      <th>date</th>\n",
       "      <th>famille_transport</th>\n",
       "      <th>ligne</th>\n",
       "      <th>regularite</th>\n",
       "      <th>explication</th>\n",
       "      <th>jour</th>\n",
       "      <th>mois</th>\n",
       "      <th>annee</th>\n",
       "      <th>jour</th>\n",
       "      <th>mois</th>\n",
       "      <th>annee</th>\n",
       "    </tr>\n",
       "  </thead>\n",
       "  <tbody>\n",
       "    <tr>\n",
       "      <td>0</td>\n",
       "      <td>2019-01-23</td>\n",
       "      <td>transilien</td>\n",
       "      <td>global</td>\n",
       "      <td>84.2</td>\n",
       "      <td>NaN</td>\n",
       "      <td>23</td>\n",
       "      <td>1</td>\n",
       "      <td>2019</td>\n",
       "      <td>23</td>\n",
       "      <td>1</td>\n",
       "      <td>2019</td>\n",
       "    </tr>\n",
       "    <tr>\n",
       "      <td>1</td>\n",
       "      <td>2019-01-23</td>\n",
       "      <td>transilien</td>\n",
       "      <td>A</td>\n",
       "      <td>82.1</td>\n",
       "      <td>NaN</td>\n",
       "      <td>23</td>\n",
       "      <td>1</td>\n",
       "      <td>2019</td>\n",
       "      <td>23</td>\n",
       "      <td>1</td>\n",
       "      <td>2019</td>\n",
       "    </tr>\n",
       "    <tr>\n",
       "      <td>2</td>\n",
       "      <td>2019-01-23</td>\n",
       "      <td>transilien</td>\n",
       "      <td>B</td>\n",
       "      <td>88.9</td>\n",
       "      <td>NaN</td>\n",
       "      <td>23</td>\n",
       "      <td>1</td>\n",
       "      <td>2019</td>\n",
       "      <td>23</td>\n",
       "      <td>1</td>\n",
       "      <td>2019</td>\n",
       "    </tr>\n",
       "    <tr>\n",
       "      <td>3</td>\n",
       "      <td>2019-01-23</td>\n",
       "      <td>transilien</td>\n",
       "      <td>C</td>\n",
       "      <td>84.3</td>\n",
       "      <td>NaN</td>\n",
       "      <td>23</td>\n",
       "      <td>1</td>\n",
       "      <td>2019</td>\n",
       "      <td>23</td>\n",
       "      <td>1</td>\n",
       "      <td>2019</td>\n",
       "    </tr>\n",
       "    <tr>\n",
       "      <td>4</td>\n",
       "      <td>2019-01-23</td>\n",
       "      <td>transilien</td>\n",
       "      <td>D</td>\n",
       "      <td>74.5</td>\n",
       "      <td>NaN</td>\n",
       "      <td>23</td>\n",
       "      <td>1</td>\n",
       "      <td>2019</td>\n",
       "      <td>23</td>\n",
       "      <td>1</td>\n",
       "      <td>2019</td>\n",
       "    </tr>\n",
       "    <tr>\n",
       "      <td>...</td>\n",
       "      <td>...</td>\n",
       "      <td>...</td>\n",
       "      <td>...</td>\n",
       "      <td>...</td>\n",
       "      <td>...</td>\n",
       "      <td>...</td>\n",
       "      <td>...</td>\n",
       "      <td>...</td>\n",
       "      <td>...</td>\n",
       "      <td>...</td>\n",
       "      <td>...</td>\n",
       "    </tr>\n",
       "    <tr>\n",
       "      <td>4080</td>\n",
       "      <td>2020-03-13</td>\n",
       "      <td>intercites</td>\n",
       "      <td>Nantes-Lyon</td>\n",
       "      <td>75.0</td>\n",
       "      <td>NaN</td>\n",
       "      <td>13</td>\n",
       "      <td>3</td>\n",
       "      <td>2020</td>\n",
       "      <td>13</td>\n",
       "      <td>3</td>\n",
       "      <td>2020</td>\n",
       "    </tr>\n",
       "    <tr>\n",
       "      <td>4081</td>\n",
       "      <td>2020-03-13</td>\n",
       "      <td>intercites</td>\n",
       "      <td>Toulouse-Bayonne</td>\n",
       "      <td>87.5</td>\n",
       "      <td>NaN</td>\n",
       "      <td>13</td>\n",
       "      <td>3</td>\n",
       "      <td>2020</td>\n",
       "      <td>13</td>\n",
       "      <td>3</td>\n",
       "      <td>2020</td>\n",
       "    </tr>\n",
       "    <tr>\n",
       "      <td>4082</td>\n",
       "      <td>2020-03-13</td>\n",
       "      <td>intercites</td>\n",
       "      <td>Clermont-Béziers</td>\n",
       "      <td>100.0</td>\n",
       "      <td>NaN</td>\n",
       "      <td>13</td>\n",
       "      <td>3</td>\n",
       "      <td>2020</td>\n",
       "      <td>13</td>\n",
       "      <td>3</td>\n",
       "      <td>2020</td>\n",
       "    </tr>\n",
       "    <tr>\n",
       "      <td>4083</td>\n",
       "      <td>2020-03-13</td>\n",
       "      <td>intercites</td>\n",
       "      <td>Paris-Toulouse-Latour De Carol/Cerbere/Rodez</td>\n",
       "      <td>83.3</td>\n",
       "      <td>NaN</td>\n",
       "      <td>13</td>\n",
       "      <td>3</td>\n",
       "      <td>2020</td>\n",
       "      <td>13</td>\n",
       "      <td>3</td>\n",
       "      <td>2020</td>\n",
       "    </tr>\n",
       "    <tr>\n",
       "      <td>4084</td>\n",
       "      <td>2020-03-13</td>\n",
       "      <td>intercites</td>\n",
       "      <td>Paris-Briançon</td>\n",
       "      <td>100.0</td>\n",
       "      <td>NaN</td>\n",
       "      <td>13</td>\n",
       "      <td>3</td>\n",
       "      <td>2020</td>\n",
       "      <td>13</td>\n",
       "      <td>3</td>\n",
       "      <td>2020</td>\n",
       "    </tr>\n",
       "  </tbody>\n",
       "</table>\n",
       "<p>4085 rows × 11 columns</p>\n",
       "</div>"
      ],
      "text/plain": [
       "           date famille_transport  \\\n",
       "0    2019-01-23        transilien   \n",
       "1    2019-01-23        transilien   \n",
       "2    2019-01-23        transilien   \n",
       "3    2019-01-23        transilien   \n",
       "4    2019-01-23        transilien   \n",
       "...         ...               ...   \n",
       "4080 2020-03-13        intercites   \n",
       "4081 2020-03-13        intercites   \n",
       "4082 2020-03-13        intercites   \n",
       "4083 2020-03-13        intercites   \n",
       "4084 2020-03-13        intercites   \n",
       "\n",
       "                                             ligne  regularite explication  \\\n",
       "0                                           global        84.2         NaN   \n",
       "1                                                A        82.1         NaN   \n",
       "2                                                B        88.9         NaN   \n",
       "3                                                C        84.3         NaN   \n",
       "4                                                D        74.5         NaN   \n",
       "...                                            ...         ...         ...   \n",
       "4080                                   Nantes-Lyon        75.0         NaN   \n",
       "4081                              Toulouse-Bayonne        87.5         NaN   \n",
       "4082                              Clermont-Béziers       100.0         NaN   \n",
       "4083  Paris-Toulouse-Latour De Carol/Cerbere/Rodez        83.3         NaN   \n",
       "4084                                Paris-Briançon       100.0         NaN   \n",
       "\n",
       "      jour  mois  annee  jour  mois  annee  \n",
       "0       23     1   2019    23     1   2019  \n",
       "1       23     1   2019    23     1   2019  \n",
       "2       23     1   2019    23     1   2019  \n",
       "3       23     1   2019    23     1   2019  \n",
       "4       23     1   2019    23     1   2019  \n",
       "...    ...   ...    ...   ...   ...    ...  \n",
       "4080    13     3   2020    13     3   2020  \n",
       "4081    13     3   2020    13     3   2020  \n",
       "4082    13     3   2020    13     3   2020  \n",
       "4083    13     3   2020    13     3   2020  \n",
       "4084    13     3   2020    13     3   2020  \n",
       "\n",
       "[4085 rows x 11 columns]"
      ]
     },
     "execution_count": 744,
     "metadata": {},
     "output_type": "execute_result"
    }
   ],
   "source": [
    "pd.concat([df, new_cols], axis=1)"
   ]
  },
  {
   "cell_type": "markdown",
   "metadata": {},
   "source": [
    "# en revoyant les strings, quelques méthodes sympas"
   ]
  },
  {
   "cell_type": "code",
   "execution_count": 559,
   "metadata": {},
   "outputs": [],
   "source": [
    "chaine = \"test\""
   ]
  },
  {
   "cell_type": "code",
   "execution_count": 562,
   "metadata": {},
   "outputs": [
    {
     "data": {
      "text/plain": [
       "True"
      ]
     },
     "execution_count": 562,
     "metadata": {},
     "output_type": "execute_result"
    }
   ],
   "source": [
    "chaine.startswith(\"te\")"
   ]
  },
  {
   "cell_type": "code",
   "execution_count": 564,
   "metadata": {},
   "outputs": [],
   "source": [
    "mask = df.famille_transport.str.startswith(\"t\")"
   ]
  },
  {
   "cell_type": "code",
   "execution_count": 565,
   "metadata": {},
   "outputs": [
    {
     "data": {
      "text/html": [
       "<div>\n",
       "<style scoped>\n",
       "    .dataframe tbody tr th:only-of-type {\n",
       "        vertical-align: middle;\n",
       "    }\n",
       "\n",
       "    .dataframe tbody tr th {\n",
       "        vertical-align: top;\n",
       "    }\n",
       "\n",
       "    .dataframe thead th {\n",
       "        text-align: right;\n",
       "    }\n",
       "</style>\n",
       "<table border=\"1\" class=\"dataframe\">\n",
       "  <thead>\n",
       "    <tr style=\"text-align: right;\">\n",
       "      <th></th>\n",
       "      <th>date</th>\n",
       "      <th>famille_transport</th>\n",
       "      <th>ligne</th>\n",
       "      <th>incident_en_question</th>\n",
       "      <th>annee</th>\n",
       "      <th>mois</th>\n",
       "      <th>jour</th>\n",
       "    </tr>\n",
       "  </thead>\n",
       "  <tbody>\n",
       "    <tr>\n",
       "      <td>0</td>\n",
       "      <td>2019-01-23</td>\n",
       "      <td>transilien</td>\n",
       "      <td>A</td>\n",
       "      <td>['Défaut de signalisation entre Nation et Aube...</td>\n",
       "      <td>23</td>\n",
       "      <td>1</td>\n",
       "      <td>2019</td>\n",
       "    </tr>\n",
       "    <tr>\n",
       "      <td>1</td>\n",
       "      <td>2019-01-23</td>\n",
       "      <td>transilien</td>\n",
       "      <td>B</td>\n",
       "      <td>['Intervention de police à Gare-du-Nord pour u...</td>\n",
       "      <td>23</td>\n",
       "      <td>1</td>\n",
       "      <td>2019</td>\n",
       "    </tr>\n",
       "    <tr>\n",
       "      <td>2</td>\n",
       "      <td>2019-01-23</td>\n",
       "      <td>transilien</td>\n",
       "      <td>C</td>\n",
       "      <td>[\"Signal d'alarme à Bibiliothèque-François-Mit...</td>\n",
       "      <td>23</td>\n",
       "      <td>1</td>\n",
       "      <td>2019</td>\n",
       "    </tr>\n",
       "    <tr>\n",
       "      <td>3</td>\n",
       "      <td>2019-01-23</td>\n",
       "      <td>transilien</td>\n",
       "      <td>D</td>\n",
       "      <td>['Restitution tardive de travaux de nuit à Com...</td>\n",
       "      <td>23</td>\n",
       "      <td>1</td>\n",
       "      <td>2019</td>\n",
       "    </tr>\n",
       "    <tr>\n",
       "      <td>4</td>\n",
       "      <td>2019-01-23</td>\n",
       "      <td>transilien</td>\n",
       "      <td>E</td>\n",
       "      <td>[\"Signaux d'alarme malveillants à Haussamann-S...</td>\n",
       "      <td>23</td>\n",
       "      <td>1</td>\n",
       "      <td>2019</td>\n",
       "    </tr>\n",
       "    <tr>\n",
       "      <td>...</td>\n",
       "      <td>...</td>\n",
       "      <td>...</td>\n",
       "      <td>...</td>\n",
       "      <td>...</td>\n",
       "      <td>...</td>\n",
       "      <td>...</td>\n",
       "      <td>...</td>\n",
       "    </tr>\n",
       "    <tr>\n",
       "      <td>3731</td>\n",
       "      <td>2020-03-13</td>\n",
       "      <td>tgv</td>\n",
       "      <td>est</td>\n",
       "      <td>['Dérangement de signalisation à Morhange (4 T...</td>\n",
       "      <td>13</td>\n",
       "      <td>3</td>\n",
       "      <td>2020</td>\n",
       "    </tr>\n",
       "    <tr>\n",
       "      <td>3732</td>\n",
       "      <td>2020-03-13</td>\n",
       "      <td>tgv</td>\n",
       "      <td>atlantique</td>\n",
       "      <td>['Personne dans les voies à Wissous (7 TGV ret...</td>\n",
       "      <td>13</td>\n",
       "      <td>3</td>\n",
       "      <td>2020</td>\n",
       "    </tr>\n",
       "    <tr>\n",
       "      <td>3733</td>\n",
       "      <td>2020-03-13</td>\n",
       "      <td>tgv</td>\n",
       "      <td>sudest</td>\n",
       "      <td>NaN</td>\n",
       "      <td>13</td>\n",
       "      <td>3</td>\n",
       "      <td>2020</td>\n",
       "    </tr>\n",
       "    <tr>\n",
       "      <td>3734</td>\n",
       "      <td>2020-03-13</td>\n",
       "      <td>tgv</td>\n",
       "      <td>ouigo</td>\n",
       "      <td>NaN</td>\n",
       "      <td>13</td>\n",
       "      <td>3</td>\n",
       "      <td>2020</td>\n",
       "    </tr>\n",
       "    <tr>\n",
       "      <td>3735</td>\n",
       "      <td>2020-03-13</td>\n",
       "      <td>tgv</td>\n",
       "      <td>europe</td>\n",
       "      <td>[\"Dérangement des installations de signalisati...</td>\n",
       "      <td>13</td>\n",
       "      <td>3</td>\n",
       "      <td>2020</td>\n",
       "    </tr>\n",
       "  </tbody>\n",
       "</table>\n",
       "<p>2720 rows × 7 columns</p>\n",
       "</div>"
      ],
      "text/plain": [
       "           date famille_transport       ligne  \\\n",
       "0    2019-01-23        transilien           A   \n",
       "1    2019-01-23        transilien           B   \n",
       "2    2019-01-23        transilien           C   \n",
       "3    2019-01-23        transilien           D   \n",
       "4    2019-01-23        transilien           E   \n",
       "...         ...               ...         ...   \n",
       "3731 2020-03-13               tgv         est   \n",
       "3732 2020-03-13               tgv  atlantique   \n",
       "3733 2020-03-13               tgv      sudest   \n",
       "3734 2020-03-13               tgv       ouigo   \n",
       "3735 2020-03-13               tgv      europe   \n",
       "\n",
       "                                   incident_en_question  annee  mois  jour  \n",
       "0     ['Défaut de signalisation entre Nation et Aube...     23     1  2019  \n",
       "1     ['Intervention de police à Gare-du-Nord pour u...     23     1  2019  \n",
       "2     [\"Signal d'alarme à Bibiliothèque-François-Mit...     23     1  2019  \n",
       "3     ['Restitution tardive de travaux de nuit à Com...     23     1  2019  \n",
       "4     [\"Signaux d'alarme malveillants à Haussamann-S...     23     1  2019  \n",
       "...                                                 ...    ...   ...   ...  \n",
       "3731  ['Dérangement de signalisation à Morhange (4 T...     13     3  2020  \n",
       "3732  ['Personne dans les voies à Wissous (7 TGV ret...     13     3  2020  \n",
       "3733                                                NaN     13     3  2020  \n",
       "3734                                                NaN     13     3  2020  \n",
       "3735  [\"Dérangement des installations de signalisati...     13     3  2020  \n",
       "\n",
       "[2720 rows x 7 columns]"
      ]
     },
     "execution_count": 565,
     "metadata": {},
     "output_type": "execute_result"
    }
   ],
   "source": [
    "df[mask]"
   ]
  },
  {
   "cell_type": "code",
   "execution_count": 566,
   "metadata": {},
   "outputs": [
    {
     "data": {
      "text/plain": [
       "'aesa'"
      ]
     },
     "execution_count": 566,
     "metadata": {},
     "output_type": "execute_result"
    }
   ],
   "source": [
    "chaine.replace(\"t\",\"a\")"
   ]
  },
  {
   "cell_type": "code",
   "execution_count": 568,
   "metadata": {},
   "outputs": [
    {
     "data": {
      "text/plain": [
       "0       pransilien\n",
       "1       pransilien\n",
       "2       pransilien\n",
       "3       pransilien\n",
       "4       pransilien\n",
       "           ...    \n",
       "3740    inpercipes\n",
       "3741    inpercipes\n",
       "3742    inpercipes\n",
       "3743    inpercipes\n",
       "3744    inpercipes\n",
       "Name: famille_transport, Length: 3745, dtype: object"
      ]
     },
     "execution_count": 568,
     "metadata": {},
     "output_type": "execute_result"
    }
   ],
   "source": [
    "df.famille_transport.str.replace(\"t\", \"p\")"
   ]
  },
  {
   "cell_type": "markdown",
   "metadata": {},
   "source": [
    "changer en majuscule"
   ]
  },
  {
   "cell_type": "code",
   "execution_count": 571,
   "metadata": {},
   "outputs": [],
   "source": [
    "df.famille_transport = df.famille_transport.str.upper()"
   ]
  },
  {
   "cell_type": "code",
   "execution_count": 572,
   "metadata": {},
   "outputs": [
    {
     "data": {
      "text/html": [
       "<div>\n",
       "<style scoped>\n",
       "    .dataframe tbody tr th:only-of-type {\n",
       "        vertical-align: middle;\n",
       "    }\n",
       "\n",
       "    .dataframe tbody tr th {\n",
       "        vertical-align: top;\n",
       "    }\n",
       "\n",
       "    .dataframe thead th {\n",
       "        text-align: right;\n",
       "    }\n",
       "</style>\n",
       "<table border=\"1\" class=\"dataframe\">\n",
       "  <thead>\n",
       "    <tr style=\"text-align: right;\">\n",
       "      <th></th>\n",
       "      <th>date</th>\n",
       "      <th>famille_transport</th>\n",
       "      <th>ligne</th>\n",
       "      <th>incident_en_question</th>\n",
       "      <th>annee</th>\n",
       "      <th>mois</th>\n",
       "      <th>jour</th>\n",
       "    </tr>\n",
       "  </thead>\n",
       "  <tbody>\n",
       "    <tr>\n",
       "      <td>0</td>\n",
       "      <td>2019-01-23</td>\n",
       "      <td>TRANSILIEN</td>\n",
       "      <td>A</td>\n",
       "      <td>['Défaut de signalisation entre Nation et Aube...</td>\n",
       "      <td>23</td>\n",
       "      <td>1</td>\n",
       "      <td>2019</td>\n",
       "    </tr>\n",
       "    <tr>\n",
       "      <td>1</td>\n",
       "      <td>2019-01-23</td>\n",
       "      <td>TRANSILIEN</td>\n",
       "      <td>B</td>\n",
       "      <td>['Intervention de police à Gare-du-Nord pour u...</td>\n",
       "      <td>23</td>\n",
       "      <td>1</td>\n",
       "      <td>2019</td>\n",
       "    </tr>\n",
       "    <tr>\n",
       "      <td>2</td>\n",
       "      <td>2019-01-23</td>\n",
       "      <td>TRANSILIEN</td>\n",
       "      <td>C</td>\n",
       "      <td>[\"Signal d'alarme à Bibiliothèque-François-Mit...</td>\n",
       "      <td>23</td>\n",
       "      <td>1</td>\n",
       "      <td>2019</td>\n",
       "    </tr>\n",
       "    <tr>\n",
       "      <td>3</td>\n",
       "      <td>2019-01-23</td>\n",
       "      <td>TRANSILIEN</td>\n",
       "      <td>D</td>\n",
       "      <td>['Restitution tardive de travaux de nuit à Com...</td>\n",
       "      <td>23</td>\n",
       "      <td>1</td>\n",
       "      <td>2019</td>\n",
       "    </tr>\n",
       "    <tr>\n",
       "      <td>4</td>\n",
       "      <td>2019-01-23</td>\n",
       "      <td>TRANSILIEN</td>\n",
       "      <td>E</td>\n",
       "      <td>[\"Signaux d'alarme malveillants à Haussamann-S...</td>\n",
       "      <td>23</td>\n",
       "      <td>1</td>\n",
       "      <td>2019</td>\n",
       "    </tr>\n",
       "    <tr>\n",
       "      <td>...</td>\n",
       "      <td>...</td>\n",
       "      <td>...</td>\n",
       "      <td>...</td>\n",
       "      <td>...</td>\n",
       "      <td>...</td>\n",
       "      <td>...</td>\n",
       "      <td>...</td>\n",
       "    </tr>\n",
       "    <tr>\n",
       "      <td>3740</td>\n",
       "      <td>2020-03-13</td>\n",
       "      <td>INTERCITES</td>\n",
       "      <td>Nantes-Lyon</td>\n",
       "      <td>[\"Présence d'individus sur le pont-rail du Rhô...</td>\n",
       "      <td>13</td>\n",
       "      <td>3</td>\n",
       "      <td>2020</td>\n",
       "    </tr>\n",
       "    <tr>\n",
       "      <td>3741</td>\n",
       "      <td>2020-03-13</td>\n",
       "      <td>INTERCITES</td>\n",
       "      <td>Toulouse-Bayonne</td>\n",
       "      <td>NaN</td>\n",
       "      <td>13</td>\n",
       "      <td>3</td>\n",
       "      <td>2020</td>\n",
       "    </tr>\n",
       "    <tr>\n",
       "      <td>3742</td>\n",
       "      <td>2020-03-13</td>\n",
       "      <td>INTERCITES</td>\n",
       "      <td>Clermont-Béziers</td>\n",
       "      <td>NaN</td>\n",
       "      <td>13</td>\n",
       "      <td>3</td>\n",
       "      <td>2020</td>\n",
       "    </tr>\n",
       "    <tr>\n",
       "      <td>3743</td>\n",
       "      <td>2020-03-13</td>\n",
       "      <td>INTERCITES</td>\n",
       "      <td>Paris-Toulouse-Latour De Carol/Cerbere/Rodez</td>\n",
       "      <td>NaN</td>\n",
       "      <td>13</td>\n",
       "      <td>3</td>\n",
       "      <td>2020</td>\n",
       "    </tr>\n",
       "    <tr>\n",
       "      <td>3744</td>\n",
       "      <td>2020-03-13</td>\n",
       "      <td>INTERCITES</td>\n",
       "      <td>Paris-Briançon</td>\n",
       "      <td>NaN</td>\n",
       "      <td>13</td>\n",
       "      <td>3</td>\n",
       "      <td>2020</td>\n",
       "    </tr>\n",
       "  </tbody>\n",
       "</table>\n",
       "<p>3745 rows × 7 columns</p>\n",
       "</div>"
      ],
      "text/plain": [
       "           date famille_transport  \\\n",
       "0    2019-01-23        TRANSILIEN   \n",
       "1    2019-01-23        TRANSILIEN   \n",
       "2    2019-01-23        TRANSILIEN   \n",
       "3    2019-01-23        TRANSILIEN   \n",
       "4    2019-01-23        TRANSILIEN   \n",
       "...         ...               ...   \n",
       "3740 2020-03-13        INTERCITES   \n",
       "3741 2020-03-13        INTERCITES   \n",
       "3742 2020-03-13        INTERCITES   \n",
       "3743 2020-03-13        INTERCITES   \n",
       "3744 2020-03-13        INTERCITES   \n",
       "\n",
       "                                             ligne  \\\n",
       "0                                                A   \n",
       "1                                                B   \n",
       "2                                                C   \n",
       "3                                                D   \n",
       "4                                                E   \n",
       "...                                            ...   \n",
       "3740                                   Nantes-Lyon   \n",
       "3741                              Toulouse-Bayonne   \n",
       "3742                              Clermont-Béziers   \n",
       "3743  Paris-Toulouse-Latour De Carol/Cerbere/Rodez   \n",
       "3744                                Paris-Briançon   \n",
       "\n",
       "                                   incident_en_question  annee  mois  jour  \n",
       "0     ['Défaut de signalisation entre Nation et Aube...     23     1  2019  \n",
       "1     ['Intervention de police à Gare-du-Nord pour u...     23     1  2019  \n",
       "2     [\"Signal d'alarme à Bibiliothèque-François-Mit...     23     1  2019  \n",
       "3     ['Restitution tardive de travaux de nuit à Com...     23     1  2019  \n",
       "4     [\"Signaux d'alarme malveillants à Haussamann-S...     23     1  2019  \n",
       "...                                                 ...    ...   ...   ...  \n",
       "3740  [\"Présence d'individus sur le pont-rail du Rhô...     13     3  2020  \n",
       "3741                                                NaN     13     3  2020  \n",
       "3742                                                NaN     13     3  2020  \n",
       "3743                                                NaN     13     3  2020  \n",
       "3744                                                NaN     13     3  2020  \n",
       "\n",
       "[3745 rows x 7 columns]"
      ]
     },
     "execution_count": 572,
     "metadata": {},
     "output_type": "execute_result"
    }
   ],
   "source": [
    "df"
   ]
  },
  {
   "cell_type": "code",
   "execution_count": 588,
   "metadata": {},
   "outputs": [],
   "source": [
    "chaine = \"   et bonjour et voila.  e\""
   ]
  },
  {
   "cell_type": "code",
   "execution_count": 589,
   "metadata": {},
   "outputs": [
    {
     "data": {
      "text/plain": [
       "'etbonjouretvoila.e'"
      ]
     },
     "execution_count": 589,
     "metadata": {},
     "output_type": "execute_result"
    }
   ],
   "source": [
    "chaine.replace( \" \", \"\")"
   ]
  },
  {
   "cell_type": "markdown",
   "metadata": {},
   "source": [
    "## strip    "
   ]
  },
  {
   "cell_type": "markdown",
   "metadata": {},
   "source": [
    "lstrip / rstrip"
   ]
  },
  {
   "cell_type": "code",
   "execution_count": 590,
   "metadata": {},
   "outputs": [
    {
     "data": {
      "text/plain": [
       "'et bonjour et voila.  e'"
      ]
     },
     "execution_count": 590,
     "metadata": {},
     "output_type": "execute_result"
    }
   ],
   "source": [
    "chaine.strip() \n",
    "# quelque soit l'ordre à l'intérieur, enleve de part et d'autre du string initial,\n",
    "# tout character mentionné en parametre (si pas de mention, c'est l'espace)"
   ]
  },
  {
   "cell_type": "code",
   "execution_count": 593,
   "metadata": {},
   "outputs": [
    {
     "data": {
      "text/plain": [
       "'   et bonjour et voila.'"
      ]
     },
     "execution_count": 593,
     "metadata": {},
     "output_type": "execute_result"
    }
   ],
   "source": [
    "chaine.rstrip(\"e \") # right"
   ]
  },
  {
   "cell_type": "code",
   "execution_count": 596,
   "metadata": {
    "scrolled": true
   },
   "outputs": [
    {
     "data": {
      "text/plain": [
       "'t bonjour et voila.  e'"
      ]
     },
     "execution_count": 596,
     "metadata": {},
     "output_type": "execute_result"
    }
   ],
   "source": [
    "chaine.lstrip(\"e \") # left"
   ]
  },
  {
   "cell_type": "markdown",
   "metadata": {},
   "source": [
    "## split "
   ]
  },
  {
   "cell_type": "code",
   "execution_count": 597,
   "metadata": {},
   "outputs": [
    {
     "data": {
      "text/plain": [
       "'   et bonjour et voila.  e'"
      ]
     },
     "execution_count": 597,
     "metadata": {},
     "output_type": "execute_result"
    }
   ],
   "source": [
    "chaine"
   ]
  },
  {
   "cell_type": "code",
   "execution_count": 600,
   "metadata": {},
   "outputs": [
    {
     "data": {
      "text/plain": [
       "['', '', '', 'et', 'bonjour', 'et', 'voila.', '', 'e']"
      ]
     },
     "execution_count": 600,
     "metadata": {},
     "output_type": "execute_result"
    }
   ],
   "source": [
    "chaine.split(\" \")"
   ]
  },
  {
   "cell_type": "code",
   "execution_count": 611,
   "metadata": {},
   "outputs": [],
   "source": [
    "chaine = \"2017-08-09\""
   ]
  },
  {
   "cell_type": "code",
   "execution_count": 616,
   "metadata": {},
   "outputs": [
    {
     "data": {
      "text/plain": [
       "['2017', '08', '09']"
      ]
     },
     "execution_count": 616,
     "metadata": {},
     "output_type": "execute_result"
    }
   ],
   "source": [
    "liste = chaine.split(\"-\")\n",
    "liste"
   ]
  },
  {
   "cell_type": "markdown",
   "metadata": {},
   "source": [
    "## join"
   ]
  },
  {
   "cell_type": "code",
   "execution_count": 621,
   "metadata": {},
   "outputs": [
    {
     "data": {
      "text/plain": [
       "'23 bonjour'"
      ]
     },
     "execution_count": 621,
     "metadata": {},
     "output_type": "execute_result"
    }
   ],
   "source": [
    "\" \".join([\"23\",\"bonjour\"])"
   ]
  },
  {
   "cell_type": "code",
   "execution_count": 623,
   "metadata": {},
   "outputs": [
    {
     "data": {
      "text/plain": [
       "['23', 'bonjour']"
      ]
     },
     "execution_count": 623,
     "metadata": {},
     "output_type": "execute_result"
    }
   ],
   "source": [
    "'23 bonjour'.split(' ')"
   ]
  },
  {
   "cell_type": "code",
   "execution_count": 635,
   "metadata": {},
   "outputs": [
    {
     "data": {
      "text/plain": [
       "0       [TRANS, L, EN]\n",
       "1       [TRANS, L, EN]\n",
       "2       [TRANS, L, EN]\n",
       "3       [TRANS, L, EN]\n",
       "4       [TRANS, L, EN]\n",
       "             ...      \n",
       "3740    [, NTERC, TES]\n",
       "3741    [, NTERC, TES]\n",
       "3742    [, NTERC, TES]\n",
       "3743    [, NTERC, TES]\n",
       "3744    [, NTERC, TES]\n",
       "Name: famille_transport, Length: 3745, dtype: object"
      ]
     },
     "execution_count": 635,
     "metadata": {},
     "output_type": "execute_result"
    }
   ],
   "source": [
    "df.famille_transport.str.split(\"I\")"
   ]
  },
  {
   "cell_type": "code",
   "execution_count": 629,
   "metadata": {},
   "outputs": [
    {
     "data": {
      "text/plain": [
       "0       TRANSILIEN\n",
       "1       TRANSILIEN\n",
       "2       TRANSILIEN\n",
       "3       TRANSILIEN\n",
       "4       TRANSILIEN\n",
       "           ...    \n",
       "3740    INTERCITES\n",
       "3741    INTERCITES\n",
       "3742    INTERCITES\n",
       "3743    INTERCITES\n",
       "3744    INTERCITES\n",
       "Name: famille_transport, Length: 3745, dtype: object"
      ]
     },
     "execution_count": 629,
     "metadata": {},
     "output_type": "execute_result"
    }
   ],
   "source": [
    "df.famille_transport"
   ]
  },
  {
   "cell_type": "code",
   "execution_count": 634,
   "metadata": {},
   "outputs": [
    {
     "data": {
      "text/plain": [
       "0       [TRANS, L, EN]\n",
       "1       [TRANS, L, EN]\n",
       "2       [TRANS, L, EN]\n",
       "3       [TRANS, L, EN]\n",
       "4       [TRANS, L, EN]\n",
       "             ...      \n",
       "3740    [, NTERC, TES]\n",
       "3741    [, NTERC, TES]\n",
       "3742    [, NTERC, TES]\n",
       "3743    [, NTERC, TES]\n",
       "3744    [, NTERC, TES]\n",
       "Name: famille_transport, Length: 3745, dtype: object"
      ]
     },
     "execution_count": 634,
     "metadata": {},
     "output_type": "execute_result"
    }
   ],
   "source": [
    "df.famille_transport.apply(lambda x: x.split(\"I\"))"
   ]
  },
  {
   "cell_type": "markdown",
   "metadata": {},
   "source": [
    "# jointures "
   ]
  },
  {
   "cell_type": "code",
   "execution_count": 638,
   "metadata": {},
   "outputs": [],
   "source": [
    "df2 = pd.read_csv(\"./regularite.csv\")"
   ]
  },
  {
   "cell_type": "code",
   "execution_count": 639,
   "metadata": {},
   "outputs": [
    {
     "data": {
      "text/html": [
       "<div>\n",
       "<style scoped>\n",
       "    .dataframe tbody tr th:only-of-type {\n",
       "        vertical-align: middle;\n",
       "    }\n",
       "\n",
       "    .dataframe tbody tr th {\n",
       "        vertical-align: top;\n",
       "    }\n",
       "\n",
       "    .dataframe thead th {\n",
       "        text-align: right;\n",
       "    }\n",
       "</style>\n",
       "<table border=\"1\" class=\"dataframe\">\n",
       "  <thead>\n",
       "    <tr style=\"text-align: right;\">\n",
       "      <th></th>\n",
       "      <th>date</th>\n",
       "      <th>famille_transport</th>\n",
       "      <th>ligne</th>\n",
       "      <th>incident_en_question</th>\n",
       "      <th>annee</th>\n",
       "      <th>mois</th>\n",
       "      <th>jour</th>\n",
       "    </tr>\n",
       "  </thead>\n",
       "  <tbody>\n",
       "    <tr>\n",
       "      <td>0</td>\n",
       "      <td>2019-01-23</td>\n",
       "      <td>TRANSILIEN</td>\n",
       "      <td>A</td>\n",
       "      <td>['Défaut de signalisation entre Nation et Aube...</td>\n",
       "      <td>23</td>\n",
       "      <td>1</td>\n",
       "      <td>2019</td>\n",
       "    </tr>\n",
       "    <tr>\n",
       "      <td>1</td>\n",
       "      <td>2019-01-23</td>\n",
       "      <td>TRANSILIEN</td>\n",
       "      <td>B</td>\n",
       "      <td>['Intervention de police à Gare-du-Nord pour u...</td>\n",
       "      <td>23</td>\n",
       "      <td>1</td>\n",
       "      <td>2019</td>\n",
       "    </tr>\n",
       "    <tr>\n",
       "      <td>2</td>\n",
       "      <td>2019-01-23</td>\n",
       "      <td>TRANSILIEN</td>\n",
       "      <td>C</td>\n",
       "      <td>[\"Signal d'alarme à Bibiliothèque-François-Mit...</td>\n",
       "      <td>23</td>\n",
       "      <td>1</td>\n",
       "      <td>2019</td>\n",
       "    </tr>\n",
       "    <tr>\n",
       "      <td>3</td>\n",
       "      <td>2019-01-23</td>\n",
       "      <td>TRANSILIEN</td>\n",
       "      <td>D</td>\n",
       "      <td>['Restitution tardive de travaux de nuit à Com...</td>\n",
       "      <td>23</td>\n",
       "      <td>1</td>\n",
       "      <td>2019</td>\n",
       "    </tr>\n",
       "    <tr>\n",
       "      <td>4</td>\n",
       "      <td>2019-01-23</td>\n",
       "      <td>TRANSILIEN</td>\n",
       "      <td>E</td>\n",
       "      <td>[\"Signaux d'alarme malveillants à Haussamann-S...</td>\n",
       "      <td>23</td>\n",
       "      <td>1</td>\n",
       "      <td>2019</td>\n",
       "    </tr>\n",
       "    <tr>\n",
       "      <td>...</td>\n",
       "      <td>...</td>\n",
       "      <td>...</td>\n",
       "      <td>...</td>\n",
       "      <td>...</td>\n",
       "      <td>...</td>\n",
       "      <td>...</td>\n",
       "      <td>...</td>\n",
       "    </tr>\n",
       "    <tr>\n",
       "      <td>3740</td>\n",
       "      <td>2020-03-13</td>\n",
       "      <td>INTERCITES</td>\n",
       "      <td>Nantes-Lyon</td>\n",
       "      <td>[\"Présence d'individus sur le pont-rail du Rhô...</td>\n",
       "      <td>13</td>\n",
       "      <td>3</td>\n",
       "      <td>2020</td>\n",
       "    </tr>\n",
       "    <tr>\n",
       "      <td>3741</td>\n",
       "      <td>2020-03-13</td>\n",
       "      <td>INTERCITES</td>\n",
       "      <td>Toulouse-Bayonne</td>\n",
       "      <td>NaN</td>\n",
       "      <td>13</td>\n",
       "      <td>3</td>\n",
       "      <td>2020</td>\n",
       "    </tr>\n",
       "    <tr>\n",
       "      <td>3742</td>\n",
       "      <td>2020-03-13</td>\n",
       "      <td>INTERCITES</td>\n",
       "      <td>Clermont-Béziers</td>\n",
       "      <td>NaN</td>\n",
       "      <td>13</td>\n",
       "      <td>3</td>\n",
       "      <td>2020</td>\n",
       "    </tr>\n",
       "    <tr>\n",
       "      <td>3743</td>\n",
       "      <td>2020-03-13</td>\n",
       "      <td>INTERCITES</td>\n",
       "      <td>Paris-Toulouse-Latour De Carol/Cerbere/Rodez</td>\n",
       "      <td>NaN</td>\n",
       "      <td>13</td>\n",
       "      <td>3</td>\n",
       "      <td>2020</td>\n",
       "    </tr>\n",
       "    <tr>\n",
       "      <td>3744</td>\n",
       "      <td>2020-03-13</td>\n",
       "      <td>INTERCITES</td>\n",
       "      <td>Paris-Briançon</td>\n",
       "      <td>NaN</td>\n",
       "      <td>13</td>\n",
       "      <td>3</td>\n",
       "      <td>2020</td>\n",
       "    </tr>\n",
       "  </tbody>\n",
       "</table>\n",
       "<p>3745 rows × 7 columns</p>\n",
       "</div>"
      ],
      "text/plain": [
       "           date famille_transport  \\\n",
       "0    2019-01-23        TRANSILIEN   \n",
       "1    2019-01-23        TRANSILIEN   \n",
       "2    2019-01-23        TRANSILIEN   \n",
       "3    2019-01-23        TRANSILIEN   \n",
       "4    2019-01-23        TRANSILIEN   \n",
       "...         ...               ...   \n",
       "3740 2020-03-13        INTERCITES   \n",
       "3741 2020-03-13        INTERCITES   \n",
       "3742 2020-03-13        INTERCITES   \n",
       "3743 2020-03-13        INTERCITES   \n",
       "3744 2020-03-13        INTERCITES   \n",
       "\n",
       "                                             ligne  \\\n",
       "0                                                A   \n",
       "1                                                B   \n",
       "2                                                C   \n",
       "3                                                D   \n",
       "4                                                E   \n",
       "...                                            ...   \n",
       "3740                                   Nantes-Lyon   \n",
       "3741                              Toulouse-Bayonne   \n",
       "3742                              Clermont-Béziers   \n",
       "3743  Paris-Toulouse-Latour De Carol/Cerbere/Rodez   \n",
       "3744                                Paris-Briançon   \n",
       "\n",
       "                                   incident_en_question  annee  mois  jour  \n",
       "0     ['Défaut de signalisation entre Nation et Aube...     23     1  2019  \n",
       "1     ['Intervention de police à Gare-du-Nord pour u...     23     1  2019  \n",
       "2     [\"Signal d'alarme à Bibiliothèque-François-Mit...     23     1  2019  \n",
       "3     ['Restitution tardive de travaux de nuit à Com...     23     1  2019  \n",
       "4     [\"Signaux d'alarme malveillants à Haussamann-S...     23     1  2019  \n",
       "...                                                 ...    ...   ...   ...  \n",
       "3740  [\"Présence d'individus sur le pont-rail du Rhô...     13     3  2020  \n",
       "3741                                                NaN     13     3  2020  \n",
       "3742                                                NaN     13     3  2020  \n",
       "3743                                                NaN     13     3  2020  \n",
       "3744                                                NaN     13     3  2020  \n",
       "\n",
       "[3745 rows x 7 columns]"
      ]
     },
     "execution_count": 639,
     "metadata": {},
     "output_type": "execute_result"
    }
   ],
   "source": [
    "df"
   ]
  },
  {
   "cell_type": "markdown",
   "metadata": {},
   "source": [
    "## duplicates"
   ]
  },
  {
   "cell_type": "code",
   "execution_count": 641,
   "metadata": {
    "scrolled": false
   },
   "outputs": [
    {
     "data": {
      "text/html": [
       "<div>\n",
       "<style scoped>\n",
       "    .dataframe tbody tr th:only-of-type {\n",
       "        vertical-align: middle;\n",
       "    }\n",
       "\n",
       "    .dataframe tbody tr th {\n",
       "        vertical-align: top;\n",
       "    }\n",
       "\n",
       "    .dataframe thead th {\n",
       "        text-align: right;\n",
       "    }\n",
       "</style>\n",
       "<table border=\"1\" class=\"dataframe\">\n",
       "  <thead>\n",
       "    <tr style=\"text-align: right;\">\n",
       "      <th></th>\n",
       "      <th>date</th>\n",
       "      <th>famille_transport</th>\n",
       "      <th>ligne</th>\n",
       "      <th>incident_en_question</th>\n",
       "      <th>annee</th>\n",
       "      <th>mois</th>\n",
       "      <th>jour</th>\n",
       "    </tr>\n",
       "  </thead>\n",
       "  <tbody>\n",
       "    <tr>\n",
       "      <td>0</td>\n",
       "      <td>2019-01-23</td>\n",
       "      <td>TRANSILIEN</td>\n",
       "      <td>A</td>\n",
       "      <td>['Défaut de signalisation entre Nation et Aube...</td>\n",
       "      <td>23</td>\n",
       "      <td>1</td>\n",
       "      <td>2019</td>\n",
       "    </tr>\n",
       "    <tr>\n",
       "      <td>1</td>\n",
       "      <td>2019-01-23</td>\n",
       "      <td>TRANSILIEN</td>\n",
       "      <td>B</td>\n",
       "      <td>['Intervention de police à Gare-du-Nord pour u...</td>\n",
       "      <td>23</td>\n",
       "      <td>1</td>\n",
       "      <td>2019</td>\n",
       "    </tr>\n",
       "    <tr>\n",
       "      <td>2</td>\n",
       "      <td>2019-01-23</td>\n",
       "      <td>TRANSILIEN</td>\n",
       "      <td>C</td>\n",
       "      <td>[\"Signal d'alarme à Bibiliothèque-François-Mit...</td>\n",
       "      <td>23</td>\n",
       "      <td>1</td>\n",
       "      <td>2019</td>\n",
       "    </tr>\n",
       "    <tr>\n",
       "      <td>3</td>\n",
       "      <td>2019-01-23</td>\n",
       "      <td>TRANSILIEN</td>\n",
       "      <td>D</td>\n",
       "      <td>['Restitution tardive de travaux de nuit à Com...</td>\n",
       "      <td>23</td>\n",
       "      <td>1</td>\n",
       "      <td>2019</td>\n",
       "    </tr>\n",
       "    <tr>\n",
       "      <td>4</td>\n",
       "      <td>2019-01-23</td>\n",
       "      <td>TRANSILIEN</td>\n",
       "      <td>E</td>\n",
       "      <td>[\"Signaux d'alarme malveillants à Haussamann-S...</td>\n",
       "      <td>23</td>\n",
       "      <td>1</td>\n",
       "      <td>2019</td>\n",
       "    </tr>\n",
       "    <tr>\n",
       "      <td>...</td>\n",
       "      <td>...</td>\n",
       "      <td>...</td>\n",
       "      <td>...</td>\n",
       "      <td>...</td>\n",
       "      <td>...</td>\n",
       "      <td>...</td>\n",
       "      <td>...</td>\n",
       "    </tr>\n",
       "    <tr>\n",
       "      <td>3740</td>\n",
       "      <td>2020-03-13</td>\n",
       "      <td>INTERCITES</td>\n",
       "      <td>Nantes-Lyon</td>\n",
       "      <td>[\"Présence d'individus sur le pont-rail du Rhô...</td>\n",
       "      <td>13</td>\n",
       "      <td>3</td>\n",
       "      <td>2020</td>\n",
       "    </tr>\n",
       "    <tr>\n",
       "      <td>3741</td>\n",
       "      <td>2020-03-13</td>\n",
       "      <td>INTERCITES</td>\n",
       "      <td>Toulouse-Bayonne</td>\n",
       "      <td>NaN</td>\n",
       "      <td>13</td>\n",
       "      <td>3</td>\n",
       "      <td>2020</td>\n",
       "    </tr>\n",
       "    <tr>\n",
       "      <td>3742</td>\n",
       "      <td>2020-03-13</td>\n",
       "      <td>INTERCITES</td>\n",
       "      <td>Clermont-Béziers</td>\n",
       "      <td>NaN</td>\n",
       "      <td>13</td>\n",
       "      <td>3</td>\n",
       "      <td>2020</td>\n",
       "    </tr>\n",
       "    <tr>\n",
       "      <td>3743</td>\n",
       "      <td>2020-03-13</td>\n",
       "      <td>INTERCITES</td>\n",
       "      <td>Paris-Toulouse-Latour De Carol/Cerbere/Rodez</td>\n",
       "      <td>NaN</td>\n",
       "      <td>13</td>\n",
       "      <td>3</td>\n",
       "      <td>2020</td>\n",
       "    </tr>\n",
       "    <tr>\n",
       "      <td>3744</td>\n",
       "      <td>2020-03-13</td>\n",
       "      <td>INTERCITES</td>\n",
       "      <td>Paris-Briançon</td>\n",
       "      <td>NaN</td>\n",
       "      <td>13</td>\n",
       "      <td>3</td>\n",
       "      <td>2020</td>\n",
       "    </tr>\n",
       "  </tbody>\n",
       "</table>\n",
       "<p>3702 rows × 7 columns</p>\n",
       "</div>"
      ],
      "text/plain": [
       "           date famille_transport  \\\n",
       "0    2019-01-23        TRANSILIEN   \n",
       "1    2019-01-23        TRANSILIEN   \n",
       "2    2019-01-23        TRANSILIEN   \n",
       "3    2019-01-23        TRANSILIEN   \n",
       "4    2019-01-23        TRANSILIEN   \n",
       "...         ...               ...   \n",
       "3740 2020-03-13        INTERCITES   \n",
       "3741 2020-03-13        INTERCITES   \n",
       "3742 2020-03-13        INTERCITES   \n",
       "3743 2020-03-13        INTERCITES   \n",
       "3744 2020-03-13        INTERCITES   \n",
       "\n",
       "                                             ligne  \\\n",
       "0                                                A   \n",
       "1                                                B   \n",
       "2                                                C   \n",
       "3                                                D   \n",
       "4                                                E   \n",
       "...                                            ...   \n",
       "3740                                   Nantes-Lyon   \n",
       "3741                              Toulouse-Bayonne   \n",
       "3742                              Clermont-Béziers   \n",
       "3743  Paris-Toulouse-Latour De Carol/Cerbere/Rodez   \n",
       "3744                                Paris-Briançon   \n",
       "\n",
       "                                   incident_en_question  annee  mois  jour  \n",
       "0     ['Défaut de signalisation entre Nation et Aube...     23     1  2019  \n",
       "1     ['Intervention de police à Gare-du-Nord pour u...     23     1  2019  \n",
       "2     [\"Signal d'alarme à Bibiliothèque-François-Mit...     23     1  2019  \n",
       "3     ['Restitution tardive de travaux de nuit à Com...     23     1  2019  \n",
       "4     [\"Signaux d'alarme malveillants à Haussamann-S...     23     1  2019  \n",
       "...                                                 ...    ...   ...   ...  \n",
       "3740  [\"Présence d'individus sur le pont-rail du Rhô...     13     3  2020  \n",
       "3741                                                NaN     13     3  2020  \n",
       "3742                                                NaN     13     3  2020  \n",
       "3743                                                NaN     13     3  2020  \n",
       "3744                                                NaN     13     3  2020  \n",
       "\n",
       "[3702 rows x 7 columns]"
      ]
     },
     "execution_count": 641,
     "metadata": {},
     "output_type": "execute_result"
    }
   ],
   "source": [
    "df.drop_duplicates() ## ici nous avons moins de ligne en sortie qu'avant, donc des lignes étaient dupliquées"
   ]
  },
  {
   "cell_type": "code",
   "execution_count": 646,
   "metadata": {},
   "outputs": [
    {
     "data": {
      "text/html": [
       "<div>\n",
       "<style scoped>\n",
       "    .dataframe tbody tr th:only-of-type {\n",
       "        vertical-align: middle;\n",
       "    }\n",
       "\n",
       "    .dataframe tbody tr th {\n",
       "        vertical-align: top;\n",
       "    }\n",
       "\n",
       "    .dataframe thead th {\n",
       "        text-align: right;\n",
       "    }\n",
       "</style>\n",
       "<table border=\"1\" class=\"dataframe\">\n",
       "  <thead>\n",
       "    <tr style=\"text-align: right;\">\n",
       "      <th></th>\n",
       "      <th>date</th>\n",
       "      <th>famille_transport</th>\n",
       "      <th>ligne</th>\n",
       "      <th>incident_en_question</th>\n",
       "      <th>annee</th>\n",
       "      <th>mois</th>\n",
       "      <th>jour</th>\n",
       "    </tr>\n",
       "  </thead>\n",
       "  <tbody>\n",
       "    <tr>\n",
       "      <td>1485</td>\n",
       "      <td>2019-11-18</td>\n",
       "      <td>TRANSILIEN</td>\n",
       "      <td>A</td>\n",
       "      <td>['Incident de signalisation sur une rame entre...</td>\n",
       "      <td>18</td>\n",
       "      <td>11</td>\n",
       "      <td>2019</td>\n",
       "    </tr>\n",
       "    <tr>\n",
       "      <td>1530</td>\n",
       "      <td>2019-11-18</td>\n",
       "      <td>TRANSILIEN</td>\n",
       "      <td>A</td>\n",
       "      <td>['Incident de signalisation sur une rame entre...</td>\n",
       "      <td>18</td>\n",
       "      <td>11</td>\n",
       "      <td>2019</td>\n",
       "    </tr>\n",
       "    <tr>\n",
       "      <td>1502</td>\n",
       "      <td>2019-11-18</td>\n",
       "      <td>TER</td>\n",
       "      <td>Auvergne-Rhône-Alpes</td>\n",
       "      <td>NaN</td>\n",
       "      <td>18</td>\n",
       "      <td>11</td>\n",
       "      <td>2019</td>\n",
       "    </tr>\n",
       "    <tr>\n",
       "      <td>1547</td>\n",
       "      <td>2019-11-18</td>\n",
       "      <td>TER</td>\n",
       "      <td>Auvergne-Rhône-Alpes</td>\n",
       "      <td>NaN</td>\n",
       "      <td>18</td>\n",
       "      <td>11</td>\n",
       "      <td>2019</td>\n",
       "    </tr>\n",
       "    <tr>\n",
       "      <td>1486</td>\n",
       "      <td>2019-11-18</td>\n",
       "      <td>TRANSILIEN</td>\n",
       "      <td>B</td>\n",
       "      <td>['Intervention de police à Chatelet (zone RATP...</td>\n",
       "      <td>18</td>\n",
       "      <td>11</td>\n",
       "      <td>2019</td>\n",
       "    </tr>\n",
       "    <tr>\n",
       "      <td>...</td>\n",
       "      <td>...</td>\n",
       "      <td>...</td>\n",
       "      <td>...</td>\n",
       "      <td>...</td>\n",
       "      <td>...</td>\n",
       "      <td>...</td>\n",
       "      <td>...</td>\n",
       "    </tr>\n",
       "    <tr>\n",
       "      <td>1556</td>\n",
       "      <td>2019-11-18</td>\n",
       "      <td>TGV</td>\n",
       "      <td>nord</td>\n",
       "      <td>NaN</td>\n",
       "      <td>18</td>\n",
       "      <td>11</td>\n",
       "      <td>2019</td>\n",
       "    </tr>\n",
       "    <tr>\n",
       "      <td>1515</td>\n",
       "      <td>2019-11-18</td>\n",
       "      <td>TGV</td>\n",
       "      <td>ouigo</td>\n",
       "      <td>NaN</td>\n",
       "      <td>18</td>\n",
       "      <td>11</td>\n",
       "      <td>2019</td>\n",
       "    </tr>\n",
       "    <tr>\n",
       "      <td>1560</td>\n",
       "      <td>2019-11-18</td>\n",
       "      <td>TGV</td>\n",
       "      <td>ouigo</td>\n",
       "      <td>NaN</td>\n",
       "      <td>18</td>\n",
       "      <td>11</td>\n",
       "      <td>2019</td>\n",
       "    </tr>\n",
       "    <tr>\n",
       "      <td>1514</td>\n",
       "      <td>2019-11-18</td>\n",
       "      <td>TGV</td>\n",
       "      <td>sudest</td>\n",
       "      <td>NaN</td>\n",
       "      <td>18</td>\n",
       "      <td>11</td>\n",
       "      <td>2019</td>\n",
       "    </tr>\n",
       "    <tr>\n",
       "      <td>1559</td>\n",
       "      <td>2019-11-18</td>\n",
       "      <td>TGV</td>\n",
       "      <td>sudest</td>\n",
       "      <td>NaN</td>\n",
       "      <td>18</td>\n",
       "      <td>11</td>\n",
       "      <td>2019</td>\n",
       "    </tr>\n",
       "  </tbody>\n",
       "</table>\n",
       "<p>86 rows × 7 columns</p>\n",
       "</div>"
      ],
      "text/plain": [
       "           date famille_transport                 ligne  \\\n",
       "1485 2019-11-18        TRANSILIEN                     A   \n",
       "1530 2019-11-18        TRANSILIEN                     A   \n",
       "1502 2019-11-18               TER  Auvergne-Rhône-Alpes   \n",
       "1547 2019-11-18               TER  Auvergne-Rhône-Alpes   \n",
       "1486 2019-11-18        TRANSILIEN                     B   \n",
       "...         ...               ...                   ...   \n",
       "1556 2019-11-18               TGV                  nord   \n",
       "1515 2019-11-18               TGV                 ouigo   \n",
       "1560 2019-11-18               TGV                 ouigo   \n",
       "1514 2019-11-18               TGV                sudest   \n",
       "1559 2019-11-18               TGV                sudest   \n",
       "\n",
       "                                   incident_en_question  annee  mois  jour  \n",
       "1485  ['Incident de signalisation sur une rame entre...     18    11  2019  \n",
       "1530  ['Incident de signalisation sur une rame entre...     18    11  2019  \n",
       "1502                                                NaN     18    11  2019  \n",
       "1547                                                NaN     18    11  2019  \n",
       "1486  ['Intervention de police à Chatelet (zone RATP...     18    11  2019  \n",
       "...                                                 ...    ...   ...   ...  \n",
       "1556                                                NaN     18    11  2019  \n",
       "1515                                                NaN     18    11  2019  \n",
       "1560                                                NaN     18    11  2019  \n",
       "1514                                                NaN     18    11  2019  \n",
       "1559                                                NaN     18    11  2019  \n",
       "\n",
       "[86 rows x 7 columns]"
      ]
     },
     "execution_count": 646,
     "metadata": {},
     "output_type": "execute_result"
    }
   ],
   "source": [
    "df[df.duplicated(keep=False)]"
   ]
  },
  {
   "cell_type": "markdown",
   "metadata": {},
   "source": [
    "## sort a dataframe"
   ]
  },
  {
   "cell_type": "code",
   "execution_count": 650,
   "metadata": {},
   "outputs": [
    {
     "data": {
      "text/html": [
       "<div>\n",
       "<style scoped>\n",
       "    .dataframe tbody tr th:only-of-type {\n",
       "        vertical-align: middle;\n",
       "    }\n",
       "\n",
       "    .dataframe tbody tr th {\n",
       "        vertical-align: top;\n",
       "    }\n",
       "\n",
       "    .dataframe thead th {\n",
       "        text-align: right;\n",
       "    }\n",
       "</style>\n",
       "<table border=\"1\" class=\"dataframe\">\n",
       "  <thead>\n",
       "    <tr style=\"text-align: right;\">\n",
       "      <th></th>\n",
       "      <th>date</th>\n",
       "      <th>famille_transport</th>\n",
       "      <th>ligne</th>\n",
       "      <th>incident_en_question</th>\n",
       "      <th>annee</th>\n",
       "      <th>mois</th>\n",
       "      <th>jour</th>\n",
       "    </tr>\n",
       "  </thead>\n",
       "  <tbody>\n",
       "    <tr>\n",
       "      <td>37</td>\n",
       "      <td>2019-01-23</td>\n",
       "      <td>INTERCITES</td>\n",
       "      <td>Toulouse-Bayonne</td>\n",
       "      <td>['Travaux : aucune circulation']</td>\n",
       "      <td>23</td>\n",
       "      <td>1</td>\n",
       "      <td>2019</td>\n",
       "    </tr>\n",
       "    <tr>\n",
       "      <td>82</td>\n",
       "      <td>2019-03-22</td>\n",
       "      <td>INTERCITES</td>\n",
       "      <td>Toulouse-Bayonne</td>\n",
       "      <td>['Travaux de modernisation des voies : pas de ...</td>\n",
       "      <td>22</td>\n",
       "      <td>3</td>\n",
       "      <td>2019</td>\n",
       "    </tr>\n",
       "    <tr>\n",
       "      <td>127</td>\n",
       "      <td>2019-07-09</td>\n",
       "      <td>INTERCITES</td>\n",
       "      <td>Toulouse-Bayonne</td>\n",
       "      <td>[\"Chute d'arbres sur la voie entre Artix et Pa...</td>\n",
       "      <td>9</td>\n",
       "      <td>7</td>\n",
       "      <td>2019</td>\n",
       "    </tr>\n",
       "    <tr>\n",
       "      <td>172</td>\n",
       "      <td>2019-09-19</td>\n",
       "      <td>INTERCITES</td>\n",
       "      <td>Toulouse-Bayonne</td>\n",
       "      <td>[\"IC 14151 retardé de 32 minutes suite à la pr...</td>\n",
       "      <td>19</td>\n",
       "      <td>9</td>\n",
       "      <td>2019</td>\n",
       "    </tr>\n",
       "    <tr>\n",
       "      <td>217</td>\n",
       "      <td>2019-10-17</td>\n",
       "      <td>INTERCITES</td>\n",
       "      <td>Toulouse-Bayonne</td>\n",
       "      <td>['Panne de signalisation entre Urt et Bayonne']</td>\n",
       "      <td>17</td>\n",
       "      <td>10</td>\n",
       "      <td>2019</td>\n",
       "    </tr>\n",
       "    <tr>\n",
       "      <td>...</td>\n",
       "      <td>...</td>\n",
       "      <td>...</td>\n",
       "      <td>...</td>\n",
       "      <td>...</td>\n",
       "      <td>...</td>\n",
       "      <td>...</td>\n",
       "      <td>...</td>\n",
       "    </tr>\n",
       "    <tr>\n",
       "      <td>3540</td>\n",
       "      <td>2020-03-09</td>\n",
       "      <td>TRANSILIEN</td>\n",
       "      <td>A</td>\n",
       "      <td>NaN</td>\n",
       "      <td>9</td>\n",
       "      <td>3</td>\n",
       "      <td>2020</td>\n",
       "    </tr>\n",
       "    <tr>\n",
       "      <td>3581</td>\n",
       "      <td>2020-03-10</td>\n",
       "      <td>TRANSILIEN</td>\n",
       "      <td>A</td>\n",
       "      <td>NaN</td>\n",
       "      <td>10</td>\n",
       "      <td>3</td>\n",
       "      <td>2020</td>\n",
       "    </tr>\n",
       "    <tr>\n",
       "      <td>3622</td>\n",
       "      <td>2020-03-11</td>\n",
       "      <td>TRANSILIEN</td>\n",
       "      <td>A</td>\n",
       "      <td>NaN</td>\n",
       "      <td>11</td>\n",
       "      <td>3</td>\n",
       "      <td>2020</td>\n",
       "    </tr>\n",
       "    <tr>\n",
       "      <td>3663</td>\n",
       "      <td>2020-03-12</td>\n",
       "      <td>TRANSILIEN</td>\n",
       "      <td>A</td>\n",
       "      <td>NaN</td>\n",
       "      <td>12</td>\n",
       "      <td>3</td>\n",
       "      <td>2020</td>\n",
       "    </tr>\n",
       "    <tr>\n",
       "      <td>3704</td>\n",
       "      <td>2020-03-13</td>\n",
       "      <td>TRANSILIEN</td>\n",
       "      <td>A</td>\n",
       "      <td>[\"Panne d'un train à Achères\"]</td>\n",
       "      <td>13</td>\n",
       "      <td>3</td>\n",
       "      <td>2020</td>\n",
       "    </tr>\n",
       "  </tbody>\n",
       "</table>\n",
       "<p>3745 rows × 7 columns</p>\n",
       "</div>"
      ],
      "text/plain": [
       "           date famille_transport             ligne  \\\n",
       "37   2019-01-23        INTERCITES  Toulouse-Bayonne   \n",
       "82   2019-03-22        INTERCITES  Toulouse-Bayonne   \n",
       "127  2019-07-09        INTERCITES  Toulouse-Bayonne   \n",
       "172  2019-09-19        INTERCITES  Toulouse-Bayonne   \n",
       "217  2019-10-17        INTERCITES  Toulouse-Bayonne   \n",
       "...         ...               ...               ...   \n",
       "3540 2020-03-09        TRANSILIEN                 A   \n",
       "3581 2020-03-10        TRANSILIEN                 A   \n",
       "3622 2020-03-11        TRANSILIEN                 A   \n",
       "3663 2020-03-12        TRANSILIEN                 A   \n",
       "3704 2020-03-13        TRANSILIEN                 A   \n",
       "\n",
       "                                   incident_en_question  annee  mois  jour  \n",
       "37                     ['Travaux : aucune circulation']     23     1  2019  \n",
       "82    ['Travaux de modernisation des voies : pas de ...     22     3  2019  \n",
       "127   [\"Chute d'arbres sur la voie entre Artix et Pa...      9     7  2019  \n",
       "172   [\"IC 14151 retardé de 32 minutes suite à la pr...     19     9  2019  \n",
       "217     ['Panne de signalisation entre Urt et Bayonne']     17    10  2019  \n",
       "...                                                 ...    ...   ...   ...  \n",
       "3540                                                NaN      9     3  2020  \n",
       "3581                                                NaN     10     3  2020  \n",
       "3622                                                NaN     11     3  2020  \n",
       "3663                                                NaN     12     3  2020  \n",
       "3704                     [\"Panne d'un train à Achères\"]     13     3  2020  \n",
       "\n",
       "[3745 rows x 7 columns]"
      ]
     },
     "execution_count": 650,
     "metadata": {},
     "output_type": "execute_result"
    }
   ],
   "source": [
    "df.sort_values([\"famille_transport\", \"ligne\"], ascending=[True, False])"
   ]
  },
  {
   "cell_type": "markdown",
   "metadata": {},
   "source": [
    "## merge a dataframe"
   ]
  },
  {
   "cell_type": "code",
   "execution_count": 636,
   "metadata": {},
   "outputs": [],
   "source": [
    "# pd.merge(df1, df2, how='inner', left_on=[\"id_df1\"], right_on=[\"df1_id\"])"
   ]
  },
  {
   "cell_type": "markdown",
   "metadata": {},
   "source": [
    "## mapping"
   ]
  },
  {
   "cell_type": "code",
   "execution_count": null,
   "metadata": {},
   "outputs": [],
   "source": [
    "#df.mois.replace({old:value})"
   ]
  },
  {
   "cell_type": "code",
   "execution_count": 652,
   "metadata": {},
   "outputs": [],
   "source": [
    "mondico_de_mapping = \\\n",
    "    { 1: \"Janvier\", \n",
    "      2:\"FEVRIER\", \n",
    "      3: \"Mars_lol\", \n",
    "      4: \"avril\", \n",
    "      5: \"mai\", \n",
    "      6:\"juin\", \n",
    "      14:\"Inconnu\"\n",
    "    }"
   ]
  },
  {
   "cell_type": "code",
   "execution_count": 657,
   "metadata": {},
   "outputs": [
    {
     "data": {
      "text/plain": [
       "0        Janvier\n",
       "1        Janvier\n",
       "2        Janvier\n",
       "3        Janvier\n",
       "4        Janvier\n",
       "          ...   \n",
       "3740    Mars_lol\n",
       "3741    Mars_lol\n",
       "3742    Mars_lol\n",
       "3743    Mars_lol\n",
       "3744    Mars_lol\n",
       "Name: mois, Length: 3745, dtype: object"
      ]
     },
     "execution_count": 657,
     "metadata": {},
     "output_type": "execute_result"
    }
   ],
   "source": [
    "df.mois.replace(mondico_de_mapping)"
   ]
  },
  {
   "cell_type": "markdown",
   "metadata": {},
   "source": [
    "## (bonus; mapping sur un dataframe entier)"
   ]
  },
  {
   "cell_type": "code",
   "execution_count": 658,
   "metadata": {},
   "outputs": [
    {
     "data": {
      "text/html": [
       "<div>\n",
       "<style scoped>\n",
       "    .dataframe tbody tr th:only-of-type {\n",
       "        vertical-align: middle;\n",
       "    }\n",
       "\n",
       "    .dataframe tbody tr th {\n",
       "        vertical-align: top;\n",
       "    }\n",
       "\n",
       "    .dataframe thead th {\n",
       "        text-align: right;\n",
       "    }\n",
       "</style>\n",
       "<table border=\"1\" class=\"dataframe\">\n",
       "  <thead>\n",
       "    <tr style=\"text-align: right;\">\n",
       "      <th></th>\n",
       "      <th>date</th>\n",
       "      <th>famille_transport</th>\n",
       "      <th>ligne</th>\n",
       "      <th>incident_en_question</th>\n",
       "      <th>annee</th>\n",
       "      <th>mois</th>\n",
       "      <th>jour</th>\n",
       "    </tr>\n",
       "  </thead>\n",
       "  <tbody>\n",
       "    <tr>\n",
       "      <td>0</td>\n",
       "      <td>2019-01-23</td>\n",
       "      <td>TRANSILIEN</td>\n",
       "      <td>A</td>\n",
       "      <td>['Défaut de signalisation entre Nation et Aube...</td>\n",
       "      <td>23</td>\n",
       "      <td>1</td>\n",
       "      <td>2019</td>\n",
       "    </tr>\n",
       "    <tr>\n",
       "      <td>1</td>\n",
       "      <td>2019-01-23</td>\n",
       "      <td>TRANSILIEN</td>\n",
       "      <td>B</td>\n",
       "      <td>['Intervention de police à Gare-du-Nord pour u...</td>\n",
       "      <td>23</td>\n",
       "      <td>1</td>\n",
       "      <td>2019</td>\n",
       "    </tr>\n",
       "    <tr>\n",
       "      <td>2</td>\n",
       "      <td>2019-01-23</td>\n",
       "      <td>TRANSILIEN</td>\n",
       "      <td>C</td>\n",
       "      <td>[\"Signal d'alarme à Bibiliothèque-François-Mit...</td>\n",
       "      <td>23</td>\n",
       "      <td>1</td>\n",
       "      <td>2019</td>\n",
       "    </tr>\n",
       "    <tr>\n",
       "      <td>3</td>\n",
       "      <td>2019-01-23</td>\n",
       "      <td>TRANSILIEN</td>\n",
       "      <td>D</td>\n",
       "      <td>['Restitution tardive de travaux de nuit à Com...</td>\n",
       "      <td>23</td>\n",
       "      <td>1</td>\n",
       "      <td>2019</td>\n",
       "    </tr>\n",
       "    <tr>\n",
       "      <td>4</td>\n",
       "      <td>2019-01-23</td>\n",
       "      <td>TRANSILIEN</td>\n",
       "      <td>E</td>\n",
       "      <td>[\"Signaux d'alarme malveillants à Haussamann-S...</td>\n",
       "      <td>23</td>\n",
       "      <td>1</td>\n",
       "      <td>2019</td>\n",
       "    </tr>\n",
       "    <tr>\n",
       "      <td>...</td>\n",
       "      <td>...</td>\n",
       "      <td>...</td>\n",
       "      <td>...</td>\n",
       "      <td>...</td>\n",
       "      <td>...</td>\n",
       "      <td>...</td>\n",
       "      <td>...</td>\n",
       "    </tr>\n",
       "    <tr>\n",
       "      <td>3740</td>\n",
       "      <td>2020-03-13</td>\n",
       "      <td>INTERCITES</td>\n",
       "      <td>Nantes-Lyon</td>\n",
       "      <td>[\"Présence d'individus sur le pont-rail du Rhô...</td>\n",
       "      <td>13</td>\n",
       "      <td>3</td>\n",
       "      <td>2020</td>\n",
       "    </tr>\n",
       "    <tr>\n",
       "      <td>3741</td>\n",
       "      <td>2020-03-13</td>\n",
       "      <td>INTERCITES</td>\n",
       "      <td>Toulouse-Bayonne</td>\n",
       "      <td>NaN</td>\n",
       "      <td>13</td>\n",
       "      <td>3</td>\n",
       "      <td>2020</td>\n",
       "    </tr>\n",
       "    <tr>\n",
       "      <td>3742</td>\n",
       "      <td>2020-03-13</td>\n",
       "      <td>INTERCITES</td>\n",
       "      <td>Clermont-Béziers</td>\n",
       "      <td>NaN</td>\n",
       "      <td>13</td>\n",
       "      <td>3</td>\n",
       "      <td>2020</td>\n",
       "    </tr>\n",
       "    <tr>\n",
       "      <td>3743</td>\n",
       "      <td>2020-03-13</td>\n",
       "      <td>INTERCITES</td>\n",
       "      <td>Paris-Toulouse-Latour De Carol/Cerbere/Rodez</td>\n",
       "      <td>NaN</td>\n",
       "      <td>13</td>\n",
       "      <td>3</td>\n",
       "      <td>2020</td>\n",
       "    </tr>\n",
       "    <tr>\n",
       "      <td>3744</td>\n",
       "      <td>2020-03-13</td>\n",
       "      <td>INTERCITES</td>\n",
       "      <td>Paris-Briançon</td>\n",
       "      <td>NaN</td>\n",
       "      <td>13</td>\n",
       "      <td>3</td>\n",
       "      <td>2020</td>\n",
       "    </tr>\n",
       "  </tbody>\n",
       "</table>\n",
       "<p>3745 rows × 7 columns</p>\n",
       "</div>"
      ],
      "text/plain": [
       "           date famille_transport  \\\n",
       "0    2019-01-23        TRANSILIEN   \n",
       "1    2019-01-23        TRANSILIEN   \n",
       "2    2019-01-23        TRANSILIEN   \n",
       "3    2019-01-23        TRANSILIEN   \n",
       "4    2019-01-23        TRANSILIEN   \n",
       "...         ...               ...   \n",
       "3740 2020-03-13        INTERCITES   \n",
       "3741 2020-03-13        INTERCITES   \n",
       "3742 2020-03-13        INTERCITES   \n",
       "3743 2020-03-13        INTERCITES   \n",
       "3744 2020-03-13        INTERCITES   \n",
       "\n",
       "                                             ligne  \\\n",
       "0                                                A   \n",
       "1                                                B   \n",
       "2                                                C   \n",
       "3                                                D   \n",
       "4                                                E   \n",
       "...                                            ...   \n",
       "3740                                   Nantes-Lyon   \n",
       "3741                              Toulouse-Bayonne   \n",
       "3742                              Clermont-Béziers   \n",
       "3743  Paris-Toulouse-Latour De Carol/Cerbere/Rodez   \n",
       "3744                                Paris-Briançon   \n",
       "\n",
       "                                   incident_en_question  annee  mois  jour  \n",
       "0     ['Défaut de signalisation entre Nation et Aube...     23     1  2019  \n",
       "1     ['Intervention de police à Gare-du-Nord pour u...     23     1  2019  \n",
       "2     [\"Signal d'alarme à Bibiliothèque-François-Mit...     23     1  2019  \n",
       "3     ['Restitution tardive de travaux de nuit à Com...     23     1  2019  \n",
       "4     [\"Signaux d'alarme malveillants à Haussamann-S...     23     1  2019  \n",
       "...                                                 ...    ...   ...   ...  \n",
       "3740  [\"Présence d'individus sur le pont-rail du Rhô...     13     3  2020  \n",
       "3741                                                NaN     13     3  2020  \n",
       "3742                                                NaN     13     3  2020  \n",
       "3743                                                NaN     13     3  2020  \n",
       "3744                                                NaN     13     3  2020  \n",
       "\n",
       "[3745 rows x 7 columns]"
      ]
     },
     "execution_count": 658,
     "metadata": {},
     "output_type": "execute_result"
    }
   ],
   "source": [
    "df"
   ]
  },
  {
   "cell_type": "code",
   "execution_count": 669,
   "metadata": {},
   "outputs": [],
   "source": [
    "mondico_de_mapping =\\\n",
    "{ \n",
    "    \"famille_transport\": {\n",
    "        \"INTERCITES\": 2,\n",
    "        \"TRANSILIEN\": \"test\"\n",
    "    },\n",
    "    \n",
    "    \"ligne\": {\n",
    "        \"A\": \"RER A\",\n",
    "        \"B\": \"RER B\"\n",
    "    },\n",
    "    \n",
    "    \"mois\": {\n",
    "        1:\"Janvier\"\n",
    "    }\n",
    "}"
   ]
  },
  {
   "cell_type": "code",
   "execution_count": 670,
   "metadata": {},
   "outputs": [],
   "source": [
    "df.replace(mondico_de_mapping, inplace=True)"
   ]
  },
  {
   "cell_type": "code",
   "execution_count": 671,
   "metadata": {},
   "outputs": [
    {
     "data": {
      "text/html": [
       "<div>\n",
       "<style scoped>\n",
       "    .dataframe tbody tr th:only-of-type {\n",
       "        vertical-align: middle;\n",
       "    }\n",
       "\n",
       "    .dataframe tbody tr th {\n",
       "        vertical-align: top;\n",
       "    }\n",
       "\n",
       "    .dataframe thead th {\n",
       "        text-align: right;\n",
       "    }\n",
       "</style>\n",
       "<table border=\"1\" class=\"dataframe\">\n",
       "  <thead>\n",
       "    <tr style=\"text-align: right;\">\n",
       "      <th></th>\n",
       "      <th>date</th>\n",
       "      <th>famille_transport</th>\n",
       "      <th>ligne</th>\n",
       "      <th>incident_en_question</th>\n",
       "      <th>annee</th>\n",
       "      <th>mois</th>\n",
       "      <th>jour</th>\n",
       "    </tr>\n",
       "  </thead>\n",
       "  <tbody>\n",
       "    <tr>\n",
       "      <td>0</td>\n",
       "      <td>2019-01-23</td>\n",
       "      <td>test</td>\n",
       "      <td>RER A</td>\n",
       "      <td>['Défaut de signalisation entre Nation et Aube...</td>\n",
       "      <td>23</td>\n",
       "      <td>Janvier</td>\n",
       "      <td>2019</td>\n",
       "    </tr>\n",
       "    <tr>\n",
       "      <td>1</td>\n",
       "      <td>2019-01-23</td>\n",
       "      <td>test</td>\n",
       "      <td>RER B</td>\n",
       "      <td>['Intervention de police à Gare-du-Nord pour u...</td>\n",
       "      <td>23</td>\n",
       "      <td>Janvier</td>\n",
       "      <td>2019</td>\n",
       "    </tr>\n",
       "    <tr>\n",
       "      <td>2</td>\n",
       "      <td>2019-01-23</td>\n",
       "      <td>test</td>\n",
       "      <td>C</td>\n",
       "      <td>[\"Signal d'alarme à Bibiliothèque-François-Mit...</td>\n",
       "      <td>23</td>\n",
       "      <td>Janvier</td>\n",
       "      <td>2019</td>\n",
       "    </tr>\n",
       "    <tr>\n",
       "      <td>3</td>\n",
       "      <td>2019-01-23</td>\n",
       "      <td>test</td>\n",
       "      <td>D</td>\n",
       "      <td>['Restitution tardive de travaux de nuit à Com...</td>\n",
       "      <td>23</td>\n",
       "      <td>Janvier</td>\n",
       "      <td>2019</td>\n",
       "    </tr>\n",
       "    <tr>\n",
       "      <td>4</td>\n",
       "      <td>2019-01-23</td>\n",
       "      <td>test</td>\n",
       "      <td>E</td>\n",
       "      <td>[\"Signaux d'alarme malveillants à Haussamann-S...</td>\n",
       "      <td>23</td>\n",
       "      <td>Janvier</td>\n",
       "      <td>2019</td>\n",
       "    </tr>\n",
       "    <tr>\n",
       "      <td>...</td>\n",
       "      <td>...</td>\n",
       "      <td>...</td>\n",
       "      <td>...</td>\n",
       "      <td>...</td>\n",
       "      <td>...</td>\n",
       "      <td>...</td>\n",
       "      <td>...</td>\n",
       "    </tr>\n",
       "    <tr>\n",
       "      <td>3740</td>\n",
       "      <td>2020-03-13</td>\n",
       "      <td>2</td>\n",
       "      <td>Nantes-Lyon</td>\n",
       "      <td>[\"Présence d'individus sur le pont-rail du Rhô...</td>\n",
       "      <td>13</td>\n",
       "      <td>3</td>\n",
       "      <td>2020</td>\n",
       "    </tr>\n",
       "    <tr>\n",
       "      <td>3741</td>\n",
       "      <td>2020-03-13</td>\n",
       "      <td>2</td>\n",
       "      <td>Toulouse-Bayonne</td>\n",
       "      <td>NaN</td>\n",
       "      <td>13</td>\n",
       "      <td>3</td>\n",
       "      <td>2020</td>\n",
       "    </tr>\n",
       "    <tr>\n",
       "      <td>3742</td>\n",
       "      <td>2020-03-13</td>\n",
       "      <td>2</td>\n",
       "      <td>Clermont-Béziers</td>\n",
       "      <td>NaN</td>\n",
       "      <td>13</td>\n",
       "      <td>3</td>\n",
       "      <td>2020</td>\n",
       "    </tr>\n",
       "    <tr>\n",
       "      <td>3743</td>\n",
       "      <td>2020-03-13</td>\n",
       "      <td>2</td>\n",
       "      <td>Paris-Toulouse-Latour De Carol/Cerbere/Rodez</td>\n",
       "      <td>NaN</td>\n",
       "      <td>13</td>\n",
       "      <td>3</td>\n",
       "      <td>2020</td>\n",
       "    </tr>\n",
       "    <tr>\n",
       "      <td>3744</td>\n",
       "      <td>2020-03-13</td>\n",
       "      <td>2</td>\n",
       "      <td>Paris-Briançon</td>\n",
       "      <td>NaN</td>\n",
       "      <td>13</td>\n",
       "      <td>3</td>\n",
       "      <td>2020</td>\n",
       "    </tr>\n",
       "  </tbody>\n",
       "</table>\n",
       "<p>3745 rows × 7 columns</p>\n",
       "</div>"
      ],
      "text/plain": [
       "           date famille_transport  \\\n",
       "0    2019-01-23              test   \n",
       "1    2019-01-23              test   \n",
       "2    2019-01-23              test   \n",
       "3    2019-01-23              test   \n",
       "4    2019-01-23              test   \n",
       "...         ...               ...   \n",
       "3740 2020-03-13                 2   \n",
       "3741 2020-03-13                 2   \n",
       "3742 2020-03-13                 2   \n",
       "3743 2020-03-13                 2   \n",
       "3744 2020-03-13                 2   \n",
       "\n",
       "                                             ligne  \\\n",
       "0                                            RER A   \n",
       "1                                            RER B   \n",
       "2                                                C   \n",
       "3                                                D   \n",
       "4                                                E   \n",
       "...                                            ...   \n",
       "3740                                   Nantes-Lyon   \n",
       "3741                              Toulouse-Bayonne   \n",
       "3742                              Clermont-Béziers   \n",
       "3743  Paris-Toulouse-Latour De Carol/Cerbere/Rodez   \n",
       "3744                                Paris-Briançon   \n",
       "\n",
       "                                   incident_en_question  annee     mois  jour  \n",
       "0     ['Défaut de signalisation entre Nation et Aube...     23  Janvier  2019  \n",
       "1     ['Intervention de police à Gare-du-Nord pour u...     23  Janvier  2019  \n",
       "2     [\"Signal d'alarme à Bibiliothèque-François-Mit...     23  Janvier  2019  \n",
       "3     ['Restitution tardive de travaux de nuit à Com...     23  Janvier  2019  \n",
       "4     [\"Signaux d'alarme malveillants à Haussamann-S...     23  Janvier  2019  \n",
       "...                                                 ...    ...      ...   ...  \n",
       "3740  [\"Présence d'individus sur le pont-rail du Rhô...     13        3  2020  \n",
       "3741                                                NaN     13        3  2020  \n",
       "3742                                                NaN     13        3  2020  \n",
       "3743                                                NaN     13        3  2020  \n",
       "3744                                                NaN     13        3  2020  \n",
       "\n",
       "[3745 rows x 7 columns]"
      ]
     },
     "execution_count": 671,
     "metadata": {},
     "output_type": "execute_result"
    }
   ],
   "source": [
    "df"
   ]
  },
  {
   "cell_type": "markdown",
   "metadata": {},
   "source": [
    "## groupby en s'amusant avec les plots \n",
    "\n"
   ]
  },
  {
   "cell_type": "code",
   "execution_count": 697,
   "metadata": {},
   "outputs": [],
   "source": [
    "%matplotlib inline"
   ]
  },
  {
   "cell_type": "code",
   "execution_count": 698,
   "metadata": {},
   "outputs": [],
   "source": [
    "import matplotlib.pyplot as plt"
   ]
  },
  {
   "cell_type": "code",
   "execution_count": 751,
   "metadata": {
    "scrolled": false
   },
   "outputs": [],
   "source": [
    "plt.rcParams[\"figure.figsize\"] = [18, 10]"
   ]
  },
  {
   "cell_type": "code",
   "execution_count": 677,
   "metadata": {},
   "outputs": [],
   "source": [
    "df3 = pd.read_csv(\"./regularite.csv\", sep=',')"
   ]
  },
  {
   "cell_type": "code",
   "execution_count": 721,
   "metadata": {},
   "outputs": [
    {
     "data": {
      "text/plain": [
       "famille_transport  ligne                                       \n",
       "intercites         Bordeaux-Marseille                              4870.0\n",
       "                   Caen-Le Mans-Tours                              3965.0\n",
       "                   Clermont-Béziers                                6450.0\n",
       "                   Nantes-Bordeaux                                 6391.3\n",
       "                   Nantes-Lyon                                     5800.0\n",
       "                   Paris-Briançon                                  5250.0\n",
       "                   Paris-Caen-Cherbourg Trouville/Deauville        2871.9\n",
       "                   Paris-Clermont                                  6396.5\n",
       "                   Paris-Granville                                 4066.0\n",
       "                   Paris-Limoges-Toulouse                          5582.8\n",
       "                   Paris-Rouen-Le Havre                            3804.7\n",
       "                   Paris-Toulouse-Latour De Carol/Cerbere/Rodez    6618.0\n",
       "                   Toulouse-Bayonne                                5887.3\n",
       "                   global                                          5917.8\n",
       "ter                Auvergne-Rhône-Alpes                            7576.7\n",
       "                   Bourgogne-Franche-Comté                         7753.8\n",
       "                   Bretagne                                        7977.0\n",
       "                   Centre-Val de Loire                             7640.4\n",
       "                   Grand Est                                       7982.0\n",
       "                   Hauts-de-France                                 7494.2\n",
       "                   Normandie                                       7518.3\n",
       "                   Nouvelle-Aquitaine                              7634.0\n",
       "                   Occitanie                                       7376.5\n",
       "                   Pays de la Loire                                7737.4\n",
       "                   Provence-Alpes-Côte d'Azur                      7427.8\n",
       "                   global                                          7686.8\n",
       "tgv                atlantique                                      7395.2\n",
       "                   est                                             7511.0\n",
       "                   europe                                          7635.8\n",
       "                   global                                          7443.1\n",
       "                   nord                                            7309.0\n",
       "                   ouigo                                           7046.8\n",
       "                   sudest                                          7567.6\n",
       "transilien         A                                               7118.4\n",
       "                   B                                               6570.7\n",
       "                   C                                               7299.6\n",
       "                   D                                               6899.3\n",
       "                   E                                               7775.4\n",
       "                   H                                               7755.1\n",
       "                   J                                               7451.1\n",
       "                   K                                               7820.6\n",
       "                   L                                               7753.9\n",
       "                   N                                               7875.0\n",
       "                   P                                               7588.1\n",
       "                   R                                               6901.2\n",
       "                   T11                                             7090.3\n",
       "                   T4                                              5442.9\n",
       "                   U                                               6665.7\n",
       "                   global                                          7467.1\n",
       "Name: regularite, dtype: float64"
      ]
     },
     "execution_count": 721,
     "metadata": {},
     "output_type": "execute_result"
    }
   ],
   "source": [
    "df3.groupby([ \"famille_transport\", \"ligne\"])[\"regularite\"].sum()"
   ]
  },
  {
   "cell_type": "code",
   "execution_count": 727,
   "metadata": {},
   "outputs": [],
   "source": [
    "#df3.groupby([ \"famille_transport\", \"ligne\"])[\"regularite\"].mean().unstack().plot(kind=\"bar\", stacked=True)"
   ]
  },
  {
   "cell_type": "code",
   "execution_count": 753,
   "metadata": {
    "scrolled": false
   },
   "outputs": [
    {
     "data": {
      "text/plain": [
       "<matplotlib.axes._subplots.AxesSubplot at 0xd3240d828>"
      ]
     },
     "execution_count": 753,
     "metadata": {},
     "output_type": "execute_result"
    },
    {
     "data": {
      "image/png": "[encoded data removed]",
      "text/plain": [
       "<Figure size 1296x720 with 1 Axes>"
      ]
     },
     "metadata": {},
     "output_type": "display_data"
    }
   ],
   "source": [
    "df3.groupby([ \"famille_transport\", \"ligne\"])[\"regularite\"].mean().unstack().plot(kind=\"bar\")"
   ]
  },
  {
   "cell_type": "code",
   "execution_count": 758,
   "metadata": {},
   "outputs": [
    {
     "data": {
      "text/plain": [
       "date                 datetime64[ns]\n",
       "famille_transport            object\n",
       "ligne                        object\n",
       "regularite                  float64\n",
       "explication                  object\n",
       "jour                          int64\n",
       "mois                          int64\n",
       "annee                         int64\n",
       "dtype: object"
      ]
     },
     "execution_count": 758,
     "metadata": {},
     "output_type": "execute_result"
    }
   ],
   "source": [
    "df.dtypes"
   ]
  },
  {
   "cell_type": "code",
   "execution_count": 769,
   "metadata": {},
   "outputs": [],
   "source": [
    "entre_dates = (df.date < pd.to_datetime(\"2019-06-03\"))  & (df.date > pd.to_datetime(\"2019-03-20\"))"
   ]
  },
  {
   "cell_type": "code",
   "execution_count": 771,
   "metadata": {},
   "outputs": [
    {
     "data": {
      "text/plain": [
       "<matplotlib.axes._subplots.AxesSubplot at 0xd335cce48>"
      ]
     },
     "execution_count": 771,
     "metadata": {},
     "output_type": "execute_result"
    },
    {
     "data": {
      "image/png": "[encoded data removed]",
      "text/plain": [
       "<Figure size 1296x720 with 1 Axes>"
      ]
     },
     "metadata": {},
     "output_type": "display_data"
    }
   ],
   "source": [
    "df[entre_dates].groupby([\"mois\", \"annee\", \"famille_transport\"])[\"regularite\"].mean().unstack().plot(kind='bar')"
   ]
  },
  {
   "cell_type": "code",
   "execution_count": 782,
   "metadata": {},
   "outputs": [
    {
     "data": {
      "text/plain": [
       "mois\n",
       "1     AxesSubplot(0.125,0.125;0.775x0.755)\n",
       "2     AxesSubplot(0.125,0.125;0.775x0.755)\n",
       "3     AxesSubplot(0.125,0.125;0.775x0.755)\n",
       "7     AxesSubplot(0.125,0.125;0.775x0.755)\n",
       "9     AxesSubplot(0.125,0.125;0.775x0.755)\n",
       "10    AxesSubplot(0.125,0.125;0.775x0.755)\n",
       "11    AxesSubplot(0.125,0.125;0.775x0.755)\n",
       "12    AxesSubplot(0.125,0.125;0.775x0.755)\n",
       "Name: regularite, dtype: object"
      ]
     },
     "execution_count": 782,
     "metadata": {},
     "output_type": "execute_result"
    },
    {
     "data": {
      "image/png": "[encoded data removed]",
      "text/plain": [
       "<Figure size 1296x720 with 1 Axes>"
      ]
     },
     "metadata": {},
     "output_type": "display_data"
    }
   ],
   "source": [
    "df.groupby([\"mois\"]).regularite.plot(kind=\"density\")"
   ]
  },
  {
   "cell_type": "code",
   "execution_count": 777,
   "metadata": {},
   "outputs": [
    {
     "data": {
      "text/plain": [
       "0.0"
      ]
     },
     "execution_count": 777,
     "metadata": {},
     "output_type": "execute_result"
    }
   ],
   "source": [
    "min(df.regularite)"
   ]
  },
  {
   "cell_type": "code",
   "execution_count": 778,
   "metadata": {},
   "outputs": [
    {
     "data": {
      "text/plain": [
       "100.0"
      ]
     },
     "execution_count": 778,
     "metadata": {},
     "output_type": "execute_result"
    }
   ],
   "source": [
    "max(df.regularite)"
   ]
  },
  {
   "cell_type": "code",
   "execution_count": 714,
   "metadata": {},
   "outputs": [
    {
     "data": {
      "text/plain": [
       "espagne    1\n",
       "france     2\n",
       "japon      3\n",
       "dtype: int64"
      ]
     },
     "execution_count": 714,
     "metadata": {},
     "output_type": "execute_result"
    }
   ],
   "source": [
    "pd.Series.sort_values(pd.Series([2,3,1], index=[\"france\",\"japon\",\"espagne\"]))"
   ]
  },
  {
   "cell_type": "code",
   "execution_count": null,
   "metadata": {},
   "outputs": [],
   "source": []
  },
  {
   "cell_type": "markdown",
   "metadata": {},
   "source": [
    "## valeurs manquantes"
   ]
  },
  {
   "cell_type": "code",
   "execution_count": 787,
   "metadata": {},
   "outputs": [
    {
     "data": {
      "text/plain": [
       "date                    0\n",
       "famille_transport       0\n",
       "ligne                   0\n",
       "regularite            150\n",
       "explication          3967\n",
       "jour                    0\n",
       "mois                    0\n",
       "annee                   0\n",
       "dtype: int64"
      ]
     },
     "execution_count": 787,
     "metadata": {},
     "output_type": "execute_result"
    }
   ],
   "source": [
    "df.isna().apply(sum, axis=0)"
   ]
  },
  {
   "cell_type": "code",
   "execution_count": 786,
   "metadata": {},
   "outputs": [
    {
     "data": {
      "text/plain": [
       "TER                                                 34\n",
       "Travaux                                             24\n",
       "Grève sans préavis                                  19\n",
       "Attente données                                      8\n",
       "Travaux sur la ligne                                 6\n",
       "Interrompue                                          5\n",
       "Fermée                                               4\n",
       "Mouvement social                                     4\n",
       "Aucune circulation                                   3\n",
       "Attente donnée                                       2\n",
       "Données non reçues                                   2\n",
       "attente données                                      1\n",
       "TRAVAUX                                              1\n",
       "ligne fermée pour cause éboulement                   1\n",
       "Absence de données                                   1\n",
       "Travaux                                              1\n",
       "Interruption en raison des dégâts dûs à la neige     1\n",
       "Pas de circulation suite aux chutes de neige         1\n",
       "Name: explication, dtype: int64"
      ]
     },
     "execution_count": 786,
     "metadata": {},
     "output_type": "execute_result"
    }
   ],
   "source": [
    "df.explication.value_counts()"
   ]
  },
  {
   "cell_type": "code",
   "execution_count": 788,
   "metadata": {},
   "outputs": [],
   "source": [
    "import seaborn as sns "
   ]
  },
  {
   "cell_type": "code",
   "execution_count": 789,
   "metadata": {
    "scrolled": true
   },
   "outputs": [
    {
     "data": {
      "text/plain": [
       "<matplotlib.axes._subplots.AxesSubplot at 0xd43d5e668>"
      ]
     },
     "execution_count": 789,
     "metadata": {},
     "output_type": "execute_result"
    },
    {
     "data": {
      "image/png": "[encoded data removed]",
      "text/plain": [
       "<Figure size 1296x720 with 2 Axes>"
      ]
     },
     "metadata": {},
     "output_type": "display_data"
    }
   ],
   "source": [
    "sns.heatmap(df.isna())"
   ]
  },
  {
   "cell_type": "code",
   "execution_count": 791,
   "metadata": {},
   "outputs": [],
   "source": [
    "pourquoi = df.regularite.isna() & df.explication.isna()"
   ]
  },
  {
   "cell_type": "code",
   "execution_count": 794,
   "metadata": {},
   "outputs": [
    {
     "data": {
      "text/html": [
       "<div>\n",
       "<style scoped>\n",
       "    .dataframe tbody tr th:only-of-type {\n",
       "        vertical-align: middle;\n",
       "    }\n",
       "\n",
       "    .dataframe tbody tr th {\n",
       "        vertical-align: top;\n",
       "    }\n",
       "\n",
       "    .dataframe thead th {\n",
       "        text-align: right;\n",
       "    }\n",
       "</style>\n",
       "<table border=\"1\" class=\"dataframe\">\n",
       "  <thead>\n",
       "    <tr style=\"text-align: right;\">\n",
       "      <th></th>\n",
       "      <th>date</th>\n",
       "      <th>famille_transport</th>\n",
       "      <th>ligne</th>\n",
       "      <th>regularite</th>\n",
       "      <th>explication</th>\n",
       "      <th>jour</th>\n",
       "      <th>mois</th>\n",
       "      <th>annee</th>\n",
       "    </tr>\n",
       "  </thead>\n",
       "  <tbody>\n",
       "    <tr>\n",
       "      <td>538</td>\n",
       "      <td>2019-10-24</td>\n",
       "      <td>intercites</td>\n",
       "      <td>Paris-Briançon</td>\n",
       "      <td>NaN</td>\n",
       "      <td>NaN</td>\n",
       "      <td>24</td>\n",
       "      <td>10</td>\n",
       "      <td>2019</td>\n",
       "    </tr>\n",
       "    <tr>\n",
       "      <td>1092</td>\n",
       "      <td>2019-11-07</td>\n",
       "      <td>transilien</td>\n",
       "      <td>T4</td>\n",
       "      <td>NaN</td>\n",
       "      <td>NaN</td>\n",
       "      <td>7</td>\n",
       "      <td>11</td>\n",
       "      <td>2019</td>\n",
       "    </tr>\n",
       "    <tr>\n",
       "      <td>1827</td>\n",
       "      <td>2019-11-21</td>\n",
       "      <td>transilien</td>\n",
       "      <td>T4</td>\n",
       "      <td>NaN</td>\n",
       "      <td>NaN</td>\n",
       "      <td>21</td>\n",
       "      <td>11</td>\n",
       "      <td>2019</td>\n",
       "    </tr>\n",
       "    <tr>\n",
       "      <td>1974</td>\n",
       "      <td>2019-11-24</td>\n",
       "      <td>transilien</td>\n",
       "      <td>T4</td>\n",
       "      <td>NaN</td>\n",
       "      <td>NaN</td>\n",
       "      <td>24</td>\n",
       "      <td>11</td>\n",
       "      <td>2019</td>\n",
       "    </tr>\n",
       "    <tr>\n",
       "      <td>2708</td>\n",
       "      <td>2020-02-11</td>\n",
       "      <td>transilien</td>\n",
       "      <td>U</td>\n",
       "      <td>NaN</td>\n",
       "      <td>NaN</td>\n",
       "      <td>11</td>\n",
       "      <td>2</td>\n",
       "      <td>2020</td>\n",
       "    </tr>\n",
       "    <tr>\n",
       "      <td>2885</td>\n",
       "      <td>2020-02-14</td>\n",
       "      <td>intercites</td>\n",
       "      <td>Paris-Caen-Cherbourg Trouville/Deauville</td>\n",
       "      <td>NaN</td>\n",
       "      <td>NaN</td>\n",
       "      <td>14</td>\n",
       "      <td>2</td>\n",
       "      <td>2020</td>\n",
       "    </tr>\n",
       "    <tr>\n",
       "      <td>2886</td>\n",
       "      <td>2020-02-14</td>\n",
       "      <td>intercites</td>\n",
       "      <td>Paris-Rouen-Le Havre</td>\n",
       "      <td>NaN</td>\n",
       "      <td>NaN</td>\n",
       "      <td>14</td>\n",
       "      <td>2</td>\n",
       "      <td>2020</td>\n",
       "    </tr>\n",
       "    <tr>\n",
       "      <td>2887</td>\n",
       "      <td>2020-02-14</td>\n",
       "      <td>intercites</td>\n",
       "      <td>Paris-Granville</td>\n",
       "      <td>NaN</td>\n",
       "      <td>NaN</td>\n",
       "      <td>14</td>\n",
       "      <td>2</td>\n",
       "      <td>2020</td>\n",
       "    </tr>\n",
       "    <tr>\n",
       "      <td>2888</td>\n",
       "      <td>2020-02-14</td>\n",
       "      <td>intercites</td>\n",
       "      <td>Caen-Le Mans-Tours</td>\n",
       "      <td>NaN</td>\n",
       "      <td>NaN</td>\n",
       "      <td>14</td>\n",
       "      <td>2</td>\n",
       "      <td>2020</td>\n",
       "    </tr>\n",
       "    <tr>\n",
       "      <td>2904</td>\n",
       "      <td>2020-02-15</td>\n",
       "      <td>transilien</td>\n",
       "      <td>U</td>\n",
       "      <td>NaN</td>\n",
       "      <td>NaN</td>\n",
       "      <td>15</td>\n",
       "      <td>2</td>\n",
       "      <td>2020</td>\n",
       "    </tr>\n",
       "    <tr>\n",
       "      <td>2934</td>\n",
       "      <td>2020-02-15</td>\n",
       "      <td>intercites</td>\n",
       "      <td>Paris-Caen-Cherbourg Trouville/Deauville</td>\n",
       "      <td>NaN</td>\n",
       "      <td>NaN</td>\n",
       "      <td>15</td>\n",
       "      <td>2</td>\n",
       "      <td>2020</td>\n",
       "    </tr>\n",
       "    <tr>\n",
       "      <td>2935</td>\n",
       "      <td>2020-02-15</td>\n",
       "      <td>intercites</td>\n",
       "      <td>Paris-Rouen-Le Havre</td>\n",
       "      <td>NaN</td>\n",
       "      <td>NaN</td>\n",
       "      <td>15</td>\n",
       "      <td>2</td>\n",
       "      <td>2020</td>\n",
       "    </tr>\n",
       "    <tr>\n",
       "      <td>2936</td>\n",
       "      <td>2020-02-15</td>\n",
       "      <td>intercites</td>\n",
       "      <td>Paris-Granville</td>\n",
       "      <td>NaN</td>\n",
       "      <td>NaN</td>\n",
       "      <td>15</td>\n",
       "      <td>2</td>\n",
       "      <td>2020</td>\n",
       "    </tr>\n",
       "    <tr>\n",
       "      <td>2937</td>\n",
       "      <td>2020-02-15</td>\n",
       "      <td>intercites</td>\n",
       "      <td>Caen-Le Mans-Tours</td>\n",
       "      <td>NaN</td>\n",
       "      <td>NaN</td>\n",
       "      <td>15</td>\n",
       "      <td>2</td>\n",
       "      <td>2020</td>\n",
       "    </tr>\n",
       "    <tr>\n",
       "      <td>2938</td>\n",
       "      <td>2020-02-15</td>\n",
       "      <td>intercites</td>\n",
       "      <td>Paris-Toulouse-Latour De Carol/Cerbere/Rodez</td>\n",
       "      <td>NaN</td>\n",
       "      <td>NaN</td>\n",
       "      <td>15</td>\n",
       "      <td>2</td>\n",
       "      <td>2020</td>\n",
       "    </tr>\n",
       "    <tr>\n",
       "      <td>2983</td>\n",
       "      <td>2020-02-16</td>\n",
       "      <td>intercites</td>\n",
       "      <td>Paris-Caen-Cherbourg Trouville/Deauville</td>\n",
       "      <td>NaN</td>\n",
       "      <td>NaN</td>\n",
       "      <td>16</td>\n",
       "      <td>2</td>\n",
       "      <td>2020</td>\n",
       "    </tr>\n",
       "    <tr>\n",
       "      <td>2984</td>\n",
       "      <td>2020-02-16</td>\n",
       "      <td>intercites</td>\n",
       "      <td>Paris-Rouen-Le Havre</td>\n",
       "      <td>NaN</td>\n",
       "      <td>NaN</td>\n",
       "      <td>16</td>\n",
       "      <td>2</td>\n",
       "      <td>2020</td>\n",
       "    </tr>\n",
       "    <tr>\n",
       "      <td>2985</td>\n",
       "      <td>2020-02-16</td>\n",
       "      <td>intercites</td>\n",
       "      <td>Paris-Granville</td>\n",
       "      <td>NaN</td>\n",
       "      <td>NaN</td>\n",
       "      <td>16</td>\n",
       "      <td>2</td>\n",
       "      <td>2020</td>\n",
       "    </tr>\n",
       "    <tr>\n",
       "      <td>2986</td>\n",
       "      <td>2020-02-16</td>\n",
       "      <td>intercites</td>\n",
       "      <td>Caen-Le Mans-Tours</td>\n",
       "      <td>NaN</td>\n",
       "      <td>NaN</td>\n",
       "      <td>16</td>\n",
       "      <td>2</td>\n",
       "      <td>2020</td>\n",
       "    </tr>\n",
       "    <tr>\n",
       "      <td>3032</td>\n",
       "      <td>2020-02-17</td>\n",
       "      <td>intercites</td>\n",
       "      <td>Paris-Caen-Cherbourg Trouville/Deauville</td>\n",
       "      <td>NaN</td>\n",
       "      <td>NaN</td>\n",
       "      <td>17</td>\n",
       "      <td>2</td>\n",
       "      <td>2020</td>\n",
       "    </tr>\n",
       "    <tr>\n",
       "      <td>3033</td>\n",
       "      <td>2020-02-17</td>\n",
       "      <td>intercites</td>\n",
       "      <td>Paris-Rouen-Le Havre</td>\n",
       "      <td>NaN</td>\n",
       "      <td>NaN</td>\n",
       "      <td>17</td>\n",
       "      <td>2</td>\n",
       "      <td>2020</td>\n",
       "    </tr>\n",
       "    <tr>\n",
       "      <td>3034</td>\n",
       "      <td>2020-02-17</td>\n",
       "      <td>intercites</td>\n",
       "      <td>Paris-Granville</td>\n",
       "      <td>NaN</td>\n",
       "      <td>NaN</td>\n",
       "      <td>17</td>\n",
       "      <td>2</td>\n",
       "      <td>2020</td>\n",
       "    </tr>\n",
       "    <tr>\n",
       "      <td>3035</td>\n",
       "      <td>2020-02-17</td>\n",
       "      <td>intercites</td>\n",
       "      <td>Caen-Le Mans-Tours</td>\n",
       "      <td>NaN</td>\n",
       "      <td>NaN</td>\n",
       "      <td>17</td>\n",
       "      <td>2</td>\n",
       "      <td>2020</td>\n",
       "    </tr>\n",
       "    <tr>\n",
       "      <td>3081</td>\n",
       "      <td>2020-02-18</td>\n",
       "      <td>intercites</td>\n",
       "      <td>Paris-Caen-Cherbourg Trouville/Deauville</td>\n",
       "      <td>NaN</td>\n",
       "      <td>NaN</td>\n",
       "      <td>18</td>\n",
       "      <td>2</td>\n",
       "      <td>2020</td>\n",
       "    </tr>\n",
       "    <tr>\n",
       "      <td>3082</td>\n",
       "      <td>2020-02-18</td>\n",
       "      <td>intercites</td>\n",
       "      <td>Paris-Rouen-Le Havre</td>\n",
       "      <td>NaN</td>\n",
       "      <td>NaN</td>\n",
       "      <td>18</td>\n",
       "      <td>2</td>\n",
       "      <td>2020</td>\n",
       "    </tr>\n",
       "    <tr>\n",
       "      <td>3083</td>\n",
       "      <td>2020-02-18</td>\n",
       "      <td>intercites</td>\n",
       "      <td>Paris-Granville</td>\n",
       "      <td>NaN</td>\n",
       "      <td>NaN</td>\n",
       "      <td>18</td>\n",
       "      <td>2</td>\n",
       "      <td>2020</td>\n",
       "    </tr>\n",
       "    <tr>\n",
       "      <td>3084</td>\n",
       "      <td>2020-02-18</td>\n",
       "      <td>intercites</td>\n",
       "      <td>Caen-Le Mans-Tours</td>\n",
       "      <td>NaN</td>\n",
       "      <td>NaN</td>\n",
       "      <td>18</td>\n",
       "      <td>2</td>\n",
       "      <td>2020</td>\n",
       "    </tr>\n",
       "    <tr>\n",
       "      <td>3130</td>\n",
       "      <td>2020-02-19</td>\n",
       "      <td>intercites</td>\n",
       "      <td>Paris-Caen-Cherbourg Trouville/Deauville</td>\n",
       "      <td>NaN</td>\n",
       "      <td>NaN</td>\n",
       "      <td>19</td>\n",
       "      <td>2</td>\n",
       "      <td>2020</td>\n",
       "    </tr>\n",
       "    <tr>\n",
       "      <td>3131</td>\n",
       "      <td>2020-02-19</td>\n",
       "      <td>intercites</td>\n",
       "      <td>Paris-Rouen-Le Havre</td>\n",
       "      <td>NaN</td>\n",
       "      <td>NaN</td>\n",
       "      <td>19</td>\n",
       "      <td>2</td>\n",
       "      <td>2020</td>\n",
       "    </tr>\n",
       "    <tr>\n",
       "      <td>3132</td>\n",
       "      <td>2020-02-19</td>\n",
       "      <td>intercites</td>\n",
       "      <td>Paris-Granville</td>\n",
       "      <td>NaN</td>\n",
       "      <td>NaN</td>\n",
       "      <td>19</td>\n",
       "      <td>2</td>\n",
       "      <td>2020</td>\n",
       "    </tr>\n",
       "    <tr>\n",
       "      <td>3133</td>\n",
       "      <td>2020-02-19</td>\n",
       "      <td>intercites</td>\n",
       "      <td>Caen-Le Mans-Tours</td>\n",
       "      <td>NaN</td>\n",
       "      <td>NaN</td>\n",
       "      <td>19</td>\n",
       "      <td>2</td>\n",
       "      <td>2020</td>\n",
       "    </tr>\n",
       "    <tr>\n",
       "      <td>3558</td>\n",
       "      <td>2020-03-01</td>\n",
       "      <td>transilien</td>\n",
       "      <td>U</td>\n",
       "      <td>NaN</td>\n",
       "      <td>NaN</td>\n",
       "      <td>1</td>\n",
       "      <td>3</td>\n",
       "      <td>2020</td>\n",
       "    </tr>\n",
       "  </tbody>\n",
       "</table>\n",
       "</div>"
      ],
      "text/plain": [
       "           date famille_transport  \\\n",
       "538  2019-10-24        intercites   \n",
       "1092 2019-11-07        transilien   \n",
       "1827 2019-11-21        transilien   \n",
       "1974 2019-11-24        transilien   \n",
       "2708 2020-02-11        transilien   \n",
       "2885 2020-02-14        intercites   \n",
       "2886 2020-02-14        intercites   \n",
       "2887 2020-02-14        intercites   \n",
       "2888 2020-02-14        intercites   \n",
       "2904 2020-02-15        transilien   \n",
       "2934 2020-02-15        intercites   \n",
       "2935 2020-02-15        intercites   \n",
       "2936 2020-02-15        intercites   \n",
       "2937 2020-02-15        intercites   \n",
       "2938 2020-02-15        intercites   \n",
       "2983 2020-02-16        intercites   \n",
       "2984 2020-02-16        intercites   \n",
       "2985 2020-02-16        intercites   \n",
       "2986 2020-02-16        intercites   \n",
       "3032 2020-02-17        intercites   \n",
       "3033 2020-02-17        intercites   \n",
       "3034 2020-02-17        intercites   \n",
       "3035 2020-02-17        intercites   \n",
       "3081 2020-02-18        intercites   \n",
       "3082 2020-02-18        intercites   \n",
       "3083 2020-02-18        intercites   \n",
       "3084 2020-02-18        intercites   \n",
       "3130 2020-02-19        intercites   \n",
       "3131 2020-02-19        intercites   \n",
       "3132 2020-02-19        intercites   \n",
       "3133 2020-02-19        intercites   \n",
       "3558 2020-03-01        transilien   \n",
       "\n",
       "                                             ligne  regularite explication  \\\n",
       "538                                 Paris-Briançon         NaN         NaN   \n",
       "1092                                            T4         NaN         NaN   \n",
       "1827                                            T4         NaN         NaN   \n",
       "1974                                            T4         NaN         NaN   \n",
       "2708                                             U         NaN         NaN   \n",
       "2885      Paris-Caen-Cherbourg Trouville/Deauville         NaN         NaN   \n",
       "2886                          Paris-Rouen-Le Havre         NaN         NaN   \n",
       "2887                               Paris-Granville         NaN         NaN   \n",
       "2888                            Caen-Le Mans-Tours         NaN         NaN   \n",
       "2904                                             U         NaN         NaN   \n",
       "2934      Paris-Caen-Cherbourg Trouville/Deauville         NaN         NaN   \n",
       "2935                          Paris-Rouen-Le Havre         NaN         NaN   \n",
       "2936                               Paris-Granville         NaN         NaN   \n",
       "2937                            Caen-Le Mans-Tours         NaN         NaN   \n",
       "2938  Paris-Toulouse-Latour De Carol/Cerbere/Rodez         NaN         NaN   \n",
       "2983      Paris-Caen-Cherbourg Trouville/Deauville         NaN         NaN   \n",
       "2984                          Paris-Rouen-Le Havre         NaN         NaN   \n",
       "2985                               Paris-Granville         NaN         NaN   \n",
       "2986                            Caen-Le Mans-Tours         NaN         NaN   \n",
       "3032      Paris-Caen-Cherbourg Trouville/Deauville         NaN         NaN   \n",
       "3033                          Paris-Rouen-Le Havre         NaN         NaN   \n",
       "3034                               Paris-Granville         NaN         NaN   \n",
       "3035                            Caen-Le Mans-Tours         NaN         NaN   \n",
       "3081      Paris-Caen-Cherbourg Trouville/Deauville         NaN         NaN   \n",
       "3082                          Paris-Rouen-Le Havre         NaN         NaN   \n",
       "3083                               Paris-Granville         NaN         NaN   \n",
       "3084                            Caen-Le Mans-Tours         NaN         NaN   \n",
       "3130      Paris-Caen-Cherbourg Trouville/Deauville         NaN         NaN   \n",
       "3131                          Paris-Rouen-Le Havre         NaN         NaN   \n",
       "3132                               Paris-Granville         NaN         NaN   \n",
       "3133                            Caen-Le Mans-Tours         NaN         NaN   \n",
       "3558                                             U         NaN         NaN   \n",
       "\n",
       "      jour  mois  annee  \n",
       "538     24    10   2019  \n",
       "1092     7    11   2019  \n",
       "1827    21    11   2019  \n",
       "1974    24    11   2019  \n",
       "2708    11     2   2020  \n",
       "2885    14     2   2020  \n",
       "2886    14     2   2020  \n",
       "2887    14     2   2020  \n",
       "2888    14     2   2020  \n",
       "2904    15     2   2020  \n",
       "2934    15     2   2020  \n",
       "2935    15     2   2020  \n",
       "2936    15     2   2020  \n",
       "2937    15     2   2020  \n",
       "2938    15     2   2020  \n",
       "2983    16     2   2020  \n",
       "2984    16     2   2020  \n",
       "2985    16     2   2020  \n",
       "2986    16     2   2020  \n",
       "3032    17     2   2020  \n",
       "3033    17     2   2020  \n",
       "3034    17     2   2020  \n",
       "3035    17     2   2020  \n",
       "3081    18     2   2020  \n",
       "3082    18     2   2020  \n",
       "3083    18     2   2020  \n",
       "3084    18     2   2020  \n",
       "3130    19     2   2020  \n",
       "3131    19     2   2020  \n",
       "3132    19     2   2020  \n",
       "3133    19     2   2020  \n",
       "3558     1     3   2020  "
      ]
     },
     "execution_count": 794,
     "metadata": {},
     "output_type": "execute_result"
    }
   ],
   "source": [
    "df[pourquoi]"
   ]
  },
  {
   "cell_type": "code",
   "execution_count": null,
   "metadata": {},
   "outputs": [],
   "source": [
    "df[df.isna()]"
   ]
  },
  {
   "cell_type": "code",
   "execution_count": null,
   "metadata": {},
   "outputs": [],
   "source": []
  },
  {
   "cell_type": "code",
   "execution_count": null,
   "metadata": {},
   "outputs": [],
   "source": [
    "\n",
    "BeautifoulSoup\n",
    "Selenium webdriver API"
   ]
  },
  {
   "cell_type": "markdown",
   "metadata": {},
   "source": [
    "# Multicurseur"
   ]
  },
  {
   "cell_type": "markdown",
   "metadata": {},
   "source": [
    "alt + selection"
   ]
  },
  {
   "cell_type": "markdown",
   "metadata": {},
   "source": [
    "# magic commands"
   ]
  },
  {
   "cell_type": "code",
   "execution_count": 357,
   "metadata": {},
   "outputs": [
    {
     "name": "stdout",
     "output_type": "stream",
     "text": [
      "214 ns ± 3.68 ns per loop (mean ± std. dev. of 7 runs, 1000000 loops each)\n"
     ]
    }
   ],
   "source": [
    "%timeit  range(10000000)"
   ]
  },
  {
   "cell_type": "code",
   "execution_count": 342,
   "metadata": {
    "scrolled": true
   },
   "outputs": [
    {
     "name": "stdout",
     "output_type": "stream",
     "text": [
      "url_incidents = \"https://www.data.gouv.fr/fr/datasets/r/a7e77e63-518e-4429-88ac-0e7255a77fc3\"\n",
      "url_regularites = \"https://www.data.gouv.fr/fr/datasets/r/2a4f7375-e090-4fbb-bea4-ea280a2d1028\"\n",
      "!pip install wget\n",
      "import wget\n",
      "wget.download(url_incidents, out='incidents.csv')\n",
      "!ls\n",
      "!wget --help\n",
      "!wget https://www.data.gouv.fr/fr/datasets/r/a7e77e63-518e-4429-88ac-0e7255a77fc3\n",
      "!wget https://www.data.gouv.fr/fr/datasets/r/a7e77e63-518e-4429-88ac-0e7255a77fc3 -o \"test.csv\"\n",
      "!wget https://www.data.gouv.fr/fr/datasets/r/a7e77e63-518e-4429-88ac-0e7255a77fc3 -o test.csv\n",
      "!ls\n",
      "import pandas as pd\n",
      "pd.read_csv(\"https://www.data.gouv.fr/fr/datasets/r/a7e77e63-518e-4429-88ac-0e7255a77fc3\")\n",
      "pd.read_csv(\"./incidents.csv\")\n",
      "!head -n 2 incidents.csv\n",
      "pd.read_csv(\"https://www.data.gouv.fr/fr/datasets/r/a7e77e63-518e-4429-88ac-0e7255a77fc3\", sep=';')\n",
      "pd.read_csv(\"https://www.data.gouv.fr/fr/datasets/r/a7e77e63-518e-4429-88ac-0e7255a77fc3\", sep=',')\n",
      "df = pd.read_csv(\"https://www.data.gouv.fr/fr/datasets/r/a7e77e63-518e-4429-88ac-0e7255a77fc3\", sep=',')\n",
      "df\n",
      "df.shape\n",
      "type(df.shape)\n",
      "df.shape\n",
      "df.dtypes\n",
      "df.head(3)\n",
      "df.describe()\n",
      "df.famille_transport.value_counts()\n",
      "df.famille_transport.value_counts().tolist()\n",
      "sum(df.famille_transport.value_counts().tolist())\n",
      "import pandas\n",
      "import regex asre\n",
      "import regex as re\n",
      "import sklearn\n",
      "import tf\n",
      "import tensorflow as tf\n",
      "dfe\n",
      "df\n",
      "df.famille_transport.value_counts()\n",
      "df.famille_transport\n",
      "df.famille_transport.value_counts()\n",
      "type(df.famille_transport.value_counts())\n",
      "df.famille_transport.value_counts()\n",
      "df.famille_transport.value_counts()\n",
      "df.famille_transport.value_counts().plot(kind='bar')\n",
      "%matplotlib inline\n",
      "df.famille_transport.value_counts().plot(kind='bar')\n",
      "type(df)\n",
      "type(df.columns)\n",
      "df.columns\n",
      "df = pd.read_csv(\"https://www.data.gouv.fr/fr/datasets/r/a7e77e63-518e-4429-88ac-0e7255a77fc3\", \n",
      "                 sep=',', \n",
      "                 cols=['test1','test2', 'test3', 'test4'])\n",
      "df = pd.read_csv(\"https://www.data.gouv.fr/fr/datasets/r/a7e77e63-518e-4429-88ac-0e7255a77fc3\", \n",
      "                 sep=',', \n",
      "                 columns=['test1','test2', 'test3', 'test4'])\n",
      "df = pd.read_csv(\"https://www.data.gouv.fr/fr/datasets/r/a7e77e63-518e-4429-88ac-0e7255a77fc3\", \n",
      "                 sep=',', \n",
      "                 usecols=['test1','test2', 'test3', 'test4'])\n",
      "df = pd.read_csv(\"https://www.data.gouv.fr/fr/datasets/r/a7e77e63-518e-4429-88ac-0e7255a77fc3\", \n",
      "                 sep=',', \n",
      "                 usecols=['date'])\n",
      "df\n",
      "df = pd.read_csv(\"https://www.data.gouv.fr/fr/datasets/r/a7e77e63-518e-4429-88ac-0e7255a77fc3\", \n",
      "                 sep=',', names=['test1', 'test3', 'test2', 'test4'])\n",
      "df\n",
      "df\n",
      "df.to_csv(\"ind.csv\")\n",
      "df\n",
      "df\n",
      "df = pd.read_csv(\"https://www.data.gouv.fr/fr/datasets/r/a7e77e63-518e-4429-88ac-0e7255a77fc3\", \n",
      "                 sep=',')\n",
      "df\n",
      "df.incidents\n",
      "df.incidents[0]\n",
      "df.incidents[1]\n",
      "df\n",
      "!curl --help\n",
      "! curl $url_incidents --output incidentsss.csv\n",
      "url_incidents = \"https://static.data.gouv.fr/resources/regularite-quotidienne-lignes-sncf/20200323-211549/incidents.csv\"\n",
      "!curl $url_incidents --output incidentsss.csv\n",
      "!head -n 2 incidents.csv\n",
      "!curl $url_incidents --output incidents.csv\n",
      "!head -n 2 incidents.csv\n",
      "df = pd.read_csv(\"https://www.data.gouv.fr/fr/datasets/r/a7e77e63-518e-4429-88ac-0e7255a77fc3\", sep=',')\n",
      "df\n",
      "df.index\n",
      "df.set_index(range(1,3745))\n",
      "df.index = range(1,3475)\n",
      "df.index = range(1,3476)\n",
      "df.index = range(1,3476)\n",
      "df.reindex(labels= range(1,3476))\n",
      "df.reindex(labels= range(1,3476*2,2))\n",
      "df.loc[3, [\"date\"]]\n",
      "df.reindex(labels= range(1,3476*2,2))\n",
      "df.loc[3, [\"date\"]]\n",
      "type(df.loc[3, [\"date\"]])\n",
      "type(df.loc[3, [\"date\", \"famille_transport\"]])\n",
      "df.loc[3, [\"date\", \"famille_transport\"]]\n",
      "type(df.loc[3:6, [\"date\", \"famille_transport\"]])\n",
      "df.loc[3:6, [\"date\", \"famille_transport\"]]\n",
      "df.loc[3:6, [\"date\", \"famille_transport\"]]\n",
      "df.loc[3:6, [\"date\", \"famille_transport\"]]\n",
      "df.iloc[3:6, [\"date\"]]\n",
      "df.iloc[3:6, [1,2]]\n",
      "df.iloc[3:6, [,2,3]]\n",
      "df.iloc[3:6, [2,3]]\n",
      "df.iloc[3:6, [0,1]]\n",
      "df.loc[3:6, [\"date\", \"ligne\"]]\n",
      "df.iloc[3:6, [0,2]]\n",
      "df.reindex(labels= range(1,3476*2,2), inplace=True)\n",
      "df.reindex(labels= range(1,3476*2,2))\n",
      "df = df.reindex(labels= range(1,3476*2,2))\n",
      "df.loc[3:6, [\"date\", \"ligne\"]]\n",
      "df.iloc[3:6, [0,2]]\n",
      "df\n",
      "df.loc[[3,6], [\"date\", \"ligne\"]]\n",
      "df.loc[[3,7], [\"date\", \"ligne\"]]\n",
      "df.iloc[[3,7, [0,2]]\n",
      "df.iloc[[3,7], [0,2]]\n",
      "df.head(10)\n",
      "df.loc[3:5, [\"date\", \"ligne\"]]\n",
      "df.iloc[[3:7], [0,2]]\n",
      "df.iloc[3:7, [0,2]]\n",
      "df.loc[3:6, [\"date\", \"ligne\"]]\n",
      "df.loc[3:7, [\"date\", \"ligne\"]]\n",
      "df.loc[3:8, [\"date\", \"ligne\"]]\n",
      "df.loc[3:5, [\"date\", \"ligne\"]]\n",
      "df.loc[[3,4], [\"date\", \"ligne\"]]\n",
      "df.loc[[3,4,5], [\"date\", \"ligne\"]]\n",
      "df.loc[[3,4,5], [\"date\", \"ligne\"]]\n",
      "df.loc[df[\"ligne\"] == \"B\"]\n",
      "df.loc[df[\"ligne\"].lower() == \"b\"]\n",
      "df.loc[df[\"ligne\"].apply(lower) == \"B\"]\n",
      "df.loc[df[\"ligne\"].str.lower() == \"B\"]\n",
      "df.loc[df[\"ligne\"].apply(lambda x: x.lower()) == \"B\"]\n",
      "df[\"ligne\"].apply(lambda x: x.lower())\n",
      "df[\"ligne\"].astype(str).apply(lambda x: x.lower())\n",
      "df\n",
      "df.columns\n",
      "df.columns =[\"test1\",\"test2\",\"test4\", \"test3\"]\n",
      "df\n",
      "!curl --help\n",
      "!curl $url_incidents --output incidents.csv\n",
      "!head -n 2 incidents.csv\n",
      "df = pd.read_csv(\"./incidents.csv\", sep=',')\n",
      "df\n",
      "jefaisunevariable = 2\n",
      "df = pd.read_csv(\"./incidents.csv\", sep=',')\n",
      "df\n",
      "df.columns\n",
      "df.columns = [\"date\", \"test\", \"test3\", \"test2\"]\n",
      "df\n",
      "df = pd.read_csv(\"./incidents.csv\", sep=',')\n",
      "df\n",
      "df.columns\n",
      "df.columns = [\"date\", \"test\", \"test3\", \"test2\"]\n",
      "df\n",
      "df.index\n",
      "range(1,1000)\n",
      "list(range(1,1000))\n",
      "df.reindex(labels= range(1, 3745))\n",
      "df.reindex(labels= range(1, 3744))\n",
      "df.reindex(labels= range(1, 3745))\n",
      "df.reindex(labels= range(1, 3746))\n",
      "df.reindex(labels= range(0, 3746))\n",
      "df.reindex(labels= range(0, 3745))\n",
      "df.reindex(labels = range(1, 3745*2, 2))\n",
      "df.index\n",
      "df.index = range(1, 3745*2, 2)\n",
      "df\n",
      "df.head()\n",
      "df.head(10)\n",
      "# df.loc[ label ou conditions sur les lignes,    labels ou conditions sur les colonnes ]\n",
      "df.loc[  3 , \"test\"   ]\n",
      "type(df.loc[  3 , \"test\"   ])\n",
      "df.loc[  3 , \"test\"   ]\n",
      "df.loc[ [3,11,13] ,  \"test\"  ]\n",
      "type(df.loc[ [3,11,13] ,  \"test\"  ])\n",
      "df.loc[ [3,11,13] ,  \"test\"  ]\n",
      "df.loc[ [3,11,13] ,  \"test\"  ].tolist()\n",
      "df.loc[ [3,11,13] ,  \"test\"  ]\n",
      "df.loc[ [3,11,13] ,  \"test2\"  ]\n",
      "df.loc[  [3,11], [\"test\", \"test3\"]  ]\n",
      "df.loc[  [3,11], [\"test\", \"test2\"]  ]\n",
      "type(df.loc[  [3,11], [\"test\", \"test2\"]  ])\n",
      "type(df)\n",
      "df.loc[  [3,11], [\"test\", \"test2\"]  ]\n",
      "nouveau_df = df.loc[  [3,11], [\"test\", \"test2\"]  ]\n",
      "nouveau_df\n",
      "nouvea\n",
      "nouveau_df.shape\n",
      "df.head()\n",
      "df[    df[\"test3\"] == \"B\"      , [\"test\", \"test2\"]]\n",
      "df.loc[    df[\"test3\"] == \"B\"      , [\"test\", \"test2\"]]\n",
      "df.loc[    df[\"test3\"] == \"B\"      , [\"test3\", \"test2\"]]\n",
      "df[df[\"test3\"] == \"B\"]\n",
      "df[df[\"test3\"] ==\"B\"]\n",
      "new_subset= df[df[\"test3\"] ==\"B\"]\n",
      "new_subset\n",
      "df.loc[3:11, [\"date\", \"test3\"]]\n",
      "df.iloc[2, [\"date\", \"test3\"]]\n",
      "df.iloc[2, [1, 3]]\n",
      "df.iloc[[2, 3], [1, 3]]\n",
      "df.loc[4]\n",
      "df.loc[4, \"test\"]\n",
      "df.head()\n",
      "df.loc[3, \"test\"]\n",
      "df.loc[3, :]\n",
      "df.loc[3]\n",
      "df.loc[3] #df.loc[3,:]\n",
      "df.loc[4] #df.loc[3,:]\n",
      "df.loc[3] #df.loc[3,:]\n",
      "df.iloc[2:5]\n",
      "pd.concat([df,  [  1,2,3,4 ] ])\n",
      "pd.concat([df,  pd.Series([  1,2,3,4 ])] )\n",
      "pd.concat([df,  pd.Series([  1,2,3,4 ])].T,  )\n",
      "pd.concat([df,  pd.Series([  1,2,3,4 ])].to_frame().T,  )\n",
      "pd.concat([df,  pd.Series([  1,2,3,4 ]).to_frame().T]  )\n",
      "pd.concat([df,  pd.Series([  1,2,3,4 ], index=[\"date\",\"test\", \"test2\", \"test3\"]).to_frame().T],  )\n",
      "#pd.concat([df,  pd.Series([  1,2,3,4 ], index=[\"date\",\"test\", \"test2\", \"test3\"]).to_frame().T],  )\n",
      "df.loc[3]\n",
      "df\n",
      "df\n",
      "df\n",
      "df\n",
      "df.loc[3] = [\"2019-01-20\", \"intercités\", \"C\"]\n",
      "df.loc[3] = [\"2019-01-20\", \"intercités\", \"C\", [\"défaut de signalisation\"]]\n",
      "df\n",
      "df.loc[4] = [\"2019-01-20\", \"intercités\", \"C\", [\"défaut de signalisation\"]]\n",
      "df\n",
      "df.sort_index()\n",
      "df.reset_index()\n",
      "df.reset_index(drop=True)\n",
      "#df.reset_index(drop=True)\n",
      "df.loc[4, \"test\"] = \"intercités\"\n",
      "df\n",
      "df.loc[4, \"test\"] = \"Afaefaef\"\n",
      "df\n",
      "pd.Series(   [  1,2,3,4 ])\n",
      "pd.concat(  [  df, pd.Series(   [  1,2,3,4 ]    )\n",
      "pd.concat(  [  df, pd.Series(   [  1,2,3,4 ]    )]  )\n",
      "df\n",
      "nouveau_df\n",
      "nouveau_df = df.loc[ [3,5],   : ]\n",
      "nouveau_df\n",
      "nouveau_df.shape\n",
      "df.shape\n",
      "df\n",
      "nouveau_df\n",
      "pd.concat( objs=  [ df, nouveau_df  ],  axis=0 )\n",
      "pd.concat([ df, nouveau_df , nouveau_df, nouveau_df],  axis=0 )\n",
      "maligne = [\"2019-01-23\",\"transilien A\",['Défaut de signalisation entre Nation et Auber']\n",
      "maligne = [\"2019-01-23\",\"transilien A\",['Défaut de signalisation entre Nation et Auber']]\n",
      "maligne\n",
      "pd.Series( maligne)\n",
      "pd.Series( maligne , index=df.columns)\n",
      "maligne = [\"2019-01-23\",\"transilien\", \"A\",['Défaut de signalisation entre Nation et Auber']]\n",
      "maligne\n",
      "pd.Series( maligne , index=df.columns)\n",
      "pd.Series( maligne , index=df.columns)\n",
      "pd.Series( maligne , index=df.columns).to_frame()\n",
      "pd.Series( maligne , index=df.columns).to_frame().T\n",
      "new_line_df = pd.Series( maligne , index=df.columns).to_frame().T\n",
      "new_line_df = pd.Series( maligne , index=df.columns).to_frame().T\n",
      "new_line_df\n",
      "pd.concat([ df, new_line_df],  axis=0 )\n",
      " pd.Series( maligne , index=df.columns)\n",
      "df.reset_index()\n",
      "df.index\n",
      "df\n",
      "df.reset_index(inplace=True)\n",
      "df\n",
      "df.index\n",
      "df\n",
      "df.reset_index(inplace=True, drop=True)\n",
      "df\n",
      "df = pd.read_csv(\"./incidents.csv\", sep=',')\n",
      "df\n",
      "df\n",
      "df.index = range(1, 3745*2, 2)\n",
      "df\n",
      "df.reset_index(drop=True)\n",
      "df.reset_index()\n",
      "df.reset_index(drop=True)\n",
      "df.reset_index()\n",
      "df.reset_index(drop=True)\n",
      "df.reset_index(inplace=True, drop=True)\n",
      "df\n",
      "pd.read_csv(\"./incidents.csv\")\n",
      "#pd.read_csv(\"./incidents.csv\") # ou avec une url\n",
      "#pd.read_csv(\"./incidents.csv\") # ou avec une url voir ci-dessus les 2 approches que l'on a utilisé\n",
      "#pd.read_csv(\"./incidents.csv\") # ou avec une url voir ci-dessus les 2 approches que l'on a utilisées\n",
      "df2 = pd.DataFrame({ 'test' : [2,3,4,5]})\n",
      "df2\n",
      "df2 = pd.DataFrame({ 'test' : [2,3,4,5],  'test2': [4,5,2,2] })\n",
      "df2\n",
      "df2 = pd.DataFrame({ 'test' : [2,3,4,5],  'test2': [4,5,2,2] , 'test3': [5,3,4,3]})\n",
      "df2\n",
      "df2 = pd.DataFrame({ 'test' : [2,3,3,5],  'test2': [4,5,2,2] , 'test3': [5,3,4,3]})\n",
      "df2\n",
      "df2 = pd.DataFrame({ 'test' : [2,3,3,5,5],  'test2': [4,5,2,2] , 'test3': [5,3,4,3]})\n",
      "df2 = pd.DataFrame({ 'test' : [2,3,3,5,5],  'test2': [4,5,2,2, 2] , 'test3': [5,3,4,3, 9]})\n",
      "df2\n",
      "## masks\n",
      "!git remote -v\n",
      "!git add td2_pandas_introduction.ipynb\n",
      "!git commit -m \"td2 manipulation légère de pandas\"\n",
      "!git push origin master\n",
      "df.dtypes\n",
      "df2.dtypes\n",
      "df2.loc[  1   ,   \"test2\"  ]\n",
      "df2.loc[  1   ,   \"test2\"  ] = \"bonjour\"\n",
      "df2\n",
      "df2.dtypes\n",
      "df2[\"test\"] #df2[nomdelacolonne]\n",
      "df2.test #df2.nomdelacolonne\n",
      "df[   df[\"test\"] > 2 ]\n",
      "df2[   df2[\"test\"] > 2 ]\n",
      "df.loc[df2[\"test\"] > 2 , :]\n",
      "df.loc[df2[\"test\"] > 2 ]\n",
      "df2.loc[df2[\"test\"] > 2 , :]\n",
      "df[\"test\"] #df[nomdelacolonne]\n",
      "df.test #df.nomdelacolonne\n",
      "df.columns = [\"date\", \"test\", \"test3\", \"test2\"]\n",
      "df\n",
      "df[\"test\"] #df[nomdelacolonne]\n",
      "df.test #df.nomdelacolonne\n",
      "def square(x):\n",
      "    return x**2\n",
      "square(4)\n",
      "df2.test\n",
      "type(df2.test)\n",
      "df2.test\n",
      "list(map(square ,  [2,3,4]))\n",
      "map(square ,  [2,3,4])\n",
      "list(map(square ,  [2,3,4]))\n",
      "tuple(map(square ,  [2,3,4]))\n",
      "df2.test.apply(square)\n",
      "df2\n",
      "square = lambda x: x**2\n",
      "df2.test.apply(lambda x: x**2)\n",
      "df2.test.apply(lambda x: x**2)\n",
      "df2\n",
      "df2.test = df2.test.apply(lambda x: x**2)\n",
      "df2.test\n",
      "df2\n",
      "df2[\"test\"] = df2.test.apply(lambda x: x**2)\n",
      "df2\n",
      "df2[\"test\"] = df2.test.apply(lambda x: x**2)\n",
      "df2\n",
      "df\n",
      "%matplotlib inline\n",
      "df\n",
      "%history\n",
      "df.famille_transport.value_counts()\n",
      "df.famille_transport.value_counts()\n",
      "%matplotlib inline\n",
      "df.famille_transport.value_counts()\n",
      "%history\n"
     ]
    }
   ],
   "source": [
    "# magic command pour l'historiques des commandes écrites soumises au kernel\n",
    "%history"
   ]
  },
  {
   "cell_type": "code",
   "execution_count": 340,
   "metadata": {},
   "outputs": [],
   "source": [
    "%matplotlib inline"
   ]
  },
  {
   "cell_type": "code",
   "execution_count": 44,
   "metadata": {},
   "outputs": [
    {
     "data": {
      "text/plain": [
       "<matplotlib.axes._subplots.AxesSubplot at 0xd290c1da0>"
      ]
     },
     "execution_count": 44,
     "metadata": {},
     "output_type": "execute_result"
    },
    {
     "data": {
      "image/png": "[encoded data removed]",
      "text/plain": [
       "<Figure size 432x288 with 1 Axes>"
      ]
     },
     "metadata": {},
     "output_type": "display_data"
    }
   ],
   "source": [
    "df.famille_transport.value_counts().plot(kind='bar')"
   ]
  },
  {
   "cell_type": "code",
   "execution_count": 336,
   "metadata": {},
   "outputs": [
    {
     "data": {
      "text/html": [
       "<div>\n",
       "<style scoped>\n",
       "    .dataframe tbody tr th:only-of-type {\n",
       "        vertical-align: middle;\n",
       "    }\n",
       "\n",
       "    .dataframe tbody tr th {\n",
       "        vertical-align: top;\n",
       "    }\n",
       "\n",
       "    .dataframe thead th {\n",
       "        text-align: right;\n",
       "    }\n",
       "</style>\n",
       "<table border=\"1\" class=\"dataframe\">\n",
       "  <thead>\n",
       "    <tr style=\"text-align: right;\">\n",
       "      <th></th>\n",
       "      <th>date</th>\n",
       "      <th>test</th>\n",
       "      <th>test3</th>\n",
       "      <th>test2</th>\n",
       "    </tr>\n",
       "  </thead>\n",
       "  <tbody>\n",
       "    <tr>\n",
       "      <td>0</td>\n",
       "      <td>2019-01-23</td>\n",
       "      <td>transilien</td>\n",
       "      <td>A</td>\n",
       "      <td>['Défaut de signalisation entre Nation et Aube...</td>\n",
       "    </tr>\n",
       "    <tr>\n",
       "      <td>1</td>\n",
       "      <td>2019-01-23</td>\n",
       "      <td>transilien</td>\n",
       "      <td>B</td>\n",
       "      <td>['Intervention de police à Gare-du-Nord pour u...</td>\n",
       "    </tr>\n",
       "    <tr>\n",
       "      <td>2</td>\n",
       "      <td>2019-01-23</td>\n",
       "      <td>transilien</td>\n",
       "      <td>C</td>\n",
       "      <td>[\"Signal d'alarme à Bibiliothèque-François-Mit...</td>\n",
       "    </tr>\n",
       "    <tr>\n",
       "      <td>3</td>\n",
       "      <td>2019-01-23</td>\n",
       "      <td>transilien</td>\n",
       "      <td>D</td>\n",
       "      <td>['Restitution tardive de travaux de nuit à Com...</td>\n",
       "    </tr>\n",
       "    <tr>\n",
       "      <td>4</td>\n",
       "      <td>2019-01-23</td>\n",
       "      <td>transilien</td>\n",
       "      <td>E</td>\n",
       "      <td>[\"Signaux d'alarme malveillants à Haussamann-S...</td>\n",
       "    </tr>\n",
       "    <tr>\n",
       "      <td>...</td>\n",
       "      <td>...</td>\n",
       "      <td>...</td>\n",
       "      <td>...</td>\n",
       "      <td>...</td>\n",
       "    </tr>\n",
       "    <tr>\n",
       "      <td>3740</td>\n",
       "      <td>2020-03-13</td>\n",
       "      <td>intercites</td>\n",
       "      <td>Nantes-Lyon</td>\n",
       "      <td>[\"Présence d'individus sur le pont-rail du Rhô...</td>\n",
       "    </tr>\n",
       "    <tr>\n",
       "      <td>3741</td>\n",
       "      <td>2020-03-13</td>\n",
       "      <td>intercites</td>\n",
       "      <td>Toulouse-Bayonne</td>\n",
       "      <td>NaN</td>\n",
       "    </tr>\n",
       "    <tr>\n",
       "      <td>3742</td>\n",
       "      <td>2020-03-13</td>\n",
       "      <td>intercites</td>\n",
       "      <td>Clermont-Béziers</td>\n",
       "      <td>NaN</td>\n",
       "    </tr>\n",
       "    <tr>\n",
       "      <td>3743</td>\n",
       "      <td>2020-03-13</td>\n",
       "      <td>intercites</td>\n",
       "      <td>Paris-Toulouse-Latour De Carol/Cerbere/Rodez</td>\n",
       "      <td>NaN</td>\n",
       "    </tr>\n",
       "    <tr>\n",
       "      <td>3744</td>\n",
       "      <td>2020-03-13</td>\n",
       "      <td>intercites</td>\n",
       "      <td>Paris-Briançon</td>\n",
       "      <td>NaN</td>\n",
       "    </tr>\n",
       "  </tbody>\n",
       "</table>\n",
       "<p>3745 rows × 4 columns</p>\n",
       "</div>"
      ],
      "text/plain": [
       "            date        test                                         test3  \\\n",
       "0     2019-01-23  transilien                                             A   \n",
       "1     2019-01-23  transilien                                             B   \n",
       "2     2019-01-23  transilien                                             C   \n",
       "3     2019-01-23  transilien                                             D   \n",
       "4     2019-01-23  transilien                                             E   \n",
       "...          ...         ...                                           ...   \n",
       "3740  2020-03-13  intercites                                   Nantes-Lyon   \n",
       "3741  2020-03-13  intercites                              Toulouse-Bayonne   \n",
       "3742  2020-03-13  intercites                              Clermont-Béziers   \n",
       "3743  2020-03-13  intercites  Paris-Toulouse-Latour De Carol/Cerbere/Rodez   \n",
       "3744  2020-03-13  intercites                                Paris-Briançon   \n",
       "\n",
       "                                                  test2  \n",
       "0     ['Défaut de signalisation entre Nation et Aube...  \n",
       "1     ['Intervention de police à Gare-du-Nord pour u...  \n",
       "2     [\"Signal d'alarme à Bibiliothèque-François-Mit...  \n",
       "3     ['Restitution tardive de travaux de nuit à Com...  \n",
       "4     [\"Signaux d'alarme malveillants à Haussamann-S...  \n",
       "...                                                 ...  \n",
       "3740  [\"Présence d'individus sur le pont-rail du Rhô...  \n",
       "3741                                                NaN  \n",
       "3742                                                NaN  \n",
       "3743                                                NaN  \n",
       "3744                                                NaN  \n",
       "\n",
       "[3745 rows x 4 columns]"
      ]
     },
     "execution_count": 336,
     "metadata": {},
     "output_type": "execute_result"
    }
   ],
   "source": [
    "df"
   ]
  },
  {
   "cell_type": "code",
   "execution_count": 74,
   "metadata": {},
   "outputs": [
    {
     "data": {
      "text/plain": [
       "RangeIndex(start=0, stop=3745, step=1)"
      ]
     },
     "execution_count": 74,
     "metadata": {},
     "output_type": "execute_result"
    }
   ],
   "source": [
    "df.index"
   ]
  },
  {
   "cell_type": "code",
   "execution_count": null,
   "metadata": {},
   "outputs": [],
   "source": []
  },
  {
   "cell_type": "code",
   "execution_count": null,
   "metadata": {},
   "outputs": [],
   "source": []
  },
  {
   "cell_type": "code",
   "execution_count": null,
   "metadata": {},
   "outputs": [],
   "source": []
  },
  {
   "cell_type": "code",
   "execution_count": null,
   "metadata": {},
   "outputs": [],
   "source": []
  },
  {
   "cell_type": "code",
   "execution_count": null,
   "metadata": {},
   "outputs": [],
   "source": []
  },
  {
   "cell_type": "code",
   "execution_count": null,
   "metadata": {},
   "outputs": [],
   "source": []
  },
  {
   "cell_type": "code",
   "execution_count": 399,
   "metadata": {},
   "outputs": [
    {
     "name": "stdout",
     "output_type": "stream",
     "text": [
      "origin\thttps://github.com/Luc-Bertin/test.git (fetch)\r\n",
      "origin\thttps://github.com/Luc-Bertin/test.git (push)\r\n"
     ]
    }
   ],
   "source": [
    "!git remote -v"
   ]
  },
  {
   "cell_type": "code",
   "execution_count": 400,
   "metadata": {},
   "outputs": [],
   "source": [
    "!git add td2_pandas_introduction.ipynb"
   ]
  },
  {
   "cell_type": "code",
   "execution_count": 401,
   "metadata": {},
   "outputs": [
    {
     "name": "stdout",
     "output_type": "stream",
     "text": [
      "[master f47c6dd] td2 manipulation légère de pandas\r\n",
      " 1 file changed, 1456 insertions(+), 288 deletions(-)\r\n"
     ]
    }
   ],
   "source": [
    "!git commit -m \"td2 manipulation légère de pandas\""
   ]
  },
  {
   "cell_type": "code",
   "execution_count": 402,
   "metadata": {},
   "outputs": [
    {
     "name": "stdout",
     "output_type": "stream",
     "text": [
      "Enumerating objects: 5, done.\n",
      "Counting objects: 100% (5/5), done.\n",
      "Delta compression using up to 8 threads\n",
      "Compressing objects: 100% (3/3), done.\n",
      "Writing objects: 100% (3/3), 5.29 KiB | 2.64 MiB/s, done.\n",
      "Total 3 (delta 2), reused 0 (delta 0)\n",
      "remote: Resolving deltas: 100% (2/2), completed with 2 local objects.\u001b[K\n",
      "To https://github.com/Luc-Bertin/test.git\n",
      "   03c1f4b..f47c6dd  master -> master\n"
     ]
    }
   ],
   "source": [
    "!git push origin master"
   ]
  },
  {
   "cell_type": "code",
   "execution_count": null,
   "metadata": {},
   "outputs": [],
   "source": []
  }
 ],
 "metadata": {
  "kernelspec": {
   "display_name": "Python 3",
   "language": "python",
   "name": "python3"
  },
  "language_info": {
   "codemirror_mode": {
    "name": "ipython",
    "version": 3
   },
   "file_extension": ".py",
   "mimetype": "text/x-python",
   "name": "python",
   "nbconvert_exporter": "python",
   "pygments_lexer": "ipython3",
   "version": "3.6.8"
  }
 },
 "nbformat": 4,
 "nbformat_minor": 2
}
