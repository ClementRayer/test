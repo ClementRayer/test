{
 "cells": [
  {
   "cell_type": "code",
   "execution_count": 1,
   "metadata": {},
   "outputs": [],
   "source": [
    "url = \"https://www.afm-telethon.fr/telethon/bref/parrains-resultats-telethon-1379\""
   ]
  },
  {
   "cell_type": "code",
   "execution_count": 4,
   "metadata": {},
   "outputs": [],
   "source": [
    "import requests as req\n",
    "from bs4 import BeautifulSoup"
   ]
  },
  {
   "cell_type": "markdown",
   "metadata": {},
   "source": [
    "## 1. faire une requete http GET sur l'url "
   ]
  },
  {
   "cell_type": "code",
   "execution_count": 16,
   "metadata": {},
   "outputs": [],
   "source": [
    "reponse = req.get(url)"
   ]
  },
  {
   "cell_type": "code",
   "execution_count": 17,
   "metadata": {},
   "outputs": [
    {
     "data": {
      "text/plain": [
       "(200, True)"
      ]
     },
     "execution_count": 17,
     "metadata": {},
     "output_type": "execute_result"
    }
   ],
   "source": [
    "reponse.status_code, reponse.ok # la réponse est OK"
   ]
  },
  {
   "cell_type": "markdown",
   "metadata": {},
   "source": [
    "## 2. regarder le contenu de la réponse "
   ]
  },
  {
   "cell_type": "code",
   "execution_count": 19,
   "metadata": {},
   "outputs": [],
   "source": [
    "html = reponse.content"
   ]
  },
  {
   "cell_type": "code",
   "execution_count": 22,
   "metadata": {},
   "outputs": [],
   "source": [
    "soup = BeautifulSoup(html, \"html.parser\")"
   ]
  },
  {
   "cell_type": "code",
   "execution_count": 28,
   "metadata": {},
   "outputs": [],
   "source": [
    "# soup.prettify() # affichage plus sympathique"
   ]
  },
  {
   "cell_type": "markdown",
   "metadata": {},
   "source": [
    "## 3. exemple1, récupérer tous les liens de la page"
   ]
  },
  {
   "cell_type": "markdown",
   "metadata": {},
   "source": [
    "### Using CSS Selectors\n",
    "You can also search for items using CSS selectors. These selectors are how the CSS language allows developers to specify HTML tags to style. \n",
    "Here are some examples:\n",
    "* p a — finds all a tags inside of a p tag.\n",
    "* body p a — finds all a tags inside of a p tag inside of a body tag.\n",
    "* html body — finds all body tags inside of an html tag.\n",
    "* p.outer-text — finds all p tags with a class of outer-text.\n",
    "* p#first — finds all p tags with an id of first.\n",
    "* body p.outer-text — finds any p tags with a class of outer-text inside of a body tag."
   ]
  },
  {
   "cell_type": "code",
   "execution_count": 29,
   "metadata": {},
   "outputs": [
    {
     "data": {
      "text/plain": [
       "[<p>Le compteur du Téléthon est à l’image de la mobilisation de tous. Il cumule les promesses de don par téléphone au 36 37, par internet sur <a href=\"http://www.telethon.fr/\" style=\"line-height: 1.538em;\">www.telethon.fr</a>, la collecte dans les animations locales et les dons des partenaires.</p>,\n",
       " <p>Retrouvez ci-dessous la liste des parrains du Téléthon depuis 1987 :</p>,\n",
       " <p>Montant collecté</p>,\n",
       " <p>  </p>]"
      ]
     },
     "execution_count": 29,
     "metadata": {},
     "output_type": "execute_result"
    }
   ],
   "source": [
    "soup.select(\"div.field-item p\")"
   ]
  },
  {
   "cell_type": "code",
   "execution_count": 33,
   "metadata": {},
   "outputs": [],
   "source": [
    "output = soup.select(\"tr td\")"
   ]
  },
  {
   "cell_type": "code",
   "execution_count": 34,
   "metadata": {},
   "outputs": [
    {
     "data": {
      "text/plain": [
       "list"
      ]
     },
     "execution_count": 34,
     "metadata": {},
     "output_type": "execute_result"
    }
   ],
   "source": [
    "type(output)"
   ]
  },
  {
   "cell_type": "code",
   "execution_count": 38,
   "metadata": {},
   "outputs": [
    {
     "name": "stdout",
     "output_type": "stream",
     "text": [
      "<class 'bs4.element.Tag'>\n"
     ]
    }
   ],
   "source": [
    "for element in output:\n",
    "    print(type(element))\n",
    "    break"
   ]
  },
  {
   "cell_type": "code",
   "execution_count": 39,
   "metadata": {},
   "outputs": [
    {
     "data": {
      "text/plain": [
       "bs4.element.Tag"
      ]
     },
     "execution_count": 39,
     "metadata": {},
     "output_type": "execute_result"
    }
   ],
   "source": [
    "type(output[0])"
   ]
  },
  {
   "cell_type": "code",
   "execution_count": 40,
   "metadata": {},
   "outputs": [],
   "source": [
    "premier_element = output[0]"
   ]
  },
  {
   "cell_type": "code",
   "execution_count": 43,
   "metadata": {},
   "outputs": [
    {
     "data": {
      "text/plain": [
       "'Année'"
      ]
     },
     "execution_count": 43,
     "metadata": {},
     "output_type": "execute_result"
    }
   ],
   "source": [
    "premier_element.get_text()"
   ]
  },
  {
   "cell_type": "markdown",
   "metadata": {},
   "source": [
    "### une liste compréhension"
   ]
  },
  {
   "cell_type": "code",
   "execution_count": 56,
   "metadata": {},
   "outputs": [],
   "source": [
    "annees = [  element.get_text() for element in output[3::3]  ]\n",
    "celebrites = [  element.get_text() for element in output[4::3]  ]\n",
    "montants = [  element.get_text() for element in output[5::3]  ]"
   ]
  },
  {
   "cell_type": "markdown",
   "metadata": {},
   "source": [
    "## création d'une dataframe"
   ]
  },
  {
   "cell_type": "code",
   "execution_count": 60,
   "metadata": {},
   "outputs": [],
   "source": [
    "import pandas as pd"
   ]
  },
  {
   "cell_type": "code",
   "execution_count": 63,
   "metadata": {},
   "outputs": [],
   "source": [
    "df = pd.DataFrame( {\n",
    "    \"An\": annees,\n",
    "    \"celebrites\": celebrites,\n",
    "    \"montants\": montants\n",
    "})"
   ]
  },
  {
   "cell_type": "code",
   "execution_count": 65,
   "metadata": {},
   "outputs": [
    {
     "data": {
      "text/html": [
       "<div>\n",
       "<style scoped>\n",
       "    .dataframe tbody tr th:only-of-type {\n",
       "        vertical-align: middle;\n",
       "    }\n",
       "\n",
       "    .dataframe tbody tr th {\n",
       "        vertical-align: top;\n",
       "    }\n",
       "\n",
       "    .dataframe thead th {\n",
       "        text-align: right;\n",
       "    }\n",
       "</style>\n",
       "<table border=\"1\" class=\"dataframe\">\n",
       "  <thead>\n",
       "    <tr style=\"text-align: right;\">\n",
       "      <th></th>\n",
       "      <th>An</th>\n",
       "      <th>celebrites</th>\n",
       "      <th>montants</th>\n",
       "    </tr>\n",
       "  </thead>\n",
       "  <tbody>\n",
       "    <tr>\n",
       "      <td>0</td>\n",
       "      <td>1987</td>\n",
       "      <td>Jerry LEWIS</td>\n",
       "      <td>29 650 000 €</td>\n",
       "    </tr>\n",
       "    <tr>\n",
       "      <td>1</td>\n",
       "      <td>1988</td>\n",
       "      <td>Mireille MATHIEU</td>\n",
       "      <td>28 490 000 €</td>\n",
       "    </tr>\n",
       "    <tr>\n",
       "      <td>2</td>\n",
       "      <td>1989</td>\n",
       "      <td>Alain DELON</td>\n",
       "      <td>40 930 000 €</td>\n",
       "    </tr>\n",
       "    <tr>\n",
       "      <td>3</td>\n",
       "      <td>1990</td>\n",
       "      <td>Claudia CARDINALE</td>\n",
       "      <td>46 510 000 €</td>\n",
       "    </tr>\n",
       "    <tr>\n",
       "      <td>4</td>\n",
       "      <td>1991</td>\n",
       "      <td>Jerry LEWIS, Mireille MATHIEU et Ornella MUTTI</td>\n",
       "      <td>38 650 000 €</td>\n",
       "    </tr>\n",
       "  </tbody>\n",
       "</table>\n",
       "</div>"
      ],
      "text/plain": [
       "     An                                      celebrites      montants\n",
       "0  1987                                     Jerry LEWIS  29 650 000 €\n",
       "1  1988                                Mireille MATHIEU  28 490 000 €\n",
       "2  1989                                     Alain DELON  40 930 000 €\n",
       "3  1990                               Claudia CARDINALE  46 510 000 €\n",
       "4  1991  Jerry LEWIS, Mireille MATHIEU et Ornella MUTTI  38 650 000 €"
      ]
     },
     "execution_count": 65,
     "metadata": {},
     "output_type": "execute_result"
    }
   ],
   "source": [
    "df.head()"
   ]
  },
  {
   "cell_type": "code",
   "execution_count": 66,
   "metadata": {},
   "outputs": [
    {
     "data": {
      "text/plain": [
       "An            object\n",
       "celebrites    object\n",
       "montants      object\n",
       "dtype: object"
      ]
     },
     "execution_count": 66,
     "metadata": {},
     "output_type": "execute_result"
    }
   ],
   "source": [
    "df.dtypes"
   ]
  },
  {
   "cell_type": "markdown",
   "metadata": {},
   "source": [
    "## regex "
   ]
  },
  {
   "cell_type": "code",
   "execution_count": 74,
   "metadata": {},
   "outputs": [],
   "source": [
    "df['montants'] = df.montants.str.replace(r'\\D+', '').astype(int)"
   ]
  },
  {
   "cell_type": "code",
   "execution_count": 95,
   "metadata": {},
   "outputs": [
    {
     "name": "stdout",
     "output_type": "stream",
     "text": [
      "Requirement already satisfied: regex in /Users/lucbertin/anaconda3/lib/python3.6/site-packages (2018.11.7)\n",
      "\u001b[33mWARNING: You are using pip version 19.3.1; however, version 20.0.2 is available.\n",
      "You should consider upgrading via the 'pip install --upgrade pip' command.\u001b[0m\n"
     ]
    }
   ],
   "source": [
    "!pip install regex"
   ]
  },
  {
   "cell_type": "code",
   "execution_count": 75,
   "metadata": {},
   "outputs": [],
   "source": [
    "import regex as re"
   ]
  },
  {
   "cell_type": "code",
   "execution_count": 93,
   "metadata": {},
   "outputs": [],
   "source": [
    "pattern = re.compile(r'(?i)(\\d{2}\\s(m|l|v))')"
   ]
  },
  {
   "cell_type": "code",
   "execution_count": 94,
   "metadata": {},
   "outputs": [
    {
     "data": {
      "text/plain": [
       "[('67 m', 'm')]"
      ]
     },
     "execution_count": 94,
     "metadata": {},
     "output_type": "execute_result"
    }
   ],
   "source": [
    "re.findall(pattern=pattern, string=\"JE m'appelle Luc voici mon numéro de téléphone 066667 merci\")"
   ]
  },
  {
   "cell_type": "markdown",
   "metadata": {},
   "source": [
    "# les dates"
   ]
  },
  {
   "cell_type": "code",
   "execution_count": 97,
   "metadata": {},
   "outputs": [],
   "source": [
    "df.An = df.An.astype(int)"
   ]
  },
  {
   "cell_type": "code",
   "execution_count": 98,
   "metadata": {},
   "outputs": [
    {
     "data": {
      "text/plain": [
       "An             int64\n",
       "celebrites    object\n",
       "montants       int64\n",
       "dtype: object"
      ]
     },
     "execution_count": 98,
     "metadata": {},
     "output_type": "execute_result"
    }
   ],
   "source": [
    "df.dtypes"
   ]
  },
  {
   "cell_type": "markdown",
   "metadata": {},
   "source": [
    "# Visualization"
   ]
  },
  {
   "cell_type": "code",
   "execution_count": 101,
   "metadata": {},
   "outputs": [],
   "source": [
    "import matplotlib.pyplot as plt\n",
    "#import seaborn as sns"
   ]
  },
  {
   "cell_type": "code",
   "execution_count": 102,
   "metadata": {},
   "outputs": [
    {
     "data": {
      "text/html": [
       "<div>\n",
       "<style scoped>\n",
       "    .dataframe tbody tr th:only-of-type {\n",
       "        vertical-align: middle;\n",
       "    }\n",
       "\n",
       "    .dataframe tbody tr th {\n",
       "        vertical-align: top;\n",
       "    }\n",
       "\n",
       "    .dataframe thead th {\n",
       "        text-align: right;\n",
       "    }\n",
       "</style>\n",
       "<table border=\"1\" class=\"dataframe\">\n",
       "  <thead>\n",
       "    <tr style=\"text-align: right;\">\n",
       "      <th></th>\n",
       "      <th>An</th>\n",
       "      <th>celebrites</th>\n",
       "      <th>montants</th>\n",
       "    </tr>\n",
       "  </thead>\n",
       "  <tbody>\n",
       "    <tr>\n",
       "      <td>0</td>\n",
       "      <td>1987</td>\n",
       "      <td>Jerry LEWIS</td>\n",
       "      <td>29650000</td>\n",
       "    </tr>\n",
       "    <tr>\n",
       "      <td>1</td>\n",
       "      <td>1988</td>\n",
       "      <td>Mireille MATHIEU</td>\n",
       "      <td>28490000</td>\n",
       "    </tr>\n",
       "    <tr>\n",
       "      <td>2</td>\n",
       "      <td>1989</td>\n",
       "      <td>Alain DELON</td>\n",
       "      <td>40930000</td>\n",
       "    </tr>\n",
       "    <tr>\n",
       "      <td>3</td>\n",
       "      <td>1990</td>\n",
       "      <td>Claudia CARDINALE</td>\n",
       "      <td>46510000</td>\n",
       "    </tr>\n",
       "    <tr>\n",
       "      <td>4</td>\n",
       "      <td>1991</td>\n",
       "      <td>Jerry LEWIS, Mireille MATHIEU et Ornella MUTTI</td>\n",
       "      <td>38650000</td>\n",
       "    </tr>\n",
       "    <tr>\n",
       "      <td>5</td>\n",
       "      <td>1992</td>\n",
       "      <td>Barbara HENDRICKS</td>\n",
       "      <td>47870000</td>\n",
       "    </tr>\n",
       "    <tr>\n",
       "      <td>6</td>\n",
       "      <td>1993</td>\n",
       "      <td>Michel SARDOU</td>\n",
       "      <td>55600000</td>\n",
       "    </tr>\n",
       "    <tr>\n",
       "      <td>7</td>\n",
       "      <td>1994</td>\n",
       "      <td>Pierre PERRET</td>\n",
       "      <td>57520000</td>\n",
       "    </tr>\n",
       "    <tr>\n",
       "      <td>8</td>\n",
       "      <td>1995</td>\n",
       "      <td>Serge LAMA</td>\n",
       "      <td>56763000</td>\n",
       "    </tr>\n",
       "    <tr>\n",
       "      <td>9</td>\n",
       "      <td>1996</td>\n",
       "      <td>Thierry LHERMITTE</td>\n",
       "      <td>56872000</td>\n",
       "    </tr>\n",
       "    <tr>\n",
       "      <td>10</td>\n",
       "      <td>1997</td>\n",
       "      <td>Robert HOSSEIN</td>\n",
       "      <td>63043286</td>\n",
       "    </tr>\n",
       "    <tr>\n",
       "      <td>11</td>\n",
       "      <td>1998</td>\n",
       "      <td>Michel BOUJENAH</td>\n",
       "      <td>70449000</td>\n",
       "    </tr>\n",
       "    <tr>\n",
       "      <td>12</td>\n",
       "      <td>1999</td>\n",
       "      <td>Pierre PERRET</td>\n",
       "      <td>71417798</td>\n",
       "    </tr>\n",
       "    <tr>\n",
       "      <td>13</td>\n",
       "      <td>2000</td>\n",
       "      <td>Patrick SEBASTIEN</td>\n",
       "      <td>79640119</td>\n",
       "    </tr>\n",
       "    <tr>\n",
       "      <td>14</td>\n",
       "      <td>2001</td>\n",
       "      <td>Jane BIRKIN</td>\n",
       "      <td>81188013</td>\n",
       "    </tr>\n",
       "    <tr>\n",
       "      <td>15</td>\n",
       "      <td>2002</td>\n",
       "      <td>Axelle RED</td>\n",
       "      <td>91546548</td>\n",
       "    </tr>\n",
       "    <tr>\n",
       "      <td>16</td>\n",
       "      <td>2003</td>\n",
       "      <td>Sandrine KIBERLAIN</td>\n",
       "      <td>97657833</td>\n",
       "    </tr>\n",
       "    <tr>\n",
       "      <td>17</td>\n",
       "      <td>2004</td>\n",
       "      <td>Gérard JUGNOT</td>\n",
       "      <td>104678697</td>\n",
       "    </tr>\n",
       "    <tr>\n",
       "      <td>18</td>\n",
       "      <td>2005</td>\n",
       "      <td>Yannick NOAH</td>\n",
       "      <td>104078464</td>\n",
       "    </tr>\n",
       "    <tr>\n",
       "      <td>19</td>\n",
       "      <td>2006</td>\n",
       "      <td>Gérard JUGNOT et Thierry LHERMITTE</td>\n",
       "      <td>106696532</td>\n",
       "    </tr>\n",
       "    <tr>\n",
       "      <td>20</td>\n",
       "      <td>2007</td>\n",
       "      <td>Kad MERAD et Liane FOLY</td>\n",
       "      <td>102315233</td>\n",
       "    </tr>\n",
       "    <tr>\n",
       "      <td>21</td>\n",
       "      <td>2008</td>\n",
       "      <td>Julien CLERC</td>\n",
       "      <td>104911383</td>\n",
       "    </tr>\n",
       "    <tr>\n",
       "      <td>22</td>\n",
       "      <td>2009</td>\n",
       "      <td>Daniel AUTEUIL</td>\n",
       "      <td>95200117</td>\n",
       "    </tr>\n",
       "    <tr>\n",
       "      <td>23</td>\n",
       "      <td>2010</td>\n",
       "      <td>Anne ROUMANNOFF</td>\n",
       "      <td>90450486</td>\n",
       "    </tr>\n",
       "    <tr>\n",
       "      <td>24</td>\n",
       "      <td>2011</td>\n",
       "      <td>Gad ELMALEH</td>\n",
       "      <td>94091902</td>\n",
       "    </tr>\n",
       "    <tr>\n",
       "      <td>25</td>\n",
       "      <td>2012</td>\n",
       "      <td>Franck DUBOSC</td>\n",
       "      <td>88156400</td>\n",
       "    </tr>\n",
       "    <tr>\n",
       "      <td>26</td>\n",
       "      <td>2013</td>\n",
       "      <td>Patrick Bruel</td>\n",
       "      <td>89327268</td>\n",
       "    </tr>\n",
       "    <tr>\n",
       "      <td>27</td>\n",
       "      <td>2014</td>\n",
       "      <td>Garou</td>\n",
       "      <td>92920108</td>\n",
       "    </tr>\n",
       "    <tr>\n",
       "      <td>28</td>\n",
       "      <td>2015</td>\n",
       "      <td>Marc Lavoine</td>\n",
       "      <td>93850778</td>\n",
       "    </tr>\n",
       "    <tr>\n",
       "      <td>29</td>\n",
       "      <td>2016</td>\n",
       "      <td>Garou</td>\n",
       "      <td>92740769</td>\n",
       "    </tr>\n",
       "    <tr>\n",
       "      <td>30</td>\n",
       "      <td>2017</td>\n",
       "      <td>Zazie</td>\n",
       "      <td>89189384</td>\n",
       "    </tr>\n",
       "    <tr>\n",
       "      <td>31</td>\n",
       "      <td>2018</td>\n",
       "      <td>Pascal Obispo</td>\n",
       "      <td>85844117</td>\n",
       "    </tr>\n",
       "  </tbody>\n",
       "</table>\n",
       "</div>"
      ],
      "text/plain": [
       "      An                                      celebrites   montants\n",
       "0   1987                                     Jerry LEWIS   29650000\n",
       "1   1988                                Mireille MATHIEU   28490000\n",
       "2   1989                                     Alain DELON   40930000\n",
       "3   1990                               Claudia CARDINALE   46510000\n",
       "4   1991  Jerry LEWIS, Mireille MATHIEU et Ornella MUTTI   38650000\n",
       "5   1992                               Barbara HENDRICKS   47870000\n",
       "6   1993                                   Michel SARDOU   55600000\n",
       "7   1994                                   Pierre PERRET   57520000\n",
       "8   1995                                      Serge LAMA   56763000\n",
       "9   1996                               Thierry LHERMITTE   56872000\n",
       "10  1997                                  Robert HOSSEIN   63043286\n",
       "11  1998                                Michel BOUJENAH    70449000\n",
       "12  1999                                  Pierre PERRET    71417798\n",
       "13  2000                              Patrick SEBASTIEN    79640119\n",
       "14  2001                                    Jane BIRKIN    81188013\n",
       "15  2002                                     Axelle RED    91546548\n",
       "16  2003                              Sandrine KIBERLAIN   97657833\n",
       "17  2004                                  Gérard JUGNOT   104678697\n",
       "18  2005                                   Yannick NOAH   104078464\n",
       "19  2006              Gérard JUGNOT et Thierry LHERMITTE  106696532\n",
       "20  2007                        Kad MERAD et Liane FOLY   102315233\n",
       "21  2008                                   Julien CLERC   104911383\n",
       "22  2009                                 Daniel AUTEUIL    95200117\n",
       "23  2010                                Anne ROUMANNOFF    90450486\n",
       "24  2011                                    Gad ELMALEH    94091902\n",
       "25  2012                                  Franck DUBOSC    88156400\n",
       "26  2013                                   Patrick Bruel   89327268\n",
       "27  2014                                           Garou   92920108\n",
       "28  2015                                    Marc Lavoine   93850778\n",
       "29  2016                                           Garou   92740769\n",
       "30  2017                                           Zazie   89189384\n",
       "31  2018                                   Pascal Obispo   85844117"
      ]
     },
     "execution_count": 102,
     "metadata": {},
     "output_type": "execute_result"
    }
   ],
   "source": [
    "df"
   ]
  },
  {
   "cell_type": "code",
   "execution_count": null,
   "metadata": {},
   "outputs": [],
   "source": []
  }
 ],
 "metadata": {
  "kernelspec": {
   "display_name": "Python 3",
   "language": "python",
   "name": "python3"
  },
  "language_info": {
   "codemirror_mode": {
    "name": "ipython",
    "version": 3
   },
   "file_extension": ".py",
   "mimetype": "text/x-python",
   "name": "python",
   "nbconvert_exporter": "python",
   "pygments_lexer": "ipython3",
   "version": "3.6.8"
  }
 },
 "nbformat": 4,
 "nbformat_minor": 2
}
